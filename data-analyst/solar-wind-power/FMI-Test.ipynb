{
 "cells": [
  {
   "cell_type": "markdown",
   "metadata": {},
   "source": [
    "# FMI-test | Wind Power"
   ]
  },
  {
   "cell_type": "code",
   "execution_count": 1,
   "metadata": {},
   "outputs": [
    {
     "data": {
      "text/html": [
       "        <script type=\"text/javascript\">\n",
       "        window.PlotlyConfig = {MathJaxConfig: 'local'};\n",
       "        if (window.MathJax) {MathJax.Hub.Config({SVG: {font: \"STIX-Web\"}});}\n",
       "        if (typeof require !== 'undefined') {\n",
       "        require.undef(\"plotly\");\n",
       "        requirejs.config({\n",
       "            paths: {\n",
       "                'plotly': ['https://cdn.plot.ly/plotly-latest.min']\n",
       "            }\n",
       "        });\n",
       "        require(['plotly'], function(Plotly) {\n",
       "            window._Plotly = Plotly;\n",
       "        });\n",
       "        }\n",
       "        </script>\n",
       "        "
      ]
     },
     "metadata": {},
     "output_type": "display_data"
    },
    {
     "data": {
      "text/html": [
       "        <script type=\"text/javascript\">\n",
       "        window.PlotlyConfig = {MathJaxConfig: 'local'};\n",
       "        if (window.MathJax) {MathJax.Hub.Config({SVG: {font: \"STIX-Web\"}});}\n",
       "        if (typeof require !== 'undefined') {\n",
       "        require.undef(\"plotly\");\n",
       "        requirejs.config({\n",
       "            paths: {\n",
       "                'plotly': ['https://cdn.plot.ly/plotly-latest.min']\n",
       "            }\n",
       "        });\n",
       "        require(['plotly'], function(Plotly) {\n",
       "            window._Plotly = Plotly;\n",
       "        });\n",
       "        }\n",
       "        </script>\n",
       "        "
      ]
     },
     "metadata": {},
     "output_type": "display_data"
    }
   ],
   "source": [
    "#Import necessary libraries\n",
    "import pandas as pd\n",
    "import numpy as np\n",
    "import matplotlib.pyplot as plt\n",
    "import seaborn as sns\n",
    "\n",
    "import plotly.graph_objs as go\n",
    "import plotly.express as ex\n",
    "from plotly.offline import iplot, init_notebook_mode\n",
    "import cufflinks\n",
    "cufflinks.go_offline(connected = True)\n",
    "init_notebook_mode(connected = True)"
   ]
  },
  {
   "cell_type": "markdown",
   "metadata": {},
   "source": [
    "## 1. Read and Preprocessing Data"
   ]
  },
  {
   "cell_type": "code",
   "execution_count": 2,
   "metadata": {},
   "outputs": [
    {
     "data": {
      "text/html": [
       "<div>\n",
       "<style scoped>\n",
       "    .dataframe tbody tr th:only-of-type {\n",
       "        vertical-align: middle;\n",
       "    }\n",
       "\n",
       "    .dataframe tbody tr th {\n",
       "        vertical-align: top;\n",
       "    }\n",
       "\n",
       "    .dataframe thead th {\n",
       "        text-align: right;\n",
       "    }\n",
       "</style>\n",
       "<table border=\"1\" class=\"dataframe\">\n",
       "  <thead>\n",
       "    <tr style=\"text-align: right;\">\n",
       "      <th></th>\n",
       "      <th>request_id</th>\n",
       "      <th>forecast_time</th>\n",
       "      <th>power_output_w</th>\n",
       "      <th>wind_speed_ms</th>\n",
       "      <th>wind_direction_deg</th>\n",
       "      <th>air_pressure_hpa</th>\n",
       "    </tr>\n",
       "  </thead>\n",
       "  <tbody>\n",
       "    <tr>\n",
       "      <td>212</td>\n",
       "      <td>4350</td>\n",
       "      <td>2020-10-05 20:00:00+03</td>\n",
       "      <td>1272000</td>\n",
       "      <td>9.2</td>\n",
       "      <td>121.0</td>\n",
       "      <td>996.73</td>\n",
       "    </tr>\n",
       "    <tr>\n",
       "      <td>261</td>\n",
       "      <td>4350</td>\n",
       "      <td>2020-10-07 22:00:00+03</td>\n",
       "      <td>1308000</td>\n",
       "      <td>9.3</td>\n",
       "      <td>164.0</td>\n",
       "      <td>992.33</td>\n",
       "    </tr>\n",
       "    <tr>\n",
       "      <td>278</td>\n",
       "      <td>4323</td>\n",
       "      <td>2020-10-02 02:00:00+03</td>\n",
       "      <td>396880</td>\n",
       "      <td>6.4</td>\n",
       "      <td>105.0</td>\n",
       "      <td>1001.89</td>\n",
       "    </tr>\n",
       "    <tr>\n",
       "      <td>297</td>\n",
       "      <td>4323</td>\n",
       "      <td>2020-10-02 21:00:00+03</td>\n",
       "      <td>2652000</td>\n",
       "      <td>12.8</td>\n",
       "      <td>105.0</td>\n",
       "      <td>1004.04</td>\n",
       "    </tr>\n",
       "    <tr>\n",
       "      <td>138</td>\n",
       "      <td>4358</td>\n",
       "      <td>2020-10-06 06:00:00+03</td>\n",
       "      <td>2874000</td>\n",
       "      <td>13.8</td>\n",
       "      <td>129.0</td>\n",
       "      <td>990.07</td>\n",
       "    </tr>\n",
       "    <tr>\n",
       "      <td>231</td>\n",
       "      <td>4350</td>\n",
       "      <td>2020-10-06 16:00:00+03</td>\n",
       "      <td>2535000</td>\n",
       "      <td>12.5</td>\n",
       "      <td>166.0</td>\n",
       "      <td>988.66</td>\n",
       "    </tr>\n",
       "    <tr>\n",
       "      <td>157</td>\n",
       "      <td>4358</td>\n",
       "      <td>2020-10-07 02:00:00+03</td>\n",
       "      <td>1872000</td>\n",
       "      <td>10.8</td>\n",
       "      <td>175.0</td>\n",
       "      <td>990.86</td>\n",
       "    </tr>\n",
       "    <tr>\n",
       "      <td>78</td>\n",
       "      <td>4424</td>\n",
       "      <td>2020-10-12 03:00:00+03</td>\n",
       "      <td>0</td>\n",
       "      <td>1.1</td>\n",
       "      <td>105.0</td>\n",
       "      <td>996.98</td>\n",
       "    </tr>\n",
       "    <tr>\n",
       "      <td>236</td>\n",
       "      <td>4350</td>\n",
       "      <td>2020-10-06 21:00:00+03</td>\n",
       "      <td>2106000</td>\n",
       "      <td>11.4</td>\n",
       "      <td>196.0</td>\n",
       "      <td>990.19</td>\n",
       "    </tr>\n",
       "    <tr>\n",
       "      <td>69</td>\n",
       "      <td>4424</td>\n",
       "      <td>2020-10-11 18:00:00+03</td>\n",
       "      <td>337330</td>\n",
       "      <td>6.1</td>\n",
       "      <td>238.0</td>\n",
       "      <td>997.12</td>\n",
       "    </tr>\n",
       "  </tbody>\n",
       "</table>\n",
       "</div>"
      ],
      "text/plain": [
       "     request_id           forecast_time  power_output_w  wind_speed_ms  \\\n",
       "212        4350  2020-10-05 20:00:00+03         1272000            9.2   \n",
       "261        4350  2020-10-07 22:00:00+03         1308000            9.3   \n",
       "278        4323  2020-10-02 02:00:00+03          396880            6.4   \n",
       "297        4323  2020-10-02 21:00:00+03         2652000           12.8   \n",
       "138        4358  2020-10-06 06:00:00+03         2874000           13.8   \n",
       "231        4350  2020-10-06 16:00:00+03         2535000           12.5   \n",
       "157        4358  2020-10-07 02:00:00+03         1872000           10.8   \n",
       "78         4424  2020-10-12 03:00:00+03               0            1.1   \n",
       "236        4350  2020-10-06 21:00:00+03         2106000           11.4   \n",
       "69         4424  2020-10-11 18:00:00+03          337330            6.1   \n",
       "\n",
       "     wind_direction_deg  air_pressure_hpa  \n",
       "212               121.0            996.73  \n",
       "261               164.0            992.33  \n",
       "278               105.0           1001.89  \n",
       "297               105.0           1004.04  \n",
       "138               129.0            990.07  \n",
       "231               166.0            988.66  \n",
       "157               175.0            990.86  \n",
       "78                105.0            996.98  \n",
       "236               196.0            990.19  \n",
       "69                238.0            997.12  "
      ]
     },
     "execution_count": 2,
     "metadata": {},
     "output_type": "execute_result"
    }
   ],
   "source": [
    "#Import data and print samples\n",
    "X = pd.read_csv('FMI-Test.csv')\n",
    "X.sample(10)"
   ]
  },
  {
   "cell_type": "code",
   "execution_count": 3,
   "metadata": {},
   "outputs": [
    {
     "name": "stdout",
     "output_type": "stream",
     "text": [
      "-------- COLUMN TYPE --------\n",
      "request_id              int64\n",
      "forecast_time          object\n",
      "power_output_w          int64\n",
      "wind_speed_ms         float64\n",
      "wind_direction_deg    float64\n",
      "air_pressure_hpa      float64\n",
      "dtype: object\n"
     ]
    }
   ],
   "source": [
    "print('-------- COLUMN TYPE --------')\n",
    "print(X.dtypes)"
   ]
  },
  {
   "cell_type": "code",
   "execution_count": 4,
   "metadata": {},
   "outputs": [
    {
     "name": "stdout",
     "output_type": "stream",
     "text": [
      "---------------- COLUMN TYPE AFTER CHANGING ---------------\n",
      "request_id                                            int64\n",
      "forecast_time         datetime64[ns, pytz.FixedOffset(180)]\n",
      "power_output_w                                        int64\n",
      "wind_speed_ms                                       float64\n",
      "wind_direction_deg                                  float64\n",
      "air_pressure_hpa                                    float64\n",
      "dtype: object\n"
     ]
    }
   ],
   "source": [
    "#Change column forecast_time to date time format\n",
    "X['forecast_time'] = pd.to_datetime(X['forecast_time'], format = \"%Y-%m-%d %H:%M:%S\")\n",
    "print('---------------- COLUMN TYPE AFTER CHANGING ---------------')\n",
    "print(X.dtypes)"
   ]
  },
  {
   "cell_type": "code",
   "execution_count": 5,
   "metadata": {},
   "outputs": [
    {
     "data": {
      "text/html": [
       "<div>\n",
       "<style scoped>\n",
       "    .dataframe tbody tr th:only-of-type {\n",
       "        vertical-align: middle;\n",
       "    }\n",
       "\n",
       "    .dataframe tbody tr th {\n",
       "        vertical-align: top;\n",
       "    }\n",
       "\n",
       "    .dataframe thead th {\n",
       "        text-align: right;\n",
       "    }\n",
       "</style>\n",
       "<table border=\"1\" class=\"dataframe\">\n",
       "  <thead>\n",
       "    <tr style=\"text-align: right;\">\n",
       "      <th></th>\n",
       "      <th>power_output_w</th>\n",
       "      <th>wind_speed_ms</th>\n",
       "      <th>wind_direction_deg</th>\n",
       "      <th>air_pressure_hpa</th>\n",
       "    </tr>\n",
       "    <tr>\n",
       "      <th>forecast_time</th>\n",
       "      <th></th>\n",
       "      <th></th>\n",
       "      <th></th>\n",
       "      <th></th>\n",
       "    </tr>\n",
       "  </thead>\n",
       "  <tbody>\n",
       "    <tr>\n",
       "      <td>2020-10-13 00:00:00+03:00</td>\n",
       "      <td>2418000</td>\n",
       "      <td>12.2</td>\n",
       "      <td>216.0</td>\n",
       "      <td>993.13</td>\n",
       "    </tr>\n",
       "    <tr>\n",
       "      <td>2020-10-03 14:00:00+03:00</td>\n",
       "      <td>2223000</td>\n",
       "      <td>11.7</td>\n",
       "      <td>97.0</td>\n",
       "      <td>1004.26</td>\n",
       "    </tr>\n",
       "    <tr>\n",
       "      <td>2020-10-08 00:00:00+03:00</td>\n",
       "      <td>476280</td>\n",
       "      <td>6.8</td>\n",
       "      <td>168.0</td>\n",
       "      <td>992.18</td>\n",
       "    </tr>\n",
       "    <tr>\n",
       "      <td>2020-10-20 08:00:00+03:00</td>\n",
       "      <td>835653</td>\n",
       "      <td>8.1</td>\n",
       "      <td>329.0</td>\n",
       "      <td>996.77</td>\n",
       "    </tr>\n",
       "    <tr>\n",
       "      <td>2020-10-12 20:00:00+03:00</td>\n",
       "      <td>2106000</td>\n",
       "      <td>11.4</td>\n",
       "      <td>211.0</td>\n",
       "      <td>992.92</td>\n",
       "    </tr>\n",
       "  </tbody>\n",
       "</table>\n",
       "</div>"
      ],
      "text/plain": [
       "                           power_output_w  wind_speed_ms  wind_direction_deg  \\\n",
       "forecast_time                                                                  \n",
       "2020-10-13 00:00:00+03:00         2418000           12.2               216.0   \n",
       "2020-10-03 14:00:00+03:00         2223000           11.7                97.0   \n",
       "2020-10-08 00:00:00+03:00          476280            6.8               168.0   \n",
       "2020-10-20 08:00:00+03:00          835653            8.1               329.0   \n",
       "2020-10-12 20:00:00+03:00         2106000           11.4               211.0   \n",
       "\n",
       "                           air_pressure_hpa  \n",
       "forecast_time                                \n",
       "2020-10-13 00:00:00+03:00            993.13  \n",
       "2020-10-03 14:00:00+03:00           1004.26  \n",
       "2020-10-08 00:00:00+03:00            992.18  \n",
       "2020-10-20 08:00:00+03:00            996.77  \n",
       "2020-10-12 20:00:00+03:00            992.92  "
      ]
     },
     "execution_count": 5,
     "metadata": {},
     "output_type": "execute_result"
    }
   ],
   "source": [
    "#The request_id column seems to hold no information\n",
    "#Remove reques_id column and set forecast_time to be the index column\n",
    "X.drop('request_id', inplace = True, axis = 1)\n",
    "X.set_index(['forecast_time'], inplace = True)\n",
    "X.sample(5)"
   ]
  },
  {
   "cell_type": "markdown",
   "metadata": {},
   "source": [
    "## 2. Explore Data"
   ]
  },
  {
   "cell_type": "code",
   "execution_count": 6,
   "metadata": {},
   "outputs": [
    {
     "name": "stdout",
     "output_type": "stream",
     "text": [
      "Shape = (330, 4)\n",
      "\n",
      "NaN value at each column:\n",
      "power_output_w        0\n",
      "wind_speed_ms         3\n",
      "wind_direction_deg    3\n",
      "air_pressure_hpa      3\n",
      "dtype: int64\n"
     ]
    }
   ],
   "source": [
    "print('Shape =', X.shape)\n",
    "print()\n",
    "print('NaN value at each column:')\n",
    "print(X.isna().sum())"
   ]
  },
  {
   "cell_type": "code",
   "execution_count": 7,
   "metadata": {},
   "outputs": [
    {
     "data": {
      "text/html": [
       "<div>\n",
       "<style scoped>\n",
       "    .dataframe tbody tr th:only-of-type {\n",
       "        vertical-align: middle;\n",
       "    }\n",
       "\n",
       "    .dataframe tbody tr th {\n",
       "        vertical-align: top;\n",
       "    }\n",
       "\n",
       "    .dataframe thead th {\n",
       "        text-align: right;\n",
       "    }\n",
       "</style>\n",
       "<table border=\"1\" class=\"dataframe\">\n",
       "  <thead>\n",
       "    <tr style=\"text-align: right;\">\n",
       "      <th></th>\n",
       "      <th>power_output_w</th>\n",
       "      <th>wind_speed_ms</th>\n",
       "      <th>wind_direction_deg</th>\n",
       "      <th>air_pressure_hpa</th>\n",
       "    </tr>\n",
       "    <tr>\n",
       "      <th>forecast_time</th>\n",
       "      <th></th>\n",
       "      <th></th>\n",
       "      <th></th>\n",
       "      <th></th>\n",
       "    </tr>\n",
       "  </thead>\n",
       "  <tbody>\n",
       "    <tr>\n",
       "      <td>2020-10-08 16:00:00+03:00</td>\n",
       "      <td>0</td>\n",
       "      <td>NaN</td>\n",
       "      <td>NaN</td>\n",
       "      <td>NaN</td>\n",
       "    </tr>\n",
       "    <tr>\n",
       "      <td>2020-10-08 17:00:00+03:00</td>\n",
       "      <td>0</td>\n",
       "      <td>NaN</td>\n",
       "      <td>NaN</td>\n",
       "      <td>NaN</td>\n",
       "    </tr>\n",
       "    <tr>\n",
       "      <td>2020-10-08 18:00:00+03:00</td>\n",
       "      <td>0</td>\n",
       "      <td>NaN</td>\n",
       "      <td>NaN</td>\n",
       "      <td>NaN</td>\n",
       "    </tr>\n",
       "  </tbody>\n",
       "</table>\n",
       "</div>"
      ],
      "text/plain": [
       "                           power_output_w  wind_speed_ms  wind_direction_deg  \\\n",
       "forecast_time                                                                  \n",
       "2020-10-08 16:00:00+03:00               0            NaN                 NaN   \n",
       "2020-10-08 17:00:00+03:00               0            NaN                 NaN   \n",
       "2020-10-08 18:00:00+03:00               0            NaN                 NaN   \n",
       "\n",
       "                           air_pressure_hpa  \n",
       "forecast_time                                \n",
       "2020-10-08 16:00:00+03:00               NaN  \n",
       "2020-10-08 17:00:00+03:00               NaN  \n",
       "2020-10-08 18:00:00+03:00               NaN  "
      ]
     },
     "execution_count": 7,
     "metadata": {},
     "output_type": "execute_result"
    }
   ],
   "source": [
    "#Test to see if those NaNs are in the same row\n",
    "X[X.isnull().any(axis = 1)]"
   ]
  },
  {
   "cell_type": "markdown",
   "metadata": {},
   "source": [
    "There are 3 rows including NaN values out of 330 row, which is nearly 1% of the whole dataset.\n",
    "\n",
    "The attribute is showns as below.\n",
    "\n",
    "|**No.**| **Name** | **Definition** |\n",
    "|:---------|:-----|:----|\n",
    "|0  | forecast_time      | The forecast_time |\n",
    "|1  | power_output_w     | The power output in Watt |\n",
    "|2  | wind_speed_ms      | The wind speed in meters per second |\n",
    "|3  | wind_direction_deg | The wind direction degree |\n",
    "|4  | air_pressure_hpa   | The air pressure in hectopascals |\n",
    "\n",
    "Also, the time is not in the right order. It needs to be sorted."
   ]
  },
  {
   "cell_type": "code",
   "execution_count": 8,
   "metadata": {},
   "outputs": [],
   "source": [
    "X = X.sort_values('forecast_time')"
   ]
  },
  {
   "cell_type": "code",
   "execution_count": 9,
   "metadata": {
    "scrolled": true
   },
   "outputs": [
    {
     "data": {
      "text/html": [
       "<div>\n",
       "<style scoped>\n",
       "    .dataframe tbody tr th:only-of-type {\n",
       "        vertical-align: middle;\n",
       "    }\n",
       "\n",
       "    .dataframe tbody tr th {\n",
       "        vertical-align: top;\n",
       "    }\n",
       "\n",
       "    .dataframe thead th {\n",
       "        text-align: right;\n",
       "    }\n",
       "</style>\n",
       "<table border=\"1\" class=\"dataframe\">\n",
       "  <thead>\n",
       "    <tr style=\"text-align: right;\">\n",
       "      <th></th>\n",
       "      <th>power_output_w</th>\n",
       "      <th>wind_speed_ms</th>\n",
       "      <th>wind_direction_deg</th>\n",
       "      <th>air_pressure_hpa</th>\n",
       "    </tr>\n",
       "  </thead>\n",
       "  <tbody>\n",
       "    <tr>\n",
       "      <td>count</td>\n",
       "      <td>330.000</td>\n",
       "      <td>327.000</td>\n",
       "      <td>327.000</td>\n",
       "      <td>327.000</td>\n",
       "    </tr>\n",
       "    <tr>\n",
       "      <td>mean</td>\n",
       "      <td>1468236.170</td>\n",
       "      <td>9.466</td>\n",
       "      <td>169.881</td>\n",
       "      <td>995.314</td>\n",
       "    </tr>\n",
       "    <tr>\n",
       "      <td>std</td>\n",
       "      <td>943428.959</td>\n",
       "      <td>3.261</td>\n",
       "      <td>74.510</td>\n",
       "      <td>5.711</td>\n",
       "    </tr>\n",
       "    <tr>\n",
       "      <td>min</td>\n",
       "      <td>0.000</td>\n",
       "      <td>1.000</td>\n",
       "      <td>1.000</td>\n",
       "      <td>977.690</td>\n",
       "    </tr>\n",
       "    <tr>\n",
       "      <td>25%</td>\n",
       "      <td>571818.000</td>\n",
       "      <td>7.250</td>\n",
       "      <td>117.000</td>\n",
       "      <td>991.305</td>\n",
       "    </tr>\n",
       "    <tr>\n",
       "      <td>50%</td>\n",
       "      <td>1599000.000</td>\n",
       "      <td>10.100</td>\n",
       "      <td>163.000</td>\n",
       "      <td>994.590</td>\n",
       "    </tr>\n",
       "    <tr>\n",
       "      <td>75%</td>\n",
       "      <td>2184000.000</td>\n",
       "      <td>11.600</td>\n",
       "      <td>208.500</td>\n",
       "      <td>1000.815</td>\n",
       "    </tr>\n",
       "    <tr>\n",
       "      <td>max</td>\n",
       "      <td>3000000.000</td>\n",
       "      <td>16.200</td>\n",
       "      <td>351.000</td>\n",
       "      <td>1005.530</td>\n",
       "    </tr>\n",
       "  </tbody>\n",
       "</table>\n",
       "</div>"
      ],
      "text/plain": [
       "       power_output_w  wind_speed_ms  wind_direction_deg  air_pressure_hpa\n",
       "count         330.000        327.000             327.000           327.000\n",
       "mean      1468236.170          9.466             169.881           995.314\n",
       "std        943428.959          3.261              74.510             5.711\n",
       "min             0.000          1.000               1.000           977.690\n",
       "25%        571818.000          7.250             117.000           991.305\n",
       "50%       1599000.000         10.100             163.000           994.590\n",
       "75%       2184000.000         11.600             208.500          1000.815\n",
       "max       3000000.000         16.200             351.000          1005.530"
      ]
     },
     "execution_count": 9,
     "metadata": {},
     "output_type": "execute_result"
    }
   ],
   "source": [
    "X.describe().round(3)"
   ]
  },
  {
   "cell_type": "markdown",
   "metadata": {},
   "source": [
    "## 3. Visualizing Data"
   ]
  },
  {
   "cell_type": "code",
   "execution_count": 10,
   "metadata": {},
   "outputs": [
    {
     "data": {
      "image/png": "[encoded data removed]",
      "text/plain": [
       "<Figure size 720x576 with 2 Axes>"
      ]
     },
     "metadata": {
      "needs_background": "light"
     },
     "output_type": "display_data"
    }
   ],
   "source": [
    "#Correlation matrix\n",
    "plt.figure(figsize = (10,8))\n",
    "corr = X.corr()\n",
    "ax = sns.heatmap(\n",
    "    corr, annot = True,\n",
    "    vmin = -1, vmax = 1, center = 0,\n",
    "    cmap = sns.diverging_palette(20, 220, n = 200),\n",
    "    square = True\n",
    ")\n",
    "ax.set_xticklabels(\n",
    "    ax.get_xticklabels(),\n",
    "    rotation = 45\n",
    ");\n",
    "ax.set_yticklabels(\n",
    "    ax.get_yticklabels(),\n",
    "    rotation = 0\n",
    ");"
   ]
  },
  {
   "cell_type": "code",
   "execution_count": 11,
   "metadata": {},
   "outputs": [
    {
     "data": {
      "image/png": "[encoded data removed]",
      "text/plain": [
       "<Figure size 720x720 with 20 Axes>"
      ]
     },
     "metadata": {
      "needs_background": "light"
     },
     "output_type": "display_data"
    }
   ],
   "source": [
    "#Pair plot\n",
    "sns.pairplot(X)\n",
    "plt.show()"
   ]
  },
  {
   "cell_type": "code",
   "execution_count": 12,
   "metadata": {},
   "outputs": [
    {
     "data": {
      "text/html": [
       "<div>\n",
       "<style scoped>\n",
       "    .dataframe tbody tr th:only-of-type {\n",
       "        vertical-align: middle;\n",
       "    }\n",
       "\n",
       "    .dataframe tbody tr th {\n",
       "        vertical-align: top;\n",
       "    }\n",
       "\n",
       "    .dataframe thead th {\n",
       "        text-align: right;\n",
       "    }\n",
       "</style>\n",
       "<table border=\"1\" class=\"dataframe\">\n",
       "  <thead>\n",
       "    <tr style=\"text-align: right;\">\n",
       "      <th></th>\n",
       "      <th>power_output_kw</th>\n",
       "      <th>wind_speed_ms</th>\n",
       "      <th>wind_direction_deg</th>\n",
       "      <th>air_pressure_hpa</th>\n",
       "    </tr>\n",
       "    <tr>\n",
       "      <th>forecast_time</th>\n",
       "      <th></th>\n",
       "      <th></th>\n",
       "      <th></th>\n",
       "      <th></th>\n",
       "    </tr>\n",
       "  </thead>\n",
       "  <tbody>\n",
       "    <tr>\n",
       "      <td>2020-10-07 21:00:00+03:00</td>\n",
       "      <td>1833.000</td>\n",
       "      <td>10.7</td>\n",
       "      <td>161.0</td>\n",
       "      <td>993.12</td>\n",
       "    </tr>\n",
       "    <tr>\n",
       "      <td>2020-10-08 03:00:00+03:00</td>\n",
       "      <td>250.005</td>\n",
       "      <td>5.5</td>\n",
       "      <td>211.0</td>\n",
       "      <td>994.15</td>\n",
       "    </tr>\n",
       "    <tr>\n",
       "      <td>2020-10-21 21:00:00+03:00</td>\n",
       "      <td>2145.000</td>\n",
       "      <td>11.5</td>\n",
       "      <td>156.0</td>\n",
       "      <td>988.77</td>\n",
       "    </tr>\n",
       "    <tr>\n",
       "      <td>2020-10-12 05:00:00+03:00</td>\n",
       "      <td>0.000</td>\n",
       "      <td>2.4</td>\n",
       "      <td>117.0</td>\n",
       "      <td>996.18</td>\n",
       "    </tr>\n",
       "    <tr>\n",
       "      <td>2020-10-07 00:00:00+03:00</td>\n",
       "      <td>2067.000</td>\n",
       "      <td>11.3</td>\n",
       "      <td>187.0</td>\n",
       "      <td>990.27</td>\n",
       "    </tr>\n",
       "  </tbody>\n",
       "</table>\n",
       "</div>"
      ],
      "text/plain": [
       "                           power_output_kw  wind_speed_ms  wind_direction_deg  \\\n",
       "forecast_time                                                                   \n",
       "2020-10-07 21:00:00+03:00         1833.000           10.7               161.0   \n",
       "2020-10-08 03:00:00+03:00          250.005            5.5               211.0   \n",
       "2020-10-21 21:00:00+03:00         2145.000           11.5               156.0   \n",
       "2020-10-12 05:00:00+03:00            0.000            2.4               117.0   \n",
       "2020-10-07 00:00:00+03:00         2067.000           11.3               187.0   \n",
       "\n",
       "                           air_pressure_hpa  \n",
       "forecast_time                                \n",
       "2020-10-07 21:00:00+03:00            993.12  \n",
       "2020-10-08 03:00:00+03:00            994.15  \n",
       "2020-10-21 21:00:00+03:00            988.77  \n",
       "2020-10-12 05:00:00+03:00            996.18  \n",
       "2020-10-07 00:00:00+03:00            990.27  "
      ]
     },
     "execution_count": 12,
     "metadata": {},
     "output_type": "execute_result"
    }
   ],
   "source": [
    "#Chance power_output_w to power_output_kw\n",
    "X['power_output_w'] = X['power_output_w'] / 1000\n",
    "X.rename(columns = {'power_output_w':'power_output_kw'}, inplace = True)\n",
    "X.sample(5)"
   ]
  },
  {
   "cell_type": "code",
   "execution_count": 13,
   "metadata": {
    "scrolled": false
   },
   "outputs": [
    {
     "data": {
      "application/vnd.plotly.v1+json": {
       "config": {
        "linkText": "Export to plot.ly",
        "plotlyServerURL": "https://plot.ly",
        "showLink": true
       },
       "data": [
        {
         "line": {
          "color": "rgba(255, 153, 51, 1.0)",
          "dash": "solid",
          "shape": "linear",
          "width": 1.5
         },
         "mode": "lines",
         "name": "power_output_kw",
         "text": "",
         "type": "scatter",
         "x": [
          "2020-10-01 12:00:00+03:00",
          "2020-10-01 13:00:00+03:00",
          "2020-10-01 14:00:00+03:00",
          "2020-10-01 15:00:00+03:00",
          "2020-10-01 16:00:00+03:00",
          "2020-10-01 17:00:00+03:00",
          "2020-10-01 18:00:00+03:00",
          "2020-10-01 19:00:00+03:00",
          "2020-10-01 20:00:00+03:00",
          "2020-10-01 21:00:00+03:00",
          "2020-10-01 22:00:00+03:00",
          "2020-10-01 23:00:00+03:00",
          "2020-10-02 00:00:00+03:00",
          "2020-10-02 01:00:00+03:00",
          "2020-10-02 02:00:00+03:00",
          "2020-10-02 03:00:00+03:00",
          "2020-10-02 04:00:00+03:00",
          "2020-10-02 05:00:00+03:00",
          "2020-10-02 06:00:00+03:00",
          "2020-10-02 07:00:00+03:00",
          "2020-10-02 08:00:00+03:00",
          "2020-10-02 09:00:00+03:00",
          "2020-10-02 10:00:00+03:00",
          "2020-10-02 11:00:00+03:00",
          "2020-10-02 12:00:00+03:00",
          "2020-10-02 13:00:00+03:00",
          "2020-10-02 14:00:00+03:00",
          "2020-10-02 15:00:00+03:00",
          "2020-10-02 16:00:00+03:00",
          "2020-10-02 17:00:00+03:00",
          "2020-10-02 18:00:00+03:00",
          "2020-10-02 19:00:00+03:00",
          "2020-10-02 20:00:00+03:00",
          "2020-10-02 21:00:00+03:00",
          "2020-10-02 22:00:00+03:00",
          "2020-10-03 00:00:00+03:00",
          "2020-10-03 01:00:00+03:00",
          "2020-10-03 02:00:00+03:00",
          "2020-10-03 03:00:00+03:00",
          "2020-10-03 04:00:00+03:00",
          "2020-10-03 05:00:00+03:00",
          "2020-10-03 06:00:00+03:00",
          "2020-10-03 07:00:00+03:00",
          "2020-10-03 08:00:00+03:00",
          "2020-10-03 09:00:00+03:00",
          "2020-10-03 10:00:00+03:00",
          "2020-10-03 11:00:00+03:00",
          "2020-10-03 12:00:00+03:00",
          "2020-10-03 13:00:00+03:00",
          "2020-10-03 14:00:00+03:00",
          "2020-10-03 15:00:00+03:00",
          "2020-10-03 16:00:00+03:00",
          "2020-10-03 17:00:00+03:00",
          "2020-10-03 18:00:00+03:00",
          "2020-10-03 19:00:00+03:00",
          "2020-10-03 20:00:00+03:00",
          "2020-10-03 21:00:00+03:00",
          "2020-10-03 22:00:00+03:00",
          "2020-10-03 23:00:00+03:00",
          "2020-10-04 00:00:00+03:00",
          "2020-10-04 01:00:00+03:00",
          "2020-10-04 02:00:00+03:00",
          "2020-10-04 03:00:00+03:00",
          "2020-10-04 04:00:00+03:00",
          "2020-10-04 05:00:00+03:00",
          "2020-10-04 06:00:00+03:00",
          "2020-10-05 06:00:00+03:00",
          "2020-10-05 07:00:00+03:00",
          "2020-10-05 08:00:00+03:00",
          "2020-10-05 09:00:00+03:00",
          "2020-10-05 10:00:00+03:00",
          "2020-10-05 11:00:00+03:00",
          "2020-10-05 12:00:00+03:00",
          "2020-10-05 13:00:00+03:00",
          "2020-10-05 14:00:00+03:00",
          "2020-10-05 15:00:00+03:00",
          "2020-10-05 16:00:00+03:00",
          "2020-10-05 17:00:00+03:00",
          "2020-10-05 18:00:00+03:00",
          "2020-10-05 19:00:00+03:00",
          "2020-10-05 20:00:00+03:00",
          "2020-10-05 21:00:00+03:00",
          "2020-10-05 22:00:00+03:00",
          "2020-10-05 23:00:00+03:00",
          "2020-10-06 00:00:00+03:00",
          "2020-10-06 00:00:00+03:00",
          "2020-10-06 01:00:00+03:00",
          "2020-10-06 01:00:00+03:00",
          "2020-10-06 02:00:00+03:00",
          "2020-10-06 02:00:00+03:00",
          "2020-10-06 03:00:00+03:00",
          "2020-10-06 03:00:00+03:00",
          "2020-10-06 04:00:00+03:00",
          "2020-10-06 04:00:00+03:00",
          "2020-10-06 05:00:00+03:00",
          "2020-10-06 06:00:00+03:00",
          "2020-10-06 06:00:00+03:00",
          "2020-10-06 07:00:00+03:00",
          "2020-10-06 07:00:00+03:00",
          "2020-10-06 08:00:00+03:00",
          "2020-10-06 08:00:00+03:00",
          "2020-10-06 09:00:00+03:00",
          "2020-10-06 09:00:00+03:00",
          "2020-10-06 10:00:00+03:00",
          "2020-10-06 10:00:00+03:00",
          "2020-10-06 11:00:00+03:00",
          "2020-10-06 11:00:00+03:00",
          "2020-10-06 12:00:00+03:00",
          "2020-10-06 12:00:00+03:00",
          "2020-10-06 13:00:00+03:00",
          "2020-10-06 13:00:00+03:00",
          "2020-10-06 14:00:00+03:00",
          "2020-10-06 14:00:00+03:00",
          "2020-10-06 15:00:00+03:00",
          "2020-10-06 15:00:00+03:00",
          "2020-10-06 16:00:00+03:00",
          "2020-10-06 16:00:00+03:00",
          "2020-10-06 17:00:00+03:00",
          "2020-10-06 17:00:00+03:00",
          "2020-10-06 18:00:00+03:00",
          "2020-10-06 19:00:00+03:00",
          "2020-10-06 19:00:00+03:00",
          "2020-10-06 20:00:00+03:00",
          "2020-10-06 20:00:00+03:00",
          "2020-10-06 21:00:00+03:00",
          "2020-10-06 21:00:00+03:00",
          "2020-10-06 22:00:00+03:00",
          "2020-10-06 22:00:00+03:00",
          "2020-10-06 23:00:00+03:00",
          "2020-10-06 23:00:00+03:00",
          "2020-10-07 00:00:00+03:00",
          "2020-10-07 00:00:00+03:00",
          "2020-10-07 01:00:00+03:00",
          "2020-10-07 01:00:00+03:00",
          "2020-10-07 02:00:00+03:00",
          "2020-10-07 02:00:00+03:00",
          "2020-10-07 03:00:00+03:00",
          "2020-10-07 03:00:00+03:00",
          "2020-10-07 04:00:00+03:00",
          "2020-10-07 04:00:00+03:00",
          "2020-10-07 05:00:00+03:00",
          "2020-10-07 05:00:00+03:00",
          "2020-10-07 06:00:00+03:00",
          "2020-10-07 06:00:00+03:00",
          "2020-10-07 07:00:00+03:00",
          "2020-10-07 07:00:00+03:00",
          "2020-10-07 08:00:00+03:00",
          "2020-10-07 08:00:00+03:00",
          "2020-10-07 09:00:00+03:00",
          "2020-10-07 09:00:00+03:00",
          "2020-10-07 10:00:00+03:00",
          "2020-10-07 10:00:00+03:00",
          "2020-10-07 11:00:00+03:00",
          "2020-10-07 11:00:00+03:00",
          "2020-10-07 12:00:00+03:00",
          "2020-10-07 12:00:00+03:00",
          "2020-10-07 13:00:00+03:00",
          "2020-10-07 13:00:00+03:00",
          "2020-10-07 14:00:00+03:00",
          "2020-10-07 14:00:00+03:00",
          "2020-10-07 15:00:00+03:00",
          "2020-10-07 15:00:00+03:00",
          "2020-10-07 16:00:00+03:00",
          "2020-10-07 16:00:00+03:00",
          "2020-10-07 17:00:00+03:00",
          "2020-10-07 17:00:00+03:00",
          "2020-10-07 18:00:00+03:00",
          "2020-10-07 18:00:00+03:00",
          "2020-10-07 19:00:00+03:00",
          "2020-10-07 19:00:00+03:00",
          "2020-10-07 20:00:00+03:00",
          "2020-10-07 20:00:00+03:00",
          "2020-10-07 21:00:00+03:00",
          "2020-10-07 21:00:00+03:00",
          "2020-10-07 22:00:00+03:00",
          "2020-10-07 22:00:00+03:00",
          "2020-10-07 23:00:00+03:00",
          "2020-10-07 23:00:00+03:00",
          "2020-10-08 00:00:00+03:00",
          "2020-10-08 00:00:00+03:00",
          "2020-10-08 01:00:00+03:00",
          "2020-10-08 02:00:00+03:00",
          "2020-10-08 03:00:00+03:00",
          "2020-10-08 04:00:00+03:00",
          "2020-10-08 05:00:00+03:00",
          "2020-10-08 06:00:00+03:00",
          "2020-10-08 07:00:00+03:00",
          "2020-10-08 08:00:00+03:00",
          "2020-10-08 09:00:00+03:00",
          "2020-10-08 10:00:00+03:00",
          "2020-10-08 11:00:00+03:00",
          "2020-10-08 12:00:00+03:00",
          "2020-10-08 13:00:00+03:00",
          "2020-10-08 14:00:00+03:00",
          "2020-10-08 15:00:00+03:00",
          "2020-10-08 16:00:00+03:00",
          "2020-10-08 17:00:00+03:00",
          "2020-10-08 18:00:00+03:00",
          "2020-10-11 15:00:00+03:00",
          "2020-10-11 16:00:00+03:00",
          "2020-10-11 17:00:00+03:00",
          "2020-10-11 18:00:00+03:00",
          "2020-10-11 19:00:00+03:00",
          "2020-10-11 20:00:00+03:00",
          "2020-10-11 21:00:00+03:00",
          "2020-10-11 22:00:00+03:00",
          "2020-10-11 23:00:00+03:00",
          "2020-10-12 00:00:00+03:00",
          "2020-10-12 01:00:00+03:00",
          "2020-10-12 02:00:00+03:00",
          "2020-10-12 03:00:00+03:00",
          "2020-10-12 04:00:00+03:00",
          "2020-10-12 05:00:00+03:00",
          "2020-10-12 06:00:00+03:00",
          "2020-10-12 07:00:00+03:00",
          "2020-10-12 08:00:00+03:00",
          "2020-10-12 09:00:00+03:00",
          "2020-10-12 10:00:00+03:00",
          "2020-10-12 11:00:00+03:00",
          "2020-10-12 12:00:00+03:00",
          "2020-10-12 13:00:00+03:00",
          "2020-10-12 14:00:00+03:00",
          "2020-10-12 15:00:00+03:00",
          "2020-10-12 16:00:00+03:00",
          "2020-10-12 17:00:00+03:00",
          "2020-10-12 18:00:00+03:00",
          "2020-10-12 19:00:00+03:00",
          "2020-10-12 20:00:00+03:00",
          "2020-10-12 21:00:00+03:00",
          "2020-10-12 22:00:00+03:00",
          "2020-10-12 23:00:00+03:00",
          "2020-10-13 00:00:00+03:00",
          "2020-10-13 01:00:00+03:00",
          "2020-10-13 02:00:00+03:00",
          "2020-10-13 03:00:00+03:00",
          "2020-10-13 04:00:00+03:00",
          "2020-10-13 05:00:00+03:00",
          "2020-10-13 06:00:00+03:00",
          "2020-10-13 07:00:00+03:00",
          "2020-10-13 08:00:00+03:00",
          "2020-10-13 09:00:00+03:00",
          "2020-10-13 10:00:00+03:00",
          "2020-10-13 11:00:00+03:00",
          "2020-10-13 12:00:00+03:00",
          "2020-10-13 13:00:00+03:00",
          "2020-10-13 14:00:00+03:00",
          "2020-10-13 16:00:00+03:00",
          "2020-10-13 17:00:00+03:00",
          "2020-10-13 18:00:00+03:00",
          "2020-10-13 19:00:00+03:00",
          "2020-10-13 20:00:00+03:00",
          "2020-10-13 21:00:00+03:00",
          "2020-10-13 22:00:00+03:00",
          "2020-10-13 23:00:00+03:00",
          "2020-10-14 00:00:00+03:00",
          "2020-10-14 01:00:00+03:00",
          "2020-10-14 02:00:00+03:00",
          "2020-10-14 03:00:00+03:00",
          "2020-10-14 04:00:00+03:00",
          "2020-10-14 05:00:00+03:00",
          "2020-10-14 06:00:00+03:00",
          "2020-10-14 07:00:00+03:00",
          "2020-10-14 08:00:00+03:00",
          "2020-10-14 09:00:00+03:00",
          "2020-10-19 15:00:00+03:00",
          "2020-10-19 16:00:00+03:00",
          "2020-10-19 17:00:00+03:00",
          "2020-10-19 18:00:00+03:00",
          "2020-10-19 19:00:00+03:00",
          "2020-10-19 20:00:00+03:00",
          "2020-10-19 21:00:00+03:00",
          "2020-10-19 22:00:00+03:00",
          "2020-10-19 23:00:00+03:00",
          "2020-10-20 00:00:00+03:00",
          "2020-10-20 01:00:00+03:00",
          "2020-10-20 02:00:00+03:00",
          "2020-10-20 03:00:00+03:00",
          "2020-10-20 04:00:00+03:00",
          "2020-10-20 05:00:00+03:00",
          "2020-10-20 06:00:00+03:00",
          "2020-10-20 07:00:00+03:00",
          "2020-10-20 08:00:00+03:00",
          "2020-10-20 09:00:00+03:00",
          "2020-10-20 10:00:00+03:00",
          "2020-10-20 11:00:00+03:00",
          "2020-10-20 12:00:00+03:00",
          "2020-10-20 13:00:00+03:00",
          "2020-10-20 14:00:00+03:00",
          "2020-10-20 15:00:00+03:00",
          "2020-10-20 16:00:00+03:00",
          "2020-10-20 17:00:00+03:00",
          "2020-10-20 18:00:00+03:00",
          "2020-10-20 19:00:00+03:00",
          "2020-10-20 20:00:00+03:00",
          "2020-10-20 21:00:00+03:00",
          "2020-10-20 22:00:00+03:00",
          "2020-10-20 23:00:00+03:00",
          "2020-10-21 00:00:00+03:00",
          "2020-10-21 01:00:00+03:00",
          "2020-10-21 02:00:00+03:00",
          "2020-10-21 03:00:00+03:00",
          "2020-10-21 04:00:00+03:00",
          "2020-10-21 05:00:00+03:00",
          "2020-10-21 06:00:00+03:00",
          "2020-10-21 07:00:00+03:00",
          "2020-10-21 08:00:00+03:00",
          "2020-10-21 09:00:00+03:00",
          "2020-10-21 10:00:00+03:00",
          "2020-10-21 11:00:00+03:00",
          "2020-10-21 12:00:00+03:00",
          "2020-10-21 13:00:00+03:00",
          "2020-10-21 15:00:00+03:00",
          "2020-10-21 16:00:00+03:00",
          "2020-10-21 17:00:00+03:00",
          "2020-10-21 18:00:00+03:00",
          "2020-10-21 19:00:00+03:00",
          "2020-10-21 20:00:00+03:00",
          "2020-10-21 21:00:00+03:00",
          "2020-10-21 22:00:00+03:00",
          "2020-10-21 23:00:00+03:00",
          "2020-10-22 00:00:00+03:00",
          "2020-10-22 01:00:00+03:00",
          "2020-10-22 02:00:00+03:00",
          "2020-10-22 03:00:00+03:00",
          "2020-10-22 04:00:00+03:00",
          "2020-10-22 05:00:00+03:00",
          "2020-10-22 06:00:00+03:00",
          "2020-10-22 07:00:00+03:00",
          "2020-10-22 08:00:00+03:00",
          "2020-10-22 09:00:00+03:00"
         ],
         "y": [
          1452,
          1638,
          1716,
          1755,
          1833,
          1911,
          2106,
          2145,
          2262,
          2340,
          2067,
          1272,
          599.737,
          377.03,
          396.88,
          496.13,
          711.413,
          1119.034,
          1488,
          1677,
          1599,
          1638,
          1488,
          1200,
          1272,
          1599,
          1755,
          2106,
          2379,
          2613,
          2784,
          2856,
          2820,
          2652,
          2340,
          1560,
          1416,
          1344,
          1599,
          1833,
          1794,
          1638,
          1638,
          1833,
          2067,
          2184,
          2067,
          2028,
          1716,
          2223,
          2652,
          2613,
          2691,
          2784,
          2919,
          2982,
          2937,
          2919,
          2496,
          2223,
          2301,
          2574,
          2613,
          2802,
          2919,
          2910,
          2946,
          3000,
          3000,
          2784,
          2730,
          2652,
          2028,
          1344,
          683.494,
          182.53,
          0,
          0,
          154.214,
          571.818,
          1272,
          1524,
          1200,
          1755,
          1599,
          1416,
          1488,
          1524,
          1488,
          997.585,
          1677,
          1308,
          2535,
          2145,
          2730,
          2874,
          2973,
          2820,
          2928,
          3000,
          3000,
          3000,
          2982,
          2946,
          2991,
          2892,
          3000,
          2910,
          3000,
          2946,
          2928,
          2991,
          2937,
          2574,
          2874,
          2766,
          2535,
          2145,
          2919,
          2928,
          2262,
          2838,
          2856,
          2379,
          2106,
          2613,
          2418,
          2892,
          2301,
          2691,
          1638,
          2067,
          1716,
          1119.034,
          1038.068,
          1872,
          1599,
          1200,
          1380,
          1344,
          1677,
          1677,
          1794,
          1755,
          1911,
          1794,
          1716,
          2145,
          1677,
          1599,
          1380,
          1308,
          957.102,
          1159.517,
          916.619,
          835.653,
          739.332,
          711.413,
          599.737,
          655.575,
          739.332,
          739.332,
          543.899,
          835.653,
          1308,
          515.98,
          456.43,
          1677,
          1911,
          711.413,
          876.136,
          1989,
          1833,
          1716,
          1308,
          2652,
          655.575,
          1833,
          476.28,
          2184,
          1677,
          767.251,
          250.005,
          223.015,
          250.005,
          209.52,
          303.985,
          303.985,
          337.33,
          303.985,
          571.818,
          515.98,
          1078.551,
          436.58,
          683.494,
          0,
          0,
          0,
          182.53,
          276.995,
          263.5,
          337.33,
          456.43,
          571.818,
          476.28,
          396.88,
          223.015,
          52.885,
          0,
          0,
          0,
          0,
          0,
          44.071,
          223.015,
          337.33,
          416.73,
          655.575,
          1159.517,
          1159.517,
          1344,
          1078.551,
          1119.034,
          1452,
          1599,
          1344,
          2184,
          2106,
          2262,
          2766,
          1872,
          2418,
          2379,
          337.33,
          88.142,
          223.015,
          1236,
          416.73,
          1911,
          496.13,
          396.88,
          456.43,
          276.995,
          290.49,
          196.025,
          154.214,
          196.025,
          125.897,
          0,
          88.142,
          135.336,
          250.005,
          357.18,
          627.656,
          1038.068,
          1380,
          1416,
          1200,
          1272,
          1560,
          1755,
          2028,
          2067,
          1950,
          543.899,
          456.43,
          357.18,
          795.17,
          767.251,
          683.494,
          835.653,
          1159.517,
          1488,
          1794,
          1677,
          1911,
          1833,
          1677,
          1524,
          1159.517,
          916.619,
          835.653,
          711.413,
          396.88,
          209.52,
          88.142,
          61.699,
          35.257,
          35.257,
          35.257,
          26.443,
          0,
          0,
          0,
          0,
          0,
          0,
          0,
          97.581,
          209.52,
          250.005,
          571.818,
          916.619,
          1416,
          1638,
          1560,
          2106,
          2223,
          2301,
          2028,
          1989,
          1989,
          1911,
          1716,
          1716,
          1950,
          2106,
          2145,
          2184,
          1989,
          1599,
          1677,
          2106,
          2106,
          2340,
          2379,
          2748,
          2802,
          2691,
          2418
         ]
        },
        {
         "line": {
          "color": "rgba(55, 128, 191, 1.0)",
          "dash": "solid",
          "shape": "linear",
          "width": 1.5
         },
         "mode": "lines",
         "name": "wind_speed_ms",
         "text": "",
         "type": "scatter",
         "x": [
          "2020-10-01 12:00:00+03:00",
          "2020-10-01 13:00:00+03:00",
          "2020-10-01 14:00:00+03:00",
          "2020-10-01 15:00:00+03:00",
          "2020-10-01 16:00:00+03:00",
          "2020-10-01 17:00:00+03:00",
          "2020-10-01 18:00:00+03:00",
          "2020-10-01 19:00:00+03:00",
          "2020-10-01 20:00:00+03:00",
          "2020-10-01 21:00:00+03:00",
          "2020-10-01 22:00:00+03:00",
          "2020-10-01 23:00:00+03:00",
          "2020-10-02 00:00:00+03:00",
          "2020-10-02 01:00:00+03:00",
          "2020-10-02 02:00:00+03:00",
          "2020-10-02 03:00:00+03:00",
          "2020-10-02 04:00:00+03:00",
          "2020-10-02 05:00:00+03:00",
          "2020-10-02 06:00:00+03:00",
          "2020-10-02 07:00:00+03:00",
          "2020-10-02 08:00:00+03:00",
          "2020-10-02 09:00:00+03:00",
          "2020-10-02 10:00:00+03:00",
          "2020-10-02 11:00:00+03:00",
          "2020-10-02 12:00:00+03:00",
          "2020-10-02 13:00:00+03:00",
          "2020-10-02 14:00:00+03:00",
          "2020-10-02 15:00:00+03:00",
          "2020-10-02 16:00:00+03:00",
          "2020-10-02 17:00:00+03:00",
          "2020-10-02 18:00:00+03:00",
          "2020-10-02 19:00:00+03:00",
          "2020-10-02 20:00:00+03:00",
          "2020-10-02 21:00:00+03:00",
          "2020-10-02 22:00:00+03:00",
          "2020-10-03 00:00:00+03:00",
          "2020-10-03 01:00:00+03:00",
          "2020-10-03 02:00:00+03:00",
          "2020-10-03 03:00:00+03:00",
          "2020-10-03 04:00:00+03:00",
          "2020-10-03 05:00:00+03:00",
          "2020-10-03 06:00:00+03:00",
          "2020-10-03 07:00:00+03:00",
          "2020-10-03 08:00:00+03:00",
          "2020-10-03 09:00:00+03:00",
          "2020-10-03 10:00:00+03:00",
          "2020-10-03 11:00:00+03:00",
          "2020-10-03 12:00:00+03:00",
          "2020-10-03 13:00:00+03:00",
          "2020-10-03 14:00:00+03:00",
          "2020-10-03 15:00:00+03:00",
          "2020-10-03 16:00:00+03:00",
          "2020-10-03 17:00:00+03:00",
          "2020-10-03 18:00:00+03:00",
          "2020-10-03 19:00:00+03:00",
          "2020-10-03 20:00:00+03:00",
          "2020-10-03 21:00:00+03:00",
          "2020-10-03 22:00:00+03:00",
          "2020-10-03 23:00:00+03:00",
          "2020-10-04 00:00:00+03:00",
          "2020-10-04 01:00:00+03:00",
          "2020-10-04 02:00:00+03:00",
          "2020-10-04 03:00:00+03:00",
          "2020-10-04 04:00:00+03:00",
          "2020-10-04 05:00:00+03:00",
          "2020-10-04 06:00:00+03:00",
          "2020-10-05 06:00:00+03:00",
          "2020-10-05 07:00:00+03:00",
          "2020-10-05 08:00:00+03:00",
          "2020-10-05 09:00:00+03:00",
          "2020-10-05 10:00:00+03:00",
          "2020-10-05 11:00:00+03:00",
          "2020-10-05 12:00:00+03:00",
          "2020-10-05 13:00:00+03:00",
          "2020-10-05 14:00:00+03:00",
          "2020-10-05 15:00:00+03:00",
          "2020-10-05 16:00:00+03:00",
          "2020-10-05 17:00:00+03:00",
          "2020-10-05 18:00:00+03:00",
          "2020-10-05 19:00:00+03:00",
          "2020-10-05 20:00:00+03:00",
          "2020-10-05 21:00:00+03:00",
          "2020-10-05 22:00:00+03:00",
          "2020-10-05 23:00:00+03:00",
          "2020-10-06 00:00:00+03:00",
          "2020-10-06 00:00:00+03:00",
          "2020-10-06 01:00:00+03:00",
          "2020-10-06 01:00:00+03:00",
          "2020-10-06 02:00:00+03:00",
          "2020-10-06 02:00:00+03:00",
          "2020-10-06 03:00:00+03:00",
          "2020-10-06 03:00:00+03:00",
          "2020-10-06 04:00:00+03:00",
          "2020-10-06 04:00:00+03:00",
          "2020-10-06 05:00:00+03:00",
          "2020-10-06 06:00:00+03:00",
          "2020-10-06 06:00:00+03:00",
          "2020-10-06 07:00:00+03:00",
          "2020-10-06 07:00:00+03:00",
          "2020-10-06 08:00:00+03:00",
          "2020-10-06 08:00:00+03:00",
          "2020-10-06 09:00:00+03:00",
          "2020-10-06 09:00:00+03:00",
          "2020-10-06 10:00:00+03:00",
          "2020-10-06 10:00:00+03:00",
          "2020-10-06 11:00:00+03:00",
          "2020-10-06 11:00:00+03:00",
          "2020-10-06 12:00:00+03:00",
          "2020-10-06 12:00:00+03:00",
          "2020-10-06 13:00:00+03:00",
          "2020-10-06 13:00:00+03:00",
          "2020-10-06 14:00:00+03:00",
          "2020-10-06 14:00:00+03:00",
          "2020-10-06 15:00:00+03:00",
          "2020-10-06 15:00:00+03:00",
          "2020-10-06 16:00:00+03:00",
          "2020-10-06 16:00:00+03:00",
          "2020-10-06 17:00:00+03:00",
          "2020-10-06 17:00:00+03:00",
          "2020-10-06 18:00:00+03:00",
          "2020-10-06 19:00:00+03:00",
          "2020-10-06 19:00:00+03:00",
          "2020-10-06 20:00:00+03:00",
          "2020-10-06 20:00:00+03:00",
          "2020-10-06 21:00:00+03:00",
          "2020-10-06 21:00:00+03:00",
          "2020-10-06 22:00:00+03:00",
          "2020-10-06 22:00:00+03:00",
          "2020-10-06 23:00:00+03:00",
          "2020-10-06 23:00:00+03:00",
          "2020-10-07 00:00:00+03:00",
          "2020-10-07 00:00:00+03:00",
          "2020-10-07 01:00:00+03:00",
          "2020-10-07 01:00:00+03:00",
          "2020-10-07 02:00:00+03:00",
          "2020-10-07 02:00:00+03:00",
          "2020-10-07 03:00:00+03:00",
          "2020-10-07 03:00:00+03:00",
          "2020-10-07 04:00:00+03:00",
          "2020-10-07 04:00:00+03:00",
          "2020-10-07 05:00:00+03:00",
          "2020-10-07 05:00:00+03:00",
          "2020-10-07 06:00:00+03:00",
          "2020-10-07 06:00:00+03:00",
          "2020-10-07 07:00:00+03:00",
          "2020-10-07 07:00:00+03:00",
          "2020-10-07 08:00:00+03:00",
          "2020-10-07 08:00:00+03:00",
          "2020-10-07 09:00:00+03:00",
          "2020-10-07 09:00:00+03:00",
          "2020-10-07 10:00:00+03:00",
          "2020-10-07 10:00:00+03:00",
          "2020-10-07 11:00:00+03:00",
          "2020-10-07 11:00:00+03:00",
          "2020-10-07 12:00:00+03:00",
          "2020-10-07 12:00:00+03:00",
          "2020-10-07 13:00:00+03:00",
          "2020-10-07 13:00:00+03:00",
          "2020-10-07 14:00:00+03:00",
          "2020-10-07 14:00:00+03:00",
          "2020-10-07 15:00:00+03:00",
          "2020-10-07 15:00:00+03:00",
          "2020-10-07 16:00:00+03:00",
          "2020-10-07 16:00:00+03:00",
          "2020-10-07 17:00:00+03:00",
          "2020-10-07 17:00:00+03:00",
          "2020-10-07 18:00:00+03:00",
          "2020-10-07 18:00:00+03:00",
          "2020-10-07 19:00:00+03:00",
          "2020-10-07 19:00:00+03:00",
          "2020-10-07 20:00:00+03:00",
          "2020-10-07 20:00:00+03:00",
          "2020-10-07 21:00:00+03:00",
          "2020-10-07 21:00:00+03:00",
          "2020-10-07 22:00:00+03:00",
          "2020-10-07 22:00:00+03:00",
          "2020-10-07 23:00:00+03:00",
          "2020-10-07 23:00:00+03:00",
          "2020-10-08 00:00:00+03:00",
          "2020-10-08 00:00:00+03:00",
          "2020-10-08 01:00:00+03:00",
          "2020-10-08 02:00:00+03:00",
          "2020-10-08 03:00:00+03:00",
          "2020-10-08 04:00:00+03:00",
          "2020-10-08 05:00:00+03:00",
          "2020-10-08 06:00:00+03:00",
          "2020-10-08 07:00:00+03:00",
          "2020-10-08 08:00:00+03:00",
          "2020-10-08 09:00:00+03:00",
          "2020-10-08 10:00:00+03:00",
          "2020-10-08 11:00:00+03:00",
          "2020-10-08 12:00:00+03:00",
          "2020-10-08 13:00:00+03:00",
          "2020-10-08 14:00:00+03:00",
          "2020-10-08 15:00:00+03:00",
          "2020-10-08 16:00:00+03:00",
          "2020-10-08 17:00:00+03:00",
          "2020-10-08 18:00:00+03:00",
          "2020-10-11 15:00:00+03:00",
          "2020-10-11 16:00:00+03:00",
          "2020-10-11 17:00:00+03:00",
          "2020-10-11 18:00:00+03:00",
          "2020-10-11 19:00:00+03:00",
          "2020-10-11 20:00:00+03:00",
          "2020-10-11 21:00:00+03:00",
          "2020-10-11 22:00:00+03:00",
          "2020-10-11 23:00:00+03:00",
          "2020-10-12 00:00:00+03:00",
          "2020-10-12 01:00:00+03:00",
          "2020-10-12 02:00:00+03:00",
          "2020-10-12 03:00:00+03:00",
          "2020-10-12 04:00:00+03:00",
          "2020-10-12 05:00:00+03:00",
          "2020-10-12 06:00:00+03:00",
          "2020-10-12 07:00:00+03:00",
          "2020-10-12 08:00:00+03:00",
          "2020-10-12 09:00:00+03:00",
          "2020-10-12 10:00:00+03:00",
          "2020-10-12 11:00:00+03:00",
          "2020-10-12 12:00:00+03:00",
          "2020-10-12 13:00:00+03:00",
          "2020-10-12 14:00:00+03:00",
          "2020-10-12 15:00:00+03:00",
          "2020-10-12 16:00:00+03:00",
          "2020-10-12 17:00:00+03:00",
          "2020-10-12 18:00:00+03:00",
          "2020-10-12 19:00:00+03:00",
          "2020-10-12 20:00:00+03:00",
          "2020-10-12 21:00:00+03:00",
          "2020-10-12 22:00:00+03:00",
          "2020-10-12 23:00:00+03:00",
          "2020-10-13 00:00:00+03:00",
          "2020-10-13 01:00:00+03:00",
          "2020-10-13 02:00:00+03:00",
          "2020-10-13 03:00:00+03:00",
          "2020-10-13 04:00:00+03:00",
          "2020-10-13 05:00:00+03:00",
          "2020-10-13 06:00:00+03:00",
          "2020-10-13 07:00:00+03:00",
          "2020-10-13 08:00:00+03:00",
          "2020-10-13 09:00:00+03:00",
          "2020-10-13 10:00:00+03:00",
          "2020-10-13 11:00:00+03:00",
          "2020-10-13 12:00:00+03:00",
          "2020-10-13 13:00:00+03:00",
          "2020-10-13 14:00:00+03:00",
          "2020-10-13 16:00:00+03:00",
          "2020-10-13 17:00:00+03:00",
          "2020-10-13 18:00:00+03:00",
          "2020-10-13 19:00:00+03:00",
          "2020-10-13 20:00:00+03:00",
          "2020-10-13 21:00:00+03:00",
          "2020-10-13 22:00:00+03:00",
          "2020-10-13 23:00:00+03:00",
          "2020-10-14 00:00:00+03:00",
          "2020-10-14 01:00:00+03:00",
          "2020-10-14 02:00:00+03:00",
          "2020-10-14 03:00:00+03:00",
          "2020-10-14 04:00:00+03:00",
          "2020-10-14 05:00:00+03:00",
          "2020-10-14 06:00:00+03:00",
          "2020-10-14 07:00:00+03:00",
          "2020-10-14 08:00:00+03:00",
          "2020-10-14 09:00:00+03:00",
          "2020-10-19 15:00:00+03:00",
          "2020-10-19 16:00:00+03:00",
          "2020-10-19 17:00:00+03:00",
          "2020-10-19 18:00:00+03:00",
          "2020-10-19 19:00:00+03:00",
          "2020-10-19 20:00:00+03:00",
          "2020-10-19 21:00:00+03:00",
          "2020-10-19 22:00:00+03:00",
          "2020-10-19 23:00:00+03:00",
          "2020-10-20 00:00:00+03:00",
          "2020-10-20 01:00:00+03:00",
          "2020-10-20 02:00:00+03:00",
          "2020-10-20 03:00:00+03:00",
          "2020-10-20 04:00:00+03:00",
          "2020-10-20 05:00:00+03:00",
          "2020-10-20 06:00:00+03:00",
          "2020-10-20 07:00:00+03:00",
          "2020-10-20 08:00:00+03:00",
          "2020-10-20 09:00:00+03:00",
          "2020-10-20 10:00:00+03:00",
          "2020-10-20 11:00:00+03:00",
          "2020-10-20 12:00:00+03:00",
          "2020-10-20 13:00:00+03:00",
          "2020-10-20 14:00:00+03:00",
          "2020-10-20 15:00:00+03:00",
          "2020-10-20 16:00:00+03:00",
          "2020-10-20 17:00:00+03:00",
          "2020-10-20 18:00:00+03:00",
          "2020-10-20 19:00:00+03:00",
          "2020-10-20 20:00:00+03:00",
          "2020-10-20 21:00:00+03:00",
          "2020-10-20 22:00:00+03:00",
          "2020-10-20 23:00:00+03:00",
          "2020-10-21 00:00:00+03:00",
          "2020-10-21 01:00:00+03:00",
          "2020-10-21 02:00:00+03:00",
          "2020-10-21 03:00:00+03:00",
          "2020-10-21 04:00:00+03:00",
          "2020-10-21 05:00:00+03:00",
          "2020-10-21 06:00:00+03:00",
          "2020-10-21 07:00:00+03:00",
          "2020-10-21 08:00:00+03:00",
          "2020-10-21 09:00:00+03:00",
          "2020-10-21 10:00:00+03:00",
          "2020-10-21 11:00:00+03:00",
          "2020-10-21 12:00:00+03:00",
          "2020-10-21 13:00:00+03:00",
          "2020-10-21 15:00:00+03:00",
          "2020-10-21 16:00:00+03:00",
          "2020-10-21 17:00:00+03:00",
          "2020-10-21 18:00:00+03:00",
          "2020-10-21 19:00:00+03:00",
          "2020-10-21 20:00:00+03:00",
          "2020-10-21 21:00:00+03:00",
          "2020-10-21 22:00:00+03:00",
          "2020-10-21 23:00:00+03:00",
          "2020-10-22 00:00:00+03:00",
          "2020-10-22 01:00:00+03:00",
          "2020-10-22 02:00:00+03:00",
          "2020-10-22 03:00:00+03:00",
          "2020-10-22 04:00:00+03:00",
          "2020-10-22 05:00:00+03:00",
          "2020-10-22 06:00:00+03:00",
          "2020-10-22 07:00:00+03:00",
          "2020-10-22 08:00:00+03:00",
          "2020-10-22 09:00:00+03:00"
         ],
         "y": [
          9.7,
          10.2,
          10.4,
          10.5,
          10.7,
          10.9,
          11.4,
          11.5,
          11.8,
          12,
          11.3,
          9.2,
          7.3,
          6.3,
          6.4,
          6.9,
          7.7,
          8.8,
          9.8,
          10.3,
          10.1,
          10.2,
          9.8,
          9,
          9.2,
          10.1,
          10.5,
          11.4,
          12.1,
          12.7,
          13.3,
          13.7,
          13.5,
          12.8,
          12,
          10,
          9.6,
          9.4,
          10.1,
          10.7,
          10.6,
          10.2,
          10.2,
          10.7,
          11.3,
          11.6,
          11.3,
          11.2,
          10.4,
          11.7,
          12.8,
          12.7,
          12.9,
          13.3,
          14.1,
          14.8,
          14.3,
          14.1,
          12.4,
          11.7,
          11.9,
          12.6,
          12.7,
          13.4,
          14.1,
          14,
          14.4,
          15.2,
          15.2,
          13.3,
          13,
          12.8,
          11.2,
          9.4,
          7.6,
          5,
          2.6,
          2.8,
          4.7,
          7.2,
          9.2,
          9.9,
          9,
          10.5,
          10.1,
          9.6,
          9.8,
          9.9,
          9.8,
          8.5,
          10.3,
          9.3,
          12.5,
          11.5,
          13,
          13.8,
          14.7,
          13.5,
          14.2,
          15,
          16.2,
          15.3,
          14.8,
          14.4,
          14.9,
          13.9,
          15.3,
          14,
          15.7,
          14.4,
          14.2,
          14.9,
          14.3,
          12.6,
          13.8,
          13.2,
          12.5,
          11.5,
          14.1,
          14.2,
          11.8,
          13.6,
          13.7,
          12.1,
          11.4,
          12.7,
          12.2,
          13.9,
          11.9,
          12.9,
          10.2,
          11.3,
          10.4,
          8.8,
          8.6,
          10.8,
          10.1,
          9,
          9.5,
          9.4,
          10.3,
          10.3,
          10.6,
          10.5,
          10.9,
          10.6,
          10.4,
          11.5,
          10.3,
          10.1,
          9.5,
          9.3,
          8.4,
          8.9,
          8.3,
          8.1,
          7.8,
          7.7,
          7.3,
          7.5,
          7.8,
          7.8,
          7.1,
          8.1,
          9.3,
          7,
          6.7,
          10.3,
          10.9,
          7.7,
          8.2,
          11.1,
          10.7,
          10.4,
          9.3,
          12.8,
          7.5,
          10.7,
          6.8,
          11.6,
          10.3,
          7.9,
          5.5,
          5.3,
          5.5,
          5.2,
          5.9,
          5.9,
          6.1,
          5.9,
          7.2,
          7,
          8.7,
          6.6,
          7.6,
          "",
          "",
          "",
          5,
          5.7,
          5.6,
          6.1,
          6.7,
          7.2,
          6.8,
          6.4,
          5.3,
          3.6,
          1.9,
          1,
          1.1,
          1.8,
          2.4,
          3.5,
          5.3,
          6.1,
          6.5,
          7.5,
          8.9,
          8.9,
          9.4,
          8.7,
          8.8,
          9.7,
          10.1,
          9.4,
          11.6,
          11.4,
          11.8,
          13.2,
          10.8,
          12.2,
          12.1,
          6.1,
          4,
          5.3,
          9.1,
          6.5,
          10.9,
          6.9,
          6.4,
          6.7,
          5.7,
          5.8,
          5.1,
          4.7,
          5.1,
          4.4,
          3,
          4,
          4.5,
          5.5,
          6.2,
          7.4,
          8.6,
          9.5,
          9.6,
          9,
          9.2,
          10,
          10.5,
          11.2,
          11.3,
          11,
          7.1,
          6.7,
          6.2,
          8,
          7.9,
          7.6,
          8.1,
          8.9,
          9.8,
          10.6,
          10.3,
          10.9,
          10.7,
          10.3,
          9.9,
          8.9,
          8.3,
          8.1,
          7.7,
          6.4,
          5.2,
          4,
          3.7,
          3.4,
          3.4,
          3.4,
          3.3,
          2.8,
          2.1,
          1.6,
          1.2,
          1.2,
          1.7,
          2.5,
          4.1,
          5.2,
          5.5,
          7.2,
          8.3,
          9.6,
          10.2,
          10,
          11.4,
          11.7,
          11.9,
          11.2,
          11.1,
          11.1,
          10.9,
          10.4,
          10.4,
          11,
          11.4,
          11.5,
          11.6,
          11.1,
          10.1,
          10.3,
          11.4,
          11.4,
          12,
          12.1,
          13.1,
          13.4,
          12.9,
          12.2
         ]
        },
        {
         "line": {
          "color": "rgba(50, 171, 96, 1.0)",
          "dash": "solid",
          "shape": "linear",
          "width": 1.5
         },
         "mode": "lines",
         "name": "wind_direction_deg",
         "text": "",
         "type": "scatter",
         "x": [
          "2020-10-01 12:00:00+03:00",
          "2020-10-01 13:00:00+03:00",
          "2020-10-01 14:00:00+03:00",
          "2020-10-01 15:00:00+03:00",
          "2020-10-01 16:00:00+03:00",
          "2020-10-01 17:00:00+03:00",
          "2020-10-01 18:00:00+03:00",
          "2020-10-01 19:00:00+03:00",
          "2020-10-01 20:00:00+03:00",
          "2020-10-01 21:00:00+03:00",
          "2020-10-01 22:00:00+03:00",
          "2020-10-01 23:00:00+03:00",
          "2020-10-02 00:00:00+03:00",
          "2020-10-02 01:00:00+03:00",
          "2020-10-02 02:00:00+03:00",
          "2020-10-02 03:00:00+03:00",
          "2020-10-02 04:00:00+03:00",
          "2020-10-02 05:00:00+03:00",
          "2020-10-02 06:00:00+03:00",
          "2020-10-02 07:00:00+03:00",
          "2020-10-02 08:00:00+03:00",
          "2020-10-02 09:00:00+03:00",
          "2020-10-02 10:00:00+03:00",
          "2020-10-02 11:00:00+03:00",
          "2020-10-02 12:00:00+03:00",
          "2020-10-02 13:00:00+03:00",
          "2020-10-02 14:00:00+03:00",
          "2020-10-02 15:00:00+03:00",
          "2020-10-02 16:00:00+03:00",
          "2020-10-02 17:00:00+03:00",
          "2020-10-02 18:00:00+03:00",
          "2020-10-02 19:00:00+03:00",
          "2020-10-02 20:00:00+03:00",
          "2020-10-02 21:00:00+03:00",
          "2020-10-02 22:00:00+03:00",
          "2020-10-03 00:00:00+03:00",
          "2020-10-03 01:00:00+03:00",
          "2020-10-03 02:00:00+03:00",
          "2020-10-03 03:00:00+03:00",
          "2020-10-03 04:00:00+03:00",
          "2020-10-03 05:00:00+03:00",
          "2020-10-03 06:00:00+03:00",
          "2020-10-03 07:00:00+03:00",
          "2020-10-03 08:00:00+03:00",
          "2020-10-03 09:00:00+03:00",
          "2020-10-03 10:00:00+03:00",
          "2020-10-03 11:00:00+03:00",
          "2020-10-03 12:00:00+03:00",
          "2020-10-03 13:00:00+03:00",
          "2020-10-03 14:00:00+03:00",
          "2020-10-03 15:00:00+03:00",
          "2020-10-03 16:00:00+03:00",
          "2020-10-03 17:00:00+03:00",
          "2020-10-03 18:00:00+03:00",
          "2020-10-03 19:00:00+03:00",
          "2020-10-03 20:00:00+03:00",
          "2020-10-03 21:00:00+03:00",
          "2020-10-03 22:00:00+03:00",
          "2020-10-03 23:00:00+03:00",
          "2020-10-04 00:00:00+03:00",
          "2020-10-04 01:00:00+03:00",
          "2020-10-04 02:00:00+03:00",
          "2020-10-04 03:00:00+03:00",
          "2020-10-04 04:00:00+03:00",
          "2020-10-04 05:00:00+03:00",
          "2020-10-04 06:00:00+03:00",
          "2020-10-05 06:00:00+03:00",
          "2020-10-05 07:00:00+03:00",
          "2020-10-05 08:00:00+03:00",
          "2020-10-05 09:00:00+03:00",
          "2020-10-05 10:00:00+03:00",
          "2020-10-05 11:00:00+03:00",
          "2020-10-05 12:00:00+03:00",
          "2020-10-05 13:00:00+03:00",
          "2020-10-05 14:00:00+03:00",
          "2020-10-05 15:00:00+03:00",
          "2020-10-05 16:00:00+03:00",
          "2020-10-05 17:00:00+03:00",
          "2020-10-05 18:00:00+03:00",
          "2020-10-05 19:00:00+03:00",
          "2020-10-05 20:00:00+03:00",
          "2020-10-05 21:00:00+03:00",
          "2020-10-05 22:00:00+03:00",
          "2020-10-05 23:00:00+03:00",
          "2020-10-06 00:00:00+03:00",
          "2020-10-06 00:00:00+03:00",
          "2020-10-06 01:00:00+03:00",
          "2020-10-06 01:00:00+03:00",
          "2020-10-06 02:00:00+03:00",
          "2020-10-06 02:00:00+03:00",
          "2020-10-06 03:00:00+03:00",
          "2020-10-06 03:00:00+03:00",
          "2020-10-06 04:00:00+03:00",
          "2020-10-06 04:00:00+03:00",
          "2020-10-06 05:00:00+03:00",
          "2020-10-06 06:00:00+03:00",
          "2020-10-06 06:00:00+03:00",
          "2020-10-06 07:00:00+03:00",
          "2020-10-06 07:00:00+03:00",
          "2020-10-06 08:00:00+03:00",
          "2020-10-06 08:00:00+03:00",
          "2020-10-06 09:00:00+03:00",
          "2020-10-06 09:00:00+03:00",
          "2020-10-06 10:00:00+03:00",
          "2020-10-06 10:00:00+03:00",
          "2020-10-06 11:00:00+03:00",
          "2020-10-06 11:00:00+03:00",
          "2020-10-06 12:00:00+03:00",
          "2020-10-06 12:00:00+03:00",
          "2020-10-06 13:00:00+03:00",
          "2020-10-06 13:00:00+03:00",
          "2020-10-06 14:00:00+03:00",
          "2020-10-06 14:00:00+03:00",
          "2020-10-06 15:00:00+03:00",
          "2020-10-06 15:00:00+03:00",
          "2020-10-06 16:00:00+03:00",
          "2020-10-06 16:00:00+03:00",
          "2020-10-06 17:00:00+03:00",
          "2020-10-06 17:00:00+03:00",
          "2020-10-06 18:00:00+03:00",
          "2020-10-06 19:00:00+03:00",
          "2020-10-06 19:00:00+03:00",
          "2020-10-06 20:00:00+03:00",
          "2020-10-06 20:00:00+03:00",
          "2020-10-06 21:00:00+03:00",
          "2020-10-06 21:00:00+03:00",
          "2020-10-06 22:00:00+03:00",
          "2020-10-06 22:00:00+03:00",
          "2020-10-06 23:00:00+03:00",
          "2020-10-06 23:00:00+03:00",
          "2020-10-07 00:00:00+03:00",
          "2020-10-07 00:00:00+03:00",
          "2020-10-07 01:00:00+03:00",
          "2020-10-07 01:00:00+03:00",
          "2020-10-07 02:00:00+03:00",
          "2020-10-07 02:00:00+03:00",
          "2020-10-07 03:00:00+03:00",
          "2020-10-07 03:00:00+03:00",
          "2020-10-07 04:00:00+03:00",
          "2020-10-07 04:00:00+03:00",
          "2020-10-07 05:00:00+03:00",
          "2020-10-07 05:00:00+03:00",
          "2020-10-07 06:00:00+03:00",
          "2020-10-07 06:00:00+03:00",
          "2020-10-07 07:00:00+03:00",
          "2020-10-07 07:00:00+03:00",
          "2020-10-07 08:00:00+03:00",
          "2020-10-07 08:00:00+03:00",
          "2020-10-07 09:00:00+03:00",
          "2020-10-07 09:00:00+03:00",
          "2020-10-07 10:00:00+03:00",
          "2020-10-07 10:00:00+03:00",
          "2020-10-07 11:00:00+03:00",
          "2020-10-07 11:00:00+03:00",
          "2020-10-07 12:00:00+03:00",
          "2020-10-07 12:00:00+03:00",
          "2020-10-07 13:00:00+03:00",
          "2020-10-07 13:00:00+03:00",
          "2020-10-07 14:00:00+03:00",
          "2020-10-07 14:00:00+03:00",
          "2020-10-07 15:00:00+03:00",
          "2020-10-07 15:00:00+03:00",
          "2020-10-07 16:00:00+03:00",
          "2020-10-07 16:00:00+03:00",
          "2020-10-07 17:00:00+03:00",
          "2020-10-07 17:00:00+03:00",
          "2020-10-07 18:00:00+03:00",
          "2020-10-07 18:00:00+03:00",
          "2020-10-07 19:00:00+03:00",
          "2020-10-07 19:00:00+03:00",
          "2020-10-07 20:00:00+03:00",
          "2020-10-07 20:00:00+03:00",
          "2020-10-07 21:00:00+03:00",
          "2020-10-07 21:00:00+03:00",
          "2020-10-07 22:00:00+03:00",
          "2020-10-07 22:00:00+03:00",
          "2020-10-07 23:00:00+03:00",
          "2020-10-07 23:00:00+03:00",
          "2020-10-08 00:00:00+03:00",
          "2020-10-08 00:00:00+03:00",
          "2020-10-08 01:00:00+03:00",
          "2020-10-08 02:00:00+03:00",
          "2020-10-08 03:00:00+03:00",
          "2020-10-08 04:00:00+03:00",
          "2020-10-08 05:00:00+03:00",
          "2020-10-08 06:00:00+03:00",
          "2020-10-08 07:00:00+03:00",
          "2020-10-08 08:00:00+03:00",
          "2020-10-08 09:00:00+03:00",
          "2020-10-08 10:00:00+03:00",
          "2020-10-08 11:00:00+03:00",
          "2020-10-08 12:00:00+03:00",
          "2020-10-08 13:00:00+03:00",
          "2020-10-08 14:00:00+03:00",
          "2020-10-08 15:00:00+03:00",
          "2020-10-08 16:00:00+03:00",
          "2020-10-08 17:00:00+03:00",
          "2020-10-08 18:00:00+03:00",
          "2020-10-11 15:00:00+03:00",
          "2020-10-11 16:00:00+03:00",
          "2020-10-11 17:00:00+03:00",
          "2020-10-11 18:00:00+03:00",
          "2020-10-11 19:00:00+03:00",
          "2020-10-11 20:00:00+03:00",
          "2020-10-11 21:00:00+03:00",
          "2020-10-11 22:00:00+03:00",
          "2020-10-11 23:00:00+03:00",
          "2020-10-12 00:00:00+03:00",
          "2020-10-12 01:00:00+03:00",
          "2020-10-12 02:00:00+03:00",
          "2020-10-12 03:00:00+03:00",
          "2020-10-12 04:00:00+03:00",
          "2020-10-12 05:00:00+03:00",
          "2020-10-12 06:00:00+03:00",
          "2020-10-12 07:00:00+03:00",
          "2020-10-12 08:00:00+03:00",
          "2020-10-12 09:00:00+03:00",
          "2020-10-12 10:00:00+03:00",
          "2020-10-12 11:00:00+03:00",
          "2020-10-12 12:00:00+03:00",
          "2020-10-12 13:00:00+03:00",
          "2020-10-12 14:00:00+03:00",
          "2020-10-12 15:00:00+03:00",
          "2020-10-12 16:00:00+03:00",
          "2020-10-12 17:00:00+03:00",
          "2020-10-12 18:00:00+03:00",
          "2020-10-12 19:00:00+03:00",
          "2020-10-12 20:00:00+03:00",
          "2020-10-12 21:00:00+03:00",
          "2020-10-12 22:00:00+03:00",
          "2020-10-12 23:00:00+03:00",
          "2020-10-13 00:00:00+03:00",
          "2020-10-13 01:00:00+03:00",
          "2020-10-13 02:00:00+03:00",
          "2020-10-13 03:00:00+03:00",
          "2020-10-13 04:00:00+03:00",
          "2020-10-13 05:00:00+03:00",
          "2020-10-13 06:00:00+03:00",
          "2020-10-13 07:00:00+03:00",
          "2020-10-13 08:00:00+03:00",
          "2020-10-13 09:00:00+03:00",
          "2020-10-13 10:00:00+03:00",
          "2020-10-13 11:00:00+03:00",
          "2020-10-13 12:00:00+03:00",
          "2020-10-13 13:00:00+03:00",
          "2020-10-13 14:00:00+03:00",
          "2020-10-13 16:00:00+03:00",
          "2020-10-13 17:00:00+03:00",
          "2020-10-13 18:00:00+03:00",
          "2020-10-13 19:00:00+03:00",
          "2020-10-13 20:00:00+03:00",
          "2020-10-13 21:00:00+03:00",
          "2020-10-13 22:00:00+03:00",
          "2020-10-13 23:00:00+03:00",
          "2020-10-14 00:00:00+03:00",
          "2020-10-14 01:00:00+03:00",
          "2020-10-14 02:00:00+03:00",
          "2020-10-14 03:00:00+03:00",
          "2020-10-14 04:00:00+03:00",
          "2020-10-14 05:00:00+03:00",
          "2020-10-14 06:00:00+03:00",
          "2020-10-14 07:00:00+03:00",
          "2020-10-14 08:00:00+03:00",
          "2020-10-14 09:00:00+03:00",
          "2020-10-19 15:00:00+03:00",
          "2020-10-19 16:00:00+03:00",
          "2020-10-19 17:00:00+03:00",
          "2020-10-19 18:00:00+03:00",
          "2020-10-19 19:00:00+03:00",
          "2020-10-19 20:00:00+03:00",
          "2020-10-19 21:00:00+03:00",
          "2020-10-19 22:00:00+03:00",
          "2020-10-19 23:00:00+03:00",
          "2020-10-20 00:00:00+03:00",
          "2020-10-20 01:00:00+03:00",
          "2020-10-20 02:00:00+03:00",
          "2020-10-20 03:00:00+03:00",
          "2020-10-20 04:00:00+03:00",
          "2020-10-20 05:00:00+03:00",
          "2020-10-20 06:00:00+03:00",
          "2020-10-20 07:00:00+03:00",
          "2020-10-20 08:00:00+03:00",
          "2020-10-20 09:00:00+03:00",
          "2020-10-20 10:00:00+03:00",
          "2020-10-20 11:00:00+03:00",
          "2020-10-20 12:00:00+03:00",
          "2020-10-20 13:00:00+03:00",
          "2020-10-20 14:00:00+03:00",
          "2020-10-20 15:00:00+03:00",
          "2020-10-20 16:00:00+03:00",
          "2020-10-20 17:00:00+03:00",
          "2020-10-20 18:00:00+03:00",
          "2020-10-20 19:00:00+03:00",
          "2020-10-20 20:00:00+03:00",
          "2020-10-20 21:00:00+03:00",
          "2020-10-20 22:00:00+03:00",
          "2020-10-20 23:00:00+03:00",
          "2020-10-21 00:00:00+03:00",
          "2020-10-21 01:00:00+03:00",
          "2020-10-21 02:00:00+03:00",
          "2020-10-21 03:00:00+03:00",
          "2020-10-21 04:00:00+03:00",
          "2020-10-21 05:00:00+03:00",
          "2020-10-21 06:00:00+03:00",
          "2020-10-21 07:00:00+03:00",
          "2020-10-21 08:00:00+03:00",
          "2020-10-21 09:00:00+03:00",
          "2020-10-21 10:00:00+03:00",
          "2020-10-21 11:00:00+03:00",
          "2020-10-21 12:00:00+03:00",
          "2020-10-21 13:00:00+03:00",
          "2020-10-21 15:00:00+03:00",
          "2020-10-21 16:00:00+03:00",
          "2020-10-21 17:00:00+03:00",
          "2020-10-21 18:00:00+03:00",
          "2020-10-21 19:00:00+03:00",
          "2020-10-21 20:00:00+03:00",
          "2020-10-21 21:00:00+03:00",
          "2020-10-21 22:00:00+03:00",
          "2020-10-21 23:00:00+03:00",
          "2020-10-22 00:00:00+03:00",
          "2020-10-22 01:00:00+03:00",
          "2020-10-22 02:00:00+03:00",
          "2020-10-22 03:00:00+03:00",
          "2020-10-22 04:00:00+03:00",
          "2020-10-22 05:00:00+03:00",
          "2020-10-22 06:00:00+03:00",
          "2020-10-22 07:00:00+03:00",
          "2020-10-22 08:00:00+03:00",
          "2020-10-22 09:00:00+03:00"
         ],
         "y": [
          71,
          76,
          78,
          79,
          80,
          79,
          80,
          81,
          84,
          89,
          101,
          115,
          123,
          117,
          105,
          100,
          92,
          91,
          89,
          89,
          88,
          90,
          95,
          97,
          91,
          91,
          92,
          90,
          90,
          90,
          91,
          94,
          100,
          105,
          115,
          116,
          105,
          103,
          103,
          100,
          95,
          95,
          93,
          93,
          92,
          101,
          104,
          106,
          105,
          97,
          95,
          97,
          100,
          104,
          106,
          112,
          119,
          120,
          119,
          118,
          112,
          114,
          117,
          114,
          111,
          113,
          183,
          185,
          201,
          218,
          219,
          220,
          225,
          221,
          219,
          228,
          217,
          144,
          111,
          106,
          121,
          137,
          147,
          147,
          147,
          152,
          150,
          153,
          146,
          146,
          142,
          132,
          128,
          134,
          128,
          129,
          124,
          123,
          120,
          119,
          117,
          127,
          122,
          137,
          129,
          152,
          143,
          156,
          150,
          160,
          155,
          166,
          153,
          156,
          153,
          163,
          166,
          181,
          178,
          182,
          212,
          190,
          207,
          195,
          196,
          187,
          193,
          190,
          192,
          192,
          189,
          187,
          186,
          186,
          176,
          175,
          178,
          168,
          163,
          174,
          164,
          168,
          165,
          167,
          159,
          171,
          170,
          166,
          173,
          171,
          163,
          164,
          159,
          168,
          157,
          170,
          155,
          168,
          171,
          154,
          168,
          154,
          166,
          145,
          135,
          164,
          159,
          136,
          148,
          160,
          154,
          159,
          161,
          158,
          164,
          178,
          173,
          190,
          168,
          198,
          211,
          219,
          211,
          202,
          185,
          180,
          177,
          177,
          186,
          180,
          167,
          177,
          195,
          189,
          178,
          "",
          "",
          "",
          250,
          242,
          230,
          238,
          253,
          265,
          275,
          286,
          299,
          313,
          325,
          25,
          105,
          109,
          117,
          130,
          166,
          171,
          190,
          189,
          205,
          213,
          221,
          217,
          210,
          213,
          216,
          205,
          211,
          211,
          212,
          210,
          240,
          216,
          206,
          262,
          228,
          253,
          217,
          220,
          224,
          274,
          260,
          271,
          277,
          266,
          266,
          254,
          257,
          264,
          347,
          1,
          9,
          18,
          31,
          35,
          36,
          39,
          40,
          42,
          44,
          40,
          41,
          44,
          46,
          48,
          327,
          325,
          316,
          313,
          329,
          312,
          313,
          316,
          327,
          323,
          334,
          334,
          335,
          336,
          341,
          337,
          328,
          329,
          338,
          332,
          338,
          330,
          312,
          307,
          299,
          303,
          303,
          309,
          310,
          316,
          351,
          45,
          82,
          121,
          177,
          175,
          147,
          154,
          144,
          142,
          156,
          151,
          146,
          149,
          153,
          154,
          152,
          154,
          150,
          151,
          152,
          154,
          154,
          156,
          162,
          168,
          175,
          182,
          186,
          185,
          177,
          171,
          167,
          163,
          165,
          174
         ]
        },
        {
         "line": {
          "color": "rgba(128, 0, 128, 1.0)",
          "dash": "solid",
          "shape": "linear",
          "width": 1.5
         },
         "mode": "lines",
         "name": "air_pressure_hpa",
         "text": "",
         "type": "scatter",
         "x": [
          "2020-10-01 12:00:00+03:00",
          "2020-10-01 13:00:00+03:00",
          "2020-10-01 14:00:00+03:00",
          "2020-10-01 15:00:00+03:00",
          "2020-10-01 16:00:00+03:00",
          "2020-10-01 17:00:00+03:00",
          "2020-10-01 18:00:00+03:00",
          "2020-10-01 19:00:00+03:00",
          "2020-10-01 20:00:00+03:00",
          "2020-10-01 21:00:00+03:00",
          "2020-10-01 22:00:00+03:00",
          "2020-10-01 23:00:00+03:00",
          "2020-10-02 00:00:00+03:00",
          "2020-10-02 01:00:00+03:00",
          "2020-10-02 02:00:00+03:00",
          "2020-10-02 03:00:00+03:00",
          "2020-10-02 04:00:00+03:00",
          "2020-10-02 05:00:00+03:00",
          "2020-10-02 06:00:00+03:00",
          "2020-10-02 07:00:00+03:00",
          "2020-10-02 08:00:00+03:00",
          "2020-10-02 09:00:00+03:00",
          "2020-10-02 10:00:00+03:00",
          "2020-10-02 11:00:00+03:00",
          "2020-10-02 12:00:00+03:00",
          "2020-10-02 13:00:00+03:00",
          "2020-10-02 14:00:00+03:00",
          "2020-10-02 15:00:00+03:00",
          "2020-10-02 16:00:00+03:00",
          "2020-10-02 17:00:00+03:00",
          "2020-10-02 18:00:00+03:00",
          "2020-10-02 19:00:00+03:00",
          "2020-10-02 20:00:00+03:00",
          "2020-10-02 21:00:00+03:00",
          "2020-10-02 22:00:00+03:00",
          "2020-10-03 00:00:00+03:00",
          "2020-10-03 01:00:00+03:00",
          "2020-10-03 02:00:00+03:00",
          "2020-10-03 03:00:00+03:00",
          "2020-10-03 04:00:00+03:00",
          "2020-10-03 05:00:00+03:00",
          "2020-10-03 06:00:00+03:00",
          "2020-10-03 07:00:00+03:00",
          "2020-10-03 08:00:00+03:00",
          "2020-10-03 09:00:00+03:00",
          "2020-10-03 10:00:00+03:00",
          "2020-10-03 11:00:00+03:00",
          "2020-10-03 12:00:00+03:00",
          "2020-10-03 13:00:00+03:00",
          "2020-10-03 14:00:00+03:00",
          "2020-10-03 15:00:00+03:00",
          "2020-10-03 16:00:00+03:00",
          "2020-10-03 17:00:00+03:00",
          "2020-10-03 18:00:00+03:00",
          "2020-10-03 19:00:00+03:00",
          "2020-10-03 20:00:00+03:00",
          "2020-10-03 21:00:00+03:00",
          "2020-10-03 22:00:00+03:00",
          "2020-10-03 23:00:00+03:00",
          "2020-10-04 00:00:00+03:00",
          "2020-10-04 01:00:00+03:00",
          "2020-10-04 02:00:00+03:00",
          "2020-10-04 03:00:00+03:00",
          "2020-10-04 04:00:00+03:00",
          "2020-10-04 05:00:00+03:00",
          "2020-10-04 06:00:00+03:00",
          "2020-10-05 06:00:00+03:00",
          "2020-10-05 07:00:00+03:00",
          "2020-10-05 08:00:00+03:00",
          "2020-10-05 09:00:00+03:00",
          "2020-10-05 10:00:00+03:00",
          "2020-10-05 11:00:00+03:00",
          "2020-10-05 12:00:00+03:00",
          "2020-10-05 13:00:00+03:00",
          "2020-10-05 14:00:00+03:00",
          "2020-10-05 15:00:00+03:00",
          "2020-10-05 16:00:00+03:00",
          "2020-10-05 17:00:00+03:00",
          "2020-10-05 18:00:00+03:00",
          "2020-10-05 19:00:00+03:00",
          "2020-10-05 20:00:00+03:00",
          "2020-10-05 21:00:00+03:00",
          "2020-10-05 22:00:00+03:00",
          "2020-10-05 23:00:00+03:00",
          "2020-10-06 00:00:00+03:00",
          "2020-10-06 00:00:00+03:00",
          "2020-10-06 01:00:00+03:00",
          "2020-10-06 01:00:00+03:00",
          "2020-10-06 02:00:00+03:00",
          "2020-10-06 02:00:00+03:00",
          "2020-10-06 03:00:00+03:00",
          "2020-10-06 03:00:00+03:00",
          "2020-10-06 04:00:00+03:00",
          "2020-10-06 04:00:00+03:00",
          "2020-10-06 05:00:00+03:00",
          "2020-10-06 06:00:00+03:00",
          "2020-10-06 06:00:00+03:00",
          "2020-10-06 07:00:00+03:00",
          "2020-10-06 07:00:00+03:00",
          "2020-10-06 08:00:00+03:00",
          "2020-10-06 08:00:00+03:00",
          "2020-10-06 09:00:00+03:00",
          "2020-10-06 09:00:00+03:00",
          "2020-10-06 10:00:00+03:00",
          "2020-10-06 10:00:00+03:00",
          "2020-10-06 11:00:00+03:00",
          "2020-10-06 11:00:00+03:00",
          "2020-10-06 12:00:00+03:00",
          "2020-10-06 12:00:00+03:00",
          "2020-10-06 13:00:00+03:00",
          "2020-10-06 13:00:00+03:00",
          "2020-10-06 14:00:00+03:00",
          "2020-10-06 14:00:00+03:00",
          "2020-10-06 15:00:00+03:00",
          "2020-10-06 15:00:00+03:00",
          "2020-10-06 16:00:00+03:00",
          "2020-10-06 16:00:00+03:00",
          "2020-10-06 17:00:00+03:00",
          "2020-10-06 17:00:00+03:00",
          "2020-10-06 18:00:00+03:00",
          "2020-10-06 19:00:00+03:00",
          "2020-10-06 19:00:00+03:00",
          "2020-10-06 20:00:00+03:00",
          "2020-10-06 20:00:00+03:00",
          "2020-10-06 21:00:00+03:00",
          "2020-10-06 21:00:00+03:00",
          "2020-10-06 22:00:00+03:00",
          "2020-10-06 22:00:00+03:00",
          "2020-10-06 23:00:00+03:00",
          "2020-10-06 23:00:00+03:00",
          "2020-10-07 00:00:00+03:00",
          "2020-10-07 00:00:00+03:00",
          "2020-10-07 01:00:00+03:00",
          "2020-10-07 01:00:00+03:00",
          "2020-10-07 02:00:00+03:00",
          "2020-10-07 02:00:00+03:00",
          "2020-10-07 03:00:00+03:00",
          "2020-10-07 03:00:00+03:00",
          "2020-10-07 04:00:00+03:00",
          "2020-10-07 04:00:00+03:00",
          "2020-10-07 05:00:00+03:00",
          "2020-10-07 05:00:00+03:00",
          "2020-10-07 06:00:00+03:00",
          "2020-10-07 06:00:00+03:00",
          "2020-10-07 07:00:00+03:00",
          "2020-10-07 07:00:00+03:00",
          "2020-10-07 08:00:00+03:00",
          "2020-10-07 08:00:00+03:00",
          "2020-10-07 09:00:00+03:00",
          "2020-10-07 09:00:00+03:00",
          "2020-10-07 10:00:00+03:00",
          "2020-10-07 10:00:00+03:00",
          "2020-10-07 11:00:00+03:00",
          "2020-10-07 11:00:00+03:00",
          "2020-10-07 12:00:00+03:00",
          "2020-10-07 12:00:00+03:00",
          "2020-10-07 13:00:00+03:00",
          "2020-10-07 13:00:00+03:00",
          "2020-10-07 14:00:00+03:00",
          "2020-10-07 14:00:00+03:00",
          "2020-10-07 15:00:00+03:00",
          "2020-10-07 15:00:00+03:00",
          "2020-10-07 16:00:00+03:00",
          "2020-10-07 16:00:00+03:00",
          "2020-10-07 17:00:00+03:00",
          "2020-10-07 17:00:00+03:00",
          "2020-10-07 18:00:00+03:00",
          "2020-10-07 18:00:00+03:00",
          "2020-10-07 19:00:00+03:00",
          "2020-10-07 19:00:00+03:00",
          "2020-10-07 20:00:00+03:00",
          "2020-10-07 20:00:00+03:00",
          "2020-10-07 21:00:00+03:00",
          "2020-10-07 21:00:00+03:00",
          "2020-10-07 22:00:00+03:00",
          "2020-10-07 22:00:00+03:00",
          "2020-10-07 23:00:00+03:00",
          "2020-10-07 23:00:00+03:00",
          "2020-10-08 00:00:00+03:00",
          "2020-10-08 00:00:00+03:00",
          "2020-10-08 01:00:00+03:00",
          "2020-10-08 02:00:00+03:00",
          "2020-10-08 03:00:00+03:00",
          "2020-10-08 04:00:00+03:00",
          "2020-10-08 05:00:00+03:00",
          "2020-10-08 06:00:00+03:00",
          "2020-10-08 07:00:00+03:00",
          "2020-10-08 08:00:00+03:00",
          "2020-10-08 09:00:00+03:00",
          "2020-10-08 10:00:00+03:00",
          "2020-10-08 11:00:00+03:00",
          "2020-10-08 12:00:00+03:00",
          "2020-10-08 13:00:00+03:00",
          "2020-10-08 14:00:00+03:00",
          "2020-10-08 15:00:00+03:00",
          "2020-10-08 16:00:00+03:00",
          "2020-10-08 17:00:00+03:00",
          "2020-10-08 18:00:00+03:00",
          "2020-10-11 15:00:00+03:00",
          "2020-10-11 16:00:00+03:00",
          "2020-10-11 17:00:00+03:00",
          "2020-10-11 18:00:00+03:00",
          "2020-10-11 19:00:00+03:00",
          "2020-10-11 20:00:00+03:00",
          "2020-10-11 21:00:00+03:00",
          "2020-10-11 22:00:00+03:00",
          "2020-10-11 23:00:00+03:00",
          "2020-10-12 00:00:00+03:00",
          "2020-10-12 01:00:00+03:00",
          "2020-10-12 02:00:00+03:00",
          "2020-10-12 03:00:00+03:00",
          "2020-10-12 04:00:00+03:00",
          "2020-10-12 05:00:00+03:00",
          "2020-10-12 06:00:00+03:00",
          "2020-10-12 07:00:00+03:00",
          "2020-10-12 08:00:00+03:00",
          "2020-10-12 09:00:00+03:00",
          "2020-10-12 10:00:00+03:00",
          "2020-10-12 11:00:00+03:00",
          "2020-10-12 12:00:00+03:00",
          "2020-10-12 13:00:00+03:00",
          "2020-10-12 14:00:00+03:00",
          "2020-10-12 15:00:00+03:00",
          "2020-10-12 16:00:00+03:00",
          "2020-10-12 17:00:00+03:00",
          "2020-10-12 18:00:00+03:00",
          "2020-10-12 19:00:00+03:00",
          "2020-10-12 20:00:00+03:00",
          "2020-10-12 21:00:00+03:00",
          "2020-10-12 22:00:00+03:00",
          "2020-10-12 23:00:00+03:00",
          "2020-10-13 00:00:00+03:00",
          "2020-10-13 01:00:00+03:00",
          "2020-10-13 02:00:00+03:00",
          "2020-10-13 03:00:00+03:00",
          "2020-10-13 04:00:00+03:00",
          "2020-10-13 05:00:00+03:00",
          "2020-10-13 06:00:00+03:00",
          "2020-10-13 07:00:00+03:00",
          "2020-10-13 08:00:00+03:00",
          "2020-10-13 09:00:00+03:00",
          "2020-10-13 10:00:00+03:00",
          "2020-10-13 11:00:00+03:00",
          "2020-10-13 12:00:00+03:00",
          "2020-10-13 13:00:00+03:00",
          "2020-10-13 14:00:00+03:00",
          "2020-10-13 16:00:00+03:00",
          "2020-10-13 17:00:00+03:00",
          "2020-10-13 18:00:00+03:00",
          "2020-10-13 19:00:00+03:00",
          "2020-10-13 20:00:00+03:00",
          "2020-10-13 21:00:00+03:00",
          "2020-10-13 22:00:00+03:00",
          "2020-10-13 23:00:00+03:00",
          "2020-10-14 00:00:00+03:00",
          "2020-10-14 01:00:00+03:00",
          "2020-10-14 02:00:00+03:00",
          "2020-10-14 03:00:00+03:00",
          "2020-10-14 04:00:00+03:00",
          "2020-10-14 05:00:00+03:00",
          "2020-10-14 06:00:00+03:00",
          "2020-10-14 07:00:00+03:00",
          "2020-10-14 08:00:00+03:00",
          "2020-10-14 09:00:00+03:00",
          "2020-10-19 15:00:00+03:00",
          "2020-10-19 16:00:00+03:00",
          "2020-10-19 17:00:00+03:00",
          "2020-10-19 18:00:00+03:00",
          "2020-10-19 19:00:00+03:00",
          "2020-10-19 20:00:00+03:00",
          "2020-10-19 21:00:00+03:00",
          "2020-10-19 22:00:00+03:00",
          "2020-10-19 23:00:00+03:00",
          "2020-10-20 00:00:00+03:00",
          "2020-10-20 01:00:00+03:00",
          "2020-10-20 02:00:00+03:00",
          "2020-10-20 03:00:00+03:00",
          "2020-10-20 04:00:00+03:00",
          "2020-10-20 05:00:00+03:00",
          "2020-10-20 06:00:00+03:00",
          "2020-10-20 07:00:00+03:00",
          "2020-10-20 08:00:00+03:00",
          "2020-10-20 09:00:00+03:00",
          "2020-10-20 10:00:00+03:00",
          "2020-10-20 11:00:00+03:00",
          "2020-10-20 12:00:00+03:00",
          "2020-10-20 13:00:00+03:00",
          "2020-10-20 14:00:00+03:00",
          "2020-10-20 15:00:00+03:00",
          "2020-10-20 16:00:00+03:00",
          "2020-10-20 17:00:00+03:00",
          "2020-10-20 18:00:00+03:00",
          "2020-10-20 19:00:00+03:00",
          "2020-10-20 20:00:00+03:00",
          "2020-10-20 21:00:00+03:00",
          "2020-10-20 22:00:00+03:00",
          "2020-10-20 23:00:00+03:00",
          "2020-10-21 00:00:00+03:00",
          "2020-10-21 01:00:00+03:00",
          "2020-10-21 02:00:00+03:00",
          "2020-10-21 03:00:00+03:00",
          "2020-10-21 04:00:00+03:00",
          "2020-10-21 05:00:00+03:00",
          "2020-10-21 06:00:00+03:00",
          "2020-10-21 07:00:00+03:00",
          "2020-10-21 08:00:00+03:00",
          "2020-10-21 09:00:00+03:00",
          "2020-10-21 10:00:00+03:00",
          "2020-10-21 11:00:00+03:00",
          "2020-10-21 12:00:00+03:00",
          "2020-10-21 13:00:00+03:00",
          "2020-10-21 15:00:00+03:00",
          "2020-10-21 16:00:00+03:00",
          "2020-10-21 17:00:00+03:00",
          "2020-10-21 18:00:00+03:00",
          "2020-10-21 19:00:00+03:00",
          "2020-10-21 20:00:00+03:00",
          "2020-10-21 21:00:00+03:00",
          "2020-10-21 22:00:00+03:00",
          "2020-10-21 23:00:00+03:00",
          "2020-10-22 00:00:00+03:00",
          "2020-10-22 01:00:00+03:00",
          "2020-10-22 02:00:00+03:00",
          "2020-10-22 03:00:00+03:00",
          "2020-10-22 04:00:00+03:00",
          "2020-10-22 05:00:00+03:00",
          "2020-10-22 06:00:00+03:00",
          "2020-10-22 07:00:00+03:00",
          "2020-10-22 08:00:00+03:00",
          "2020-10-22 09:00:00+03:00"
         ],
         "y": [
          1001.84,
          1001.8,
          1001.46,
          1001.4,
          1001.2,
          1001.06,
          1001.15,
          1001.4,
          1001.7,
          1001.64,
          1001.71,
          1001.71,
          1001.75,
          1001.86,
          1001.89,
          1002.02,
          1002.07,
          1001.98,
          1001.86,
          1001.94,
          1002.15,
          1002.48,
          1002.8,
          1003.25,
          1003.58,
          1003.81,
          1003.74,
          1003.66,
          1003.62,
          1003.7,
          1003.66,
          1003.69,
          1003.79,
          1004.04,
          1004.45,
          1004.96,
          1004.97,
          1004.82,
          1004.46,
          1004.1,
          1003.9,
          1004.11,
          1004.25,
          1004.17,
          1004.02,
          1004.04,
          1004.28,
          1004.33,
          1004.49,
          1004.26,
          1003.69,
          1003.16,
          1003.02,
          1003.01,
          1002.88,
          1002.65,
          1002.57,
          1002.44,
          1002.57,
          1002.43,
          1002.21,
          1002.16,
          1001.86,
          1001.54,
          1001.21,
          1000.93,
          993.46,
          993.04,
          994.36,
          995.13,
          996,
          996.58,
          996.85,
          997.28,
          997.84,
          997.98,
          997.84,
          997.42,
          996.88,
          996.73,
          996.73,
          996.63,
          996,
          995.21,
          995,
          995.09,
          994.83,
          995.02,
          993.87,
          994.4,
          992.95,
          993.45,
          992.35,
          991.95,
          991.12,
          990.07,
          990.34,
          989.83,
          989.15,
          989.46,
          988.28,
          988.85,
          988.25,
          988.77,
          987.59,
          988.53,
          987.14,
          988.19,
          986.88,
          988.01,
          986.84,
          988.26,
          986.8,
          988.33,
          987.17,
          987.13,
          988.66,
          988.7,
          987.54,
          988.83,
          989.35,
          988.47,
          989.82,
          989.13,
          990.19,
          989.35,
          990.65,
          989.55,
          990.95,
          989.79,
          991.22,
          990.27,
          990.63,
          991.3,
          991.48,
          990.86,
          991.09,
          991.59,
          991.52,
          990.94,
          991.31,
          990.87,
          990.88,
          990.83,
          990.62,
          990.89,
          990.91,
          990.82,
          991.05,
          991.16,
          991.29,
          991.37,
          991.7,
          992.02,
          992.07,
          992.52,
          992.36,
          992.83,
          992.78,
          992.32,
          992.66,
          992.19,
          992.56,
          991.78,
          991.39,
          992.47,
          992.54,
          991.39,
          991.53,
          993,
          993.18,
          991.96,
          993.12,
          992.2,
          992.33,
          993.23,
          992.28,
          993.59,
          992.18,
          993.6,
          993.86,
          994.02,
          994.15,
          994.31,
          994.51,
          994.59,
          994.7,
          994.84,
          995.2,
          995.37,
          995.23,
          995.49,
          995.49,
          995.47,
          995.69,
          "",
          "",
          "",
          997.1,
          997.1,
          996.96,
          997.12,
          997.45,
          997.88,
          998.01,
          997.96,
          997.78,
          997.6,
          997.39,
          997.14,
          996.98,
          996.66,
          996.18,
          995.49,
          994.96,
          994.74,
          994.74,
          994.65,
          994.37,
          994.32,
          994.09,
          993.73,
          993.48,
          993.31,
          993.1,
          993.08,
          992.89,
          992.92,
          992.96,
          993.07,
          993.09,
          993.13,
          993.07,
          993.57,
          993.8,
          993.62,
          993.71,
          993.49,
          993.63,
          994.16,
          994.66,
          995.17,
          995.79,
          996.49,
          997.13,
          997.65,
          998.17,
          998.55,
          999.04,
          999.73,
          1000.37,
          1001.2,
          1001.97,
          1002.68,
          1003.07,
          1003.46,
          1003.87,
          1004.15,
          1004.41,
          1004.66,
          1004.88,
          1005.03,
          1005.31,
          1005.53,
          983.32,
          983.87,
          984.94,
          985.79,
          986.37,
          986.92,
          987.53,
          988.23,
          989.26,
          990.05,
          990.71,
          991.38,
          992.31,
          993.05,
          993.86,
          994.94,
          995.94,
          996.77,
          997.24,
          998.27,
          998.86,
          999.53,
          1000.09,
          1000.21,
          1000.48,
          1000.89,
          1000.8,
          1000.83,
          1000.87,
          1000.55,
          1000.37,
          1000.13,
          999.91,
          999.43,
          998.86,
          998.6,
          997.86,
          997.35,
          996.45,
          995.49,
          994.58,
          993.72,
          993.11,
          992.68,
          992.49,
          992.39,
          991.96,
          991.38,
          990.87,
          990.61,
          990.24,
          989.91,
          989.36,
          988.77,
          988.1,
          987.71,
          987.27,
          986.58,
          985.82,
          984.88,
          983.73,
          982.4,
          981.15,
          979.88,
          978.81,
          977.69
         ]
        }
       ],
       "layout": {
        "legend": {
         "bgcolor": "#F5F6F9",
         "font": {
          "color": "#4D5663"
         }
        },
        "paper_bgcolor": "#F5F6F9",
        "plot_bgcolor": "#F5F6F9",
        "template": {
         "data": {
          "bar": [
           {
            "error_x": {
             "color": "#2a3f5f"
            },
            "error_y": {
             "color": "#2a3f5f"
            },
            "marker": {
             "line": {
              "color": "#E5ECF6",
              "width": 0.5
             }
            },
            "type": "bar"
           }
          ],
          "barpolar": [
           {
            "marker": {
             "line": {
              "color": "#E5ECF6",
              "width": 0.5
             }
            },
            "type": "barpolar"
           }
          ],
          "carpet": [
           {
            "aaxis": {
             "endlinecolor": "#2a3f5f",
             "gridcolor": "white",
             "linecolor": "white",
             "minorgridcolor": "white",
             "startlinecolor": "#2a3f5f"
            },
            "baxis": {
             "endlinecolor": "#2a3f5f",
             "gridcolor": "white",
             "linecolor": "white",
             "minorgridcolor": "white",
             "startlinecolor": "#2a3f5f"
            },
            "type": "carpet"
           }
          ],
          "choropleth": [
           {
            "colorbar": {
             "outlinewidth": 0,
             "ticks": ""
            },
            "type": "choropleth"
           }
          ],
          "contour": [
           {
            "colorbar": {
             "outlinewidth": 0,
             "ticks": ""
            },
            "colorscale": [
             [
              0,
              "#0d0887"
             ],
             [
              0.1111111111111111,
              "#46039f"
             ],
             [
              0.2222222222222222,
              "#7201a8"
             ],
             [
              0.3333333333333333,
              "#9c179e"
             ],
             [
              0.4444444444444444,
              "#bd3786"
             ],
             [
              0.5555555555555556,
              "#d8576b"
             ],
             [
              0.6666666666666666,
              "#ed7953"
             ],
             [
              0.7777777777777778,
              "#fb9f3a"
             ],
             [
              0.8888888888888888,
              "#fdca26"
             ],
             [
              1,
              "#f0f921"
             ]
            ],
            "type": "contour"
           }
          ],
          "contourcarpet": [
           {
            "colorbar": {
             "outlinewidth": 0,
             "ticks": ""
            },
            "type": "contourcarpet"
           }
          ],
          "heatmap": [
           {
            "colorbar": {
             "outlinewidth": 0,
             "ticks": ""
            },
            "colorscale": [
             [
              0,
              "#0d0887"
             ],
             [
              0.1111111111111111,
              "#46039f"
             ],
             [
              0.2222222222222222,
              "#7201a8"
             ],
             [
              0.3333333333333333,
              "#9c179e"
             ],
             [
              0.4444444444444444,
              "#bd3786"
             ],
             [
              0.5555555555555556,
              "#d8576b"
             ],
             [
              0.6666666666666666,
              "#ed7953"
             ],
             [
              0.7777777777777778,
              "#fb9f3a"
             ],
             [
              0.8888888888888888,
              "#fdca26"
             ],
             [
              1,
              "#f0f921"
             ]
            ],
            "type": "heatmap"
           }
          ],
          "heatmapgl": [
           {
            "colorbar": {
             "outlinewidth": 0,
             "ticks": ""
            },
            "colorscale": [
             [
              0,
              "#0d0887"
             ],
             [
              0.1111111111111111,
              "#46039f"
             ],
             [
              0.2222222222222222,
              "#7201a8"
             ],
             [
              0.3333333333333333,
              "#9c179e"
             ],
             [
              0.4444444444444444,
              "#bd3786"
             ],
             [
              0.5555555555555556,
              "#d8576b"
             ],
             [
              0.6666666666666666,
              "#ed7953"
             ],
             [
              0.7777777777777778,
              "#fb9f3a"
             ],
             [
              0.8888888888888888,
              "#fdca26"
             ],
             [
              1,
              "#f0f921"
             ]
            ],
            "type": "heatmapgl"
           }
          ],
          "histogram": [
           {
            "marker": {
             "colorbar": {
              "outlinewidth": 0,
              "ticks": ""
             }
            },
            "type": "histogram"
           }
          ],
          "histogram2d": [
           {
            "colorbar": {
             "outlinewidth": 0,
             "ticks": ""
            },
            "colorscale": [
             [
              0,
              "#0d0887"
             ],
             [
              0.1111111111111111,
              "#46039f"
             ],
             [
              0.2222222222222222,
              "#7201a8"
             ],
             [
              0.3333333333333333,
              "#9c179e"
             ],
             [
              0.4444444444444444,
              "#bd3786"
             ],
             [
              0.5555555555555556,
              "#d8576b"
             ],
             [
              0.6666666666666666,
              "#ed7953"
             ],
             [
              0.7777777777777778,
              "#fb9f3a"
             ],
             [
              0.8888888888888888,
              "#fdca26"
             ],
             [
              1,
              "#f0f921"
             ]
            ],
            "type": "histogram2d"
           }
          ],
          "histogram2dcontour": [
           {
            "colorbar": {
             "outlinewidth": 0,
             "ticks": ""
            },
            "colorscale": [
             [
              0,
              "#0d0887"
             ],
             [
              0.1111111111111111,
              "#46039f"
             ],
             [
              0.2222222222222222,
              "#7201a8"
             ],
             [
              0.3333333333333333,
              "#9c179e"
             ],
             [
              0.4444444444444444,
              "#bd3786"
             ],
             [
              0.5555555555555556,
              "#d8576b"
             ],
             [
              0.6666666666666666,
              "#ed7953"
             ],
             [
              0.7777777777777778,
              "#fb9f3a"
             ],
             [
              0.8888888888888888,
              "#fdca26"
             ],
             [
              1,
              "#f0f921"
             ]
            ],
            "type": "histogram2dcontour"
           }
          ],
          "mesh3d": [
           {
            "colorbar": {
             "outlinewidth": 0,
             "ticks": ""
            },
            "type": "mesh3d"
           }
          ],
          "parcoords": [
           {
            "line": {
             "colorbar": {
              "outlinewidth": 0,
              "ticks": ""
             }
            },
            "type": "parcoords"
           }
          ],
          "pie": [
           {
            "automargin": true,
            "type": "pie"
           }
          ],
          "scatter": [
           {
            "marker": {
             "colorbar": {
              "outlinewidth": 0,
              "ticks": ""
             }
            },
            "type": "scatter"
           }
          ],
          "scatter3d": [
           {
            "line": {
             "colorbar": {
              "outlinewidth": 0,
              "ticks": ""
             }
            },
            "marker": {
             "colorbar": {
              "outlinewidth": 0,
              "ticks": ""
             }
            },
            "type": "scatter3d"
           }
          ],
          "scattercarpet": [
           {
            "marker": {
             "colorbar": {
              "outlinewidth": 0,
              "ticks": ""
             }
            },
            "type": "scattercarpet"
           }
          ],
          "scattergeo": [
           {
            "marker": {
             "colorbar": {
              "outlinewidth": 0,
              "ticks": ""
             }
            },
            "type": "scattergeo"
           }
          ],
          "scattergl": [
           {
            "marker": {
             "colorbar": {
              "outlinewidth": 0,
              "ticks": ""
             }
            },
            "type": "scattergl"
           }
          ],
          "scattermapbox": [
           {
            "marker": {
             "colorbar": {
              "outlinewidth": 0,
              "ticks": ""
             }
            },
            "type": "scattermapbox"
           }
          ],
          "scatterpolar": [
           {
            "marker": {
             "colorbar": {
              "outlinewidth": 0,
              "ticks": ""
             }
            },
            "type": "scatterpolar"
           }
          ],
          "scatterpolargl": [
           {
            "marker": {
             "colorbar": {
              "outlinewidth": 0,
              "ticks": ""
             }
            },
            "type": "scatterpolargl"
           }
          ],
          "scatterternary": [
           {
            "marker": {
             "colorbar": {
              "outlinewidth": 0,
              "ticks": ""
             }
            },
            "type": "scatterternary"
           }
          ],
          "surface": [
           {
            "colorbar": {
             "outlinewidth": 0,
             "ticks": ""
            },
            "colorscale": [
             [
              0,
              "#0d0887"
             ],
             [
              0.1111111111111111,
              "#46039f"
             ],
             [
              0.2222222222222222,
              "#7201a8"
             ],
             [
              0.3333333333333333,
              "#9c179e"
             ],
             [
              0.4444444444444444,
              "#bd3786"
             ],
             [
              0.5555555555555556,
              "#d8576b"
             ],
             [
              0.6666666666666666,
              "#ed7953"
             ],
             [
              0.7777777777777778,
              "#fb9f3a"
             ],
             [
              0.8888888888888888,
              "#fdca26"
             ],
             [
              1,
              "#f0f921"
             ]
            ],
            "type": "surface"
           }
          ],
          "table": [
           {
            "cells": {
             "fill": {
              "color": "#EBF0F8"
             },
             "line": {
              "color": "white"
             }
            },
            "header": {
             "fill": {
              "color": "#C8D4E3"
             },
             "line": {
              "color": "white"
             }
            },
            "type": "table"
           }
          ]
         },
         "layout": {
          "annotationdefaults": {
           "arrowcolor": "#2a3f5f",
           "arrowhead": 0,
           "arrowwidth": 1
          },
          "coloraxis": {
           "colorbar": {
            "outlinewidth": 0,
            "ticks": ""
           }
          },
          "colorscale": {
           "diverging": [
            [
             0,
             "#8e0152"
            ],
            [
             0.1,
             "#c51b7d"
            ],
            [
             0.2,
             "#de77ae"
            ],
            [
             0.3,
             "#f1b6da"
            ],
            [
             0.4,
             "#fde0ef"
            ],
            [
             0.5,
             "#f7f7f7"
            ],
            [
             0.6,
             "#e6f5d0"
            ],
            [
             0.7,
             "#b8e186"
            ],
            [
             0.8,
             "#7fbc41"
            ],
            [
             0.9,
             "#4d9221"
            ],
            [
             1,
             "#276419"
            ]
           ],
           "sequential": [
            [
             0,
             "#0d0887"
            ],
            [
             0.1111111111111111,
             "#46039f"
            ],
            [
             0.2222222222222222,
             "#7201a8"
            ],
            [
             0.3333333333333333,
             "#9c179e"
            ],
            [
             0.4444444444444444,
             "#bd3786"
            ],
            [
             0.5555555555555556,
             "#d8576b"
            ],
            [
             0.6666666666666666,
             "#ed7953"
            ],
            [
             0.7777777777777778,
             "#fb9f3a"
            ],
            [
             0.8888888888888888,
             "#fdca26"
            ],
            [
             1,
             "#f0f921"
            ]
           ],
           "sequentialminus": [
            [
             0,
             "#0d0887"
            ],
            [
             0.1111111111111111,
             "#46039f"
            ],
            [
             0.2222222222222222,
             "#7201a8"
            ],
            [
             0.3333333333333333,
             "#9c179e"
            ],
            [
             0.4444444444444444,
             "#bd3786"
            ],
            [
             0.5555555555555556,
             "#d8576b"
            ],
            [
             0.6666666666666666,
             "#ed7953"
            ],
            [
             0.7777777777777778,
             "#fb9f3a"
            ],
            [
             0.8888888888888888,
             "#fdca26"
            ],
            [
             1,
             "#f0f921"
            ]
           ]
          },
          "colorway": [
           "#636efa",
           "#EF553B",
           "#00cc96",
           "#ab63fa",
           "#FFA15A",
           "#19d3f3",
           "#FF6692",
           "#B6E880",
           "#FF97FF",
           "#FECB52"
          ],
          "font": {
           "color": "#2a3f5f"
          },
          "geo": {
           "bgcolor": "white",
           "lakecolor": "white",
           "landcolor": "#E5ECF6",
           "showlakes": true,
           "showland": true,
           "subunitcolor": "white"
          },
          "hoverlabel": {
           "align": "left"
          },
          "hovermode": "closest",
          "mapbox": {
           "style": "light"
          },
          "paper_bgcolor": "white",
          "plot_bgcolor": "#E5ECF6",
          "polar": {
           "angularaxis": {
            "gridcolor": "white",
            "linecolor": "white",
            "ticks": ""
           },
           "bgcolor": "#E5ECF6",
           "radialaxis": {
            "gridcolor": "white",
            "linecolor": "white",
            "ticks": ""
           }
          },
          "scene": {
           "xaxis": {
            "backgroundcolor": "#E5ECF6",
            "gridcolor": "white",
            "gridwidth": 2,
            "linecolor": "white",
            "showbackground": true,
            "ticks": "",
            "zerolinecolor": "white"
           },
           "yaxis": {
            "backgroundcolor": "#E5ECF6",
            "gridcolor": "white",
            "gridwidth": 2,
            "linecolor": "white",
            "showbackground": true,
            "ticks": "",
            "zerolinecolor": "white"
           },
           "zaxis": {
            "backgroundcolor": "#E5ECF6",
            "gridcolor": "white",
            "gridwidth": 2,
            "linecolor": "white",
            "showbackground": true,
            "ticks": "",
            "zerolinecolor": "white"
           }
          },
          "shapedefaults": {
           "line": {
            "color": "#2a3f5f"
           }
          },
          "ternary": {
           "aaxis": {
            "gridcolor": "white",
            "linecolor": "white",
            "ticks": ""
           },
           "baxis": {
            "gridcolor": "white",
            "linecolor": "white",
            "ticks": ""
           },
           "bgcolor": "#E5ECF6",
           "caxis": {
            "gridcolor": "white",
            "linecolor": "white",
            "ticks": ""
           }
          },
          "title": {
           "x": 0.05
          },
          "xaxis": {
           "automargin": true,
           "gridcolor": "white",
           "linecolor": "white",
           "ticks": "",
           "title": {
            "standoff": 15
           },
           "zerolinecolor": "white",
           "zerolinewidth": 2
          },
          "yaxis": {
           "automargin": true,
           "gridcolor": "white",
           "linecolor": "white",
           "ticks": "",
           "title": {
            "standoff": 15
           },
           "zerolinecolor": "white",
           "zerolinewidth": 2
          }
         }
        },
        "title": {
         "font": {
          "color": "#4D5663"
         }
        },
        "xaxis": {
         "gridcolor": "#E1E5ED",
         "showgrid": true,
         "tickfont": {
          "color": "#4D5663"
         },
         "title": {
          "font": {
           "color": "#4D5663"
          },
          "text": ""
         },
         "zerolinecolor": "#E1E5ED"
        },
        "yaxis": {
         "gridcolor": "#E1E5ED",
         "showgrid": true,
         "tickfont": {
          "color": "#4D5663"
         },
         "title": {
          "font": {
           "color": "#4D5663"
          },
          "text": ""
         },
         "zerolinecolor": "#E1E5ED"
        }
       }
      },
      "text/html": [
       "<div>                            <div id=\"1a1f787f-a094-4e91-9572-9c32da733850\" class=\"plotly-graph-div\" style=\"height:525px; width:100%;\"></div>            <script type=\"text/javascript\">                require([\"plotly\"], function(Plotly) {                    window.PLOTLYENV=window.PLOTLYENV || {};\n",
       "                    window.PLOTLYENV.BASE_URL='https://plot.ly';                                    if (document.getElementById(\"1a1f787f-a094-4e91-9572-9c32da733850\")) {                    Plotly.newPlot(                        \"1a1f787f-a094-4e91-9572-9c32da733850\",                        [{\"line\": {\"color\": \"rgba(255, 153, 51, 1.0)\", \"dash\": \"solid\", \"shape\": \"linear\", \"width\": 1.5}, \"mode\": \"lines\", \"name\": \"power_output_kw\", \"text\": \"\", \"type\": \"scatter\", \"x\": [\"2020-10-01 12:00:00+03:00\", \"2020-10-01 13:00:00+03:00\", \"2020-10-01 14:00:00+03:00\", \"2020-10-01 15:00:00+03:00\", \"2020-10-01 16:00:00+03:00\", \"2020-10-01 17:00:00+03:00\", \"2020-10-01 18:00:00+03:00\", \"2020-10-01 19:00:00+03:00\", \"2020-10-01 20:00:00+03:00\", \"2020-10-01 21:00:00+03:00\", \"2020-10-01 22:00:00+03:00\", \"2020-10-01 23:00:00+03:00\", \"2020-10-02 00:00:00+03:00\", \"2020-10-02 01:00:00+03:00\", \"2020-10-02 02:00:00+03:00\", \"2020-10-02 03:00:00+03:00\", \"2020-10-02 04:00:00+03:00\", \"2020-10-02 05:00:00+03:00\", \"2020-10-02 06:00:00+03:00\", \"2020-10-02 07:00:00+03:00\", \"2020-10-02 08:00:00+03:00\", \"2020-10-02 09:00:00+03:00\", \"2020-10-02 10:00:00+03:00\", \"2020-10-02 11:00:00+03:00\", \"2020-10-02 12:00:00+03:00\", \"2020-10-02 13:00:00+03:00\", \"2020-10-02 14:00:00+03:00\", \"2020-10-02 15:00:00+03:00\", \"2020-10-02 16:00:00+03:00\", \"2020-10-02 17:00:00+03:00\", \"2020-10-02 18:00:00+03:00\", \"2020-10-02 19:00:00+03:00\", \"2020-10-02 20:00:00+03:00\", \"2020-10-02 21:00:00+03:00\", \"2020-10-02 22:00:00+03:00\", \"2020-10-03 00:00:00+03:00\", \"2020-10-03 01:00:00+03:00\", \"2020-10-03 02:00:00+03:00\", \"2020-10-03 03:00:00+03:00\", \"2020-10-03 04:00:00+03:00\", \"2020-10-03 05:00:00+03:00\", \"2020-10-03 06:00:00+03:00\", \"2020-10-03 07:00:00+03:00\", \"2020-10-03 08:00:00+03:00\", \"2020-10-03 09:00:00+03:00\", \"2020-10-03 10:00:00+03:00\", \"2020-10-03 11:00:00+03:00\", \"2020-10-03 12:00:00+03:00\", \"2020-10-03 13:00:00+03:00\", \"2020-10-03 14:00:00+03:00\", \"2020-10-03 15:00:00+03:00\", \"2020-10-03 16:00:00+03:00\", \"2020-10-03 17:00:00+03:00\", \"2020-10-03 18:00:00+03:00\", \"2020-10-03 19:00:00+03:00\", \"2020-10-03 20:00:00+03:00\", \"2020-10-03 21:00:00+03:00\", \"2020-10-03 22:00:00+03:00\", \"2020-10-03 23:00:00+03:00\", \"2020-10-04 00:00:00+03:00\", \"2020-10-04 01:00:00+03:00\", \"2020-10-04 02:00:00+03:00\", \"2020-10-04 03:00:00+03:00\", \"2020-10-04 04:00:00+03:00\", \"2020-10-04 05:00:00+03:00\", \"2020-10-04 06:00:00+03:00\", \"2020-10-05 06:00:00+03:00\", \"2020-10-05 07:00:00+03:00\", \"2020-10-05 08:00:00+03:00\", \"2020-10-05 09:00:00+03:00\", \"2020-10-05 10:00:00+03:00\", \"2020-10-05 11:00:00+03:00\", \"2020-10-05 12:00:00+03:00\", \"2020-10-05 13:00:00+03:00\", \"2020-10-05 14:00:00+03:00\", \"2020-10-05 15:00:00+03:00\", \"2020-10-05 16:00:00+03:00\", \"2020-10-05 17:00:00+03:00\", \"2020-10-05 18:00:00+03:00\", \"2020-10-05 19:00:00+03:00\", \"2020-10-05 20:00:00+03:00\", \"2020-10-05 21:00:00+03:00\", \"2020-10-05 22:00:00+03:00\", \"2020-10-05 23:00:00+03:00\", \"2020-10-06 00:00:00+03:00\", \"2020-10-06 00:00:00+03:00\", \"2020-10-06 01:00:00+03:00\", \"2020-10-06 01:00:00+03:00\", \"2020-10-06 02:00:00+03:00\", \"2020-10-06 02:00:00+03:00\", \"2020-10-06 03:00:00+03:00\", \"2020-10-06 03:00:00+03:00\", \"2020-10-06 04:00:00+03:00\", \"2020-10-06 04:00:00+03:00\", \"2020-10-06 05:00:00+03:00\", \"2020-10-06 06:00:00+03:00\", \"2020-10-06 06:00:00+03:00\", \"2020-10-06 07:00:00+03:00\", \"2020-10-06 07:00:00+03:00\", \"2020-10-06 08:00:00+03:00\", \"2020-10-06 08:00:00+03:00\", \"2020-10-06 09:00:00+03:00\", \"2020-10-06 09:00:00+03:00\", \"2020-10-06 10:00:00+03:00\", \"2020-10-06 10:00:00+03:00\", \"2020-10-06 11:00:00+03:00\", \"2020-10-06 11:00:00+03:00\", \"2020-10-06 12:00:00+03:00\", \"2020-10-06 12:00:00+03:00\", \"2020-10-06 13:00:00+03:00\", \"2020-10-06 13:00:00+03:00\", \"2020-10-06 14:00:00+03:00\", \"2020-10-06 14:00:00+03:00\", \"2020-10-06 15:00:00+03:00\", \"2020-10-06 15:00:00+03:00\", \"2020-10-06 16:00:00+03:00\", \"2020-10-06 16:00:00+03:00\", \"2020-10-06 17:00:00+03:00\", \"2020-10-06 17:00:00+03:00\", \"2020-10-06 18:00:00+03:00\", \"2020-10-06 19:00:00+03:00\", \"2020-10-06 19:00:00+03:00\", \"2020-10-06 20:00:00+03:00\", \"2020-10-06 20:00:00+03:00\", \"2020-10-06 21:00:00+03:00\", \"2020-10-06 21:00:00+03:00\", \"2020-10-06 22:00:00+03:00\", \"2020-10-06 22:00:00+03:00\", \"2020-10-06 23:00:00+03:00\", \"2020-10-06 23:00:00+03:00\", \"2020-10-07 00:00:00+03:00\", \"2020-10-07 00:00:00+03:00\", \"2020-10-07 01:00:00+03:00\", \"2020-10-07 01:00:00+03:00\", \"2020-10-07 02:00:00+03:00\", \"2020-10-07 02:00:00+03:00\", \"2020-10-07 03:00:00+03:00\", \"2020-10-07 03:00:00+03:00\", \"2020-10-07 04:00:00+03:00\", \"2020-10-07 04:00:00+03:00\", \"2020-10-07 05:00:00+03:00\", \"2020-10-07 05:00:00+03:00\", \"2020-10-07 06:00:00+03:00\", \"2020-10-07 06:00:00+03:00\", \"2020-10-07 07:00:00+03:00\", \"2020-10-07 07:00:00+03:00\", \"2020-10-07 08:00:00+03:00\", \"2020-10-07 08:00:00+03:00\", \"2020-10-07 09:00:00+03:00\", \"2020-10-07 09:00:00+03:00\", \"2020-10-07 10:00:00+03:00\", \"2020-10-07 10:00:00+03:00\", \"2020-10-07 11:00:00+03:00\", \"2020-10-07 11:00:00+03:00\", \"2020-10-07 12:00:00+03:00\", \"2020-10-07 12:00:00+03:00\", \"2020-10-07 13:00:00+03:00\", \"2020-10-07 13:00:00+03:00\", \"2020-10-07 14:00:00+03:00\", \"2020-10-07 14:00:00+03:00\", \"2020-10-07 15:00:00+03:00\", \"2020-10-07 15:00:00+03:00\", \"2020-10-07 16:00:00+03:00\", \"2020-10-07 16:00:00+03:00\", \"2020-10-07 17:00:00+03:00\", \"2020-10-07 17:00:00+03:00\", \"2020-10-07 18:00:00+03:00\", \"2020-10-07 18:00:00+03:00\", \"2020-10-07 19:00:00+03:00\", \"2020-10-07 19:00:00+03:00\", \"2020-10-07 20:00:00+03:00\", \"2020-10-07 20:00:00+03:00\", \"2020-10-07 21:00:00+03:00\", \"2020-10-07 21:00:00+03:00\", \"2020-10-07 22:00:00+03:00\", \"2020-10-07 22:00:00+03:00\", \"2020-10-07 23:00:00+03:00\", \"2020-10-07 23:00:00+03:00\", \"2020-10-08 00:00:00+03:00\", \"2020-10-08 00:00:00+03:00\", \"2020-10-08 01:00:00+03:00\", \"2020-10-08 02:00:00+03:00\", \"2020-10-08 03:00:00+03:00\", \"2020-10-08 04:00:00+03:00\", \"2020-10-08 05:00:00+03:00\", \"2020-10-08 06:00:00+03:00\", \"2020-10-08 07:00:00+03:00\", \"2020-10-08 08:00:00+03:00\", \"2020-10-08 09:00:00+03:00\", \"2020-10-08 10:00:00+03:00\", \"2020-10-08 11:00:00+03:00\", \"2020-10-08 12:00:00+03:00\", \"2020-10-08 13:00:00+03:00\", \"2020-10-08 14:00:00+03:00\", \"2020-10-08 15:00:00+03:00\", \"2020-10-08 16:00:00+03:00\", \"2020-10-08 17:00:00+03:00\", \"2020-10-08 18:00:00+03:00\", \"2020-10-11 15:00:00+03:00\", \"2020-10-11 16:00:00+03:00\", \"2020-10-11 17:00:00+03:00\", \"2020-10-11 18:00:00+03:00\", \"2020-10-11 19:00:00+03:00\", \"2020-10-11 20:00:00+03:00\", \"2020-10-11 21:00:00+03:00\", \"2020-10-11 22:00:00+03:00\", \"2020-10-11 23:00:00+03:00\", \"2020-10-12 00:00:00+03:00\", \"2020-10-12 01:00:00+03:00\", \"2020-10-12 02:00:00+03:00\", \"2020-10-12 03:00:00+03:00\", \"2020-10-12 04:00:00+03:00\", \"2020-10-12 05:00:00+03:00\", \"2020-10-12 06:00:00+03:00\", \"2020-10-12 07:00:00+03:00\", \"2020-10-12 08:00:00+03:00\", \"2020-10-12 09:00:00+03:00\", \"2020-10-12 10:00:00+03:00\", \"2020-10-12 11:00:00+03:00\", \"2020-10-12 12:00:00+03:00\", \"2020-10-12 13:00:00+03:00\", \"2020-10-12 14:00:00+03:00\", \"2020-10-12 15:00:00+03:00\", \"2020-10-12 16:00:00+03:00\", \"2020-10-12 17:00:00+03:00\", \"2020-10-12 18:00:00+03:00\", \"2020-10-12 19:00:00+03:00\", \"2020-10-12 20:00:00+03:00\", \"2020-10-12 21:00:00+03:00\", \"2020-10-12 22:00:00+03:00\", \"2020-10-12 23:00:00+03:00\", \"2020-10-13 00:00:00+03:00\", \"2020-10-13 01:00:00+03:00\", \"2020-10-13 02:00:00+03:00\", \"2020-10-13 03:00:00+03:00\", \"2020-10-13 04:00:00+03:00\", \"2020-10-13 05:00:00+03:00\", \"2020-10-13 06:00:00+03:00\", \"2020-10-13 07:00:00+03:00\", \"2020-10-13 08:00:00+03:00\", \"2020-10-13 09:00:00+03:00\", \"2020-10-13 10:00:00+03:00\", \"2020-10-13 11:00:00+03:00\", \"2020-10-13 12:00:00+03:00\", \"2020-10-13 13:00:00+03:00\", \"2020-10-13 14:00:00+03:00\", \"2020-10-13 16:00:00+03:00\", \"2020-10-13 17:00:00+03:00\", \"2020-10-13 18:00:00+03:00\", \"2020-10-13 19:00:00+03:00\", \"2020-10-13 20:00:00+03:00\", \"2020-10-13 21:00:00+03:00\", \"2020-10-13 22:00:00+03:00\", \"2020-10-13 23:00:00+03:00\", \"2020-10-14 00:00:00+03:00\", \"2020-10-14 01:00:00+03:00\", \"2020-10-14 02:00:00+03:00\", \"2020-10-14 03:00:00+03:00\", \"2020-10-14 04:00:00+03:00\", \"2020-10-14 05:00:00+03:00\", \"2020-10-14 06:00:00+03:00\", \"2020-10-14 07:00:00+03:00\", \"2020-10-14 08:00:00+03:00\", \"2020-10-14 09:00:00+03:00\", \"2020-10-19 15:00:00+03:00\", \"2020-10-19 16:00:00+03:00\", \"2020-10-19 17:00:00+03:00\", \"2020-10-19 18:00:00+03:00\", \"2020-10-19 19:00:00+03:00\", \"2020-10-19 20:00:00+03:00\", \"2020-10-19 21:00:00+03:00\", \"2020-10-19 22:00:00+03:00\", \"2020-10-19 23:00:00+03:00\", \"2020-10-20 00:00:00+03:00\", \"2020-10-20 01:00:00+03:00\", \"2020-10-20 02:00:00+03:00\", \"2020-10-20 03:00:00+03:00\", \"2020-10-20 04:00:00+03:00\", \"2020-10-20 05:00:00+03:00\", \"2020-10-20 06:00:00+03:00\", \"2020-10-20 07:00:00+03:00\", \"2020-10-20 08:00:00+03:00\", \"2020-10-20 09:00:00+03:00\", \"2020-10-20 10:00:00+03:00\", \"2020-10-20 11:00:00+03:00\", \"2020-10-20 12:00:00+03:00\", \"2020-10-20 13:00:00+03:00\", \"2020-10-20 14:00:00+03:00\", \"2020-10-20 15:00:00+03:00\", \"2020-10-20 16:00:00+03:00\", \"2020-10-20 17:00:00+03:00\", \"2020-10-20 18:00:00+03:00\", \"2020-10-20 19:00:00+03:00\", \"2020-10-20 20:00:00+03:00\", \"2020-10-20 21:00:00+03:00\", \"2020-10-20 22:00:00+03:00\", \"2020-10-20 23:00:00+03:00\", \"2020-10-21 00:00:00+03:00\", \"2020-10-21 01:00:00+03:00\", \"2020-10-21 02:00:00+03:00\", \"2020-10-21 03:00:00+03:00\", \"2020-10-21 04:00:00+03:00\", \"2020-10-21 05:00:00+03:00\", \"2020-10-21 06:00:00+03:00\", \"2020-10-21 07:00:00+03:00\", \"2020-10-21 08:00:00+03:00\", \"2020-10-21 09:00:00+03:00\", \"2020-10-21 10:00:00+03:00\", \"2020-10-21 11:00:00+03:00\", \"2020-10-21 12:00:00+03:00\", \"2020-10-21 13:00:00+03:00\", \"2020-10-21 15:00:00+03:00\", \"2020-10-21 16:00:00+03:00\", \"2020-10-21 17:00:00+03:00\", \"2020-10-21 18:00:00+03:00\", \"2020-10-21 19:00:00+03:00\", \"2020-10-21 20:00:00+03:00\", \"2020-10-21 21:00:00+03:00\", \"2020-10-21 22:00:00+03:00\", \"2020-10-21 23:00:00+03:00\", \"2020-10-22 00:00:00+03:00\", \"2020-10-22 01:00:00+03:00\", \"2020-10-22 02:00:00+03:00\", \"2020-10-22 03:00:00+03:00\", \"2020-10-22 04:00:00+03:00\", \"2020-10-22 05:00:00+03:00\", \"2020-10-22 06:00:00+03:00\", \"2020-10-22 07:00:00+03:00\", \"2020-10-22 08:00:00+03:00\", \"2020-10-22 09:00:00+03:00\"], \"y\": [1452.0, 1638.0, 1716.0, 1755.0, 1833.0, 1911.0, 2106.0, 2145.0, 2262.0, 2340.0, 2067.0, 1272.0, 599.737, 377.03, 396.88, 496.13, 711.413, 1119.034, 1488.0, 1677.0, 1599.0, 1638.0, 1488.0, 1200.0, 1272.0, 1599.0, 1755.0, 2106.0, 2379.0, 2613.0, 2784.0, 2856.0, 2820.0, 2652.0, 2340.0, 1560.0, 1416.0, 1344.0, 1599.0, 1833.0, 1794.0, 1638.0, 1638.0, 1833.0, 2067.0, 2184.0, 2067.0, 2028.0, 1716.0, 2223.0, 2652.0, 2613.0, 2691.0, 2784.0, 2919.0, 2982.0, 2937.0, 2919.0, 2496.0, 2223.0, 2301.0, 2574.0, 2613.0, 2802.0, 2919.0, 2910.0, 2946.0, 3000.0, 3000.0, 2784.0, 2730.0, 2652.0, 2028.0, 1344.0, 683.494, 182.53, 0.0, 0.0, 154.214, 571.818, 1272.0, 1524.0, 1200.0, 1755.0, 1599.0, 1416.0, 1488.0, 1524.0, 1488.0, 997.585, 1677.0, 1308.0, 2535.0, 2145.0, 2730.0, 2874.0, 2973.0, 2820.0, 2928.0, 3000.0, 3000.0, 3000.0, 2982.0, 2946.0, 2991.0, 2892.0, 3000.0, 2910.0, 3000.0, 2946.0, 2928.0, 2991.0, 2937.0, 2574.0, 2874.0, 2766.0, 2535.0, 2145.0, 2919.0, 2928.0, 2262.0, 2838.0, 2856.0, 2379.0, 2106.0, 2613.0, 2418.0, 2892.0, 2301.0, 2691.0, 1638.0, 2067.0, 1716.0, 1119.034, 1038.068, 1872.0, 1599.0, 1200.0, 1380.0, 1344.0, 1677.0, 1677.0, 1794.0, 1755.0, 1911.0, 1794.0, 1716.0, 2145.0, 1677.0, 1599.0, 1380.0, 1308.0, 957.102, 1159.517, 916.619, 835.653, 739.332, 711.413, 599.737, 655.575, 739.332, 739.332, 543.899, 835.653, 1308.0, 515.98, 456.43, 1677.0, 1911.0, 711.413, 876.136, 1989.0, 1833.0, 1716.0, 1308.0, 2652.0, 655.575, 1833.0, 476.28, 2184.0, 1677.0, 767.251, 250.005, 223.015, 250.005, 209.52, 303.985, 303.985, 337.33, 303.985, 571.818, 515.98, 1078.551, 436.58, 683.494, 0.0, 0.0, 0.0, 182.53, 276.995, 263.5, 337.33, 456.43, 571.818, 476.28, 396.88, 223.015, 52.885, 0.0, 0.0, 0.0, 0.0, 0.0, 44.071, 223.015, 337.33, 416.73, 655.575, 1159.517, 1159.517, 1344.0, 1078.551, 1119.034, 1452.0, 1599.0, 1344.0, 2184.0, 2106.0, 2262.0, 2766.0, 1872.0, 2418.0, 2379.0, 337.33, 88.142, 223.015, 1236.0, 416.73, 1911.0, 496.13, 396.88, 456.43, 276.995, 290.49, 196.025, 154.214, 196.025, 125.897, 0.0, 88.142, 135.336, 250.005, 357.18, 627.656, 1038.068, 1380.0, 1416.0, 1200.0, 1272.0, 1560.0, 1755.0, 2028.0, 2067.0, 1950.0, 543.899, 456.43, 357.18, 795.17, 767.251, 683.494, 835.653, 1159.517, 1488.0, 1794.0, 1677.0, 1911.0, 1833.0, 1677.0, 1524.0, 1159.517, 916.619, 835.653, 711.413, 396.88, 209.52, 88.142, 61.699, 35.257, 35.257, 35.257, 26.443, 0.0, 0.0, 0.0, 0.0, 0.0, 0.0, 0.0, 97.581, 209.52, 250.005, 571.818, 916.619, 1416.0, 1638.0, 1560.0, 2106.0, 2223.0, 2301.0, 2028.0, 1989.0, 1989.0, 1911.0, 1716.0, 1716.0, 1950.0, 2106.0, 2145.0, 2184.0, 1989.0, 1599.0, 1677.0, 2106.0, 2106.0, 2340.0, 2379.0, 2748.0, 2802.0, 2691.0, 2418.0]}, {\"line\": {\"color\": \"rgba(55, 128, 191, 1.0)\", \"dash\": \"solid\", \"shape\": \"linear\", \"width\": 1.5}, \"mode\": \"lines\", \"name\": \"wind_speed_ms\", \"text\": \"\", \"type\": \"scatter\", \"x\": [\"2020-10-01 12:00:00+03:00\", \"2020-10-01 13:00:00+03:00\", \"2020-10-01 14:00:00+03:00\", \"2020-10-01 15:00:00+03:00\", \"2020-10-01 16:00:00+03:00\", \"2020-10-01 17:00:00+03:00\", \"2020-10-01 18:00:00+03:00\", \"2020-10-01 19:00:00+03:00\", \"2020-10-01 20:00:00+03:00\", \"2020-10-01 21:00:00+03:00\", \"2020-10-01 22:00:00+03:00\", \"2020-10-01 23:00:00+03:00\", \"2020-10-02 00:00:00+03:00\", \"2020-10-02 01:00:00+03:00\", \"2020-10-02 02:00:00+03:00\", \"2020-10-02 03:00:00+03:00\", \"2020-10-02 04:00:00+03:00\", \"2020-10-02 05:00:00+03:00\", \"2020-10-02 06:00:00+03:00\", \"2020-10-02 07:00:00+03:00\", \"2020-10-02 08:00:00+03:00\", \"2020-10-02 09:00:00+03:00\", \"2020-10-02 10:00:00+03:00\", \"2020-10-02 11:00:00+03:00\", \"2020-10-02 12:00:00+03:00\", \"2020-10-02 13:00:00+03:00\", \"2020-10-02 14:00:00+03:00\", \"2020-10-02 15:00:00+03:00\", \"2020-10-02 16:00:00+03:00\", \"2020-10-02 17:00:00+03:00\", \"2020-10-02 18:00:00+03:00\", \"2020-10-02 19:00:00+03:00\", \"2020-10-02 20:00:00+03:00\", \"2020-10-02 21:00:00+03:00\", \"2020-10-02 22:00:00+03:00\", \"2020-10-03 00:00:00+03:00\", \"2020-10-03 01:00:00+03:00\", \"2020-10-03 02:00:00+03:00\", \"2020-10-03 03:00:00+03:00\", \"2020-10-03 04:00:00+03:00\", \"2020-10-03 05:00:00+03:00\", \"2020-10-03 06:00:00+03:00\", \"2020-10-03 07:00:00+03:00\", \"2020-10-03 08:00:00+03:00\", \"2020-10-03 09:00:00+03:00\", \"2020-10-03 10:00:00+03:00\", \"2020-10-03 11:00:00+03:00\", \"2020-10-03 12:00:00+03:00\", \"2020-10-03 13:00:00+03:00\", \"2020-10-03 14:00:00+03:00\", \"2020-10-03 15:00:00+03:00\", \"2020-10-03 16:00:00+03:00\", \"2020-10-03 17:00:00+03:00\", \"2020-10-03 18:00:00+03:00\", \"2020-10-03 19:00:00+03:00\", \"2020-10-03 20:00:00+03:00\", \"2020-10-03 21:00:00+03:00\", \"2020-10-03 22:00:00+03:00\", \"2020-10-03 23:00:00+03:00\", \"2020-10-04 00:00:00+03:00\", \"2020-10-04 01:00:00+03:00\", \"2020-10-04 02:00:00+03:00\", \"2020-10-04 03:00:00+03:00\", \"2020-10-04 04:00:00+03:00\", \"2020-10-04 05:00:00+03:00\", \"2020-10-04 06:00:00+03:00\", \"2020-10-05 06:00:00+03:00\", \"2020-10-05 07:00:00+03:00\", \"2020-10-05 08:00:00+03:00\", \"2020-10-05 09:00:00+03:00\", \"2020-10-05 10:00:00+03:00\", \"2020-10-05 11:00:00+03:00\", \"2020-10-05 12:00:00+03:00\", \"2020-10-05 13:00:00+03:00\", \"2020-10-05 14:00:00+03:00\", \"2020-10-05 15:00:00+03:00\", \"2020-10-05 16:00:00+03:00\", \"2020-10-05 17:00:00+03:00\", \"2020-10-05 18:00:00+03:00\", \"2020-10-05 19:00:00+03:00\", \"2020-10-05 20:00:00+03:00\", \"2020-10-05 21:00:00+03:00\", \"2020-10-05 22:00:00+03:00\", \"2020-10-05 23:00:00+03:00\", \"2020-10-06 00:00:00+03:00\", \"2020-10-06 00:00:00+03:00\", \"2020-10-06 01:00:00+03:00\", \"2020-10-06 01:00:00+03:00\", \"2020-10-06 02:00:00+03:00\", \"2020-10-06 02:00:00+03:00\", \"2020-10-06 03:00:00+03:00\", \"2020-10-06 03:00:00+03:00\", \"2020-10-06 04:00:00+03:00\", \"2020-10-06 04:00:00+03:00\", \"2020-10-06 05:00:00+03:00\", \"2020-10-06 06:00:00+03:00\", \"2020-10-06 06:00:00+03:00\", \"2020-10-06 07:00:00+03:00\", \"2020-10-06 07:00:00+03:00\", \"2020-10-06 08:00:00+03:00\", \"2020-10-06 08:00:00+03:00\", \"2020-10-06 09:00:00+03:00\", \"2020-10-06 09:00:00+03:00\", \"2020-10-06 10:00:00+03:00\", \"2020-10-06 10:00:00+03:00\", \"2020-10-06 11:00:00+03:00\", \"2020-10-06 11:00:00+03:00\", \"2020-10-06 12:00:00+03:00\", \"2020-10-06 12:00:00+03:00\", \"2020-10-06 13:00:00+03:00\", \"2020-10-06 13:00:00+03:00\", \"2020-10-06 14:00:00+03:00\", \"2020-10-06 14:00:00+03:00\", \"2020-10-06 15:00:00+03:00\", \"2020-10-06 15:00:00+03:00\", \"2020-10-06 16:00:00+03:00\", \"2020-10-06 16:00:00+03:00\", \"2020-10-06 17:00:00+03:00\", \"2020-10-06 17:00:00+03:00\", \"2020-10-06 18:00:00+03:00\", \"2020-10-06 19:00:00+03:00\", \"2020-10-06 19:00:00+03:00\", \"2020-10-06 20:00:00+03:00\", \"2020-10-06 20:00:00+03:00\", \"2020-10-06 21:00:00+03:00\", \"2020-10-06 21:00:00+03:00\", \"2020-10-06 22:00:00+03:00\", \"2020-10-06 22:00:00+03:00\", \"2020-10-06 23:00:00+03:00\", \"2020-10-06 23:00:00+03:00\", \"2020-10-07 00:00:00+03:00\", \"2020-10-07 00:00:00+03:00\", \"2020-10-07 01:00:00+03:00\", \"2020-10-07 01:00:00+03:00\", \"2020-10-07 02:00:00+03:00\", \"2020-10-07 02:00:00+03:00\", \"2020-10-07 03:00:00+03:00\", \"2020-10-07 03:00:00+03:00\", \"2020-10-07 04:00:00+03:00\", \"2020-10-07 04:00:00+03:00\", \"2020-10-07 05:00:00+03:00\", \"2020-10-07 05:00:00+03:00\", \"2020-10-07 06:00:00+03:00\", \"2020-10-07 06:00:00+03:00\", \"2020-10-07 07:00:00+03:00\", \"2020-10-07 07:00:00+03:00\", \"2020-10-07 08:00:00+03:00\", \"2020-10-07 08:00:00+03:00\", \"2020-10-07 09:00:00+03:00\", \"2020-10-07 09:00:00+03:00\", \"2020-10-07 10:00:00+03:00\", \"2020-10-07 10:00:00+03:00\", \"2020-10-07 11:00:00+03:00\", \"2020-10-07 11:00:00+03:00\", \"2020-10-07 12:00:00+03:00\", \"2020-10-07 12:00:00+03:00\", \"2020-10-07 13:00:00+03:00\", \"2020-10-07 13:00:00+03:00\", \"2020-10-07 14:00:00+03:00\", \"2020-10-07 14:00:00+03:00\", \"2020-10-07 15:00:00+03:00\", \"2020-10-07 15:00:00+03:00\", \"2020-10-07 16:00:00+03:00\", \"2020-10-07 16:00:00+03:00\", \"2020-10-07 17:00:00+03:00\", \"2020-10-07 17:00:00+03:00\", \"2020-10-07 18:00:00+03:00\", \"2020-10-07 18:00:00+03:00\", \"2020-10-07 19:00:00+03:00\", \"2020-10-07 19:00:00+03:00\", \"2020-10-07 20:00:00+03:00\", \"2020-10-07 20:00:00+03:00\", \"2020-10-07 21:00:00+03:00\", \"2020-10-07 21:00:00+03:00\", \"2020-10-07 22:00:00+03:00\", \"2020-10-07 22:00:00+03:00\", \"2020-10-07 23:00:00+03:00\", \"2020-10-07 23:00:00+03:00\", \"2020-10-08 00:00:00+03:00\", \"2020-10-08 00:00:00+03:00\", \"2020-10-08 01:00:00+03:00\", \"2020-10-08 02:00:00+03:00\", \"2020-10-08 03:00:00+03:00\", \"2020-10-08 04:00:00+03:00\", \"2020-10-08 05:00:00+03:00\", \"2020-10-08 06:00:00+03:00\", \"2020-10-08 07:00:00+03:00\", \"2020-10-08 08:00:00+03:00\", \"2020-10-08 09:00:00+03:00\", \"2020-10-08 10:00:00+03:00\", \"2020-10-08 11:00:00+03:00\", \"2020-10-08 12:00:00+03:00\", \"2020-10-08 13:00:00+03:00\", \"2020-10-08 14:00:00+03:00\", \"2020-10-08 15:00:00+03:00\", \"2020-10-08 16:00:00+03:00\", \"2020-10-08 17:00:00+03:00\", \"2020-10-08 18:00:00+03:00\", \"2020-10-11 15:00:00+03:00\", \"2020-10-11 16:00:00+03:00\", \"2020-10-11 17:00:00+03:00\", \"2020-10-11 18:00:00+03:00\", \"2020-10-11 19:00:00+03:00\", \"2020-10-11 20:00:00+03:00\", \"2020-10-11 21:00:00+03:00\", \"2020-10-11 22:00:00+03:00\", \"2020-10-11 23:00:00+03:00\", \"2020-10-12 00:00:00+03:00\", \"2020-10-12 01:00:00+03:00\", \"2020-10-12 02:00:00+03:00\", \"2020-10-12 03:00:00+03:00\", \"2020-10-12 04:00:00+03:00\", \"2020-10-12 05:00:00+03:00\", \"2020-10-12 06:00:00+03:00\", \"2020-10-12 07:00:00+03:00\", \"2020-10-12 08:00:00+03:00\", \"2020-10-12 09:00:00+03:00\", \"2020-10-12 10:00:00+03:00\", \"2020-10-12 11:00:00+03:00\", \"2020-10-12 12:00:00+03:00\", \"2020-10-12 13:00:00+03:00\", \"2020-10-12 14:00:00+03:00\", \"2020-10-12 15:00:00+03:00\", \"2020-10-12 16:00:00+03:00\", \"2020-10-12 17:00:00+03:00\", \"2020-10-12 18:00:00+03:00\", \"2020-10-12 19:00:00+03:00\", \"2020-10-12 20:00:00+03:00\", \"2020-10-12 21:00:00+03:00\", \"2020-10-12 22:00:00+03:00\", \"2020-10-12 23:00:00+03:00\", \"2020-10-13 00:00:00+03:00\", \"2020-10-13 01:00:00+03:00\", \"2020-10-13 02:00:00+03:00\", \"2020-10-13 03:00:00+03:00\", \"2020-10-13 04:00:00+03:00\", \"2020-10-13 05:00:00+03:00\", \"2020-10-13 06:00:00+03:00\", \"2020-10-13 07:00:00+03:00\", \"2020-10-13 08:00:00+03:00\", \"2020-10-13 09:00:00+03:00\", \"2020-10-13 10:00:00+03:00\", \"2020-10-13 11:00:00+03:00\", \"2020-10-13 12:00:00+03:00\", \"2020-10-13 13:00:00+03:00\", \"2020-10-13 14:00:00+03:00\", \"2020-10-13 16:00:00+03:00\", \"2020-10-13 17:00:00+03:00\", \"2020-10-13 18:00:00+03:00\", \"2020-10-13 19:00:00+03:00\", \"2020-10-13 20:00:00+03:00\", \"2020-10-13 21:00:00+03:00\", \"2020-10-13 22:00:00+03:00\", \"2020-10-13 23:00:00+03:00\", \"2020-10-14 00:00:00+03:00\", \"2020-10-14 01:00:00+03:00\", \"2020-10-14 02:00:00+03:00\", \"2020-10-14 03:00:00+03:00\", \"2020-10-14 04:00:00+03:00\", \"2020-10-14 05:00:00+03:00\", \"2020-10-14 06:00:00+03:00\", \"2020-10-14 07:00:00+03:00\", \"2020-10-14 08:00:00+03:00\", \"2020-10-14 09:00:00+03:00\", \"2020-10-19 15:00:00+03:00\", \"2020-10-19 16:00:00+03:00\", \"2020-10-19 17:00:00+03:00\", \"2020-10-19 18:00:00+03:00\", \"2020-10-19 19:00:00+03:00\", \"2020-10-19 20:00:00+03:00\", \"2020-10-19 21:00:00+03:00\", \"2020-10-19 22:00:00+03:00\", \"2020-10-19 23:00:00+03:00\", \"2020-10-20 00:00:00+03:00\", \"2020-10-20 01:00:00+03:00\", \"2020-10-20 02:00:00+03:00\", \"2020-10-20 03:00:00+03:00\", \"2020-10-20 04:00:00+03:00\", \"2020-10-20 05:00:00+03:00\", \"2020-10-20 06:00:00+03:00\", \"2020-10-20 07:00:00+03:00\", \"2020-10-20 08:00:00+03:00\", \"2020-10-20 09:00:00+03:00\", \"2020-10-20 10:00:00+03:00\", \"2020-10-20 11:00:00+03:00\", \"2020-10-20 12:00:00+03:00\", \"2020-10-20 13:00:00+03:00\", \"2020-10-20 14:00:00+03:00\", \"2020-10-20 15:00:00+03:00\", \"2020-10-20 16:00:00+03:00\", \"2020-10-20 17:00:00+03:00\", \"2020-10-20 18:00:00+03:00\", \"2020-10-20 19:00:00+03:00\", \"2020-10-20 20:00:00+03:00\", \"2020-10-20 21:00:00+03:00\", \"2020-10-20 22:00:00+03:00\", \"2020-10-20 23:00:00+03:00\", \"2020-10-21 00:00:00+03:00\", \"2020-10-21 01:00:00+03:00\", \"2020-10-21 02:00:00+03:00\", \"2020-10-21 03:00:00+03:00\", \"2020-10-21 04:00:00+03:00\", \"2020-10-21 05:00:00+03:00\", \"2020-10-21 06:00:00+03:00\", \"2020-10-21 07:00:00+03:00\", \"2020-10-21 08:00:00+03:00\", \"2020-10-21 09:00:00+03:00\", \"2020-10-21 10:00:00+03:00\", \"2020-10-21 11:00:00+03:00\", \"2020-10-21 12:00:00+03:00\", \"2020-10-21 13:00:00+03:00\", \"2020-10-21 15:00:00+03:00\", \"2020-10-21 16:00:00+03:00\", \"2020-10-21 17:00:00+03:00\", \"2020-10-21 18:00:00+03:00\", \"2020-10-21 19:00:00+03:00\", \"2020-10-21 20:00:00+03:00\", \"2020-10-21 21:00:00+03:00\", \"2020-10-21 22:00:00+03:00\", \"2020-10-21 23:00:00+03:00\", \"2020-10-22 00:00:00+03:00\", \"2020-10-22 01:00:00+03:00\", \"2020-10-22 02:00:00+03:00\", \"2020-10-22 03:00:00+03:00\", \"2020-10-22 04:00:00+03:00\", \"2020-10-22 05:00:00+03:00\", \"2020-10-22 06:00:00+03:00\", \"2020-10-22 07:00:00+03:00\", \"2020-10-22 08:00:00+03:00\", \"2020-10-22 09:00:00+03:00\"], \"y\": [9.7, 10.2, 10.4, 10.5, 10.7, 10.9, 11.4, 11.5, 11.8, 12.0, 11.3, 9.2, 7.3, 6.3, 6.4, 6.9, 7.7, 8.8, 9.8, 10.3, 10.1, 10.2, 9.8, 9.0, 9.2, 10.1, 10.5, 11.4, 12.1, 12.7, 13.3, 13.7, 13.5, 12.8, 12.0, 10.0, 9.6, 9.4, 10.1, 10.7, 10.6, 10.2, 10.2, 10.7, 11.3, 11.6, 11.3, 11.2, 10.4, 11.7, 12.8, 12.7, 12.9, 13.3, 14.1, 14.8, 14.3, 14.1, 12.4, 11.7, 11.9, 12.6, 12.7, 13.4, 14.1, 14.0, 14.4, 15.2, 15.2, 13.3, 13.0, 12.8, 11.2, 9.4, 7.6, 5.0, 2.6, 2.8, 4.7, 7.2, 9.2, 9.9, 9.0, 10.5, 10.1, 9.6, 9.8, 9.9, 9.8, 8.5, 10.3, 9.3, 12.5, 11.5, 13.0, 13.8, 14.7, 13.5, 14.2, 15.0, 16.2, 15.3, 14.8, 14.4, 14.9, 13.9, 15.3, 14.0, 15.7, 14.4, 14.2, 14.9, 14.3, 12.6, 13.8, 13.2, 12.5, 11.5, 14.1, 14.2, 11.8, 13.6, 13.7, 12.1, 11.4, 12.7, 12.2, 13.9, 11.9, 12.9, 10.2, 11.3, 10.4, 8.8, 8.6, 10.8, 10.1, 9.0, 9.5, 9.4, 10.3, 10.3, 10.6, 10.5, 10.9, 10.6, 10.4, 11.5, 10.3, 10.1, 9.5, 9.3, 8.4, 8.9, 8.3, 8.1, 7.8, 7.7, 7.3, 7.5, 7.8, 7.8, 7.1, 8.1, 9.3, 7.0, 6.7, 10.3, 10.9, 7.7, 8.2, 11.1, 10.7, 10.4, 9.3, 12.8, 7.5, 10.7, 6.8, 11.6, 10.3, 7.9, 5.5, 5.3, 5.5, 5.2, 5.9, 5.9, 6.1, 5.9, 7.2, 7.0, 8.7, 6.6, 7.6, \"\", \"\", \"\", 5.0, 5.7, 5.6, 6.1, 6.7, 7.2, 6.8, 6.4, 5.3, 3.6, 1.9, 1.0, 1.1, 1.8, 2.4, 3.5, 5.3, 6.1, 6.5, 7.5, 8.9, 8.9, 9.4, 8.7, 8.8, 9.7, 10.1, 9.4, 11.6, 11.4, 11.8, 13.2, 10.8, 12.2, 12.1, 6.1, 4.0, 5.3, 9.1, 6.5, 10.9, 6.9, 6.4, 6.7, 5.7, 5.8, 5.1, 4.7, 5.1, 4.4, 3.0, 4.0, 4.5, 5.5, 6.2, 7.4, 8.6, 9.5, 9.6, 9.0, 9.2, 10.0, 10.5, 11.2, 11.3, 11.0, 7.1, 6.7, 6.2, 8.0, 7.9, 7.6, 8.1, 8.9, 9.8, 10.6, 10.3, 10.9, 10.7, 10.3, 9.9, 8.9, 8.3, 8.1, 7.7, 6.4, 5.2, 4.0, 3.7, 3.4, 3.4, 3.4, 3.3, 2.8, 2.1, 1.6, 1.2, 1.2, 1.7, 2.5, 4.1, 5.2, 5.5, 7.2, 8.3, 9.6, 10.2, 10.0, 11.4, 11.7, 11.9, 11.2, 11.1, 11.1, 10.9, 10.4, 10.4, 11.0, 11.4, 11.5, 11.6, 11.1, 10.1, 10.3, 11.4, 11.4, 12.0, 12.1, 13.1, 13.4, 12.9, 12.2]}, {\"line\": {\"color\": \"rgba(50, 171, 96, 1.0)\", \"dash\": \"solid\", \"shape\": \"linear\", \"width\": 1.5}, \"mode\": \"lines\", \"name\": \"wind_direction_deg\", \"text\": \"\", \"type\": \"scatter\", \"x\": [\"2020-10-01 12:00:00+03:00\", \"2020-10-01 13:00:00+03:00\", \"2020-10-01 14:00:00+03:00\", \"2020-10-01 15:00:00+03:00\", \"2020-10-01 16:00:00+03:00\", \"2020-10-01 17:00:00+03:00\", \"2020-10-01 18:00:00+03:00\", \"2020-10-01 19:00:00+03:00\", \"2020-10-01 20:00:00+03:00\", \"2020-10-01 21:00:00+03:00\", \"2020-10-01 22:00:00+03:00\", \"2020-10-01 23:00:00+03:00\", \"2020-10-02 00:00:00+03:00\", \"2020-10-02 01:00:00+03:00\", \"2020-10-02 02:00:00+03:00\", \"2020-10-02 03:00:00+03:00\", \"2020-10-02 04:00:00+03:00\", \"2020-10-02 05:00:00+03:00\", \"2020-10-02 06:00:00+03:00\", \"2020-10-02 07:00:00+03:00\", \"2020-10-02 08:00:00+03:00\", \"2020-10-02 09:00:00+03:00\", \"2020-10-02 10:00:00+03:00\", \"2020-10-02 11:00:00+03:00\", \"2020-10-02 12:00:00+03:00\", \"2020-10-02 13:00:00+03:00\", \"2020-10-02 14:00:00+03:00\", \"2020-10-02 15:00:00+03:00\", \"2020-10-02 16:00:00+03:00\", \"2020-10-02 17:00:00+03:00\", \"2020-10-02 18:00:00+03:00\", \"2020-10-02 19:00:00+03:00\", \"2020-10-02 20:00:00+03:00\", \"2020-10-02 21:00:00+03:00\", \"2020-10-02 22:00:00+03:00\", \"2020-10-03 00:00:00+03:00\", \"2020-10-03 01:00:00+03:00\", \"2020-10-03 02:00:00+03:00\", \"2020-10-03 03:00:00+03:00\", \"2020-10-03 04:00:00+03:00\", \"2020-10-03 05:00:00+03:00\", \"2020-10-03 06:00:00+03:00\", \"2020-10-03 07:00:00+03:00\", \"2020-10-03 08:00:00+03:00\", \"2020-10-03 09:00:00+03:00\", \"2020-10-03 10:00:00+03:00\", \"2020-10-03 11:00:00+03:00\", \"2020-10-03 12:00:00+03:00\", \"2020-10-03 13:00:00+03:00\", \"2020-10-03 14:00:00+03:00\", \"2020-10-03 15:00:00+03:00\", \"2020-10-03 16:00:00+03:00\", \"2020-10-03 17:00:00+03:00\", \"2020-10-03 18:00:00+03:00\", \"2020-10-03 19:00:00+03:00\", \"2020-10-03 20:00:00+03:00\", \"2020-10-03 21:00:00+03:00\", \"2020-10-03 22:00:00+03:00\", \"2020-10-03 23:00:00+03:00\", \"2020-10-04 00:00:00+03:00\", \"2020-10-04 01:00:00+03:00\", \"2020-10-04 02:00:00+03:00\", \"2020-10-04 03:00:00+03:00\", \"2020-10-04 04:00:00+03:00\", \"2020-10-04 05:00:00+03:00\", \"2020-10-04 06:00:00+03:00\", \"2020-10-05 06:00:00+03:00\", \"2020-10-05 07:00:00+03:00\", \"2020-10-05 08:00:00+03:00\", \"2020-10-05 09:00:00+03:00\", \"2020-10-05 10:00:00+03:00\", \"2020-10-05 11:00:00+03:00\", \"2020-10-05 12:00:00+03:00\", \"2020-10-05 13:00:00+03:00\", \"2020-10-05 14:00:00+03:00\", \"2020-10-05 15:00:00+03:00\", \"2020-10-05 16:00:00+03:00\", \"2020-10-05 17:00:00+03:00\", \"2020-10-05 18:00:00+03:00\", \"2020-10-05 19:00:00+03:00\", \"2020-10-05 20:00:00+03:00\", \"2020-10-05 21:00:00+03:00\", \"2020-10-05 22:00:00+03:00\", \"2020-10-05 23:00:00+03:00\", \"2020-10-06 00:00:00+03:00\", \"2020-10-06 00:00:00+03:00\", \"2020-10-06 01:00:00+03:00\", \"2020-10-06 01:00:00+03:00\", \"2020-10-06 02:00:00+03:00\", \"2020-10-06 02:00:00+03:00\", \"2020-10-06 03:00:00+03:00\", \"2020-10-06 03:00:00+03:00\", \"2020-10-06 04:00:00+03:00\", \"2020-10-06 04:00:00+03:00\", \"2020-10-06 05:00:00+03:00\", \"2020-10-06 06:00:00+03:00\", \"2020-10-06 06:00:00+03:00\", \"2020-10-06 07:00:00+03:00\", \"2020-10-06 07:00:00+03:00\", \"2020-10-06 08:00:00+03:00\", \"2020-10-06 08:00:00+03:00\", \"2020-10-06 09:00:00+03:00\", \"2020-10-06 09:00:00+03:00\", \"2020-10-06 10:00:00+03:00\", \"2020-10-06 10:00:00+03:00\", \"2020-10-06 11:00:00+03:00\", \"2020-10-06 11:00:00+03:00\", \"2020-10-06 12:00:00+03:00\", \"2020-10-06 12:00:00+03:00\", \"2020-10-06 13:00:00+03:00\", \"2020-10-06 13:00:00+03:00\", \"2020-10-06 14:00:00+03:00\", \"2020-10-06 14:00:00+03:00\", \"2020-10-06 15:00:00+03:00\", \"2020-10-06 15:00:00+03:00\", \"2020-10-06 16:00:00+03:00\", \"2020-10-06 16:00:00+03:00\", \"2020-10-06 17:00:00+03:00\", \"2020-10-06 17:00:00+03:00\", \"2020-10-06 18:00:00+03:00\", \"2020-10-06 19:00:00+03:00\", \"2020-10-06 19:00:00+03:00\", \"2020-10-06 20:00:00+03:00\", \"2020-10-06 20:00:00+03:00\", \"2020-10-06 21:00:00+03:00\", \"2020-10-06 21:00:00+03:00\", \"2020-10-06 22:00:00+03:00\", \"2020-10-06 22:00:00+03:00\", \"2020-10-06 23:00:00+03:00\", \"2020-10-06 23:00:00+03:00\", \"2020-10-07 00:00:00+03:00\", \"2020-10-07 00:00:00+03:00\", \"2020-10-07 01:00:00+03:00\", \"2020-10-07 01:00:00+03:00\", \"2020-10-07 02:00:00+03:00\", \"2020-10-07 02:00:00+03:00\", \"2020-10-07 03:00:00+03:00\", \"2020-10-07 03:00:00+03:00\", \"2020-10-07 04:00:00+03:00\", \"2020-10-07 04:00:00+03:00\", \"2020-10-07 05:00:00+03:00\", \"2020-10-07 05:00:00+03:00\", \"2020-10-07 06:00:00+03:00\", \"2020-10-07 06:00:00+03:00\", \"2020-10-07 07:00:00+03:00\", \"2020-10-07 07:00:00+03:00\", \"2020-10-07 08:00:00+03:00\", \"2020-10-07 08:00:00+03:00\", \"2020-10-07 09:00:00+03:00\", \"2020-10-07 09:00:00+03:00\", \"2020-10-07 10:00:00+03:00\", \"2020-10-07 10:00:00+03:00\", \"2020-10-07 11:00:00+03:00\", \"2020-10-07 11:00:00+03:00\", \"2020-10-07 12:00:00+03:00\", \"2020-10-07 12:00:00+03:00\", \"2020-10-07 13:00:00+03:00\", \"2020-10-07 13:00:00+03:00\", \"2020-10-07 14:00:00+03:00\", \"2020-10-07 14:00:00+03:00\", \"2020-10-07 15:00:00+03:00\", \"2020-10-07 15:00:00+03:00\", \"2020-10-07 16:00:00+03:00\", \"2020-10-07 16:00:00+03:00\", \"2020-10-07 17:00:00+03:00\", \"2020-10-07 17:00:00+03:00\", \"2020-10-07 18:00:00+03:00\", \"2020-10-07 18:00:00+03:00\", \"2020-10-07 19:00:00+03:00\", \"2020-10-07 19:00:00+03:00\", \"2020-10-07 20:00:00+03:00\", \"2020-10-07 20:00:00+03:00\", \"2020-10-07 21:00:00+03:00\", \"2020-10-07 21:00:00+03:00\", \"2020-10-07 22:00:00+03:00\", \"2020-10-07 22:00:00+03:00\", \"2020-10-07 23:00:00+03:00\", \"2020-10-07 23:00:00+03:00\", \"2020-10-08 00:00:00+03:00\", \"2020-10-08 00:00:00+03:00\", \"2020-10-08 01:00:00+03:00\", \"2020-10-08 02:00:00+03:00\", \"2020-10-08 03:00:00+03:00\", \"2020-10-08 04:00:00+03:00\", \"2020-10-08 05:00:00+03:00\", \"2020-10-08 06:00:00+03:00\", \"2020-10-08 07:00:00+03:00\", \"2020-10-08 08:00:00+03:00\", \"2020-10-08 09:00:00+03:00\", \"2020-10-08 10:00:00+03:00\", \"2020-10-08 11:00:00+03:00\", \"2020-10-08 12:00:00+03:00\", \"2020-10-08 13:00:00+03:00\", \"2020-10-08 14:00:00+03:00\", \"2020-10-08 15:00:00+03:00\", \"2020-10-08 16:00:00+03:00\", \"2020-10-08 17:00:00+03:00\", \"2020-10-08 18:00:00+03:00\", \"2020-10-11 15:00:00+03:00\", \"2020-10-11 16:00:00+03:00\", \"2020-10-11 17:00:00+03:00\", \"2020-10-11 18:00:00+03:00\", \"2020-10-11 19:00:00+03:00\", \"2020-10-11 20:00:00+03:00\", \"2020-10-11 21:00:00+03:00\", \"2020-10-11 22:00:00+03:00\", \"2020-10-11 23:00:00+03:00\", \"2020-10-12 00:00:00+03:00\", \"2020-10-12 01:00:00+03:00\", \"2020-10-12 02:00:00+03:00\", \"2020-10-12 03:00:00+03:00\", \"2020-10-12 04:00:00+03:00\", \"2020-10-12 05:00:00+03:00\", \"2020-10-12 06:00:00+03:00\", \"2020-10-12 07:00:00+03:00\", \"2020-10-12 08:00:00+03:00\", \"2020-10-12 09:00:00+03:00\", \"2020-10-12 10:00:00+03:00\", \"2020-10-12 11:00:00+03:00\", \"2020-10-12 12:00:00+03:00\", \"2020-10-12 13:00:00+03:00\", \"2020-10-12 14:00:00+03:00\", \"2020-10-12 15:00:00+03:00\", \"2020-10-12 16:00:00+03:00\", \"2020-10-12 17:00:00+03:00\", \"2020-10-12 18:00:00+03:00\", \"2020-10-12 19:00:00+03:00\", \"2020-10-12 20:00:00+03:00\", \"2020-10-12 21:00:00+03:00\", \"2020-10-12 22:00:00+03:00\", \"2020-10-12 23:00:00+03:00\", \"2020-10-13 00:00:00+03:00\", \"2020-10-13 01:00:00+03:00\", \"2020-10-13 02:00:00+03:00\", \"2020-10-13 03:00:00+03:00\", \"2020-10-13 04:00:00+03:00\", \"2020-10-13 05:00:00+03:00\", \"2020-10-13 06:00:00+03:00\", \"2020-10-13 07:00:00+03:00\", \"2020-10-13 08:00:00+03:00\", \"2020-10-13 09:00:00+03:00\", \"2020-10-13 10:00:00+03:00\", \"2020-10-13 11:00:00+03:00\", \"2020-10-13 12:00:00+03:00\", \"2020-10-13 13:00:00+03:00\", \"2020-10-13 14:00:00+03:00\", \"2020-10-13 16:00:00+03:00\", \"2020-10-13 17:00:00+03:00\", \"2020-10-13 18:00:00+03:00\", \"2020-10-13 19:00:00+03:00\", \"2020-10-13 20:00:00+03:00\", \"2020-10-13 21:00:00+03:00\", \"2020-10-13 22:00:00+03:00\", \"2020-10-13 23:00:00+03:00\", \"2020-10-14 00:00:00+03:00\", \"2020-10-14 01:00:00+03:00\", \"2020-10-14 02:00:00+03:00\", \"2020-10-14 03:00:00+03:00\", \"2020-10-14 04:00:00+03:00\", \"2020-10-14 05:00:00+03:00\", \"2020-10-14 06:00:00+03:00\", \"2020-10-14 07:00:00+03:00\", \"2020-10-14 08:00:00+03:00\", \"2020-10-14 09:00:00+03:00\", \"2020-10-19 15:00:00+03:00\", \"2020-10-19 16:00:00+03:00\", \"2020-10-19 17:00:00+03:00\", \"2020-10-19 18:00:00+03:00\", \"2020-10-19 19:00:00+03:00\", \"2020-10-19 20:00:00+03:00\", \"2020-10-19 21:00:00+03:00\", \"2020-10-19 22:00:00+03:00\", \"2020-10-19 23:00:00+03:00\", \"2020-10-20 00:00:00+03:00\", \"2020-10-20 01:00:00+03:00\", \"2020-10-20 02:00:00+03:00\", \"2020-10-20 03:00:00+03:00\", \"2020-10-20 04:00:00+03:00\", \"2020-10-20 05:00:00+03:00\", \"2020-10-20 06:00:00+03:00\", \"2020-10-20 07:00:00+03:00\", \"2020-10-20 08:00:00+03:00\", \"2020-10-20 09:00:00+03:00\", \"2020-10-20 10:00:00+03:00\", \"2020-10-20 11:00:00+03:00\", \"2020-10-20 12:00:00+03:00\", \"2020-10-20 13:00:00+03:00\", \"2020-10-20 14:00:00+03:00\", \"2020-10-20 15:00:00+03:00\", \"2020-10-20 16:00:00+03:00\", \"2020-10-20 17:00:00+03:00\", \"2020-10-20 18:00:00+03:00\", \"2020-10-20 19:00:00+03:00\", \"2020-10-20 20:00:00+03:00\", \"2020-10-20 21:00:00+03:00\", \"2020-10-20 22:00:00+03:00\", \"2020-10-20 23:00:00+03:00\", \"2020-10-21 00:00:00+03:00\", \"2020-10-21 01:00:00+03:00\", \"2020-10-21 02:00:00+03:00\", \"2020-10-21 03:00:00+03:00\", \"2020-10-21 04:00:00+03:00\", \"2020-10-21 05:00:00+03:00\", \"2020-10-21 06:00:00+03:00\", \"2020-10-21 07:00:00+03:00\", \"2020-10-21 08:00:00+03:00\", \"2020-10-21 09:00:00+03:00\", \"2020-10-21 10:00:00+03:00\", \"2020-10-21 11:00:00+03:00\", \"2020-10-21 12:00:00+03:00\", \"2020-10-21 13:00:00+03:00\", \"2020-10-21 15:00:00+03:00\", \"2020-10-21 16:00:00+03:00\", \"2020-10-21 17:00:00+03:00\", \"2020-10-21 18:00:00+03:00\", \"2020-10-21 19:00:00+03:00\", \"2020-10-21 20:00:00+03:00\", \"2020-10-21 21:00:00+03:00\", \"2020-10-21 22:00:00+03:00\", \"2020-10-21 23:00:00+03:00\", \"2020-10-22 00:00:00+03:00\", \"2020-10-22 01:00:00+03:00\", \"2020-10-22 02:00:00+03:00\", \"2020-10-22 03:00:00+03:00\", \"2020-10-22 04:00:00+03:00\", \"2020-10-22 05:00:00+03:00\", \"2020-10-22 06:00:00+03:00\", \"2020-10-22 07:00:00+03:00\", \"2020-10-22 08:00:00+03:00\", \"2020-10-22 09:00:00+03:00\"], \"y\": [71.0, 76.0, 78.0, 79.0, 80.0, 79.0, 80.0, 81.0, 84.0, 89.0, 101.0, 115.0, 123.0, 117.0, 105.0, 100.0, 92.0, 91.0, 89.0, 89.0, 88.0, 90.0, 95.0, 97.0, 91.0, 91.0, 92.0, 90.0, 90.0, 90.0, 91.0, 94.0, 100.0, 105.0, 115.0, 116.0, 105.0, 103.0, 103.0, 100.0, 95.0, 95.0, 93.0, 93.0, 92.0, 101.0, 104.0, 106.0, 105.0, 97.0, 95.0, 97.0, 100.0, 104.0, 106.0, 112.0, 119.0, 120.0, 119.0, 118.0, 112.0, 114.0, 117.0, 114.0, 111.0, 113.0, 183.0, 185.0, 201.0, 218.0, 219.0, 220.0, 225.0, 221.0, 219.0, 228.0, 217.0, 144.0, 111.0, 106.0, 121.0, 137.0, 147.0, 147.0, 147.0, 152.0, 150.0, 153.0, 146.0, 146.0, 142.0, 132.0, 128.0, 134.0, 128.0, 129.0, 124.0, 123.0, 120.0, 119.0, 117.0, 127.0, 122.0, 137.0, 129.0, 152.0, 143.0, 156.0, 150.0, 160.0, 155.0, 166.0, 153.0, 156.0, 153.0, 163.0, 166.0, 181.0, 178.0, 182.0, 212.0, 190.0, 207.0, 195.0, 196.0, 187.0, 193.0, 190.0, 192.0, 192.0, 189.0, 187.0, 186.0, 186.0, 176.0, 175.0, 178.0, 168.0, 163.0, 174.0, 164.0, 168.0, 165.0, 167.0, 159.0, 171.0, 170.0, 166.0, 173.0, 171.0, 163.0, 164.0, 159.0, 168.0, 157.0, 170.0, 155.0, 168.0, 171.0, 154.0, 168.0, 154.0, 166.0, 145.0, 135.0, 164.0, 159.0, 136.0, 148.0, 160.0, 154.0, 159.0, 161.0, 158.0, 164.0, 178.0, 173.0, 190.0, 168.0, 198.0, 211.0, 219.0, 211.0, 202.0, 185.0, 180.0, 177.0, 177.0, 186.0, 180.0, 167.0, 177.0, 195.0, 189.0, 178.0, \"\", \"\", \"\", 250.0, 242.0, 230.0, 238.0, 253.0, 265.0, 275.0, 286.0, 299.0, 313.0, 325.0, 25.0, 105.0, 109.0, 117.0, 130.0, 166.0, 171.0, 190.0, 189.0, 205.0, 213.0, 221.0, 217.0, 210.0, 213.0, 216.0, 205.0, 211.0, 211.0, 212.0, 210.0, 240.0, 216.0, 206.0, 262.0, 228.0, 253.0, 217.0, 220.0, 224.0, 274.0, 260.0, 271.0, 277.0, 266.0, 266.0, 254.0, 257.0, 264.0, 347.0, 1.0, 9.0, 18.0, 31.0, 35.0, 36.0, 39.0, 40.0, 42.0, 44.0, 40.0, 41.0, 44.0, 46.0, 48.0, 327.0, 325.0, 316.0, 313.0, 329.0, 312.0, 313.0, 316.0, 327.0, 323.0, 334.0, 334.0, 335.0, 336.0, 341.0, 337.0, 328.0, 329.0, 338.0, 332.0, 338.0, 330.0, 312.0, 307.0, 299.0, 303.0, 303.0, 309.0, 310.0, 316.0, 351.0, 45.0, 82.0, 121.0, 177.0, 175.0, 147.0, 154.0, 144.0, 142.0, 156.0, 151.0, 146.0, 149.0, 153.0, 154.0, 152.0, 154.0, 150.0, 151.0, 152.0, 154.0, 154.0, 156.0, 162.0, 168.0, 175.0, 182.0, 186.0, 185.0, 177.0, 171.0, 167.0, 163.0, 165.0, 174.0]}, {\"line\": {\"color\": \"rgba(128, 0, 128, 1.0)\", \"dash\": \"solid\", \"shape\": \"linear\", \"width\": 1.5}, \"mode\": \"lines\", \"name\": \"air_pressure_hpa\", \"text\": \"\", \"type\": \"scatter\", \"x\": [\"2020-10-01 12:00:00+03:00\", \"2020-10-01 13:00:00+03:00\", \"2020-10-01 14:00:00+03:00\", \"2020-10-01 15:00:00+03:00\", \"2020-10-01 16:00:00+03:00\", \"2020-10-01 17:00:00+03:00\", \"2020-10-01 18:00:00+03:00\", \"2020-10-01 19:00:00+03:00\", \"2020-10-01 20:00:00+03:00\", \"2020-10-01 21:00:00+03:00\", \"2020-10-01 22:00:00+03:00\", \"2020-10-01 23:00:00+03:00\", \"2020-10-02 00:00:00+03:00\", \"2020-10-02 01:00:00+03:00\", \"2020-10-02 02:00:00+03:00\", \"2020-10-02 03:00:00+03:00\", \"2020-10-02 04:00:00+03:00\", \"2020-10-02 05:00:00+03:00\", \"2020-10-02 06:00:00+03:00\", \"2020-10-02 07:00:00+03:00\", \"2020-10-02 08:00:00+03:00\", \"2020-10-02 09:00:00+03:00\", \"2020-10-02 10:00:00+03:00\", \"2020-10-02 11:00:00+03:00\", \"2020-10-02 12:00:00+03:00\", \"2020-10-02 13:00:00+03:00\", \"2020-10-02 14:00:00+03:00\", \"2020-10-02 15:00:00+03:00\", \"2020-10-02 16:00:00+03:00\", \"2020-10-02 17:00:00+03:00\", \"2020-10-02 18:00:00+03:00\", \"2020-10-02 19:00:00+03:00\", \"2020-10-02 20:00:00+03:00\", \"2020-10-02 21:00:00+03:00\", \"2020-10-02 22:00:00+03:00\", \"2020-10-03 00:00:00+03:00\", \"2020-10-03 01:00:00+03:00\", \"2020-10-03 02:00:00+03:00\", \"2020-10-03 03:00:00+03:00\", \"2020-10-03 04:00:00+03:00\", \"2020-10-03 05:00:00+03:00\", \"2020-10-03 06:00:00+03:00\", \"2020-10-03 07:00:00+03:00\", \"2020-10-03 08:00:00+03:00\", \"2020-10-03 09:00:00+03:00\", \"2020-10-03 10:00:00+03:00\", \"2020-10-03 11:00:00+03:00\", \"2020-10-03 12:00:00+03:00\", \"2020-10-03 13:00:00+03:00\", \"2020-10-03 14:00:00+03:00\", \"2020-10-03 15:00:00+03:00\", \"2020-10-03 16:00:00+03:00\", \"2020-10-03 17:00:00+03:00\", \"2020-10-03 18:00:00+03:00\", \"2020-10-03 19:00:00+03:00\", \"2020-10-03 20:00:00+03:00\", \"2020-10-03 21:00:00+03:00\", \"2020-10-03 22:00:00+03:00\", \"2020-10-03 23:00:00+03:00\", \"2020-10-04 00:00:00+03:00\", \"2020-10-04 01:00:00+03:00\", \"2020-10-04 02:00:00+03:00\", \"2020-10-04 03:00:00+03:00\", \"2020-10-04 04:00:00+03:00\", \"2020-10-04 05:00:00+03:00\", \"2020-10-04 06:00:00+03:00\", \"2020-10-05 06:00:00+03:00\", \"2020-10-05 07:00:00+03:00\", \"2020-10-05 08:00:00+03:00\", \"2020-10-05 09:00:00+03:00\", \"2020-10-05 10:00:00+03:00\", \"2020-10-05 11:00:00+03:00\", \"2020-10-05 12:00:00+03:00\", \"2020-10-05 13:00:00+03:00\", \"2020-10-05 14:00:00+03:00\", \"2020-10-05 15:00:00+03:00\", \"2020-10-05 16:00:00+03:00\", \"2020-10-05 17:00:00+03:00\", \"2020-10-05 18:00:00+03:00\", \"2020-10-05 19:00:00+03:00\", \"2020-10-05 20:00:00+03:00\", \"2020-10-05 21:00:00+03:00\", \"2020-10-05 22:00:00+03:00\", \"2020-10-05 23:00:00+03:00\", \"2020-10-06 00:00:00+03:00\", \"2020-10-06 00:00:00+03:00\", \"2020-10-06 01:00:00+03:00\", \"2020-10-06 01:00:00+03:00\", \"2020-10-06 02:00:00+03:00\", \"2020-10-06 02:00:00+03:00\", \"2020-10-06 03:00:00+03:00\", \"2020-10-06 03:00:00+03:00\", \"2020-10-06 04:00:00+03:00\", \"2020-10-06 04:00:00+03:00\", \"2020-10-06 05:00:00+03:00\", \"2020-10-06 06:00:00+03:00\", \"2020-10-06 06:00:00+03:00\", \"2020-10-06 07:00:00+03:00\", \"2020-10-06 07:00:00+03:00\", \"2020-10-06 08:00:00+03:00\", \"2020-10-06 08:00:00+03:00\", \"2020-10-06 09:00:00+03:00\", \"2020-10-06 09:00:00+03:00\", \"2020-10-06 10:00:00+03:00\", \"2020-10-06 10:00:00+03:00\", \"2020-10-06 11:00:00+03:00\", \"2020-10-06 11:00:00+03:00\", \"2020-10-06 12:00:00+03:00\", \"2020-10-06 12:00:00+03:00\", \"2020-10-06 13:00:00+03:00\", \"2020-10-06 13:00:00+03:00\", \"2020-10-06 14:00:00+03:00\", \"2020-10-06 14:00:00+03:00\", \"2020-10-06 15:00:00+03:00\", \"2020-10-06 15:00:00+03:00\", \"2020-10-06 16:00:00+03:00\", \"2020-10-06 16:00:00+03:00\", \"2020-10-06 17:00:00+03:00\", \"2020-10-06 17:00:00+03:00\", \"2020-10-06 18:00:00+03:00\", \"2020-10-06 19:00:00+03:00\", \"2020-10-06 19:00:00+03:00\", \"2020-10-06 20:00:00+03:00\", \"2020-10-06 20:00:00+03:00\", \"2020-10-06 21:00:00+03:00\", \"2020-10-06 21:00:00+03:00\", \"2020-10-06 22:00:00+03:00\", \"2020-10-06 22:00:00+03:00\", \"2020-10-06 23:00:00+03:00\", \"2020-10-06 23:00:00+03:00\", \"2020-10-07 00:00:00+03:00\", \"2020-10-07 00:00:00+03:00\", \"2020-10-07 01:00:00+03:00\", \"2020-10-07 01:00:00+03:00\", \"2020-10-07 02:00:00+03:00\", \"2020-10-07 02:00:00+03:00\", \"2020-10-07 03:00:00+03:00\", \"2020-10-07 03:00:00+03:00\", \"2020-10-07 04:00:00+03:00\", \"2020-10-07 04:00:00+03:00\", \"2020-10-07 05:00:00+03:00\", \"2020-10-07 05:00:00+03:00\", \"2020-10-07 06:00:00+03:00\", \"2020-10-07 06:00:00+03:00\", \"2020-10-07 07:00:00+03:00\", \"2020-10-07 07:00:00+03:00\", \"2020-10-07 08:00:00+03:00\", \"2020-10-07 08:00:00+03:00\", \"2020-10-07 09:00:00+03:00\", \"2020-10-07 09:00:00+03:00\", \"2020-10-07 10:00:00+03:00\", \"2020-10-07 10:00:00+03:00\", \"2020-10-07 11:00:00+03:00\", \"2020-10-07 11:00:00+03:00\", \"2020-10-07 12:00:00+03:00\", \"2020-10-07 12:00:00+03:00\", \"2020-10-07 13:00:00+03:00\", \"2020-10-07 13:00:00+03:00\", \"2020-10-07 14:00:00+03:00\", \"2020-10-07 14:00:00+03:00\", \"2020-10-07 15:00:00+03:00\", \"2020-10-07 15:00:00+03:00\", \"2020-10-07 16:00:00+03:00\", \"2020-10-07 16:00:00+03:00\", \"2020-10-07 17:00:00+03:00\", \"2020-10-07 17:00:00+03:00\", \"2020-10-07 18:00:00+03:00\", \"2020-10-07 18:00:00+03:00\", \"2020-10-07 19:00:00+03:00\", \"2020-10-07 19:00:00+03:00\", \"2020-10-07 20:00:00+03:00\", \"2020-10-07 20:00:00+03:00\", \"2020-10-07 21:00:00+03:00\", \"2020-10-07 21:00:00+03:00\", \"2020-10-07 22:00:00+03:00\", \"2020-10-07 22:00:00+03:00\", \"2020-10-07 23:00:00+03:00\", \"2020-10-07 23:00:00+03:00\", \"2020-10-08 00:00:00+03:00\", \"2020-10-08 00:00:00+03:00\", \"2020-10-08 01:00:00+03:00\", \"2020-10-08 02:00:00+03:00\", \"2020-10-08 03:00:00+03:00\", \"2020-10-08 04:00:00+03:00\", \"2020-10-08 05:00:00+03:00\", \"2020-10-08 06:00:00+03:00\", \"2020-10-08 07:00:00+03:00\", \"2020-10-08 08:00:00+03:00\", \"2020-10-08 09:00:00+03:00\", \"2020-10-08 10:00:00+03:00\", \"2020-10-08 11:00:00+03:00\", \"2020-10-08 12:00:00+03:00\", \"2020-10-08 13:00:00+03:00\", \"2020-10-08 14:00:00+03:00\", \"2020-10-08 15:00:00+03:00\", \"2020-10-08 16:00:00+03:00\", \"2020-10-08 17:00:00+03:00\", \"2020-10-08 18:00:00+03:00\", \"2020-10-11 15:00:00+03:00\", \"2020-10-11 16:00:00+03:00\", \"2020-10-11 17:00:00+03:00\", \"2020-10-11 18:00:00+03:00\", \"2020-10-11 19:00:00+03:00\", \"2020-10-11 20:00:00+03:00\", \"2020-10-11 21:00:00+03:00\", \"2020-10-11 22:00:00+03:00\", \"2020-10-11 23:00:00+03:00\", \"2020-10-12 00:00:00+03:00\", \"2020-10-12 01:00:00+03:00\", \"2020-10-12 02:00:00+03:00\", \"2020-10-12 03:00:00+03:00\", \"2020-10-12 04:00:00+03:00\", \"2020-10-12 05:00:00+03:00\", \"2020-10-12 06:00:00+03:00\", \"2020-10-12 07:00:00+03:00\", \"2020-10-12 08:00:00+03:00\", \"2020-10-12 09:00:00+03:00\", \"2020-10-12 10:00:00+03:00\", \"2020-10-12 11:00:00+03:00\", \"2020-10-12 12:00:00+03:00\", \"2020-10-12 13:00:00+03:00\", \"2020-10-12 14:00:00+03:00\", \"2020-10-12 15:00:00+03:00\", \"2020-10-12 16:00:00+03:00\", \"2020-10-12 17:00:00+03:00\", \"2020-10-12 18:00:00+03:00\", \"2020-10-12 19:00:00+03:00\", \"2020-10-12 20:00:00+03:00\", \"2020-10-12 21:00:00+03:00\", \"2020-10-12 22:00:00+03:00\", \"2020-10-12 23:00:00+03:00\", \"2020-10-13 00:00:00+03:00\", \"2020-10-13 01:00:00+03:00\", \"2020-10-13 02:00:00+03:00\", \"2020-10-13 03:00:00+03:00\", \"2020-10-13 04:00:00+03:00\", \"2020-10-13 05:00:00+03:00\", \"2020-10-13 06:00:00+03:00\", \"2020-10-13 07:00:00+03:00\", \"2020-10-13 08:00:00+03:00\", \"2020-10-13 09:00:00+03:00\", \"2020-10-13 10:00:00+03:00\", \"2020-10-13 11:00:00+03:00\", \"2020-10-13 12:00:00+03:00\", \"2020-10-13 13:00:00+03:00\", \"2020-10-13 14:00:00+03:00\", \"2020-10-13 16:00:00+03:00\", \"2020-10-13 17:00:00+03:00\", \"2020-10-13 18:00:00+03:00\", \"2020-10-13 19:00:00+03:00\", \"2020-10-13 20:00:00+03:00\", \"2020-10-13 21:00:00+03:00\", \"2020-10-13 22:00:00+03:00\", \"2020-10-13 23:00:00+03:00\", \"2020-10-14 00:00:00+03:00\", \"2020-10-14 01:00:00+03:00\", \"2020-10-14 02:00:00+03:00\", \"2020-10-14 03:00:00+03:00\", \"2020-10-14 04:00:00+03:00\", \"2020-10-14 05:00:00+03:00\", \"2020-10-14 06:00:00+03:00\", \"2020-10-14 07:00:00+03:00\", \"2020-10-14 08:00:00+03:00\", \"2020-10-14 09:00:00+03:00\", \"2020-10-19 15:00:00+03:00\", \"2020-10-19 16:00:00+03:00\", \"2020-10-19 17:00:00+03:00\", \"2020-10-19 18:00:00+03:00\", \"2020-10-19 19:00:00+03:00\", \"2020-10-19 20:00:00+03:00\", \"2020-10-19 21:00:00+03:00\", \"2020-10-19 22:00:00+03:00\", \"2020-10-19 23:00:00+03:00\", \"2020-10-20 00:00:00+03:00\", \"2020-10-20 01:00:00+03:00\", \"2020-10-20 02:00:00+03:00\", \"2020-10-20 03:00:00+03:00\", \"2020-10-20 04:00:00+03:00\", \"2020-10-20 05:00:00+03:00\", \"2020-10-20 06:00:00+03:00\", \"2020-10-20 07:00:00+03:00\", \"2020-10-20 08:00:00+03:00\", \"2020-10-20 09:00:00+03:00\", \"2020-10-20 10:00:00+03:00\", \"2020-10-20 11:00:00+03:00\", \"2020-10-20 12:00:00+03:00\", \"2020-10-20 13:00:00+03:00\", \"2020-10-20 14:00:00+03:00\", \"2020-10-20 15:00:00+03:00\", \"2020-10-20 16:00:00+03:00\", \"2020-10-20 17:00:00+03:00\", \"2020-10-20 18:00:00+03:00\", \"2020-10-20 19:00:00+03:00\", \"2020-10-20 20:00:00+03:00\", \"2020-10-20 21:00:00+03:00\", \"2020-10-20 22:00:00+03:00\", \"2020-10-20 23:00:00+03:00\", \"2020-10-21 00:00:00+03:00\", \"2020-10-21 01:00:00+03:00\", \"2020-10-21 02:00:00+03:00\", \"2020-10-21 03:00:00+03:00\", \"2020-10-21 04:00:00+03:00\", \"2020-10-21 05:00:00+03:00\", \"2020-10-21 06:00:00+03:00\", \"2020-10-21 07:00:00+03:00\", \"2020-10-21 08:00:00+03:00\", \"2020-10-21 09:00:00+03:00\", \"2020-10-21 10:00:00+03:00\", \"2020-10-21 11:00:00+03:00\", \"2020-10-21 12:00:00+03:00\", \"2020-10-21 13:00:00+03:00\", \"2020-10-21 15:00:00+03:00\", \"2020-10-21 16:00:00+03:00\", \"2020-10-21 17:00:00+03:00\", \"2020-10-21 18:00:00+03:00\", \"2020-10-21 19:00:00+03:00\", \"2020-10-21 20:00:00+03:00\", \"2020-10-21 21:00:00+03:00\", \"2020-10-21 22:00:00+03:00\", \"2020-10-21 23:00:00+03:00\", \"2020-10-22 00:00:00+03:00\", \"2020-10-22 01:00:00+03:00\", \"2020-10-22 02:00:00+03:00\", \"2020-10-22 03:00:00+03:00\", \"2020-10-22 04:00:00+03:00\", \"2020-10-22 05:00:00+03:00\", \"2020-10-22 06:00:00+03:00\", \"2020-10-22 07:00:00+03:00\", \"2020-10-22 08:00:00+03:00\", \"2020-10-22 09:00:00+03:00\"], \"y\": [1001.84, 1001.8, 1001.46, 1001.4, 1001.2, 1001.06, 1001.15, 1001.4, 1001.7, 1001.64, 1001.71, 1001.71, 1001.75, 1001.86, 1001.89, 1002.02, 1002.07, 1001.98, 1001.86, 1001.94, 1002.15, 1002.48, 1002.8, 1003.25, 1003.58, 1003.81, 1003.74, 1003.66, 1003.62, 1003.7, 1003.66, 1003.69, 1003.79, 1004.04, 1004.45, 1004.96, 1004.97, 1004.82, 1004.46, 1004.1, 1003.9, 1004.11, 1004.25, 1004.17, 1004.02, 1004.04, 1004.28, 1004.33, 1004.49, 1004.26, 1003.69, 1003.16, 1003.02, 1003.01, 1002.88, 1002.65, 1002.57, 1002.44, 1002.57, 1002.43, 1002.21, 1002.16, 1001.86, 1001.54, 1001.21, 1000.93, 993.46, 993.04, 994.36, 995.13, 996.0, 996.58, 996.85, 997.28, 997.84, 997.98, 997.84, 997.42, 996.88, 996.73, 996.73, 996.63, 996.0, 995.21, 995.0, 995.09, 994.83, 995.02, 993.87, 994.4, 992.95, 993.45, 992.35, 991.95, 991.12, 990.07, 990.34, 989.83, 989.15, 989.46, 988.28, 988.85, 988.25, 988.77, 987.59, 988.53, 987.14, 988.19, 986.88, 988.01, 986.84, 988.26, 986.8, 988.33, 987.17, 987.13, 988.66, 988.7, 987.54, 988.83, 989.35, 988.47, 989.82, 989.13, 990.19, 989.35, 990.65, 989.55, 990.95, 989.79, 991.22, 990.27, 990.63, 991.3, 991.48, 990.86, 991.09, 991.59, 991.52, 990.94, 991.31, 990.87, 990.88, 990.83, 990.62, 990.89, 990.91, 990.82, 991.05, 991.16, 991.29, 991.37, 991.7, 992.02, 992.07, 992.52, 992.36, 992.83, 992.78, 992.32, 992.66, 992.19, 992.56, 991.78, 991.39, 992.47, 992.54, 991.39, 991.53, 993.0, 993.18, 991.96, 993.12, 992.2, 992.33, 993.23, 992.28, 993.59, 992.18, 993.6, 993.86, 994.02, 994.15, 994.31, 994.51, 994.59, 994.7, 994.84, 995.2, 995.37, 995.23, 995.49, 995.49, 995.47, 995.69, \"\", \"\", \"\", 997.1, 997.1, 996.96, 997.12, 997.45, 997.88, 998.01, 997.96, 997.78, 997.6, 997.39, 997.14, 996.98, 996.66, 996.18, 995.49, 994.96, 994.74, 994.74, 994.65, 994.37, 994.32, 994.09, 993.73, 993.48, 993.31, 993.1, 993.08, 992.89, 992.92, 992.96, 993.07, 993.09, 993.13, 993.07, 993.57, 993.8, 993.62, 993.71, 993.49, 993.63, 994.16, 994.66, 995.17, 995.79, 996.49, 997.13, 997.65, 998.17, 998.55, 999.04, 999.73, 1000.37, 1001.2, 1001.97, 1002.68, 1003.07, 1003.46, 1003.87, 1004.15, 1004.41, 1004.66, 1004.88, 1005.03, 1005.31, 1005.53, 983.32, 983.87, 984.94, 985.79, 986.37, 986.92, 987.53, 988.23, 989.26, 990.05, 990.71, 991.38, 992.31, 993.05, 993.86, 994.94, 995.94, 996.77, 997.24, 998.27, 998.86, 999.53, 1000.09, 1000.21, 1000.48, 1000.89, 1000.8, 1000.83, 1000.87, 1000.55, 1000.37, 1000.13, 999.91, 999.43, 998.86, 998.6, 997.86, 997.35, 996.45, 995.49, 994.58, 993.72, 993.11, 992.68, 992.49, 992.39, 991.96, 991.38, 990.87, 990.61, 990.24, 989.91, 989.36, 988.77, 988.1, 987.71, 987.27, 986.58, 985.82, 984.88, 983.73, 982.4, 981.15, 979.88, 978.81, 977.69]}],                        {\"legend\": {\"bgcolor\": \"#F5F6F9\", \"font\": {\"color\": \"#4D5663\"}}, \"paper_bgcolor\": \"#F5F6F9\", \"plot_bgcolor\": \"#F5F6F9\", \"template\": {\"data\": {\"bar\": [{\"error_x\": {\"color\": \"#2a3f5f\"}, \"error_y\": {\"color\": \"#2a3f5f\"}, \"marker\": {\"line\": {\"color\": \"#E5ECF6\", \"width\": 0.5}}, \"type\": \"bar\"}], \"barpolar\": [{\"marker\": {\"line\": {\"color\": \"#E5ECF6\", \"width\": 0.5}}, \"type\": \"barpolar\"}], \"carpet\": [{\"aaxis\": {\"endlinecolor\": \"#2a3f5f\", \"gridcolor\": \"white\", \"linecolor\": \"white\", \"minorgridcolor\": \"white\", \"startlinecolor\": \"#2a3f5f\"}, \"baxis\": {\"endlinecolor\": \"#2a3f5f\", \"gridcolor\": \"white\", \"linecolor\": \"white\", \"minorgridcolor\": \"white\", \"startlinecolor\": \"#2a3f5f\"}, \"type\": \"carpet\"}], \"choropleth\": [{\"colorbar\": {\"outlinewidth\": 0, \"ticks\": \"\"}, \"type\": \"choropleth\"}], \"contour\": [{\"colorbar\": {\"outlinewidth\": 0, \"ticks\": \"\"}, \"colorscale\": [[0.0, \"#0d0887\"], [0.1111111111111111, \"#46039f\"], [0.2222222222222222, \"#7201a8\"], [0.3333333333333333, \"#9c179e\"], [0.4444444444444444, \"#bd3786\"], [0.5555555555555556, \"#d8576b\"], [0.6666666666666666, \"#ed7953\"], [0.7777777777777778, \"#fb9f3a\"], [0.8888888888888888, \"#fdca26\"], [1.0, \"#f0f921\"]], \"type\": \"contour\"}], \"contourcarpet\": [{\"colorbar\": {\"outlinewidth\": 0, \"ticks\": \"\"}, \"type\": \"contourcarpet\"}], \"heatmap\": [{\"colorbar\": {\"outlinewidth\": 0, \"ticks\": \"\"}, \"colorscale\": [[0.0, \"#0d0887\"], [0.1111111111111111, \"#46039f\"], [0.2222222222222222, \"#7201a8\"], [0.3333333333333333, \"#9c179e\"], [0.4444444444444444, \"#bd3786\"], [0.5555555555555556, \"#d8576b\"], [0.6666666666666666, \"#ed7953\"], [0.7777777777777778, \"#fb9f3a\"], [0.8888888888888888, \"#fdca26\"], [1.0, \"#f0f921\"]], \"type\": \"heatmap\"}], \"heatmapgl\": [{\"colorbar\": {\"outlinewidth\": 0, \"ticks\": \"\"}, \"colorscale\": [[0.0, \"#0d0887\"], [0.1111111111111111, \"#46039f\"], [0.2222222222222222, \"#7201a8\"], [0.3333333333333333, \"#9c179e\"], [0.4444444444444444, \"#bd3786\"], [0.5555555555555556, \"#d8576b\"], [0.6666666666666666, \"#ed7953\"], [0.7777777777777778, \"#fb9f3a\"], [0.8888888888888888, \"#fdca26\"], [1.0, \"#f0f921\"]], \"type\": \"heatmapgl\"}], \"histogram\": [{\"marker\": {\"colorbar\": {\"outlinewidth\": 0, \"ticks\": \"\"}}, \"type\": \"histogram\"}], \"histogram2d\": [{\"colorbar\": {\"outlinewidth\": 0, \"ticks\": \"\"}, \"colorscale\": [[0.0, \"#0d0887\"], [0.1111111111111111, \"#46039f\"], [0.2222222222222222, \"#7201a8\"], [0.3333333333333333, \"#9c179e\"], [0.4444444444444444, \"#bd3786\"], [0.5555555555555556, \"#d8576b\"], [0.6666666666666666, \"#ed7953\"], [0.7777777777777778, \"#fb9f3a\"], [0.8888888888888888, \"#fdca26\"], [1.0, \"#f0f921\"]], \"type\": \"histogram2d\"}], \"histogram2dcontour\": [{\"colorbar\": {\"outlinewidth\": 0, \"ticks\": \"\"}, \"colorscale\": [[0.0, \"#0d0887\"], [0.1111111111111111, \"#46039f\"], [0.2222222222222222, \"#7201a8\"], [0.3333333333333333, \"#9c179e\"], [0.4444444444444444, \"#bd3786\"], [0.5555555555555556, \"#d8576b\"], [0.6666666666666666, \"#ed7953\"], [0.7777777777777778, \"#fb9f3a\"], [0.8888888888888888, \"#fdca26\"], [1.0, \"#f0f921\"]], \"type\": \"histogram2dcontour\"}], \"mesh3d\": [{\"colorbar\": {\"outlinewidth\": 0, \"ticks\": \"\"}, \"type\": \"mesh3d\"}], \"parcoords\": [{\"line\": {\"colorbar\": {\"outlinewidth\": 0, \"ticks\": \"\"}}, \"type\": \"parcoords\"}], \"pie\": [{\"automargin\": true, \"type\": \"pie\"}], \"scatter\": [{\"marker\": {\"colorbar\": {\"outlinewidth\": 0, \"ticks\": \"\"}}, \"type\": \"scatter\"}], \"scatter3d\": [{\"line\": {\"colorbar\": {\"outlinewidth\": 0, \"ticks\": \"\"}}, \"marker\": {\"colorbar\": {\"outlinewidth\": 0, \"ticks\": \"\"}}, \"type\": \"scatter3d\"}], \"scattercarpet\": [{\"marker\": {\"colorbar\": {\"outlinewidth\": 0, \"ticks\": \"\"}}, \"type\": \"scattercarpet\"}], \"scattergeo\": [{\"marker\": {\"colorbar\": {\"outlinewidth\": 0, \"ticks\": \"\"}}, \"type\": \"scattergeo\"}], \"scattergl\": [{\"marker\": {\"colorbar\": {\"outlinewidth\": 0, \"ticks\": \"\"}}, \"type\": \"scattergl\"}], \"scattermapbox\": [{\"marker\": {\"colorbar\": {\"outlinewidth\": 0, \"ticks\": \"\"}}, \"type\": \"scattermapbox\"}], \"scatterpolar\": [{\"marker\": {\"colorbar\": {\"outlinewidth\": 0, \"ticks\": \"\"}}, \"type\": \"scatterpolar\"}], \"scatterpolargl\": [{\"marker\": {\"colorbar\": {\"outlinewidth\": 0, \"ticks\": \"\"}}, \"type\": \"scatterpolargl\"}], \"scatterternary\": [{\"marker\": {\"colorbar\": {\"outlinewidth\": 0, \"ticks\": \"\"}}, \"type\": \"scatterternary\"}], \"surface\": [{\"colorbar\": {\"outlinewidth\": 0, \"ticks\": \"\"}, \"colorscale\": [[0.0, \"#0d0887\"], [0.1111111111111111, \"#46039f\"], [0.2222222222222222, \"#7201a8\"], [0.3333333333333333, \"#9c179e\"], [0.4444444444444444, \"#bd3786\"], [0.5555555555555556, \"#d8576b\"], [0.6666666666666666, \"#ed7953\"], [0.7777777777777778, \"#fb9f3a\"], [0.8888888888888888, \"#fdca26\"], [1.0, \"#f0f921\"]], \"type\": \"surface\"}], \"table\": [{\"cells\": {\"fill\": {\"color\": \"#EBF0F8\"}, \"line\": {\"color\": \"white\"}}, \"header\": {\"fill\": {\"color\": \"#C8D4E3\"}, \"line\": {\"color\": \"white\"}}, \"type\": \"table\"}]}, \"layout\": {\"annotationdefaults\": {\"arrowcolor\": \"#2a3f5f\", \"arrowhead\": 0, \"arrowwidth\": 1}, \"coloraxis\": {\"colorbar\": {\"outlinewidth\": 0, \"ticks\": \"\"}}, \"colorscale\": {\"diverging\": [[0, \"#8e0152\"], [0.1, \"#c51b7d\"], [0.2, \"#de77ae\"], [0.3, \"#f1b6da\"], [0.4, \"#fde0ef\"], [0.5, \"#f7f7f7\"], [0.6, \"#e6f5d0\"], [0.7, \"#b8e186\"], [0.8, \"#7fbc41\"], [0.9, \"#4d9221\"], [1, \"#276419\"]], \"sequential\": [[0.0, \"#0d0887\"], [0.1111111111111111, \"#46039f\"], [0.2222222222222222, \"#7201a8\"], [0.3333333333333333, \"#9c179e\"], [0.4444444444444444, \"#bd3786\"], [0.5555555555555556, \"#d8576b\"], [0.6666666666666666, \"#ed7953\"], [0.7777777777777778, \"#fb9f3a\"], [0.8888888888888888, \"#fdca26\"], [1.0, \"#f0f921\"]], \"sequentialminus\": [[0.0, \"#0d0887\"], [0.1111111111111111, \"#46039f\"], [0.2222222222222222, \"#7201a8\"], [0.3333333333333333, \"#9c179e\"], [0.4444444444444444, \"#bd3786\"], [0.5555555555555556, \"#d8576b\"], [0.6666666666666666, \"#ed7953\"], [0.7777777777777778, \"#fb9f3a\"], [0.8888888888888888, \"#fdca26\"], [1.0, \"#f0f921\"]]}, \"colorway\": [\"#636efa\", \"#EF553B\", \"#00cc96\", \"#ab63fa\", \"#FFA15A\", \"#19d3f3\", \"#FF6692\", \"#B6E880\", \"#FF97FF\", \"#FECB52\"], \"font\": {\"color\": \"#2a3f5f\"}, \"geo\": {\"bgcolor\": \"white\", \"lakecolor\": \"white\", \"landcolor\": \"#E5ECF6\", \"showlakes\": true, \"showland\": true, \"subunitcolor\": \"white\"}, \"hoverlabel\": {\"align\": \"left\"}, \"hovermode\": \"closest\", \"mapbox\": {\"style\": \"light\"}, \"paper_bgcolor\": \"white\", \"plot_bgcolor\": \"#E5ECF6\", \"polar\": {\"angularaxis\": {\"gridcolor\": \"white\", \"linecolor\": \"white\", \"ticks\": \"\"}, \"bgcolor\": \"#E5ECF6\", \"radialaxis\": {\"gridcolor\": \"white\", \"linecolor\": \"white\", \"ticks\": \"\"}}, \"scene\": {\"xaxis\": {\"backgroundcolor\": \"#E5ECF6\", \"gridcolor\": \"white\", \"gridwidth\": 2, \"linecolor\": \"white\", \"showbackground\": true, \"ticks\": \"\", \"zerolinecolor\": \"white\"}, \"yaxis\": {\"backgroundcolor\": \"#E5ECF6\", \"gridcolor\": \"white\", \"gridwidth\": 2, \"linecolor\": \"white\", \"showbackground\": true, \"ticks\": \"\", \"zerolinecolor\": \"white\"}, \"zaxis\": {\"backgroundcolor\": \"#E5ECF6\", \"gridcolor\": \"white\", \"gridwidth\": 2, \"linecolor\": \"white\", \"showbackground\": true, \"ticks\": \"\", \"zerolinecolor\": \"white\"}}, \"shapedefaults\": {\"line\": {\"color\": \"#2a3f5f\"}}, \"ternary\": {\"aaxis\": {\"gridcolor\": \"white\", \"linecolor\": \"white\", \"ticks\": \"\"}, \"baxis\": {\"gridcolor\": \"white\", \"linecolor\": \"white\", \"ticks\": \"\"}, \"bgcolor\": \"#E5ECF6\", \"caxis\": {\"gridcolor\": \"white\", \"linecolor\": \"white\", \"ticks\": \"\"}}, \"title\": {\"x\": 0.05}, \"xaxis\": {\"automargin\": true, \"gridcolor\": \"white\", \"linecolor\": \"white\", \"ticks\": \"\", \"title\": {\"standoff\": 15}, \"zerolinecolor\": \"white\", \"zerolinewidth\": 2}, \"yaxis\": {\"automargin\": true, \"gridcolor\": \"white\", \"linecolor\": \"white\", \"ticks\": \"\", \"title\": {\"standoff\": 15}, \"zerolinecolor\": \"white\", \"zerolinewidth\": 2}}}, \"title\": {\"font\": {\"color\": \"#4D5663\"}}, \"xaxis\": {\"gridcolor\": \"#E1E5ED\", \"showgrid\": true, \"tickfont\": {\"color\": \"#4D5663\"}, \"title\": {\"font\": {\"color\": \"#4D5663\"}, \"text\": \"\"}, \"zerolinecolor\": \"#E1E5ED\"}, \"yaxis\": {\"gridcolor\": \"#E1E5ED\", \"showgrid\": true, \"tickfont\": {\"color\": \"#4D5663\"}, \"title\": {\"font\": {\"color\": \"#4D5663\"}, \"text\": \"\"}, \"zerolinecolor\": \"#E1E5ED\"}},                        {\"showLink\": true, \"linkText\": \"Export to plot.ly\", \"plotlyServerURL\": \"https://plot.ly\", \"responsive\": true}                    ).then(function(){\n",
       "                            \n",
       "var gd = document.getElementById('1a1f787f-a094-4e91-9572-9c32da733850');\n",
       "var x = new MutationObserver(function (mutations, observer) {{\n",
       "        var display = window.getComputedStyle(gd).display;\n",
       "        if (!display || display === 'none') {{\n",
       "            console.log([gd, 'removed!']);\n",
       "            Plotly.purge(gd);\n",
       "            observer.disconnect();\n",
       "        }}\n",
       "}});\n",
       "\n",
       "// Listen for the removal of the full notebook cells\n",
       "var notebookContainer = gd.closest('#notebook-container');\n",
       "if (notebookContainer) {{\n",
       "    x.observe(notebookContainer, {childList: true});\n",
       "}}\n",
       "\n",
       "// Listen for the clearing of the current output cell\n",
       "var outputEl = gd.closest('.output');\n",
       "if (outputEl) {{\n",
       "    x.observe(outputEl, {childList: true});\n",
       "}}\n",
       "\n",
       "                        })                };                });            </script>        </div>"
      ]
     },
     "metadata": {},
     "output_type": "display_data"
    }
   ],
   "source": [
    "#Plot the whole dataset\n",
    "X.iplot(width = 1.5)"
   ]
  },
  {
   "cell_type": "markdown",
   "metadata": {},
   "source": [
    "The spreadsheet is missing the data from 8 October at 3 PM to 11 October at 3PM."
   ]
  },
  {
   "cell_type": "code",
   "execution_count": 14,
   "metadata": {},
   "outputs": [
    {
     "data": {
      "application/vnd.plotly.v1+json": {
       "config": {
        "linkText": "Export to plot.ly",
        "plotlyServerURL": "https://plot.ly",
        "showLink": true
       },
       "data": [
        {
         "line": {
          "color": "rgba(55, 128, 191, 1.0)",
          "dash": "solid",
          "shape": "linear",
          "width": 1.3
         },
         "mode": "lines",
         "name": "wind_speed_ms",
         "text": "",
         "type": "scatter",
         "x": [
          "2020-10-01 12:00:00+03:00",
          "2020-10-01 13:00:00+03:00",
          "2020-10-01 14:00:00+03:00",
          "2020-10-01 15:00:00+03:00",
          "2020-10-01 16:00:00+03:00",
          "2020-10-01 17:00:00+03:00",
          "2020-10-01 18:00:00+03:00",
          "2020-10-01 19:00:00+03:00",
          "2020-10-01 20:00:00+03:00",
          "2020-10-01 21:00:00+03:00",
          "2020-10-01 22:00:00+03:00",
          "2020-10-01 23:00:00+03:00",
          "2020-10-02 00:00:00+03:00",
          "2020-10-02 01:00:00+03:00",
          "2020-10-02 02:00:00+03:00",
          "2020-10-02 03:00:00+03:00",
          "2020-10-02 04:00:00+03:00",
          "2020-10-02 05:00:00+03:00",
          "2020-10-02 06:00:00+03:00",
          "2020-10-02 07:00:00+03:00",
          "2020-10-02 08:00:00+03:00",
          "2020-10-02 09:00:00+03:00",
          "2020-10-02 10:00:00+03:00",
          "2020-10-02 11:00:00+03:00",
          "2020-10-02 12:00:00+03:00",
          "2020-10-02 13:00:00+03:00",
          "2020-10-02 14:00:00+03:00",
          "2020-10-02 15:00:00+03:00",
          "2020-10-02 16:00:00+03:00",
          "2020-10-02 17:00:00+03:00",
          "2020-10-02 18:00:00+03:00",
          "2020-10-02 19:00:00+03:00",
          "2020-10-02 20:00:00+03:00",
          "2020-10-02 21:00:00+03:00",
          "2020-10-02 22:00:00+03:00",
          "2020-10-03 00:00:00+03:00",
          "2020-10-03 01:00:00+03:00",
          "2020-10-03 02:00:00+03:00",
          "2020-10-03 03:00:00+03:00",
          "2020-10-03 04:00:00+03:00",
          "2020-10-03 05:00:00+03:00",
          "2020-10-03 06:00:00+03:00",
          "2020-10-03 07:00:00+03:00",
          "2020-10-03 08:00:00+03:00",
          "2020-10-03 09:00:00+03:00",
          "2020-10-03 10:00:00+03:00",
          "2020-10-03 11:00:00+03:00",
          "2020-10-03 12:00:00+03:00",
          "2020-10-03 13:00:00+03:00",
          "2020-10-03 14:00:00+03:00",
          "2020-10-03 15:00:00+03:00",
          "2020-10-03 16:00:00+03:00",
          "2020-10-03 17:00:00+03:00",
          "2020-10-03 18:00:00+03:00",
          "2020-10-03 19:00:00+03:00",
          "2020-10-03 20:00:00+03:00",
          "2020-10-03 21:00:00+03:00",
          "2020-10-03 22:00:00+03:00",
          "2020-10-03 23:00:00+03:00",
          "2020-10-04 00:00:00+03:00",
          "2020-10-04 01:00:00+03:00",
          "2020-10-04 02:00:00+03:00",
          "2020-10-04 03:00:00+03:00",
          "2020-10-04 04:00:00+03:00",
          "2020-10-04 05:00:00+03:00",
          "2020-10-04 06:00:00+03:00",
          "2020-10-05 06:00:00+03:00",
          "2020-10-05 07:00:00+03:00",
          "2020-10-05 08:00:00+03:00",
          "2020-10-05 09:00:00+03:00",
          "2020-10-05 10:00:00+03:00",
          "2020-10-05 11:00:00+03:00",
          "2020-10-05 12:00:00+03:00",
          "2020-10-05 13:00:00+03:00",
          "2020-10-05 14:00:00+03:00",
          "2020-10-05 15:00:00+03:00",
          "2020-10-05 16:00:00+03:00",
          "2020-10-05 17:00:00+03:00",
          "2020-10-05 18:00:00+03:00",
          "2020-10-05 19:00:00+03:00",
          "2020-10-05 20:00:00+03:00",
          "2020-10-05 21:00:00+03:00",
          "2020-10-05 22:00:00+03:00",
          "2020-10-05 23:00:00+03:00",
          "2020-10-06 00:00:00+03:00",
          "2020-10-06 00:00:00+03:00",
          "2020-10-06 01:00:00+03:00",
          "2020-10-06 01:00:00+03:00",
          "2020-10-06 02:00:00+03:00",
          "2020-10-06 02:00:00+03:00",
          "2020-10-06 03:00:00+03:00",
          "2020-10-06 03:00:00+03:00",
          "2020-10-06 04:00:00+03:00",
          "2020-10-06 04:00:00+03:00",
          "2020-10-06 05:00:00+03:00",
          "2020-10-06 06:00:00+03:00",
          "2020-10-06 06:00:00+03:00",
          "2020-10-06 07:00:00+03:00",
          "2020-10-06 07:00:00+03:00",
          "2020-10-06 08:00:00+03:00",
          "2020-10-06 08:00:00+03:00",
          "2020-10-06 09:00:00+03:00",
          "2020-10-06 09:00:00+03:00",
          "2020-10-06 10:00:00+03:00",
          "2020-10-06 10:00:00+03:00",
          "2020-10-06 11:00:00+03:00",
          "2020-10-06 11:00:00+03:00",
          "2020-10-06 12:00:00+03:00",
          "2020-10-06 12:00:00+03:00",
          "2020-10-06 13:00:00+03:00",
          "2020-10-06 13:00:00+03:00",
          "2020-10-06 14:00:00+03:00",
          "2020-10-06 14:00:00+03:00",
          "2020-10-06 15:00:00+03:00",
          "2020-10-06 15:00:00+03:00",
          "2020-10-06 16:00:00+03:00",
          "2020-10-06 16:00:00+03:00",
          "2020-10-06 17:00:00+03:00",
          "2020-10-06 17:00:00+03:00",
          "2020-10-06 18:00:00+03:00",
          "2020-10-06 19:00:00+03:00",
          "2020-10-06 19:00:00+03:00",
          "2020-10-06 20:00:00+03:00",
          "2020-10-06 20:00:00+03:00",
          "2020-10-06 21:00:00+03:00",
          "2020-10-06 21:00:00+03:00",
          "2020-10-06 22:00:00+03:00",
          "2020-10-06 22:00:00+03:00",
          "2020-10-06 23:00:00+03:00",
          "2020-10-06 23:00:00+03:00",
          "2020-10-07 00:00:00+03:00",
          "2020-10-07 00:00:00+03:00",
          "2020-10-07 01:00:00+03:00",
          "2020-10-07 01:00:00+03:00",
          "2020-10-07 02:00:00+03:00",
          "2020-10-07 02:00:00+03:00",
          "2020-10-07 03:00:00+03:00",
          "2020-10-07 03:00:00+03:00",
          "2020-10-07 04:00:00+03:00",
          "2020-10-07 04:00:00+03:00",
          "2020-10-07 05:00:00+03:00",
          "2020-10-07 05:00:00+03:00",
          "2020-10-07 06:00:00+03:00",
          "2020-10-07 06:00:00+03:00",
          "2020-10-07 07:00:00+03:00",
          "2020-10-07 07:00:00+03:00",
          "2020-10-07 08:00:00+03:00",
          "2020-10-07 08:00:00+03:00",
          "2020-10-07 09:00:00+03:00",
          "2020-10-07 09:00:00+03:00",
          "2020-10-07 10:00:00+03:00",
          "2020-10-07 10:00:00+03:00",
          "2020-10-07 11:00:00+03:00",
          "2020-10-07 11:00:00+03:00",
          "2020-10-07 12:00:00+03:00",
          "2020-10-07 12:00:00+03:00",
          "2020-10-07 13:00:00+03:00",
          "2020-10-07 13:00:00+03:00",
          "2020-10-07 14:00:00+03:00",
          "2020-10-07 14:00:00+03:00",
          "2020-10-07 15:00:00+03:00",
          "2020-10-07 15:00:00+03:00",
          "2020-10-07 16:00:00+03:00",
          "2020-10-07 16:00:00+03:00",
          "2020-10-07 17:00:00+03:00",
          "2020-10-07 17:00:00+03:00",
          "2020-10-07 18:00:00+03:00",
          "2020-10-07 18:00:00+03:00",
          "2020-10-07 19:00:00+03:00",
          "2020-10-07 19:00:00+03:00",
          "2020-10-07 20:00:00+03:00",
          "2020-10-07 20:00:00+03:00",
          "2020-10-07 21:00:00+03:00",
          "2020-10-07 21:00:00+03:00",
          "2020-10-07 22:00:00+03:00",
          "2020-10-07 22:00:00+03:00",
          "2020-10-07 23:00:00+03:00",
          "2020-10-07 23:00:00+03:00",
          "2020-10-08 00:00:00+03:00",
          "2020-10-08 00:00:00+03:00",
          "2020-10-08 01:00:00+03:00",
          "2020-10-08 02:00:00+03:00",
          "2020-10-08 03:00:00+03:00",
          "2020-10-08 04:00:00+03:00",
          "2020-10-08 05:00:00+03:00",
          "2020-10-08 06:00:00+03:00",
          "2020-10-08 07:00:00+03:00",
          "2020-10-08 08:00:00+03:00",
          "2020-10-08 09:00:00+03:00",
          "2020-10-08 10:00:00+03:00",
          "2020-10-08 11:00:00+03:00",
          "2020-10-08 12:00:00+03:00",
          "2020-10-08 13:00:00+03:00",
          "2020-10-08 14:00:00+03:00",
          "2020-10-08 15:00:00+03:00",
          "2020-10-08 16:00:00+03:00",
          "2020-10-08 17:00:00+03:00",
          "2020-10-08 18:00:00+03:00",
          "2020-10-11 15:00:00+03:00",
          "2020-10-11 16:00:00+03:00",
          "2020-10-11 17:00:00+03:00",
          "2020-10-11 18:00:00+03:00",
          "2020-10-11 19:00:00+03:00",
          "2020-10-11 20:00:00+03:00",
          "2020-10-11 21:00:00+03:00",
          "2020-10-11 22:00:00+03:00",
          "2020-10-11 23:00:00+03:00",
          "2020-10-12 00:00:00+03:00",
          "2020-10-12 01:00:00+03:00",
          "2020-10-12 02:00:00+03:00",
          "2020-10-12 03:00:00+03:00",
          "2020-10-12 04:00:00+03:00",
          "2020-10-12 05:00:00+03:00",
          "2020-10-12 06:00:00+03:00",
          "2020-10-12 07:00:00+03:00",
          "2020-10-12 08:00:00+03:00",
          "2020-10-12 09:00:00+03:00",
          "2020-10-12 10:00:00+03:00",
          "2020-10-12 11:00:00+03:00",
          "2020-10-12 12:00:00+03:00",
          "2020-10-12 13:00:00+03:00",
          "2020-10-12 14:00:00+03:00",
          "2020-10-12 15:00:00+03:00",
          "2020-10-12 16:00:00+03:00",
          "2020-10-12 17:00:00+03:00",
          "2020-10-12 18:00:00+03:00",
          "2020-10-12 19:00:00+03:00",
          "2020-10-12 20:00:00+03:00",
          "2020-10-12 21:00:00+03:00",
          "2020-10-12 22:00:00+03:00",
          "2020-10-12 23:00:00+03:00",
          "2020-10-13 00:00:00+03:00",
          "2020-10-13 01:00:00+03:00",
          "2020-10-13 02:00:00+03:00",
          "2020-10-13 03:00:00+03:00",
          "2020-10-13 04:00:00+03:00",
          "2020-10-13 05:00:00+03:00",
          "2020-10-13 06:00:00+03:00",
          "2020-10-13 07:00:00+03:00",
          "2020-10-13 08:00:00+03:00",
          "2020-10-13 09:00:00+03:00",
          "2020-10-13 10:00:00+03:00",
          "2020-10-13 11:00:00+03:00",
          "2020-10-13 12:00:00+03:00",
          "2020-10-13 13:00:00+03:00",
          "2020-10-13 14:00:00+03:00",
          "2020-10-13 16:00:00+03:00",
          "2020-10-13 17:00:00+03:00",
          "2020-10-13 18:00:00+03:00",
          "2020-10-13 19:00:00+03:00",
          "2020-10-13 20:00:00+03:00",
          "2020-10-13 21:00:00+03:00",
          "2020-10-13 22:00:00+03:00",
          "2020-10-13 23:00:00+03:00",
          "2020-10-14 00:00:00+03:00",
          "2020-10-14 01:00:00+03:00",
          "2020-10-14 02:00:00+03:00",
          "2020-10-14 03:00:00+03:00",
          "2020-10-14 04:00:00+03:00",
          "2020-10-14 05:00:00+03:00",
          "2020-10-14 06:00:00+03:00",
          "2020-10-14 07:00:00+03:00",
          "2020-10-14 08:00:00+03:00",
          "2020-10-14 09:00:00+03:00",
          "2020-10-19 15:00:00+03:00",
          "2020-10-19 16:00:00+03:00",
          "2020-10-19 17:00:00+03:00",
          "2020-10-19 18:00:00+03:00",
          "2020-10-19 19:00:00+03:00",
          "2020-10-19 20:00:00+03:00",
          "2020-10-19 21:00:00+03:00",
          "2020-10-19 22:00:00+03:00",
          "2020-10-19 23:00:00+03:00",
          "2020-10-20 00:00:00+03:00",
          "2020-10-20 01:00:00+03:00",
          "2020-10-20 02:00:00+03:00",
          "2020-10-20 03:00:00+03:00",
          "2020-10-20 04:00:00+03:00",
          "2020-10-20 05:00:00+03:00",
          "2020-10-20 06:00:00+03:00",
          "2020-10-20 07:00:00+03:00",
          "2020-10-20 08:00:00+03:00",
          "2020-10-20 09:00:00+03:00",
          "2020-10-20 10:00:00+03:00",
          "2020-10-20 11:00:00+03:00",
          "2020-10-20 12:00:00+03:00",
          "2020-10-20 13:00:00+03:00",
          "2020-10-20 14:00:00+03:00",
          "2020-10-20 15:00:00+03:00",
          "2020-10-20 16:00:00+03:00",
          "2020-10-20 17:00:00+03:00",
          "2020-10-20 18:00:00+03:00",
          "2020-10-20 19:00:00+03:00",
          "2020-10-20 20:00:00+03:00",
          "2020-10-20 21:00:00+03:00",
          "2020-10-20 22:00:00+03:00",
          "2020-10-20 23:00:00+03:00",
          "2020-10-21 00:00:00+03:00",
          "2020-10-21 01:00:00+03:00",
          "2020-10-21 02:00:00+03:00",
          "2020-10-21 03:00:00+03:00",
          "2020-10-21 04:00:00+03:00",
          "2020-10-21 05:00:00+03:00",
          "2020-10-21 06:00:00+03:00",
          "2020-10-21 07:00:00+03:00",
          "2020-10-21 08:00:00+03:00",
          "2020-10-21 09:00:00+03:00",
          "2020-10-21 10:00:00+03:00",
          "2020-10-21 11:00:00+03:00",
          "2020-10-21 12:00:00+03:00",
          "2020-10-21 13:00:00+03:00",
          "2020-10-21 15:00:00+03:00",
          "2020-10-21 16:00:00+03:00",
          "2020-10-21 17:00:00+03:00",
          "2020-10-21 18:00:00+03:00",
          "2020-10-21 19:00:00+03:00",
          "2020-10-21 20:00:00+03:00",
          "2020-10-21 21:00:00+03:00",
          "2020-10-21 22:00:00+03:00",
          "2020-10-21 23:00:00+03:00",
          "2020-10-22 00:00:00+03:00",
          "2020-10-22 01:00:00+03:00",
          "2020-10-22 02:00:00+03:00",
          "2020-10-22 03:00:00+03:00",
          "2020-10-22 04:00:00+03:00",
          "2020-10-22 05:00:00+03:00",
          "2020-10-22 06:00:00+03:00",
          "2020-10-22 07:00:00+03:00",
          "2020-10-22 08:00:00+03:00",
          "2020-10-22 09:00:00+03:00"
         ],
         "y": [
          9.7,
          10.2,
          10.4,
          10.5,
          10.7,
          10.9,
          11.4,
          11.5,
          11.8,
          12,
          11.3,
          9.2,
          7.3,
          6.3,
          6.4,
          6.9,
          7.7,
          8.8,
          9.8,
          10.3,
          10.1,
          10.2,
          9.8,
          9,
          9.2,
          10.1,
          10.5,
          11.4,
          12.1,
          12.7,
          13.3,
          13.7,
          13.5,
          12.8,
          12,
          10,
          9.6,
          9.4,
          10.1,
          10.7,
          10.6,
          10.2,
          10.2,
          10.7,
          11.3,
          11.6,
          11.3,
          11.2,
          10.4,
          11.7,
          12.8,
          12.7,
          12.9,
          13.3,
          14.1,
          14.8,
          14.3,
          14.1,
          12.4,
          11.7,
          11.9,
          12.6,
          12.7,
          13.4,
          14.1,
          14,
          14.4,
          15.2,
          15.2,
          13.3,
          13,
          12.8,
          11.2,
          9.4,
          7.6,
          5,
          2.6,
          2.8,
          4.7,
          7.2,
          9.2,
          9.9,
          9,
          10.5,
          10.1,
          9.6,
          9.8,
          9.9,
          9.8,
          8.5,
          10.3,
          9.3,
          12.5,
          11.5,
          13,
          13.8,
          14.7,
          13.5,
          14.2,
          15,
          16.2,
          15.3,
          14.8,
          14.4,
          14.9,
          13.9,
          15.3,
          14,
          15.7,
          14.4,
          14.2,
          14.9,
          14.3,
          12.6,
          13.8,
          13.2,
          12.5,
          11.5,
          14.1,
          14.2,
          11.8,
          13.6,
          13.7,
          12.1,
          11.4,
          12.7,
          12.2,
          13.9,
          11.9,
          12.9,
          10.2,
          11.3,
          10.4,
          8.8,
          8.6,
          10.8,
          10.1,
          9,
          9.5,
          9.4,
          10.3,
          10.3,
          10.6,
          10.5,
          10.9,
          10.6,
          10.4,
          11.5,
          10.3,
          10.1,
          9.5,
          9.3,
          8.4,
          8.9,
          8.3,
          8.1,
          7.8,
          7.7,
          7.3,
          7.5,
          7.8,
          7.8,
          7.1,
          8.1,
          9.3,
          7,
          6.7,
          10.3,
          10.9,
          7.7,
          8.2,
          11.1,
          10.7,
          10.4,
          9.3,
          12.8,
          7.5,
          10.7,
          6.8,
          11.6,
          10.3,
          7.9,
          5.5,
          5.3,
          5.5,
          5.2,
          5.9,
          5.9,
          6.1,
          5.9,
          7.2,
          7,
          8.7,
          6.6,
          7.6,
          "",
          "",
          "",
          5,
          5.7,
          5.6,
          6.1,
          6.7,
          7.2,
          6.8,
          6.4,
          5.3,
          3.6,
          1.9,
          1,
          1.1,
          1.8,
          2.4,
          3.5,
          5.3,
          6.1,
          6.5,
          7.5,
          8.9,
          8.9,
          9.4,
          8.7,
          8.8,
          9.7,
          10.1,
          9.4,
          11.6,
          11.4,
          11.8,
          13.2,
          10.8,
          12.2,
          12.1,
          6.1,
          4,
          5.3,
          9.1,
          6.5,
          10.9,
          6.9,
          6.4,
          6.7,
          5.7,
          5.8,
          5.1,
          4.7,
          5.1,
          4.4,
          3,
          4,
          4.5,
          5.5,
          6.2,
          7.4,
          8.6,
          9.5,
          9.6,
          9,
          9.2,
          10,
          10.5,
          11.2,
          11.3,
          11,
          7.1,
          6.7,
          6.2,
          8,
          7.9,
          7.6,
          8.1,
          8.9,
          9.8,
          10.6,
          10.3,
          10.9,
          10.7,
          10.3,
          9.9,
          8.9,
          8.3,
          8.1,
          7.7,
          6.4,
          5.2,
          4,
          3.7,
          3.4,
          3.4,
          3.4,
          3.3,
          2.8,
          2.1,
          1.6,
          1.2,
          1.2,
          1.7,
          2.5,
          4.1,
          5.2,
          5.5,
          7.2,
          8.3,
          9.6,
          10.2,
          10,
          11.4,
          11.7,
          11.9,
          11.2,
          11.1,
          11.1,
          10.9,
          10.4,
          10.4,
          11,
          11.4,
          11.5,
          11.6,
          11.1,
          10.1,
          10.3,
          11.4,
          11.4,
          12,
          12.1,
          13.1,
          13.4,
          12.9,
          12.2
         ]
        }
       ],
       "layout": {
        "legend": {
         "bgcolor": "#F5F6F9",
         "font": {
          "color": "#4D5663"
         }
        },
        "paper_bgcolor": "#F5F6F9",
        "plot_bgcolor": "#F5F6F9",
        "template": {
         "data": {
          "bar": [
           {
            "error_x": {
             "color": "#2a3f5f"
            },
            "error_y": {
             "color": "#2a3f5f"
            },
            "marker": {
             "line": {
              "color": "#E5ECF6",
              "width": 0.5
             }
            },
            "type": "bar"
           }
          ],
          "barpolar": [
           {
            "marker": {
             "line": {
              "color": "#E5ECF6",
              "width": 0.5
             }
            },
            "type": "barpolar"
           }
          ],
          "carpet": [
           {
            "aaxis": {
             "endlinecolor": "#2a3f5f",
             "gridcolor": "white",
             "linecolor": "white",
             "minorgridcolor": "white",
             "startlinecolor": "#2a3f5f"
            },
            "baxis": {
             "endlinecolor": "#2a3f5f",
             "gridcolor": "white",
             "linecolor": "white",
             "minorgridcolor": "white",
             "startlinecolor": "#2a3f5f"
            },
            "type": "carpet"
           }
          ],
          "choropleth": [
           {
            "colorbar": {
             "outlinewidth": 0,
             "ticks": ""
            },
            "type": "choropleth"
           }
          ],
          "contour": [
           {
            "colorbar": {
             "outlinewidth": 0,
             "ticks": ""
            },
            "colorscale": [
             [
              0,
              "#0d0887"
             ],
             [
              0.1111111111111111,
              "#46039f"
             ],
             [
              0.2222222222222222,
              "#7201a8"
             ],
             [
              0.3333333333333333,
              "#9c179e"
             ],
             [
              0.4444444444444444,
              "#bd3786"
             ],
             [
              0.5555555555555556,
              "#d8576b"
             ],
             [
              0.6666666666666666,
              "#ed7953"
             ],
             [
              0.7777777777777778,
              "#fb9f3a"
             ],
             [
              0.8888888888888888,
              "#fdca26"
             ],
             [
              1,
              "#f0f921"
             ]
            ],
            "type": "contour"
           }
          ],
          "contourcarpet": [
           {
            "colorbar": {
             "outlinewidth": 0,
             "ticks": ""
            },
            "type": "contourcarpet"
           }
          ],
          "heatmap": [
           {
            "colorbar": {
             "outlinewidth": 0,
             "ticks": ""
            },
            "colorscale": [
             [
              0,
              "#0d0887"
             ],
             [
              0.1111111111111111,
              "#46039f"
             ],
             [
              0.2222222222222222,
              "#7201a8"
             ],
             [
              0.3333333333333333,
              "#9c179e"
             ],
             [
              0.4444444444444444,
              "#bd3786"
             ],
             [
              0.5555555555555556,
              "#d8576b"
             ],
             [
              0.6666666666666666,
              "#ed7953"
             ],
             [
              0.7777777777777778,
              "#fb9f3a"
             ],
             [
              0.8888888888888888,
              "#fdca26"
             ],
             [
              1,
              "#f0f921"
             ]
            ],
            "type": "heatmap"
           }
          ],
          "heatmapgl": [
           {
            "colorbar": {
             "outlinewidth": 0,
             "ticks": ""
            },
            "colorscale": [
             [
              0,
              "#0d0887"
             ],
             [
              0.1111111111111111,
              "#46039f"
             ],
             [
              0.2222222222222222,
              "#7201a8"
             ],
             [
              0.3333333333333333,
              "#9c179e"
             ],
             [
              0.4444444444444444,
              "#bd3786"
             ],
             [
              0.5555555555555556,
              "#d8576b"
             ],
             [
              0.6666666666666666,
              "#ed7953"
             ],
             [
              0.7777777777777778,
              "#fb9f3a"
             ],
             [
              0.8888888888888888,
              "#fdca26"
             ],
             [
              1,
              "#f0f921"
             ]
            ],
            "type": "heatmapgl"
           }
          ],
          "histogram": [
           {
            "marker": {
             "colorbar": {
              "outlinewidth": 0,
              "ticks": ""
             }
            },
            "type": "histogram"
           }
          ],
          "histogram2d": [
           {
            "colorbar": {
             "outlinewidth": 0,
             "ticks": ""
            },
            "colorscale": [
             [
              0,
              "#0d0887"
             ],
             [
              0.1111111111111111,
              "#46039f"
             ],
             [
              0.2222222222222222,
              "#7201a8"
             ],
             [
              0.3333333333333333,
              "#9c179e"
             ],
             [
              0.4444444444444444,
              "#bd3786"
             ],
             [
              0.5555555555555556,
              "#d8576b"
             ],
             [
              0.6666666666666666,
              "#ed7953"
             ],
             [
              0.7777777777777778,
              "#fb9f3a"
             ],
             [
              0.8888888888888888,
              "#fdca26"
             ],
             [
              1,
              "#f0f921"
             ]
            ],
            "type": "histogram2d"
           }
          ],
          "histogram2dcontour": [
           {
            "colorbar": {
             "outlinewidth": 0,
             "ticks": ""
            },
            "colorscale": [
             [
              0,
              "#0d0887"
             ],
             [
              0.1111111111111111,
              "#46039f"
             ],
             [
              0.2222222222222222,
              "#7201a8"
             ],
             [
              0.3333333333333333,
              "#9c179e"
             ],
             [
              0.4444444444444444,
              "#bd3786"
             ],
             [
              0.5555555555555556,
              "#d8576b"
             ],
             [
              0.6666666666666666,
              "#ed7953"
             ],
             [
              0.7777777777777778,
              "#fb9f3a"
             ],
             [
              0.8888888888888888,
              "#fdca26"
             ],
             [
              1,
              "#f0f921"
             ]
            ],
            "type": "histogram2dcontour"
           }
          ],
          "mesh3d": [
           {
            "colorbar": {
             "outlinewidth": 0,
             "ticks": ""
            },
            "type": "mesh3d"
           }
          ],
          "parcoords": [
           {
            "line": {
             "colorbar": {
              "outlinewidth": 0,
              "ticks": ""
             }
            },
            "type": "parcoords"
           }
          ],
          "pie": [
           {
            "automargin": true,
            "type": "pie"
           }
          ],
          "scatter": [
           {
            "marker": {
             "colorbar": {
              "outlinewidth": 0,
              "ticks": ""
             }
            },
            "type": "scatter"
           }
          ],
          "scatter3d": [
           {
            "line": {
             "colorbar": {
              "outlinewidth": 0,
              "ticks": ""
             }
            },
            "marker": {
             "colorbar": {
              "outlinewidth": 0,
              "ticks": ""
             }
            },
            "type": "scatter3d"
           }
          ],
          "scattercarpet": [
           {
            "marker": {
             "colorbar": {
              "outlinewidth": 0,
              "ticks": ""
             }
            },
            "type": "scattercarpet"
           }
          ],
          "scattergeo": [
           {
            "marker": {
             "colorbar": {
              "outlinewidth": 0,
              "ticks": ""
             }
            },
            "type": "scattergeo"
           }
          ],
          "scattergl": [
           {
            "marker": {
             "colorbar": {
              "outlinewidth": 0,
              "ticks": ""
             }
            },
            "type": "scattergl"
           }
          ],
          "scattermapbox": [
           {
            "marker": {
             "colorbar": {
              "outlinewidth": 0,
              "ticks": ""
             }
            },
            "type": "scattermapbox"
           }
          ],
          "scatterpolar": [
           {
            "marker": {
             "colorbar": {
              "outlinewidth": 0,
              "ticks": ""
             }
            },
            "type": "scatterpolar"
           }
          ],
          "scatterpolargl": [
           {
            "marker": {
             "colorbar": {
              "outlinewidth": 0,
              "ticks": ""
             }
            },
            "type": "scatterpolargl"
           }
          ],
          "scatterternary": [
           {
            "marker": {
             "colorbar": {
              "outlinewidth": 0,
              "ticks": ""
             }
            },
            "type": "scatterternary"
           }
          ],
          "surface": [
           {
            "colorbar": {
             "outlinewidth": 0,
             "ticks": ""
            },
            "colorscale": [
             [
              0,
              "#0d0887"
             ],
             [
              0.1111111111111111,
              "#46039f"
             ],
             [
              0.2222222222222222,
              "#7201a8"
             ],
             [
              0.3333333333333333,
              "#9c179e"
             ],
             [
              0.4444444444444444,
              "#bd3786"
             ],
             [
              0.5555555555555556,
              "#d8576b"
             ],
             [
              0.6666666666666666,
              "#ed7953"
             ],
             [
              0.7777777777777778,
              "#fb9f3a"
             ],
             [
              0.8888888888888888,
              "#fdca26"
             ],
             [
              1,
              "#f0f921"
             ]
            ],
            "type": "surface"
           }
          ],
          "table": [
           {
            "cells": {
             "fill": {
              "color": "#EBF0F8"
             },
             "line": {
              "color": "white"
             }
            },
            "header": {
             "fill": {
              "color": "#C8D4E3"
             },
             "line": {
              "color": "white"
             }
            },
            "type": "table"
           }
          ]
         },
         "layout": {
          "annotationdefaults": {
           "arrowcolor": "#2a3f5f",
           "arrowhead": 0,
           "arrowwidth": 1
          },
          "coloraxis": {
           "colorbar": {
            "outlinewidth": 0,
            "ticks": ""
           }
          },
          "colorscale": {
           "diverging": [
            [
             0,
             "#8e0152"
            ],
            [
             0.1,
             "#c51b7d"
            ],
            [
             0.2,
             "#de77ae"
            ],
            [
             0.3,
             "#f1b6da"
            ],
            [
             0.4,
             "#fde0ef"
            ],
            [
             0.5,
             "#f7f7f7"
            ],
            [
             0.6,
             "#e6f5d0"
            ],
            [
             0.7,
             "#b8e186"
            ],
            [
             0.8,
             "#7fbc41"
            ],
            [
             0.9,
             "#4d9221"
            ],
            [
             1,
             "#276419"
            ]
           ],
           "sequential": [
            [
             0,
             "#0d0887"
            ],
            [
             0.1111111111111111,
             "#46039f"
            ],
            [
             0.2222222222222222,
             "#7201a8"
            ],
            [
             0.3333333333333333,
             "#9c179e"
            ],
            [
             0.4444444444444444,
             "#bd3786"
            ],
            [
             0.5555555555555556,
             "#d8576b"
            ],
            [
             0.6666666666666666,
             "#ed7953"
            ],
            [
             0.7777777777777778,
             "#fb9f3a"
            ],
            [
             0.8888888888888888,
             "#fdca26"
            ],
            [
             1,
             "#f0f921"
            ]
           ],
           "sequentialminus": [
            [
             0,
             "#0d0887"
            ],
            [
             0.1111111111111111,
             "#46039f"
            ],
            [
             0.2222222222222222,
             "#7201a8"
            ],
            [
             0.3333333333333333,
             "#9c179e"
            ],
            [
             0.4444444444444444,
             "#bd3786"
            ],
            [
             0.5555555555555556,
             "#d8576b"
            ],
            [
             0.6666666666666666,
             "#ed7953"
            ],
            [
             0.7777777777777778,
             "#fb9f3a"
            ],
            [
             0.8888888888888888,
             "#fdca26"
            ],
            [
             1,
             "#f0f921"
            ]
           ]
          },
          "colorway": [
           "#636efa",
           "#EF553B",
           "#00cc96",
           "#ab63fa",
           "#FFA15A",
           "#19d3f3",
           "#FF6692",
           "#B6E880",
           "#FF97FF",
           "#FECB52"
          ],
          "font": {
           "color": "#2a3f5f"
          },
          "geo": {
           "bgcolor": "white",
           "lakecolor": "white",
           "landcolor": "#E5ECF6",
           "showlakes": true,
           "showland": true,
           "subunitcolor": "white"
          },
          "hoverlabel": {
           "align": "left"
          },
          "hovermode": "closest",
          "mapbox": {
           "style": "light"
          },
          "paper_bgcolor": "white",
          "plot_bgcolor": "#E5ECF6",
          "polar": {
           "angularaxis": {
            "gridcolor": "white",
            "linecolor": "white",
            "ticks": ""
           },
           "bgcolor": "#E5ECF6",
           "radialaxis": {
            "gridcolor": "white",
            "linecolor": "white",
            "ticks": ""
           }
          },
          "scene": {
           "xaxis": {
            "backgroundcolor": "#E5ECF6",
            "gridcolor": "white",
            "gridwidth": 2,
            "linecolor": "white",
            "showbackground": true,
            "ticks": "",
            "zerolinecolor": "white"
           },
           "yaxis": {
            "backgroundcolor": "#E5ECF6",
            "gridcolor": "white",
            "gridwidth": 2,
            "linecolor": "white",
            "showbackground": true,
            "ticks": "",
            "zerolinecolor": "white"
           },
           "zaxis": {
            "backgroundcolor": "#E5ECF6",
            "gridcolor": "white",
            "gridwidth": 2,
            "linecolor": "white",
            "showbackground": true,
            "ticks": "",
            "zerolinecolor": "white"
           }
          },
          "shapedefaults": {
           "line": {
            "color": "#2a3f5f"
           }
          },
          "ternary": {
           "aaxis": {
            "gridcolor": "white",
            "linecolor": "white",
            "ticks": ""
           },
           "baxis": {
            "gridcolor": "white",
            "linecolor": "white",
            "ticks": ""
           },
           "bgcolor": "#E5ECF6",
           "caxis": {
            "gridcolor": "white",
            "linecolor": "white",
            "ticks": ""
           }
          },
          "title": {
           "x": 0.05
          },
          "xaxis": {
           "automargin": true,
           "gridcolor": "white",
           "linecolor": "white",
           "ticks": "",
           "title": {
            "standoff": 15
           },
           "zerolinecolor": "white",
           "zerolinewidth": 2
          },
          "yaxis": {
           "automargin": true,
           "gridcolor": "white",
           "linecolor": "white",
           "ticks": "",
           "title": {
            "standoff": 15
           },
           "zerolinecolor": "white",
           "zerolinewidth": 2
          }
         }
        },
        "title": {
         "font": {
          "color": "#4D5663"
         }
        },
        "xaxis": {
         "gridcolor": "#E1E5ED",
         "showgrid": true,
         "tickfont": {
          "color": "#4D5663"
         },
         "title": {
          "font": {
           "color": "#4D5663"
          },
          "text": "Date"
         },
         "zerolinecolor": "#E1E5ED"
        },
        "yaxis": {
         "gridcolor": "#E1E5ED",
         "showgrid": true,
         "tickfont": {
          "color": "#4D5663"
         },
         "title": {
          "font": {
           "color": "#4D5663"
          },
          "text": "Wind Speed (ms)"
         },
         "zerolinecolor": "#E1E5ED"
        }
       }
      },
      "text/html": [
       "<div>                            <div id=\"dc113632-35c1-4ebc-90e1-26085e0a8cd8\" class=\"plotly-graph-div\" style=\"height:525px; width:100%;\"></div>            <script type=\"text/javascript\">                require([\"plotly\"], function(Plotly) {                    window.PLOTLYENV=window.PLOTLYENV || {};\n",
       "                    window.PLOTLYENV.BASE_URL='https://plot.ly';                                    if (document.getElementById(\"dc113632-35c1-4ebc-90e1-26085e0a8cd8\")) {                    Plotly.newPlot(                        \"dc113632-35c1-4ebc-90e1-26085e0a8cd8\",                        [{\"line\": {\"color\": \"rgba(55, 128, 191, 1.0)\", \"dash\": \"solid\", \"shape\": \"linear\", \"width\": 1.3}, \"mode\": \"lines\", \"name\": \"wind_speed_ms\", \"text\": \"\", \"type\": \"scatter\", \"x\": [\"2020-10-01 12:00:00+03:00\", \"2020-10-01 13:00:00+03:00\", \"2020-10-01 14:00:00+03:00\", \"2020-10-01 15:00:00+03:00\", \"2020-10-01 16:00:00+03:00\", \"2020-10-01 17:00:00+03:00\", \"2020-10-01 18:00:00+03:00\", \"2020-10-01 19:00:00+03:00\", \"2020-10-01 20:00:00+03:00\", \"2020-10-01 21:00:00+03:00\", \"2020-10-01 22:00:00+03:00\", \"2020-10-01 23:00:00+03:00\", \"2020-10-02 00:00:00+03:00\", \"2020-10-02 01:00:00+03:00\", \"2020-10-02 02:00:00+03:00\", \"2020-10-02 03:00:00+03:00\", \"2020-10-02 04:00:00+03:00\", \"2020-10-02 05:00:00+03:00\", \"2020-10-02 06:00:00+03:00\", \"2020-10-02 07:00:00+03:00\", \"2020-10-02 08:00:00+03:00\", \"2020-10-02 09:00:00+03:00\", \"2020-10-02 10:00:00+03:00\", \"2020-10-02 11:00:00+03:00\", \"2020-10-02 12:00:00+03:00\", \"2020-10-02 13:00:00+03:00\", \"2020-10-02 14:00:00+03:00\", \"2020-10-02 15:00:00+03:00\", \"2020-10-02 16:00:00+03:00\", \"2020-10-02 17:00:00+03:00\", \"2020-10-02 18:00:00+03:00\", \"2020-10-02 19:00:00+03:00\", \"2020-10-02 20:00:00+03:00\", \"2020-10-02 21:00:00+03:00\", \"2020-10-02 22:00:00+03:00\", \"2020-10-03 00:00:00+03:00\", \"2020-10-03 01:00:00+03:00\", \"2020-10-03 02:00:00+03:00\", \"2020-10-03 03:00:00+03:00\", \"2020-10-03 04:00:00+03:00\", \"2020-10-03 05:00:00+03:00\", \"2020-10-03 06:00:00+03:00\", \"2020-10-03 07:00:00+03:00\", \"2020-10-03 08:00:00+03:00\", \"2020-10-03 09:00:00+03:00\", \"2020-10-03 10:00:00+03:00\", \"2020-10-03 11:00:00+03:00\", \"2020-10-03 12:00:00+03:00\", \"2020-10-03 13:00:00+03:00\", \"2020-10-03 14:00:00+03:00\", \"2020-10-03 15:00:00+03:00\", \"2020-10-03 16:00:00+03:00\", \"2020-10-03 17:00:00+03:00\", \"2020-10-03 18:00:00+03:00\", \"2020-10-03 19:00:00+03:00\", \"2020-10-03 20:00:00+03:00\", \"2020-10-03 21:00:00+03:00\", \"2020-10-03 22:00:00+03:00\", \"2020-10-03 23:00:00+03:00\", \"2020-10-04 00:00:00+03:00\", \"2020-10-04 01:00:00+03:00\", \"2020-10-04 02:00:00+03:00\", \"2020-10-04 03:00:00+03:00\", \"2020-10-04 04:00:00+03:00\", \"2020-10-04 05:00:00+03:00\", \"2020-10-04 06:00:00+03:00\", \"2020-10-05 06:00:00+03:00\", \"2020-10-05 07:00:00+03:00\", \"2020-10-05 08:00:00+03:00\", \"2020-10-05 09:00:00+03:00\", \"2020-10-05 10:00:00+03:00\", \"2020-10-05 11:00:00+03:00\", \"2020-10-05 12:00:00+03:00\", \"2020-10-05 13:00:00+03:00\", \"2020-10-05 14:00:00+03:00\", \"2020-10-05 15:00:00+03:00\", \"2020-10-05 16:00:00+03:00\", \"2020-10-05 17:00:00+03:00\", \"2020-10-05 18:00:00+03:00\", \"2020-10-05 19:00:00+03:00\", \"2020-10-05 20:00:00+03:00\", \"2020-10-05 21:00:00+03:00\", \"2020-10-05 22:00:00+03:00\", \"2020-10-05 23:00:00+03:00\", \"2020-10-06 00:00:00+03:00\", \"2020-10-06 00:00:00+03:00\", \"2020-10-06 01:00:00+03:00\", \"2020-10-06 01:00:00+03:00\", \"2020-10-06 02:00:00+03:00\", \"2020-10-06 02:00:00+03:00\", \"2020-10-06 03:00:00+03:00\", \"2020-10-06 03:00:00+03:00\", \"2020-10-06 04:00:00+03:00\", \"2020-10-06 04:00:00+03:00\", \"2020-10-06 05:00:00+03:00\", \"2020-10-06 06:00:00+03:00\", \"2020-10-06 06:00:00+03:00\", \"2020-10-06 07:00:00+03:00\", \"2020-10-06 07:00:00+03:00\", \"2020-10-06 08:00:00+03:00\", \"2020-10-06 08:00:00+03:00\", \"2020-10-06 09:00:00+03:00\", \"2020-10-06 09:00:00+03:00\", \"2020-10-06 10:00:00+03:00\", \"2020-10-06 10:00:00+03:00\", \"2020-10-06 11:00:00+03:00\", \"2020-10-06 11:00:00+03:00\", \"2020-10-06 12:00:00+03:00\", \"2020-10-06 12:00:00+03:00\", \"2020-10-06 13:00:00+03:00\", \"2020-10-06 13:00:00+03:00\", \"2020-10-06 14:00:00+03:00\", \"2020-10-06 14:00:00+03:00\", \"2020-10-06 15:00:00+03:00\", \"2020-10-06 15:00:00+03:00\", \"2020-10-06 16:00:00+03:00\", \"2020-10-06 16:00:00+03:00\", \"2020-10-06 17:00:00+03:00\", \"2020-10-06 17:00:00+03:00\", \"2020-10-06 18:00:00+03:00\", \"2020-10-06 19:00:00+03:00\", \"2020-10-06 19:00:00+03:00\", \"2020-10-06 20:00:00+03:00\", \"2020-10-06 20:00:00+03:00\", \"2020-10-06 21:00:00+03:00\", \"2020-10-06 21:00:00+03:00\", \"2020-10-06 22:00:00+03:00\", \"2020-10-06 22:00:00+03:00\", \"2020-10-06 23:00:00+03:00\", \"2020-10-06 23:00:00+03:00\", \"2020-10-07 00:00:00+03:00\", \"2020-10-07 00:00:00+03:00\", \"2020-10-07 01:00:00+03:00\", \"2020-10-07 01:00:00+03:00\", \"2020-10-07 02:00:00+03:00\", \"2020-10-07 02:00:00+03:00\", \"2020-10-07 03:00:00+03:00\", \"2020-10-07 03:00:00+03:00\", \"2020-10-07 04:00:00+03:00\", \"2020-10-07 04:00:00+03:00\", \"2020-10-07 05:00:00+03:00\", \"2020-10-07 05:00:00+03:00\", \"2020-10-07 06:00:00+03:00\", \"2020-10-07 06:00:00+03:00\", \"2020-10-07 07:00:00+03:00\", \"2020-10-07 07:00:00+03:00\", \"2020-10-07 08:00:00+03:00\", \"2020-10-07 08:00:00+03:00\", \"2020-10-07 09:00:00+03:00\", \"2020-10-07 09:00:00+03:00\", \"2020-10-07 10:00:00+03:00\", \"2020-10-07 10:00:00+03:00\", \"2020-10-07 11:00:00+03:00\", \"2020-10-07 11:00:00+03:00\", \"2020-10-07 12:00:00+03:00\", \"2020-10-07 12:00:00+03:00\", \"2020-10-07 13:00:00+03:00\", \"2020-10-07 13:00:00+03:00\", \"2020-10-07 14:00:00+03:00\", \"2020-10-07 14:00:00+03:00\", \"2020-10-07 15:00:00+03:00\", \"2020-10-07 15:00:00+03:00\", \"2020-10-07 16:00:00+03:00\", \"2020-10-07 16:00:00+03:00\", \"2020-10-07 17:00:00+03:00\", \"2020-10-07 17:00:00+03:00\", \"2020-10-07 18:00:00+03:00\", \"2020-10-07 18:00:00+03:00\", \"2020-10-07 19:00:00+03:00\", \"2020-10-07 19:00:00+03:00\", \"2020-10-07 20:00:00+03:00\", \"2020-10-07 20:00:00+03:00\", \"2020-10-07 21:00:00+03:00\", \"2020-10-07 21:00:00+03:00\", \"2020-10-07 22:00:00+03:00\", \"2020-10-07 22:00:00+03:00\", \"2020-10-07 23:00:00+03:00\", \"2020-10-07 23:00:00+03:00\", \"2020-10-08 00:00:00+03:00\", \"2020-10-08 00:00:00+03:00\", \"2020-10-08 01:00:00+03:00\", \"2020-10-08 02:00:00+03:00\", \"2020-10-08 03:00:00+03:00\", \"2020-10-08 04:00:00+03:00\", \"2020-10-08 05:00:00+03:00\", \"2020-10-08 06:00:00+03:00\", \"2020-10-08 07:00:00+03:00\", \"2020-10-08 08:00:00+03:00\", \"2020-10-08 09:00:00+03:00\", \"2020-10-08 10:00:00+03:00\", \"2020-10-08 11:00:00+03:00\", \"2020-10-08 12:00:00+03:00\", \"2020-10-08 13:00:00+03:00\", \"2020-10-08 14:00:00+03:00\", \"2020-10-08 15:00:00+03:00\", \"2020-10-08 16:00:00+03:00\", \"2020-10-08 17:00:00+03:00\", \"2020-10-08 18:00:00+03:00\", \"2020-10-11 15:00:00+03:00\", \"2020-10-11 16:00:00+03:00\", \"2020-10-11 17:00:00+03:00\", \"2020-10-11 18:00:00+03:00\", \"2020-10-11 19:00:00+03:00\", \"2020-10-11 20:00:00+03:00\", \"2020-10-11 21:00:00+03:00\", \"2020-10-11 22:00:00+03:00\", \"2020-10-11 23:00:00+03:00\", \"2020-10-12 00:00:00+03:00\", \"2020-10-12 01:00:00+03:00\", \"2020-10-12 02:00:00+03:00\", \"2020-10-12 03:00:00+03:00\", \"2020-10-12 04:00:00+03:00\", \"2020-10-12 05:00:00+03:00\", \"2020-10-12 06:00:00+03:00\", \"2020-10-12 07:00:00+03:00\", \"2020-10-12 08:00:00+03:00\", \"2020-10-12 09:00:00+03:00\", \"2020-10-12 10:00:00+03:00\", \"2020-10-12 11:00:00+03:00\", \"2020-10-12 12:00:00+03:00\", \"2020-10-12 13:00:00+03:00\", \"2020-10-12 14:00:00+03:00\", \"2020-10-12 15:00:00+03:00\", \"2020-10-12 16:00:00+03:00\", \"2020-10-12 17:00:00+03:00\", \"2020-10-12 18:00:00+03:00\", \"2020-10-12 19:00:00+03:00\", \"2020-10-12 20:00:00+03:00\", \"2020-10-12 21:00:00+03:00\", \"2020-10-12 22:00:00+03:00\", \"2020-10-12 23:00:00+03:00\", \"2020-10-13 00:00:00+03:00\", \"2020-10-13 01:00:00+03:00\", \"2020-10-13 02:00:00+03:00\", \"2020-10-13 03:00:00+03:00\", \"2020-10-13 04:00:00+03:00\", \"2020-10-13 05:00:00+03:00\", \"2020-10-13 06:00:00+03:00\", \"2020-10-13 07:00:00+03:00\", \"2020-10-13 08:00:00+03:00\", \"2020-10-13 09:00:00+03:00\", \"2020-10-13 10:00:00+03:00\", \"2020-10-13 11:00:00+03:00\", \"2020-10-13 12:00:00+03:00\", \"2020-10-13 13:00:00+03:00\", \"2020-10-13 14:00:00+03:00\", \"2020-10-13 16:00:00+03:00\", \"2020-10-13 17:00:00+03:00\", \"2020-10-13 18:00:00+03:00\", \"2020-10-13 19:00:00+03:00\", \"2020-10-13 20:00:00+03:00\", \"2020-10-13 21:00:00+03:00\", \"2020-10-13 22:00:00+03:00\", \"2020-10-13 23:00:00+03:00\", \"2020-10-14 00:00:00+03:00\", \"2020-10-14 01:00:00+03:00\", \"2020-10-14 02:00:00+03:00\", \"2020-10-14 03:00:00+03:00\", \"2020-10-14 04:00:00+03:00\", \"2020-10-14 05:00:00+03:00\", \"2020-10-14 06:00:00+03:00\", \"2020-10-14 07:00:00+03:00\", \"2020-10-14 08:00:00+03:00\", \"2020-10-14 09:00:00+03:00\", \"2020-10-19 15:00:00+03:00\", \"2020-10-19 16:00:00+03:00\", \"2020-10-19 17:00:00+03:00\", \"2020-10-19 18:00:00+03:00\", \"2020-10-19 19:00:00+03:00\", \"2020-10-19 20:00:00+03:00\", \"2020-10-19 21:00:00+03:00\", \"2020-10-19 22:00:00+03:00\", \"2020-10-19 23:00:00+03:00\", \"2020-10-20 00:00:00+03:00\", \"2020-10-20 01:00:00+03:00\", \"2020-10-20 02:00:00+03:00\", \"2020-10-20 03:00:00+03:00\", \"2020-10-20 04:00:00+03:00\", \"2020-10-20 05:00:00+03:00\", \"2020-10-20 06:00:00+03:00\", \"2020-10-20 07:00:00+03:00\", \"2020-10-20 08:00:00+03:00\", \"2020-10-20 09:00:00+03:00\", \"2020-10-20 10:00:00+03:00\", \"2020-10-20 11:00:00+03:00\", \"2020-10-20 12:00:00+03:00\", \"2020-10-20 13:00:00+03:00\", \"2020-10-20 14:00:00+03:00\", \"2020-10-20 15:00:00+03:00\", \"2020-10-20 16:00:00+03:00\", \"2020-10-20 17:00:00+03:00\", \"2020-10-20 18:00:00+03:00\", \"2020-10-20 19:00:00+03:00\", \"2020-10-20 20:00:00+03:00\", \"2020-10-20 21:00:00+03:00\", \"2020-10-20 22:00:00+03:00\", \"2020-10-20 23:00:00+03:00\", \"2020-10-21 00:00:00+03:00\", \"2020-10-21 01:00:00+03:00\", \"2020-10-21 02:00:00+03:00\", \"2020-10-21 03:00:00+03:00\", \"2020-10-21 04:00:00+03:00\", \"2020-10-21 05:00:00+03:00\", \"2020-10-21 06:00:00+03:00\", \"2020-10-21 07:00:00+03:00\", \"2020-10-21 08:00:00+03:00\", \"2020-10-21 09:00:00+03:00\", \"2020-10-21 10:00:00+03:00\", \"2020-10-21 11:00:00+03:00\", \"2020-10-21 12:00:00+03:00\", \"2020-10-21 13:00:00+03:00\", \"2020-10-21 15:00:00+03:00\", \"2020-10-21 16:00:00+03:00\", \"2020-10-21 17:00:00+03:00\", \"2020-10-21 18:00:00+03:00\", \"2020-10-21 19:00:00+03:00\", \"2020-10-21 20:00:00+03:00\", \"2020-10-21 21:00:00+03:00\", \"2020-10-21 22:00:00+03:00\", \"2020-10-21 23:00:00+03:00\", \"2020-10-22 00:00:00+03:00\", \"2020-10-22 01:00:00+03:00\", \"2020-10-22 02:00:00+03:00\", \"2020-10-22 03:00:00+03:00\", \"2020-10-22 04:00:00+03:00\", \"2020-10-22 05:00:00+03:00\", \"2020-10-22 06:00:00+03:00\", \"2020-10-22 07:00:00+03:00\", \"2020-10-22 08:00:00+03:00\", \"2020-10-22 09:00:00+03:00\"], \"y\": [9.7, 10.2, 10.4, 10.5, 10.7, 10.9, 11.4, 11.5, 11.8, 12.0, 11.3, 9.2, 7.3, 6.3, 6.4, 6.9, 7.7, 8.8, 9.8, 10.3, 10.1, 10.2, 9.8, 9.0, 9.2, 10.1, 10.5, 11.4, 12.1, 12.7, 13.3, 13.7, 13.5, 12.8, 12.0, 10.0, 9.6, 9.4, 10.1, 10.7, 10.6, 10.2, 10.2, 10.7, 11.3, 11.6, 11.3, 11.2, 10.4, 11.7, 12.8, 12.7, 12.9, 13.3, 14.1, 14.8, 14.3, 14.1, 12.4, 11.7, 11.9, 12.6, 12.7, 13.4, 14.1, 14.0, 14.4, 15.2, 15.2, 13.3, 13.0, 12.8, 11.2, 9.4, 7.6, 5.0, 2.6, 2.8, 4.7, 7.2, 9.2, 9.9, 9.0, 10.5, 10.1, 9.6, 9.8, 9.9, 9.8, 8.5, 10.3, 9.3, 12.5, 11.5, 13.0, 13.8, 14.7, 13.5, 14.2, 15.0, 16.2, 15.3, 14.8, 14.4, 14.9, 13.9, 15.3, 14.0, 15.7, 14.4, 14.2, 14.9, 14.3, 12.6, 13.8, 13.2, 12.5, 11.5, 14.1, 14.2, 11.8, 13.6, 13.7, 12.1, 11.4, 12.7, 12.2, 13.9, 11.9, 12.9, 10.2, 11.3, 10.4, 8.8, 8.6, 10.8, 10.1, 9.0, 9.5, 9.4, 10.3, 10.3, 10.6, 10.5, 10.9, 10.6, 10.4, 11.5, 10.3, 10.1, 9.5, 9.3, 8.4, 8.9, 8.3, 8.1, 7.8, 7.7, 7.3, 7.5, 7.8, 7.8, 7.1, 8.1, 9.3, 7.0, 6.7, 10.3, 10.9, 7.7, 8.2, 11.1, 10.7, 10.4, 9.3, 12.8, 7.5, 10.7, 6.8, 11.6, 10.3, 7.9, 5.5, 5.3, 5.5, 5.2, 5.9, 5.9, 6.1, 5.9, 7.2, 7.0, 8.7, 6.6, 7.6, \"\", \"\", \"\", 5.0, 5.7, 5.6, 6.1, 6.7, 7.2, 6.8, 6.4, 5.3, 3.6, 1.9, 1.0, 1.1, 1.8, 2.4, 3.5, 5.3, 6.1, 6.5, 7.5, 8.9, 8.9, 9.4, 8.7, 8.8, 9.7, 10.1, 9.4, 11.6, 11.4, 11.8, 13.2, 10.8, 12.2, 12.1, 6.1, 4.0, 5.3, 9.1, 6.5, 10.9, 6.9, 6.4, 6.7, 5.7, 5.8, 5.1, 4.7, 5.1, 4.4, 3.0, 4.0, 4.5, 5.5, 6.2, 7.4, 8.6, 9.5, 9.6, 9.0, 9.2, 10.0, 10.5, 11.2, 11.3, 11.0, 7.1, 6.7, 6.2, 8.0, 7.9, 7.6, 8.1, 8.9, 9.8, 10.6, 10.3, 10.9, 10.7, 10.3, 9.9, 8.9, 8.3, 8.1, 7.7, 6.4, 5.2, 4.0, 3.7, 3.4, 3.4, 3.4, 3.3, 2.8, 2.1, 1.6, 1.2, 1.2, 1.7, 2.5, 4.1, 5.2, 5.5, 7.2, 8.3, 9.6, 10.2, 10.0, 11.4, 11.7, 11.9, 11.2, 11.1, 11.1, 10.9, 10.4, 10.4, 11.0, 11.4, 11.5, 11.6, 11.1, 10.1, 10.3, 11.4, 11.4, 12.0, 12.1, 13.1, 13.4, 12.9, 12.2]}],                        {\"legend\": {\"bgcolor\": \"#F5F6F9\", \"font\": {\"color\": \"#4D5663\"}}, \"paper_bgcolor\": \"#F5F6F9\", \"plot_bgcolor\": \"#F5F6F9\", \"template\": {\"data\": {\"bar\": [{\"error_x\": {\"color\": \"#2a3f5f\"}, \"error_y\": {\"color\": \"#2a3f5f\"}, \"marker\": {\"line\": {\"color\": \"#E5ECF6\", \"width\": 0.5}}, \"type\": \"bar\"}], \"barpolar\": [{\"marker\": {\"line\": {\"color\": \"#E5ECF6\", \"width\": 0.5}}, \"type\": \"barpolar\"}], \"carpet\": [{\"aaxis\": {\"endlinecolor\": \"#2a3f5f\", \"gridcolor\": \"white\", \"linecolor\": \"white\", \"minorgridcolor\": \"white\", \"startlinecolor\": \"#2a3f5f\"}, \"baxis\": {\"endlinecolor\": \"#2a3f5f\", \"gridcolor\": \"white\", \"linecolor\": \"white\", \"minorgridcolor\": \"white\", \"startlinecolor\": \"#2a3f5f\"}, \"type\": \"carpet\"}], \"choropleth\": [{\"colorbar\": {\"outlinewidth\": 0, \"ticks\": \"\"}, \"type\": \"choropleth\"}], \"contour\": [{\"colorbar\": {\"outlinewidth\": 0, \"ticks\": \"\"}, \"colorscale\": [[0.0, \"#0d0887\"], [0.1111111111111111, \"#46039f\"], [0.2222222222222222, \"#7201a8\"], [0.3333333333333333, \"#9c179e\"], [0.4444444444444444, \"#bd3786\"], [0.5555555555555556, \"#d8576b\"], [0.6666666666666666, \"#ed7953\"], [0.7777777777777778, \"#fb9f3a\"], [0.8888888888888888, \"#fdca26\"], [1.0, \"#f0f921\"]], \"type\": \"contour\"}], \"contourcarpet\": [{\"colorbar\": {\"outlinewidth\": 0, \"ticks\": \"\"}, \"type\": \"contourcarpet\"}], \"heatmap\": [{\"colorbar\": {\"outlinewidth\": 0, \"ticks\": \"\"}, \"colorscale\": [[0.0, \"#0d0887\"], [0.1111111111111111, \"#46039f\"], [0.2222222222222222, \"#7201a8\"], [0.3333333333333333, \"#9c179e\"], [0.4444444444444444, \"#bd3786\"], [0.5555555555555556, \"#d8576b\"], [0.6666666666666666, \"#ed7953\"], [0.7777777777777778, \"#fb9f3a\"], [0.8888888888888888, \"#fdca26\"], [1.0, \"#f0f921\"]], \"type\": \"heatmap\"}], \"heatmapgl\": [{\"colorbar\": {\"outlinewidth\": 0, \"ticks\": \"\"}, \"colorscale\": [[0.0, \"#0d0887\"], [0.1111111111111111, \"#46039f\"], [0.2222222222222222, \"#7201a8\"], [0.3333333333333333, \"#9c179e\"], [0.4444444444444444, \"#bd3786\"], [0.5555555555555556, \"#d8576b\"], [0.6666666666666666, \"#ed7953\"], [0.7777777777777778, \"#fb9f3a\"], [0.8888888888888888, \"#fdca26\"], [1.0, \"#f0f921\"]], \"type\": \"heatmapgl\"}], \"histogram\": [{\"marker\": {\"colorbar\": {\"outlinewidth\": 0, \"ticks\": \"\"}}, \"type\": \"histogram\"}], \"histogram2d\": [{\"colorbar\": {\"outlinewidth\": 0, \"ticks\": \"\"}, \"colorscale\": [[0.0, \"#0d0887\"], [0.1111111111111111, \"#46039f\"], [0.2222222222222222, \"#7201a8\"], [0.3333333333333333, \"#9c179e\"], [0.4444444444444444, \"#bd3786\"], [0.5555555555555556, \"#d8576b\"], [0.6666666666666666, \"#ed7953\"], [0.7777777777777778, \"#fb9f3a\"], [0.8888888888888888, \"#fdca26\"], [1.0, \"#f0f921\"]], \"type\": \"histogram2d\"}], \"histogram2dcontour\": [{\"colorbar\": {\"outlinewidth\": 0, \"ticks\": \"\"}, \"colorscale\": [[0.0, \"#0d0887\"], [0.1111111111111111, \"#46039f\"], [0.2222222222222222, \"#7201a8\"], [0.3333333333333333, \"#9c179e\"], [0.4444444444444444, \"#bd3786\"], [0.5555555555555556, \"#d8576b\"], [0.6666666666666666, \"#ed7953\"], [0.7777777777777778, \"#fb9f3a\"], [0.8888888888888888, \"#fdca26\"], [1.0, \"#f0f921\"]], \"type\": \"histogram2dcontour\"}], \"mesh3d\": [{\"colorbar\": {\"outlinewidth\": 0, \"ticks\": \"\"}, \"type\": \"mesh3d\"}], \"parcoords\": [{\"line\": {\"colorbar\": {\"outlinewidth\": 0, \"ticks\": \"\"}}, \"type\": \"parcoords\"}], \"pie\": [{\"automargin\": true, \"type\": \"pie\"}], \"scatter\": [{\"marker\": {\"colorbar\": {\"outlinewidth\": 0, \"ticks\": \"\"}}, \"type\": \"scatter\"}], \"scatter3d\": [{\"line\": {\"colorbar\": {\"outlinewidth\": 0, \"ticks\": \"\"}}, \"marker\": {\"colorbar\": {\"outlinewidth\": 0, \"ticks\": \"\"}}, \"type\": \"scatter3d\"}], \"scattercarpet\": [{\"marker\": {\"colorbar\": {\"outlinewidth\": 0, \"ticks\": \"\"}}, \"type\": \"scattercarpet\"}], \"scattergeo\": [{\"marker\": {\"colorbar\": {\"outlinewidth\": 0, \"ticks\": \"\"}}, \"type\": \"scattergeo\"}], \"scattergl\": [{\"marker\": {\"colorbar\": {\"outlinewidth\": 0, \"ticks\": \"\"}}, \"type\": \"scattergl\"}], \"scattermapbox\": [{\"marker\": {\"colorbar\": {\"outlinewidth\": 0, \"ticks\": \"\"}}, \"type\": \"scattermapbox\"}], \"scatterpolar\": [{\"marker\": {\"colorbar\": {\"outlinewidth\": 0, \"ticks\": \"\"}}, \"type\": \"scatterpolar\"}], \"scatterpolargl\": [{\"marker\": {\"colorbar\": {\"outlinewidth\": 0, \"ticks\": \"\"}}, \"type\": \"scatterpolargl\"}], \"scatterternary\": [{\"marker\": {\"colorbar\": {\"outlinewidth\": 0, \"ticks\": \"\"}}, \"type\": \"scatterternary\"}], \"surface\": [{\"colorbar\": {\"outlinewidth\": 0, \"ticks\": \"\"}, \"colorscale\": [[0.0, \"#0d0887\"], [0.1111111111111111, \"#46039f\"], [0.2222222222222222, \"#7201a8\"], [0.3333333333333333, \"#9c179e\"], [0.4444444444444444, \"#bd3786\"], [0.5555555555555556, \"#d8576b\"], [0.6666666666666666, \"#ed7953\"], [0.7777777777777778, \"#fb9f3a\"], [0.8888888888888888, \"#fdca26\"], [1.0, \"#f0f921\"]], \"type\": \"surface\"}], \"table\": [{\"cells\": {\"fill\": {\"color\": \"#EBF0F8\"}, \"line\": {\"color\": \"white\"}}, \"header\": {\"fill\": {\"color\": \"#C8D4E3\"}, \"line\": {\"color\": \"white\"}}, \"type\": \"table\"}]}, \"layout\": {\"annotationdefaults\": {\"arrowcolor\": \"#2a3f5f\", \"arrowhead\": 0, \"arrowwidth\": 1}, \"coloraxis\": {\"colorbar\": {\"outlinewidth\": 0, \"ticks\": \"\"}}, \"colorscale\": {\"diverging\": [[0, \"#8e0152\"], [0.1, \"#c51b7d\"], [0.2, \"#de77ae\"], [0.3, \"#f1b6da\"], [0.4, \"#fde0ef\"], [0.5, \"#f7f7f7\"], [0.6, \"#e6f5d0\"], [0.7, \"#b8e186\"], [0.8, \"#7fbc41\"], [0.9, \"#4d9221\"], [1, \"#276419\"]], \"sequential\": [[0.0, \"#0d0887\"], [0.1111111111111111, \"#46039f\"], [0.2222222222222222, \"#7201a8\"], [0.3333333333333333, \"#9c179e\"], [0.4444444444444444, \"#bd3786\"], [0.5555555555555556, \"#d8576b\"], [0.6666666666666666, \"#ed7953\"], [0.7777777777777778, \"#fb9f3a\"], [0.8888888888888888, \"#fdca26\"], [1.0, \"#f0f921\"]], \"sequentialminus\": [[0.0, \"#0d0887\"], [0.1111111111111111, \"#46039f\"], [0.2222222222222222, \"#7201a8\"], [0.3333333333333333, \"#9c179e\"], [0.4444444444444444, \"#bd3786\"], [0.5555555555555556, \"#d8576b\"], [0.6666666666666666, \"#ed7953\"], [0.7777777777777778, \"#fb9f3a\"], [0.8888888888888888, \"#fdca26\"], [1.0, \"#f0f921\"]]}, \"colorway\": [\"#636efa\", \"#EF553B\", \"#00cc96\", \"#ab63fa\", \"#FFA15A\", \"#19d3f3\", \"#FF6692\", \"#B6E880\", \"#FF97FF\", \"#FECB52\"], \"font\": {\"color\": \"#2a3f5f\"}, \"geo\": {\"bgcolor\": \"white\", \"lakecolor\": \"white\", \"landcolor\": \"#E5ECF6\", \"showlakes\": true, \"showland\": true, \"subunitcolor\": \"white\"}, \"hoverlabel\": {\"align\": \"left\"}, \"hovermode\": \"closest\", \"mapbox\": {\"style\": \"light\"}, \"paper_bgcolor\": \"white\", \"plot_bgcolor\": \"#E5ECF6\", \"polar\": {\"angularaxis\": {\"gridcolor\": \"white\", \"linecolor\": \"white\", \"ticks\": \"\"}, \"bgcolor\": \"#E5ECF6\", \"radialaxis\": {\"gridcolor\": \"white\", \"linecolor\": \"white\", \"ticks\": \"\"}}, \"scene\": {\"xaxis\": {\"backgroundcolor\": \"#E5ECF6\", \"gridcolor\": \"white\", \"gridwidth\": 2, \"linecolor\": \"white\", \"showbackground\": true, \"ticks\": \"\", \"zerolinecolor\": \"white\"}, \"yaxis\": {\"backgroundcolor\": \"#E5ECF6\", \"gridcolor\": \"white\", \"gridwidth\": 2, \"linecolor\": \"white\", \"showbackground\": true, \"ticks\": \"\", \"zerolinecolor\": \"white\"}, \"zaxis\": {\"backgroundcolor\": \"#E5ECF6\", \"gridcolor\": \"white\", \"gridwidth\": 2, \"linecolor\": \"white\", \"showbackground\": true, \"ticks\": \"\", \"zerolinecolor\": \"white\"}}, \"shapedefaults\": {\"line\": {\"color\": \"#2a3f5f\"}}, \"ternary\": {\"aaxis\": {\"gridcolor\": \"white\", \"linecolor\": \"white\", \"ticks\": \"\"}, \"baxis\": {\"gridcolor\": \"white\", \"linecolor\": \"white\", \"ticks\": \"\"}, \"bgcolor\": \"#E5ECF6\", \"caxis\": {\"gridcolor\": \"white\", \"linecolor\": \"white\", \"ticks\": \"\"}}, \"title\": {\"x\": 0.05}, \"xaxis\": {\"automargin\": true, \"gridcolor\": \"white\", \"linecolor\": \"white\", \"ticks\": \"\", \"title\": {\"standoff\": 15}, \"zerolinecolor\": \"white\", \"zerolinewidth\": 2}, \"yaxis\": {\"automargin\": true, \"gridcolor\": \"white\", \"linecolor\": \"white\", \"ticks\": \"\", \"title\": {\"standoff\": 15}, \"zerolinecolor\": \"white\", \"zerolinewidth\": 2}}}, \"title\": {\"font\": {\"color\": \"#4D5663\"}}, \"xaxis\": {\"gridcolor\": \"#E1E5ED\", \"showgrid\": true, \"tickfont\": {\"color\": \"#4D5663\"}, \"title\": {\"font\": {\"color\": \"#4D5663\"}, \"text\": \"Date\"}, \"zerolinecolor\": \"#E1E5ED\"}, \"yaxis\": {\"gridcolor\": \"#E1E5ED\", \"showgrid\": true, \"tickfont\": {\"color\": \"#4D5663\"}, \"title\": {\"font\": {\"color\": \"#4D5663\"}, \"text\": \"Wind Speed (ms)\"}, \"zerolinecolor\": \"#E1E5ED\"}},                        {\"showLink\": true, \"linkText\": \"Export to plot.ly\", \"plotlyServerURL\": \"https://plot.ly\", \"responsive\": true}                    ).then(function(){\n",
       "                            \n",
       "var gd = document.getElementById('dc113632-35c1-4ebc-90e1-26085e0a8cd8');\n",
       "var x = new MutationObserver(function (mutations, observer) {{\n",
       "        var display = window.getComputedStyle(gd).display;\n",
       "        if (!display || display === 'none') {{\n",
       "            console.log([gd, 'removed!']);\n",
       "            Plotly.purge(gd);\n",
       "            observer.disconnect();\n",
       "        }}\n",
       "}});\n",
       "\n",
       "// Listen for the removal of the full notebook cells\n",
       "var notebookContainer = gd.closest('#notebook-container');\n",
       "if (notebookContainer) {{\n",
       "    x.observe(notebookContainer, {childList: true});\n",
       "}}\n",
       "\n",
       "// Listen for the clearing of the current output cell\n",
       "var outputEl = gd.closest('.output');\n",
       "if (outputEl) {{\n",
       "    x.observe(outputEl, {childList: true});\n",
       "}}\n",
       "\n",
       "                        })                };                });            </script>        </div>"
      ]
     },
     "metadata": {},
     "output_type": "display_data"
    }
   ],
   "source": [
    "#Plot the wind_speed_ms\n",
    "X['wind_speed_ms'].iplot(xTitle = 'Date', yTitle = 'Wind Speed (ms)', color = 'blue')"
   ]
  },
  {
   "cell_type": "markdown",
   "metadata": {},
   "source": [
    "The wind speed seems not having a clear trend."
   ]
  },
  {
   "cell_type": "code",
   "execution_count": 15,
   "metadata": {},
   "outputs": [
    {
     "data": {
      "application/vnd.plotly.v1+json": {
       "config": {
        "linkText": "Export to plot.ly",
        "plotlyServerURL": "https://plot.ly",
        "showLink": true
       },
       "data": [
        {
         "line": {
          "color": "rgba(255, 153, 51, 1.0)",
          "dash": "solid",
          "shape": "linear",
          "width": 1.3
         },
         "mode": "lines",
         "name": "power_output_kw",
         "text": "",
         "type": "scatter",
         "x": [
          "2020-10-01 12:00:00+03:00",
          "2020-10-01 13:00:00+03:00",
          "2020-10-01 14:00:00+03:00",
          "2020-10-01 15:00:00+03:00",
          "2020-10-01 16:00:00+03:00",
          "2020-10-01 17:00:00+03:00",
          "2020-10-01 18:00:00+03:00",
          "2020-10-01 19:00:00+03:00",
          "2020-10-01 20:00:00+03:00",
          "2020-10-01 21:00:00+03:00",
          "2020-10-01 22:00:00+03:00",
          "2020-10-01 23:00:00+03:00",
          "2020-10-02 00:00:00+03:00",
          "2020-10-02 01:00:00+03:00",
          "2020-10-02 02:00:00+03:00",
          "2020-10-02 03:00:00+03:00",
          "2020-10-02 04:00:00+03:00",
          "2020-10-02 05:00:00+03:00",
          "2020-10-02 06:00:00+03:00",
          "2020-10-02 07:00:00+03:00",
          "2020-10-02 08:00:00+03:00",
          "2020-10-02 09:00:00+03:00",
          "2020-10-02 10:00:00+03:00",
          "2020-10-02 11:00:00+03:00",
          "2020-10-02 12:00:00+03:00",
          "2020-10-02 13:00:00+03:00",
          "2020-10-02 14:00:00+03:00",
          "2020-10-02 15:00:00+03:00",
          "2020-10-02 16:00:00+03:00",
          "2020-10-02 17:00:00+03:00",
          "2020-10-02 18:00:00+03:00",
          "2020-10-02 19:00:00+03:00",
          "2020-10-02 20:00:00+03:00",
          "2020-10-02 21:00:00+03:00",
          "2020-10-02 22:00:00+03:00",
          "2020-10-03 00:00:00+03:00",
          "2020-10-03 01:00:00+03:00",
          "2020-10-03 02:00:00+03:00",
          "2020-10-03 03:00:00+03:00",
          "2020-10-03 04:00:00+03:00",
          "2020-10-03 05:00:00+03:00",
          "2020-10-03 06:00:00+03:00",
          "2020-10-03 07:00:00+03:00",
          "2020-10-03 08:00:00+03:00",
          "2020-10-03 09:00:00+03:00",
          "2020-10-03 10:00:00+03:00",
          "2020-10-03 11:00:00+03:00",
          "2020-10-03 12:00:00+03:00",
          "2020-10-03 13:00:00+03:00",
          "2020-10-03 14:00:00+03:00",
          "2020-10-03 15:00:00+03:00",
          "2020-10-03 16:00:00+03:00",
          "2020-10-03 17:00:00+03:00",
          "2020-10-03 18:00:00+03:00",
          "2020-10-03 19:00:00+03:00",
          "2020-10-03 20:00:00+03:00",
          "2020-10-03 21:00:00+03:00",
          "2020-10-03 22:00:00+03:00",
          "2020-10-03 23:00:00+03:00",
          "2020-10-04 00:00:00+03:00",
          "2020-10-04 01:00:00+03:00",
          "2020-10-04 02:00:00+03:00",
          "2020-10-04 03:00:00+03:00",
          "2020-10-04 04:00:00+03:00",
          "2020-10-04 05:00:00+03:00",
          "2020-10-04 06:00:00+03:00",
          "2020-10-05 06:00:00+03:00",
          "2020-10-05 07:00:00+03:00",
          "2020-10-05 08:00:00+03:00",
          "2020-10-05 09:00:00+03:00",
          "2020-10-05 10:00:00+03:00",
          "2020-10-05 11:00:00+03:00",
          "2020-10-05 12:00:00+03:00",
          "2020-10-05 13:00:00+03:00",
          "2020-10-05 14:00:00+03:00",
          "2020-10-05 15:00:00+03:00",
          "2020-10-05 16:00:00+03:00",
          "2020-10-05 17:00:00+03:00",
          "2020-10-05 18:00:00+03:00",
          "2020-10-05 19:00:00+03:00",
          "2020-10-05 20:00:00+03:00",
          "2020-10-05 21:00:00+03:00",
          "2020-10-05 22:00:00+03:00",
          "2020-10-05 23:00:00+03:00",
          "2020-10-06 00:00:00+03:00",
          "2020-10-06 00:00:00+03:00",
          "2020-10-06 01:00:00+03:00",
          "2020-10-06 01:00:00+03:00",
          "2020-10-06 02:00:00+03:00",
          "2020-10-06 02:00:00+03:00",
          "2020-10-06 03:00:00+03:00",
          "2020-10-06 03:00:00+03:00",
          "2020-10-06 04:00:00+03:00",
          "2020-10-06 04:00:00+03:00",
          "2020-10-06 05:00:00+03:00",
          "2020-10-06 06:00:00+03:00",
          "2020-10-06 06:00:00+03:00",
          "2020-10-06 07:00:00+03:00",
          "2020-10-06 07:00:00+03:00",
          "2020-10-06 08:00:00+03:00",
          "2020-10-06 08:00:00+03:00",
          "2020-10-06 09:00:00+03:00",
          "2020-10-06 09:00:00+03:00",
          "2020-10-06 10:00:00+03:00",
          "2020-10-06 10:00:00+03:00",
          "2020-10-06 11:00:00+03:00",
          "2020-10-06 11:00:00+03:00",
          "2020-10-06 12:00:00+03:00",
          "2020-10-06 12:00:00+03:00",
          "2020-10-06 13:00:00+03:00",
          "2020-10-06 13:00:00+03:00",
          "2020-10-06 14:00:00+03:00",
          "2020-10-06 14:00:00+03:00",
          "2020-10-06 15:00:00+03:00",
          "2020-10-06 15:00:00+03:00",
          "2020-10-06 16:00:00+03:00",
          "2020-10-06 16:00:00+03:00",
          "2020-10-06 17:00:00+03:00",
          "2020-10-06 17:00:00+03:00",
          "2020-10-06 18:00:00+03:00",
          "2020-10-06 19:00:00+03:00",
          "2020-10-06 19:00:00+03:00",
          "2020-10-06 20:00:00+03:00",
          "2020-10-06 20:00:00+03:00",
          "2020-10-06 21:00:00+03:00",
          "2020-10-06 21:00:00+03:00",
          "2020-10-06 22:00:00+03:00",
          "2020-10-06 22:00:00+03:00",
          "2020-10-06 23:00:00+03:00",
          "2020-10-06 23:00:00+03:00",
          "2020-10-07 00:00:00+03:00",
          "2020-10-07 00:00:00+03:00",
          "2020-10-07 01:00:00+03:00",
          "2020-10-07 01:00:00+03:00",
          "2020-10-07 02:00:00+03:00",
          "2020-10-07 02:00:00+03:00",
          "2020-10-07 03:00:00+03:00",
          "2020-10-07 03:00:00+03:00",
          "2020-10-07 04:00:00+03:00",
          "2020-10-07 04:00:00+03:00",
          "2020-10-07 05:00:00+03:00",
          "2020-10-07 05:00:00+03:00",
          "2020-10-07 06:00:00+03:00",
          "2020-10-07 06:00:00+03:00",
          "2020-10-07 07:00:00+03:00",
          "2020-10-07 07:00:00+03:00",
          "2020-10-07 08:00:00+03:00",
          "2020-10-07 08:00:00+03:00",
          "2020-10-07 09:00:00+03:00",
          "2020-10-07 09:00:00+03:00",
          "2020-10-07 10:00:00+03:00",
          "2020-10-07 10:00:00+03:00",
          "2020-10-07 11:00:00+03:00",
          "2020-10-07 11:00:00+03:00",
          "2020-10-07 12:00:00+03:00",
          "2020-10-07 12:00:00+03:00",
          "2020-10-07 13:00:00+03:00",
          "2020-10-07 13:00:00+03:00",
          "2020-10-07 14:00:00+03:00",
          "2020-10-07 14:00:00+03:00",
          "2020-10-07 15:00:00+03:00",
          "2020-10-07 15:00:00+03:00",
          "2020-10-07 16:00:00+03:00",
          "2020-10-07 16:00:00+03:00",
          "2020-10-07 17:00:00+03:00",
          "2020-10-07 17:00:00+03:00",
          "2020-10-07 18:00:00+03:00",
          "2020-10-07 18:00:00+03:00",
          "2020-10-07 19:00:00+03:00",
          "2020-10-07 19:00:00+03:00",
          "2020-10-07 20:00:00+03:00",
          "2020-10-07 20:00:00+03:00",
          "2020-10-07 21:00:00+03:00",
          "2020-10-07 21:00:00+03:00",
          "2020-10-07 22:00:00+03:00",
          "2020-10-07 22:00:00+03:00",
          "2020-10-07 23:00:00+03:00",
          "2020-10-07 23:00:00+03:00",
          "2020-10-08 00:00:00+03:00",
          "2020-10-08 00:00:00+03:00",
          "2020-10-08 01:00:00+03:00",
          "2020-10-08 02:00:00+03:00",
          "2020-10-08 03:00:00+03:00",
          "2020-10-08 04:00:00+03:00",
          "2020-10-08 05:00:00+03:00",
          "2020-10-08 06:00:00+03:00",
          "2020-10-08 07:00:00+03:00",
          "2020-10-08 08:00:00+03:00",
          "2020-10-08 09:00:00+03:00",
          "2020-10-08 10:00:00+03:00",
          "2020-10-08 11:00:00+03:00",
          "2020-10-08 12:00:00+03:00",
          "2020-10-08 13:00:00+03:00",
          "2020-10-08 14:00:00+03:00",
          "2020-10-08 15:00:00+03:00",
          "2020-10-08 16:00:00+03:00",
          "2020-10-08 17:00:00+03:00",
          "2020-10-08 18:00:00+03:00",
          "2020-10-11 15:00:00+03:00",
          "2020-10-11 16:00:00+03:00",
          "2020-10-11 17:00:00+03:00",
          "2020-10-11 18:00:00+03:00",
          "2020-10-11 19:00:00+03:00",
          "2020-10-11 20:00:00+03:00",
          "2020-10-11 21:00:00+03:00",
          "2020-10-11 22:00:00+03:00",
          "2020-10-11 23:00:00+03:00",
          "2020-10-12 00:00:00+03:00",
          "2020-10-12 01:00:00+03:00",
          "2020-10-12 02:00:00+03:00",
          "2020-10-12 03:00:00+03:00",
          "2020-10-12 04:00:00+03:00",
          "2020-10-12 05:00:00+03:00",
          "2020-10-12 06:00:00+03:00",
          "2020-10-12 07:00:00+03:00",
          "2020-10-12 08:00:00+03:00",
          "2020-10-12 09:00:00+03:00",
          "2020-10-12 10:00:00+03:00",
          "2020-10-12 11:00:00+03:00",
          "2020-10-12 12:00:00+03:00",
          "2020-10-12 13:00:00+03:00",
          "2020-10-12 14:00:00+03:00",
          "2020-10-12 15:00:00+03:00",
          "2020-10-12 16:00:00+03:00",
          "2020-10-12 17:00:00+03:00",
          "2020-10-12 18:00:00+03:00",
          "2020-10-12 19:00:00+03:00",
          "2020-10-12 20:00:00+03:00",
          "2020-10-12 21:00:00+03:00",
          "2020-10-12 22:00:00+03:00",
          "2020-10-12 23:00:00+03:00",
          "2020-10-13 00:00:00+03:00",
          "2020-10-13 01:00:00+03:00",
          "2020-10-13 02:00:00+03:00",
          "2020-10-13 03:00:00+03:00",
          "2020-10-13 04:00:00+03:00",
          "2020-10-13 05:00:00+03:00",
          "2020-10-13 06:00:00+03:00",
          "2020-10-13 07:00:00+03:00",
          "2020-10-13 08:00:00+03:00",
          "2020-10-13 09:00:00+03:00",
          "2020-10-13 10:00:00+03:00",
          "2020-10-13 11:00:00+03:00",
          "2020-10-13 12:00:00+03:00",
          "2020-10-13 13:00:00+03:00",
          "2020-10-13 14:00:00+03:00",
          "2020-10-13 16:00:00+03:00",
          "2020-10-13 17:00:00+03:00",
          "2020-10-13 18:00:00+03:00",
          "2020-10-13 19:00:00+03:00",
          "2020-10-13 20:00:00+03:00",
          "2020-10-13 21:00:00+03:00",
          "2020-10-13 22:00:00+03:00",
          "2020-10-13 23:00:00+03:00",
          "2020-10-14 00:00:00+03:00",
          "2020-10-14 01:00:00+03:00",
          "2020-10-14 02:00:00+03:00",
          "2020-10-14 03:00:00+03:00",
          "2020-10-14 04:00:00+03:00",
          "2020-10-14 05:00:00+03:00",
          "2020-10-14 06:00:00+03:00",
          "2020-10-14 07:00:00+03:00",
          "2020-10-14 08:00:00+03:00",
          "2020-10-14 09:00:00+03:00",
          "2020-10-19 15:00:00+03:00",
          "2020-10-19 16:00:00+03:00",
          "2020-10-19 17:00:00+03:00",
          "2020-10-19 18:00:00+03:00",
          "2020-10-19 19:00:00+03:00",
          "2020-10-19 20:00:00+03:00",
          "2020-10-19 21:00:00+03:00",
          "2020-10-19 22:00:00+03:00",
          "2020-10-19 23:00:00+03:00",
          "2020-10-20 00:00:00+03:00",
          "2020-10-20 01:00:00+03:00",
          "2020-10-20 02:00:00+03:00",
          "2020-10-20 03:00:00+03:00",
          "2020-10-20 04:00:00+03:00",
          "2020-10-20 05:00:00+03:00",
          "2020-10-20 06:00:00+03:00",
          "2020-10-20 07:00:00+03:00",
          "2020-10-20 08:00:00+03:00",
          "2020-10-20 09:00:00+03:00",
          "2020-10-20 10:00:00+03:00",
          "2020-10-20 11:00:00+03:00",
          "2020-10-20 12:00:00+03:00",
          "2020-10-20 13:00:00+03:00",
          "2020-10-20 14:00:00+03:00",
          "2020-10-20 15:00:00+03:00",
          "2020-10-20 16:00:00+03:00",
          "2020-10-20 17:00:00+03:00",
          "2020-10-20 18:00:00+03:00",
          "2020-10-20 19:00:00+03:00",
          "2020-10-20 20:00:00+03:00",
          "2020-10-20 21:00:00+03:00",
          "2020-10-20 22:00:00+03:00",
          "2020-10-20 23:00:00+03:00",
          "2020-10-21 00:00:00+03:00",
          "2020-10-21 01:00:00+03:00",
          "2020-10-21 02:00:00+03:00",
          "2020-10-21 03:00:00+03:00",
          "2020-10-21 04:00:00+03:00",
          "2020-10-21 05:00:00+03:00",
          "2020-10-21 06:00:00+03:00",
          "2020-10-21 07:00:00+03:00",
          "2020-10-21 08:00:00+03:00",
          "2020-10-21 09:00:00+03:00",
          "2020-10-21 10:00:00+03:00",
          "2020-10-21 11:00:00+03:00",
          "2020-10-21 12:00:00+03:00",
          "2020-10-21 13:00:00+03:00",
          "2020-10-21 15:00:00+03:00",
          "2020-10-21 16:00:00+03:00",
          "2020-10-21 17:00:00+03:00",
          "2020-10-21 18:00:00+03:00",
          "2020-10-21 19:00:00+03:00",
          "2020-10-21 20:00:00+03:00",
          "2020-10-21 21:00:00+03:00",
          "2020-10-21 22:00:00+03:00",
          "2020-10-21 23:00:00+03:00",
          "2020-10-22 00:00:00+03:00",
          "2020-10-22 01:00:00+03:00",
          "2020-10-22 02:00:00+03:00",
          "2020-10-22 03:00:00+03:00",
          "2020-10-22 04:00:00+03:00",
          "2020-10-22 05:00:00+03:00",
          "2020-10-22 06:00:00+03:00",
          "2020-10-22 07:00:00+03:00",
          "2020-10-22 08:00:00+03:00",
          "2020-10-22 09:00:00+03:00"
         ],
         "y": [
          1452,
          1638,
          1716,
          1755,
          1833,
          1911,
          2106,
          2145,
          2262,
          2340,
          2067,
          1272,
          599.737,
          377.03,
          396.88,
          496.13,
          711.413,
          1119.034,
          1488,
          1677,
          1599,
          1638,
          1488,
          1200,
          1272,
          1599,
          1755,
          2106,
          2379,
          2613,
          2784,
          2856,
          2820,
          2652,
          2340,
          1560,
          1416,
          1344,
          1599,
          1833,
          1794,
          1638,
          1638,
          1833,
          2067,
          2184,
          2067,
          2028,
          1716,
          2223,
          2652,
          2613,
          2691,
          2784,
          2919,
          2982,
          2937,
          2919,
          2496,
          2223,
          2301,
          2574,
          2613,
          2802,
          2919,
          2910,
          2946,
          3000,
          3000,
          2784,
          2730,
          2652,
          2028,
          1344,
          683.494,
          182.53,
          0,
          0,
          154.214,
          571.818,
          1272,
          1524,
          1200,
          1755,
          1599,
          1416,
          1488,
          1524,
          1488,
          997.585,
          1677,
          1308,
          2535,
          2145,
          2730,
          2874,
          2973,
          2820,
          2928,
          3000,
          3000,
          3000,
          2982,
          2946,
          2991,
          2892,
          3000,
          2910,
          3000,
          2946,
          2928,
          2991,
          2937,
          2574,
          2874,
          2766,
          2535,
          2145,
          2919,
          2928,
          2262,
          2838,
          2856,
          2379,
          2106,
          2613,
          2418,
          2892,
          2301,
          2691,
          1638,
          2067,
          1716,
          1119.034,
          1038.068,
          1872,
          1599,
          1200,
          1380,
          1344,
          1677,
          1677,
          1794,
          1755,
          1911,
          1794,
          1716,
          2145,
          1677,
          1599,
          1380,
          1308,
          957.102,
          1159.517,
          916.619,
          835.653,
          739.332,
          711.413,
          599.737,
          655.575,
          739.332,
          739.332,
          543.899,
          835.653,
          1308,
          515.98,
          456.43,
          1677,
          1911,
          711.413,
          876.136,
          1989,
          1833,
          1716,
          1308,
          2652,
          655.575,
          1833,
          476.28,
          2184,
          1677,
          767.251,
          250.005,
          223.015,
          250.005,
          209.52,
          303.985,
          303.985,
          337.33,
          303.985,
          571.818,
          515.98,
          1078.551,
          436.58,
          683.494,
          0,
          0,
          0,
          182.53,
          276.995,
          263.5,
          337.33,
          456.43,
          571.818,
          476.28,
          396.88,
          223.015,
          52.885,
          0,
          0,
          0,
          0,
          0,
          44.071,
          223.015,
          337.33,
          416.73,
          655.575,
          1159.517,
          1159.517,
          1344,
          1078.551,
          1119.034,
          1452,
          1599,
          1344,
          2184,
          2106,
          2262,
          2766,
          1872,
          2418,
          2379,
          337.33,
          88.142,
          223.015,
          1236,
          416.73,
          1911,
          496.13,
          396.88,
          456.43,
          276.995,
          290.49,
          196.025,
          154.214,
          196.025,
          125.897,
          0,
          88.142,
          135.336,
          250.005,
          357.18,
          627.656,
          1038.068,
          1380,
          1416,
          1200,
          1272,
          1560,
          1755,
          2028,
          2067,
          1950,
          543.899,
          456.43,
          357.18,
          795.17,
          767.251,
          683.494,
          835.653,
          1159.517,
          1488,
          1794,
          1677,
          1911,
          1833,
          1677,
          1524,
          1159.517,
          916.619,
          835.653,
          711.413,
          396.88,
          209.52,
          88.142,
          61.699,
          35.257,
          35.257,
          35.257,
          26.443,
          0,
          0,
          0,
          0,
          0,
          0,
          0,
          97.581,
          209.52,
          250.005,
          571.818,
          916.619,
          1416,
          1638,
          1560,
          2106,
          2223,
          2301,
          2028,
          1989,
          1989,
          1911,
          1716,
          1716,
          1950,
          2106,
          2145,
          2184,
          1989,
          1599,
          1677,
          2106,
          2106,
          2340,
          2379,
          2748,
          2802,
          2691,
          2418
         ]
        }
       ],
       "layout": {
        "legend": {
         "bgcolor": "#F5F6F9",
         "font": {
          "color": "#4D5663"
         }
        },
        "paper_bgcolor": "#F5F6F9",
        "plot_bgcolor": "#F5F6F9",
        "template": {
         "data": {
          "bar": [
           {
            "error_x": {
             "color": "#2a3f5f"
            },
            "error_y": {
             "color": "#2a3f5f"
            },
            "marker": {
             "line": {
              "color": "#E5ECF6",
              "width": 0.5
             }
            },
            "type": "bar"
           }
          ],
          "barpolar": [
           {
            "marker": {
             "line": {
              "color": "#E5ECF6",
              "width": 0.5
             }
            },
            "type": "barpolar"
           }
          ],
          "carpet": [
           {
            "aaxis": {
             "endlinecolor": "#2a3f5f",
             "gridcolor": "white",
             "linecolor": "white",
             "minorgridcolor": "white",
             "startlinecolor": "#2a3f5f"
            },
            "baxis": {
             "endlinecolor": "#2a3f5f",
             "gridcolor": "white",
             "linecolor": "white",
             "minorgridcolor": "white",
             "startlinecolor": "#2a3f5f"
            },
            "type": "carpet"
           }
          ],
          "choropleth": [
           {
            "colorbar": {
             "outlinewidth": 0,
             "ticks": ""
            },
            "type": "choropleth"
           }
          ],
          "contour": [
           {
            "colorbar": {
             "outlinewidth": 0,
             "ticks": ""
            },
            "colorscale": [
             [
              0,
              "#0d0887"
             ],
             [
              0.1111111111111111,
              "#46039f"
             ],
             [
              0.2222222222222222,
              "#7201a8"
             ],
             [
              0.3333333333333333,
              "#9c179e"
             ],
             [
              0.4444444444444444,
              "#bd3786"
             ],
             [
              0.5555555555555556,
              "#d8576b"
             ],
             [
              0.6666666666666666,
              "#ed7953"
             ],
             [
              0.7777777777777778,
              "#fb9f3a"
             ],
             [
              0.8888888888888888,
              "#fdca26"
             ],
             [
              1,
              "#f0f921"
             ]
            ],
            "type": "contour"
           }
          ],
          "contourcarpet": [
           {
            "colorbar": {
             "outlinewidth": 0,
             "ticks": ""
            },
            "type": "contourcarpet"
           }
          ],
          "heatmap": [
           {
            "colorbar": {
             "outlinewidth": 0,
             "ticks": ""
            },
            "colorscale": [
             [
              0,
              "#0d0887"
             ],
             [
              0.1111111111111111,
              "#46039f"
             ],
             [
              0.2222222222222222,
              "#7201a8"
             ],
             [
              0.3333333333333333,
              "#9c179e"
             ],
             [
              0.4444444444444444,
              "#bd3786"
             ],
             [
              0.5555555555555556,
              "#d8576b"
             ],
             [
              0.6666666666666666,
              "#ed7953"
             ],
             [
              0.7777777777777778,
              "#fb9f3a"
             ],
             [
              0.8888888888888888,
              "#fdca26"
             ],
             [
              1,
              "#f0f921"
             ]
            ],
            "type": "heatmap"
           }
          ],
          "heatmapgl": [
           {
            "colorbar": {
             "outlinewidth": 0,
             "ticks": ""
            },
            "colorscale": [
             [
              0,
              "#0d0887"
             ],
             [
              0.1111111111111111,
              "#46039f"
             ],
             [
              0.2222222222222222,
              "#7201a8"
             ],
             [
              0.3333333333333333,
              "#9c179e"
             ],
             [
              0.4444444444444444,
              "#bd3786"
             ],
             [
              0.5555555555555556,
              "#d8576b"
             ],
             [
              0.6666666666666666,
              "#ed7953"
             ],
             [
              0.7777777777777778,
              "#fb9f3a"
             ],
             [
              0.8888888888888888,
              "#fdca26"
             ],
             [
              1,
              "#f0f921"
             ]
            ],
            "type": "heatmapgl"
           }
          ],
          "histogram": [
           {
            "marker": {
             "colorbar": {
              "outlinewidth": 0,
              "ticks": ""
             }
            },
            "type": "histogram"
           }
          ],
          "histogram2d": [
           {
            "colorbar": {
             "outlinewidth": 0,
             "ticks": ""
            },
            "colorscale": [
             [
              0,
              "#0d0887"
             ],
             [
              0.1111111111111111,
              "#46039f"
             ],
             [
              0.2222222222222222,
              "#7201a8"
             ],
             [
              0.3333333333333333,
              "#9c179e"
             ],
             [
              0.4444444444444444,
              "#bd3786"
             ],
             [
              0.5555555555555556,
              "#d8576b"
             ],
             [
              0.6666666666666666,
              "#ed7953"
             ],
             [
              0.7777777777777778,
              "#fb9f3a"
             ],
             [
              0.8888888888888888,
              "#fdca26"
             ],
             [
              1,
              "#f0f921"
             ]
            ],
            "type": "histogram2d"
           }
          ],
          "histogram2dcontour": [
           {
            "colorbar": {
             "outlinewidth": 0,
             "ticks": ""
            },
            "colorscale": [
             [
              0,
              "#0d0887"
             ],
             [
              0.1111111111111111,
              "#46039f"
             ],
             [
              0.2222222222222222,
              "#7201a8"
             ],
             [
              0.3333333333333333,
              "#9c179e"
             ],
             [
              0.4444444444444444,
              "#bd3786"
             ],
             [
              0.5555555555555556,
              "#d8576b"
             ],
             [
              0.6666666666666666,
              "#ed7953"
             ],
             [
              0.7777777777777778,
              "#fb9f3a"
             ],
             [
              0.8888888888888888,
              "#fdca26"
             ],
             [
              1,
              "#f0f921"
             ]
            ],
            "type": "histogram2dcontour"
           }
          ],
          "mesh3d": [
           {
            "colorbar": {
             "outlinewidth": 0,
             "ticks": ""
            },
            "type": "mesh3d"
           }
          ],
          "parcoords": [
           {
            "line": {
             "colorbar": {
              "outlinewidth": 0,
              "ticks": ""
             }
            },
            "type": "parcoords"
           }
          ],
          "pie": [
           {
            "automargin": true,
            "type": "pie"
           }
          ],
          "scatter": [
           {
            "marker": {
             "colorbar": {
              "outlinewidth": 0,
              "ticks": ""
             }
            },
            "type": "scatter"
           }
          ],
          "scatter3d": [
           {
            "line": {
             "colorbar": {
              "outlinewidth": 0,
              "ticks": ""
             }
            },
            "marker": {
             "colorbar": {
              "outlinewidth": 0,
              "ticks": ""
             }
            },
            "type": "scatter3d"
           }
          ],
          "scattercarpet": [
           {
            "marker": {
             "colorbar": {
              "outlinewidth": 0,
              "ticks": ""
             }
            },
            "type": "scattercarpet"
           }
          ],
          "scattergeo": [
           {
            "marker": {
             "colorbar": {
              "outlinewidth": 0,
              "ticks": ""
             }
            },
            "type": "scattergeo"
           }
          ],
          "scattergl": [
           {
            "marker": {
             "colorbar": {
              "outlinewidth": 0,
              "ticks": ""
             }
            },
            "type": "scattergl"
           }
          ],
          "scattermapbox": [
           {
            "marker": {
             "colorbar": {
              "outlinewidth": 0,
              "ticks": ""
             }
            },
            "type": "scattermapbox"
           }
          ],
          "scatterpolar": [
           {
            "marker": {
             "colorbar": {
              "outlinewidth": 0,
              "ticks": ""
             }
            },
            "type": "scatterpolar"
           }
          ],
          "scatterpolargl": [
           {
            "marker": {
             "colorbar": {
              "outlinewidth": 0,
              "ticks": ""
             }
            },
            "type": "scatterpolargl"
           }
          ],
          "scatterternary": [
           {
            "marker": {
             "colorbar": {
              "outlinewidth": 0,
              "ticks": ""
             }
            },
            "type": "scatterternary"
           }
          ],
          "surface": [
           {
            "colorbar": {
             "outlinewidth": 0,
             "ticks": ""
            },
            "colorscale": [
             [
              0,
              "#0d0887"
             ],
             [
              0.1111111111111111,
              "#46039f"
             ],
             [
              0.2222222222222222,
              "#7201a8"
             ],
             [
              0.3333333333333333,
              "#9c179e"
             ],
             [
              0.4444444444444444,
              "#bd3786"
             ],
             [
              0.5555555555555556,
              "#d8576b"
             ],
             [
              0.6666666666666666,
              "#ed7953"
             ],
             [
              0.7777777777777778,
              "#fb9f3a"
             ],
             [
              0.8888888888888888,
              "#fdca26"
             ],
             [
              1,
              "#f0f921"
             ]
            ],
            "type": "surface"
           }
          ],
          "table": [
           {
            "cells": {
             "fill": {
              "color": "#EBF0F8"
             },
             "line": {
              "color": "white"
             }
            },
            "header": {
             "fill": {
              "color": "#C8D4E3"
             },
             "line": {
              "color": "white"
             }
            },
            "type": "table"
           }
          ]
         },
         "layout": {
          "annotationdefaults": {
           "arrowcolor": "#2a3f5f",
           "arrowhead": 0,
           "arrowwidth": 1
          },
          "coloraxis": {
           "colorbar": {
            "outlinewidth": 0,
            "ticks": ""
           }
          },
          "colorscale": {
           "diverging": [
            [
             0,
             "#8e0152"
            ],
            [
             0.1,
             "#c51b7d"
            ],
            [
             0.2,
             "#de77ae"
            ],
            [
             0.3,
             "#f1b6da"
            ],
            [
             0.4,
             "#fde0ef"
            ],
            [
             0.5,
             "#f7f7f7"
            ],
            [
             0.6,
             "#e6f5d0"
            ],
            [
             0.7,
             "#b8e186"
            ],
            [
             0.8,
             "#7fbc41"
            ],
            [
             0.9,
             "#4d9221"
            ],
            [
             1,
             "#276419"
            ]
           ],
           "sequential": [
            [
             0,
             "#0d0887"
            ],
            [
             0.1111111111111111,
             "#46039f"
            ],
            [
             0.2222222222222222,
             "#7201a8"
            ],
            [
             0.3333333333333333,
             "#9c179e"
            ],
            [
             0.4444444444444444,
             "#bd3786"
            ],
            [
             0.5555555555555556,
             "#d8576b"
            ],
            [
             0.6666666666666666,
             "#ed7953"
            ],
            [
             0.7777777777777778,
             "#fb9f3a"
            ],
            [
             0.8888888888888888,
             "#fdca26"
            ],
            [
             1,
             "#f0f921"
            ]
           ],
           "sequentialminus": [
            [
             0,
             "#0d0887"
            ],
            [
             0.1111111111111111,
             "#46039f"
            ],
            [
             0.2222222222222222,
             "#7201a8"
            ],
            [
             0.3333333333333333,
             "#9c179e"
            ],
            [
             0.4444444444444444,
             "#bd3786"
            ],
            [
             0.5555555555555556,
             "#d8576b"
            ],
            [
             0.6666666666666666,
             "#ed7953"
            ],
            [
             0.7777777777777778,
             "#fb9f3a"
            ],
            [
             0.8888888888888888,
             "#fdca26"
            ],
            [
             1,
             "#f0f921"
            ]
           ]
          },
          "colorway": [
           "#636efa",
           "#EF553B",
           "#00cc96",
           "#ab63fa",
           "#FFA15A",
           "#19d3f3",
           "#FF6692",
           "#B6E880",
           "#FF97FF",
           "#FECB52"
          ],
          "font": {
           "color": "#2a3f5f"
          },
          "geo": {
           "bgcolor": "white",
           "lakecolor": "white",
           "landcolor": "#E5ECF6",
           "showlakes": true,
           "showland": true,
           "subunitcolor": "white"
          },
          "hoverlabel": {
           "align": "left"
          },
          "hovermode": "closest",
          "mapbox": {
           "style": "light"
          },
          "paper_bgcolor": "white",
          "plot_bgcolor": "#E5ECF6",
          "polar": {
           "angularaxis": {
            "gridcolor": "white",
            "linecolor": "white",
            "ticks": ""
           },
           "bgcolor": "#E5ECF6",
           "radialaxis": {
            "gridcolor": "white",
            "linecolor": "white",
            "ticks": ""
           }
          },
          "scene": {
           "xaxis": {
            "backgroundcolor": "#E5ECF6",
            "gridcolor": "white",
            "gridwidth": 2,
            "linecolor": "white",
            "showbackground": true,
            "ticks": "",
            "zerolinecolor": "white"
           },
           "yaxis": {
            "backgroundcolor": "#E5ECF6",
            "gridcolor": "white",
            "gridwidth": 2,
            "linecolor": "white",
            "showbackground": true,
            "ticks": "",
            "zerolinecolor": "white"
           },
           "zaxis": {
            "backgroundcolor": "#E5ECF6",
            "gridcolor": "white",
            "gridwidth": 2,
            "linecolor": "white",
            "showbackground": true,
            "ticks": "",
            "zerolinecolor": "white"
           }
          },
          "shapedefaults": {
           "line": {
            "color": "#2a3f5f"
           }
          },
          "ternary": {
           "aaxis": {
            "gridcolor": "white",
            "linecolor": "white",
            "ticks": ""
           },
           "baxis": {
            "gridcolor": "white",
            "linecolor": "white",
            "ticks": ""
           },
           "bgcolor": "#E5ECF6",
           "caxis": {
            "gridcolor": "white",
            "linecolor": "white",
            "ticks": ""
           }
          },
          "title": {
           "x": 0.05
          },
          "xaxis": {
           "automargin": true,
           "gridcolor": "white",
           "linecolor": "white",
           "ticks": "",
           "title": {
            "standoff": 15
           },
           "zerolinecolor": "white",
           "zerolinewidth": 2
          },
          "yaxis": {
           "automargin": true,
           "gridcolor": "white",
           "linecolor": "white",
           "ticks": "",
           "title": {
            "standoff": 15
           },
           "zerolinecolor": "white",
           "zerolinewidth": 2
          }
         }
        },
        "title": {
         "font": {
          "color": "#4D5663"
         }
        },
        "xaxis": {
         "gridcolor": "#E1E5ED",
         "showgrid": true,
         "tickfont": {
          "color": "#4D5663"
         },
         "title": {
          "font": {
           "color": "#4D5663"
          },
          "text": "Date"
         },
         "zerolinecolor": "#E1E5ED"
        },
        "yaxis": {
         "gridcolor": "#E1E5ED",
         "showgrid": true,
         "tickfont": {
          "color": "#4D5663"
         },
         "title": {
          "font": {
           "color": "#4D5663"
          },
          "text": "Power Output (kW)"
         },
         "zerolinecolor": "#E1E5ED"
        }
       }
      },
      "text/html": [
       "<div>                            <div id=\"f623a01f-fb84-49e1-9348-da4db05bddb9\" class=\"plotly-graph-div\" style=\"height:525px; width:100%;\"></div>            <script type=\"text/javascript\">                require([\"plotly\"], function(Plotly) {                    window.PLOTLYENV=window.PLOTLYENV || {};\n",
       "                    window.PLOTLYENV.BASE_URL='https://plot.ly';                                    if (document.getElementById(\"f623a01f-fb84-49e1-9348-da4db05bddb9\")) {                    Plotly.newPlot(                        \"f623a01f-fb84-49e1-9348-da4db05bddb9\",                        [{\"line\": {\"color\": \"rgba(255, 153, 51, 1.0)\", \"dash\": \"solid\", \"shape\": \"linear\", \"width\": 1.3}, \"mode\": \"lines\", \"name\": \"power_output_kw\", \"text\": \"\", \"type\": \"scatter\", \"x\": [\"2020-10-01 12:00:00+03:00\", \"2020-10-01 13:00:00+03:00\", \"2020-10-01 14:00:00+03:00\", \"2020-10-01 15:00:00+03:00\", \"2020-10-01 16:00:00+03:00\", \"2020-10-01 17:00:00+03:00\", \"2020-10-01 18:00:00+03:00\", \"2020-10-01 19:00:00+03:00\", \"2020-10-01 20:00:00+03:00\", \"2020-10-01 21:00:00+03:00\", \"2020-10-01 22:00:00+03:00\", \"2020-10-01 23:00:00+03:00\", \"2020-10-02 00:00:00+03:00\", \"2020-10-02 01:00:00+03:00\", \"2020-10-02 02:00:00+03:00\", \"2020-10-02 03:00:00+03:00\", \"2020-10-02 04:00:00+03:00\", \"2020-10-02 05:00:00+03:00\", \"2020-10-02 06:00:00+03:00\", \"2020-10-02 07:00:00+03:00\", \"2020-10-02 08:00:00+03:00\", \"2020-10-02 09:00:00+03:00\", \"2020-10-02 10:00:00+03:00\", \"2020-10-02 11:00:00+03:00\", \"2020-10-02 12:00:00+03:00\", \"2020-10-02 13:00:00+03:00\", \"2020-10-02 14:00:00+03:00\", \"2020-10-02 15:00:00+03:00\", \"2020-10-02 16:00:00+03:00\", \"2020-10-02 17:00:00+03:00\", \"2020-10-02 18:00:00+03:00\", \"2020-10-02 19:00:00+03:00\", \"2020-10-02 20:00:00+03:00\", \"2020-10-02 21:00:00+03:00\", \"2020-10-02 22:00:00+03:00\", \"2020-10-03 00:00:00+03:00\", \"2020-10-03 01:00:00+03:00\", \"2020-10-03 02:00:00+03:00\", \"2020-10-03 03:00:00+03:00\", \"2020-10-03 04:00:00+03:00\", \"2020-10-03 05:00:00+03:00\", \"2020-10-03 06:00:00+03:00\", \"2020-10-03 07:00:00+03:00\", \"2020-10-03 08:00:00+03:00\", \"2020-10-03 09:00:00+03:00\", \"2020-10-03 10:00:00+03:00\", \"2020-10-03 11:00:00+03:00\", \"2020-10-03 12:00:00+03:00\", \"2020-10-03 13:00:00+03:00\", \"2020-10-03 14:00:00+03:00\", \"2020-10-03 15:00:00+03:00\", \"2020-10-03 16:00:00+03:00\", \"2020-10-03 17:00:00+03:00\", \"2020-10-03 18:00:00+03:00\", \"2020-10-03 19:00:00+03:00\", \"2020-10-03 20:00:00+03:00\", \"2020-10-03 21:00:00+03:00\", \"2020-10-03 22:00:00+03:00\", \"2020-10-03 23:00:00+03:00\", \"2020-10-04 00:00:00+03:00\", \"2020-10-04 01:00:00+03:00\", \"2020-10-04 02:00:00+03:00\", \"2020-10-04 03:00:00+03:00\", \"2020-10-04 04:00:00+03:00\", \"2020-10-04 05:00:00+03:00\", \"2020-10-04 06:00:00+03:00\", \"2020-10-05 06:00:00+03:00\", \"2020-10-05 07:00:00+03:00\", \"2020-10-05 08:00:00+03:00\", \"2020-10-05 09:00:00+03:00\", \"2020-10-05 10:00:00+03:00\", \"2020-10-05 11:00:00+03:00\", \"2020-10-05 12:00:00+03:00\", \"2020-10-05 13:00:00+03:00\", \"2020-10-05 14:00:00+03:00\", \"2020-10-05 15:00:00+03:00\", \"2020-10-05 16:00:00+03:00\", \"2020-10-05 17:00:00+03:00\", \"2020-10-05 18:00:00+03:00\", \"2020-10-05 19:00:00+03:00\", \"2020-10-05 20:00:00+03:00\", \"2020-10-05 21:00:00+03:00\", \"2020-10-05 22:00:00+03:00\", \"2020-10-05 23:00:00+03:00\", \"2020-10-06 00:00:00+03:00\", \"2020-10-06 00:00:00+03:00\", \"2020-10-06 01:00:00+03:00\", \"2020-10-06 01:00:00+03:00\", \"2020-10-06 02:00:00+03:00\", \"2020-10-06 02:00:00+03:00\", \"2020-10-06 03:00:00+03:00\", \"2020-10-06 03:00:00+03:00\", \"2020-10-06 04:00:00+03:00\", \"2020-10-06 04:00:00+03:00\", \"2020-10-06 05:00:00+03:00\", \"2020-10-06 06:00:00+03:00\", \"2020-10-06 06:00:00+03:00\", \"2020-10-06 07:00:00+03:00\", \"2020-10-06 07:00:00+03:00\", \"2020-10-06 08:00:00+03:00\", \"2020-10-06 08:00:00+03:00\", \"2020-10-06 09:00:00+03:00\", \"2020-10-06 09:00:00+03:00\", \"2020-10-06 10:00:00+03:00\", \"2020-10-06 10:00:00+03:00\", \"2020-10-06 11:00:00+03:00\", \"2020-10-06 11:00:00+03:00\", \"2020-10-06 12:00:00+03:00\", \"2020-10-06 12:00:00+03:00\", \"2020-10-06 13:00:00+03:00\", \"2020-10-06 13:00:00+03:00\", \"2020-10-06 14:00:00+03:00\", \"2020-10-06 14:00:00+03:00\", \"2020-10-06 15:00:00+03:00\", \"2020-10-06 15:00:00+03:00\", \"2020-10-06 16:00:00+03:00\", \"2020-10-06 16:00:00+03:00\", \"2020-10-06 17:00:00+03:00\", \"2020-10-06 17:00:00+03:00\", \"2020-10-06 18:00:00+03:00\", \"2020-10-06 19:00:00+03:00\", \"2020-10-06 19:00:00+03:00\", \"2020-10-06 20:00:00+03:00\", \"2020-10-06 20:00:00+03:00\", \"2020-10-06 21:00:00+03:00\", \"2020-10-06 21:00:00+03:00\", \"2020-10-06 22:00:00+03:00\", \"2020-10-06 22:00:00+03:00\", \"2020-10-06 23:00:00+03:00\", \"2020-10-06 23:00:00+03:00\", \"2020-10-07 00:00:00+03:00\", \"2020-10-07 00:00:00+03:00\", \"2020-10-07 01:00:00+03:00\", \"2020-10-07 01:00:00+03:00\", \"2020-10-07 02:00:00+03:00\", \"2020-10-07 02:00:00+03:00\", \"2020-10-07 03:00:00+03:00\", \"2020-10-07 03:00:00+03:00\", \"2020-10-07 04:00:00+03:00\", \"2020-10-07 04:00:00+03:00\", \"2020-10-07 05:00:00+03:00\", \"2020-10-07 05:00:00+03:00\", \"2020-10-07 06:00:00+03:00\", \"2020-10-07 06:00:00+03:00\", \"2020-10-07 07:00:00+03:00\", \"2020-10-07 07:00:00+03:00\", \"2020-10-07 08:00:00+03:00\", \"2020-10-07 08:00:00+03:00\", \"2020-10-07 09:00:00+03:00\", \"2020-10-07 09:00:00+03:00\", \"2020-10-07 10:00:00+03:00\", \"2020-10-07 10:00:00+03:00\", \"2020-10-07 11:00:00+03:00\", \"2020-10-07 11:00:00+03:00\", \"2020-10-07 12:00:00+03:00\", \"2020-10-07 12:00:00+03:00\", \"2020-10-07 13:00:00+03:00\", \"2020-10-07 13:00:00+03:00\", \"2020-10-07 14:00:00+03:00\", \"2020-10-07 14:00:00+03:00\", \"2020-10-07 15:00:00+03:00\", \"2020-10-07 15:00:00+03:00\", \"2020-10-07 16:00:00+03:00\", \"2020-10-07 16:00:00+03:00\", \"2020-10-07 17:00:00+03:00\", \"2020-10-07 17:00:00+03:00\", \"2020-10-07 18:00:00+03:00\", \"2020-10-07 18:00:00+03:00\", \"2020-10-07 19:00:00+03:00\", \"2020-10-07 19:00:00+03:00\", \"2020-10-07 20:00:00+03:00\", \"2020-10-07 20:00:00+03:00\", \"2020-10-07 21:00:00+03:00\", \"2020-10-07 21:00:00+03:00\", \"2020-10-07 22:00:00+03:00\", \"2020-10-07 22:00:00+03:00\", \"2020-10-07 23:00:00+03:00\", \"2020-10-07 23:00:00+03:00\", \"2020-10-08 00:00:00+03:00\", \"2020-10-08 00:00:00+03:00\", \"2020-10-08 01:00:00+03:00\", \"2020-10-08 02:00:00+03:00\", \"2020-10-08 03:00:00+03:00\", \"2020-10-08 04:00:00+03:00\", \"2020-10-08 05:00:00+03:00\", \"2020-10-08 06:00:00+03:00\", \"2020-10-08 07:00:00+03:00\", \"2020-10-08 08:00:00+03:00\", \"2020-10-08 09:00:00+03:00\", \"2020-10-08 10:00:00+03:00\", \"2020-10-08 11:00:00+03:00\", \"2020-10-08 12:00:00+03:00\", \"2020-10-08 13:00:00+03:00\", \"2020-10-08 14:00:00+03:00\", \"2020-10-08 15:00:00+03:00\", \"2020-10-08 16:00:00+03:00\", \"2020-10-08 17:00:00+03:00\", \"2020-10-08 18:00:00+03:00\", \"2020-10-11 15:00:00+03:00\", \"2020-10-11 16:00:00+03:00\", \"2020-10-11 17:00:00+03:00\", \"2020-10-11 18:00:00+03:00\", \"2020-10-11 19:00:00+03:00\", \"2020-10-11 20:00:00+03:00\", \"2020-10-11 21:00:00+03:00\", \"2020-10-11 22:00:00+03:00\", \"2020-10-11 23:00:00+03:00\", \"2020-10-12 00:00:00+03:00\", \"2020-10-12 01:00:00+03:00\", \"2020-10-12 02:00:00+03:00\", \"2020-10-12 03:00:00+03:00\", \"2020-10-12 04:00:00+03:00\", \"2020-10-12 05:00:00+03:00\", \"2020-10-12 06:00:00+03:00\", \"2020-10-12 07:00:00+03:00\", \"2020-10-12 08:00:00+03:00\", \"2020-10-12 09:00:00+03:00\", \"2020-10-12 10:00:00+03:00\", \"2020-10-12 11:00:00+03:00\", \"2020-10-12 12:00:00+03:00\", \"2020-10-12 13:00:00+03:00\", \"2020-10-12 14:00:00+03:00\", \"2020-10-12 15:00:00+03:00\", \"2020-10-12 16:00:00+03:00\", \"2020-10-12 17:00:00+03:00\", \"2020-10-12 18:00:00+03:00\", \"2020-10-12 19:00:00+03:00\", \"2020-10-12 20:00:00+03:00\", \"2020-10-12 21:00:00+03:00\", \"2020-10-12 22:00:00+03:00\", \"2020-10-12 23:00:00+03:00\", \"2020-10-13 00:00:00+03:00\", \"2020-10-13 01:00:00+03:00\", \"2020-10-13 02:00:00+03:00\", \"2020-10-13 03:00:00+03:00\", \"2020-10-13 04:00:00+03:00\", \"2020-10-13 05:00:00+03:00\", \"2020-10-13 06:00:00+03:00\", \"2020-10-13 07:00:00+03:00\", \"2020-10-13 08:00:00+03:00\", \"2020-10-13 09:00:00+03:00\", \"2020-10-13 10:00:00+03:00\", \"2020-10-13 11:00:00+03:00\", \"2020-10-13 12:00:00+03:00\", \"2020-10-13 13:00:00+03:00\", \"2020-10-13 14:00:00+03:00\", \"2020-10-13 16:00:00+03:00\", \"2020-10-13 17:00:00+03:00\", \"2020-10-13 18:00:00+03:00\", \"2020-10-13 19:00:00+03:00\", \"2020-10-13 20:00:00+03:00\", \"2020-10-13 21:00:00+03:00\", \"2020-10-13 22:00:00+03:00\", \"2020-10-13 23:00:00+03:00\", \"2020-10-14 00:00:00+03:00\", \"2020-10-14 01:00:00+03:00\", \"2020-10-14 02:00:00+03:00\", \"2020-10-14 03:00:00+03:00\", \"2020-10-14 04:00:00+03:00\", \"2020-10-14 05:00:00+03:00\", \"2020-10-14 06:00:00+03:00\", \"2020-10-14 07:00:00+03:00\", \"2020-10-14 08:00:00+03:00\", \"2020-10-14 09:00:00+03:00\", \"2020-10-19 15:00:00+03:00\", \"2020-10-19 16:00:00+03:00\", \"2020-10-19 17:00:00+03:00\", \"2020-10-19 18:00:00+03:00\", \"2020-10-19 19:00:00+03:00\", \"2020-10-19 20:00:00+03:00\", \"2020-10-19 21:00:00+03:00\", \"2020-10-19 22:00:00+03:00\", \"2020-10-19 23:00:00+03:00\", \"2020-10-20 00:00:00+03:00\", \"2020-10-20 01:00:00+03:00\", \"2020-10-20 02:00:00+03:00\", \"2020-10-20 03:00:00+03:00\", \"2020-10-20 04:00:00+03:00\", \"2020-10-20 05:00:00+03:00\", \"2020-10-20 06:00:00+03:00\", \"2020-10-20 07:00:00+03:00\", \"2020-10-20 08:00:00+03:00\", \"2020-10-20 09:00:00+03:00\", \"2020-10-20 10:00:00+03:00\", \"2020-10-20 11:00:00+03:00\", \"2020-10-20 12:00:00+03:00\", \"2020-10-20 13:00:00+03:00\", \"2020-10-20 14:00:00+03:00\", \"2020-10-20 15:00:00+03:00\", \"2020-10-20 16:00:00+03:00\", \"2020-10-20 17:00:00+03:00\", \"2020-10-20 18:00:00+03:00\", \"2020-10-20 19:00:00+03:00\", \"2020-10-20 20:00:00+03:00\", \"2020-10-20 21:00:00+03:00\", \"2020-10-20 22:00:00+03:00\", \"2020-10-20 23:00:00+03:00\", \"2020-10-21 00:00:00+03:00\", \"2020-10-21 01:00:00+03:00\", \"2020-10-21 02:00:00+03:00\", \"2020-10-21 03:00:00+03:00\", \"2020-10-21 04:00:00+03:00\", \"2020-10-21 05:00:00+03:00\", \"2020-10-21 06:00:00+03:00\", \"2020-10-21 07:00:00+03:00\", \"2020-10-21 08:00:00+03:00\", \"2020-10-21 09:00:00+03:00\", \"2020-10-21 10:00:00+03:00\", \"2020-10-21 11:00:00+03:00\", \"2020-10-21 12:00:00+03:00\", \"2020-10-21 13:00:00+03:00\", \"2020-10-21 15:00:00+03:00\", \"2020-10-21 16:00:00+03:00\", \"2020-10-21 17:00:00+03:00\", \"2020-10-21 18:00:00+03:00\", \"2020-10-21 19:00:00+03:00\", \"2020-10-21 20:00:00+03:00\", \"2020-10-21 21:00:00+03:00\", \"2020-10-21 22:00:00+03:00\", \"2020-10-21 23:00:00+03:00\", \"2020-10-22 00:00:00+03:00\", \"2020-10-22 01:00:00+03:00\", \"2020-10-22 02:00:00+03:00\", \"2020-10-22 03:00:00+03:00\", \"2020-10-22 04:00:00+03:00\", \"2020-10-22 05:00:00+03:00\", \"2020-10-22 06:00:00+03:00\", \"2020-10-22 07:00:00+03:00\", \"2020-10-22 08:00:00+03:00\", \"2020-10-22 09:00:00+03:00\"], \"y\": [1452.0, 1638.0, 1716.0, 1755.0, 1833.0, 1911.0, 2106.0, 2145.0, 2262.0, 2340.0, 2067.0, 1272.0, 599.737, 377.03, 396.88, 496.13, 711.413, 1119.034, 1488.0, 1677.0, 1599.0, 1638.0, 1488.0, 1200.0, 1272.0, 1599.0, 1755.0, 2106.0, 2379.0, 2613.0, 2784.0, 2856.0, 2820.0, 2652.0, 2340.0, 1560.0, 1416.0, 1344.0, 1599.0, 1833.0, 1794.0, 1638.0, 1638.0, 1833.0, 2067.0, 2184.0, 2067.0, 2028.0, 1716.0, 2223.0, 2652.0, 2613.0, 2691.0, 2784.0, 2919.0, 2982.0, 2937.0, 2919.0, 2496.0, 2223.0, 2301.0, 2574.0, 2613.0, 2802.0, 2919.0, 2910.0, 2946.0, 3000.0, 3000.0, 2784.0, 2730.0, 2652.0, 2028.0, 1344.0, 683.494, 182.53, 0.0, 0.0, 154.214, 571.818, 1272.0, 1524.0, 1200.0, 1755.0, 1599.0, 1416.0, 1488.0, 1524.0, 1488.0, 997.585, 1677.0, 1308.0, 2535.0, 2145.0, 2730.0, 2874.0, 2973.0, 2820.0, 2928.0, 3000.0, 3000.0, 3000.0, 2982.0, 2946.0, 2991.0, 2892.0, 3000.0, 2910.0, 3000.0, 2946.0, 2928.0, 2991.0, 2937.0, 2574.0, 2874.0, 2766.0, 2535.0, 2145.0, 2919.0, 2928.0, 2262.0, 2838.0, 2856.0, 2379.0, 2106.0, 2613.0, 2418.0, 2892.0, 2301.0, 2691.0, 1638.0, 2067.0, 1716.0, 1119.034, 1038.068, 1872.0, 1599.0, 1200.0, 1380.0, 1344.0, 1677.0, 1677.0, 1794.0, 1755.0, 1911.0, 1794.0, 1716.0, 2145.0, 1677.0, 1599.0, 1380.0, 1308.0, 957.102, 1159.517, 916.619, 835.653, 739.332, 711.413, 599.737, 655.575, 739.332, 739.332, 543.899, 835.653, 1308.0, 515.98, 456.43, 1677.0, 1911.0, 711.413, 876.136, 1989.0, 1833.0, 1716.0, 1308.0, 2652.0, 655.575, 1833.0, 476.28, 2184.0, 1677.0, 767.251, 250.005, 223.015, 250.005, 209.52, 303.985, 303.985, 337.33, 303.985, 571.818, 515.98, 1078.551, 436.58, 683.494, 0.0, 0.0, 0.0, 182.53, 276.995, 263.5, 337.33, 456.43, 571.818, 476.28, 396.88, 223.015, 52.885, 0.0, 0.0, 0.0, 0.0, 0.0, 44.071, 223.015, 337.33, 416.73, 655.575, 1159.517, 1159.517, 1344.0, 1078.551, 1119.034, 1452.0, 1599.0, 1344.0, 2184.0, 2106.0, 2262.0, 2766.0, 1872.0, 2418.0, 2379.0, 337.33, 88.142, 223.015, 1236.0, 416.73, 1911.0, 496.13, 396.88, 456.43, 276.995, 290.49, 196.025, 154.214, 196.025, 125.897, 0.0, 88.142, 135.336, 250.005, 357.18, 627.656, 1038.068, 1380.0, 1416.0, 1200.0, 1272.0, 1560.0, 1755.0, 2028.0, 2067.0, 1950.0, 543.899, 456.43, 357.18, 795.17, 767.251, 683.494, 835.653, 1159.517, 1488.0, 1794.0, 1677.0, 1911.0, 1833.0, 1677.0, 1524.0, 1159.517, 916.619, 835.653, 711.413, 396.88, 209.52, 88.142, 61.699, 35.257, 35.257, 35.257, 26.443, 0.0, 0.0, 0.0, 0.0, 0.0, 0.0, 0.0, 97.581, 209.52, 250.005, 571.818, 916.619, 1416.0, 1638.0, 1560.0, 2106.0, 2223.0, 2301.0, 2028.0, 1989.0, 1989.0, 1911.0, 1716.0, 1716.0, 1950.0, 2106.0, 2145.0, 2184.0, 1989.0, 1599.0, 1677.0, 2106.0, 2106.0, 2340.0, 2379.0, 2748.0, 2802.0, 2691.0, 2418.0]}],                        {\"legend\": {\"bgcolor\": \"#F5F6F9\", \"font\": {\"color\": \"#4D5663\"}}, \"paper_bgcolor\": \"#F5F6F9\", \"plot_bgcolor\": \"#F5F6F9\", \"template\": {\"data\": {\"bar\": [{\"error_x\": {\"color\": \"#2a3f5f\"}, \"error_y\": {\"color\": \"#2a3f5f\"}, \"marker\": {\"line\": {\"color\": \"#E5ECF6\", \"width\": 0.5}}, \"type\": \"bar\"}], \"barpolar\": [{\"marker\": {\"line\": {\"color\": \"#E5ECF6\", \"width\": 0.5}}, \"type\": \"barpolar\"}], \"carpet\": [{\"aaxis\": {\"endlinecolor\": \"#2a3f5f\", \"gridcolor\": \"white\", \"linecolor\": \"white\", \"minorgridcolor\": \"white\", \"startlinecolor\": \"#2a3f5f\"}, \"baxis\": {\"endlinecolor\": \"#2a3f5f\", \"gridcolor\": \"white\", \"linecolor\": \"white\", \"minorgridcolor\": \"white\", \"startlinecolor\": \"#2a3f5f\"}, \"type\": \"carpet\"}], \"choropleth\": [{\"colorbar\": {\"outlinewidth\": 0, \"ticks\": \"\"}, \"type\": \"choropleth\"}], \"contour\": [{\"colorbar\": {\"outlinewidth\": 0, \"ticks\": \"\"}, \"colorscale\": [[0.0, \"#0d0887\"], [0.1111111111111111, \"#46039f\"], [0.2222222222222222, \"#7201a8\"], [0.3333333333333333, \"#9c179e\"], [0.4444444444444444, \"#bd3786\"], [0.5555555555555556, \"#d8576b\"], [0.6666666666666666, \"#ed7953\"], [0.7777777777777778, \"#fb9f3a\"], [0.8888888888888888, \"#fdca26\"], [1.0, \"#f0f921\"]], \"type\": \"contour\"}], \"contourcarpet\": [{\"colorbar\": {\"outlinewidth\": 0, \"ticks\": \"\"}, \"type\": \"contourcarpet\"}], \"heatmap\": [{\"colorbar\": {\"outlinewidth\": 0, \"ticks\": \"\"}, \"colorscale\": [[0.0, \"#0d0887\"], [0.1111111111111111, \"#46039f\"], [0.2222222222222222, \"#7201a8\"], [0.3333333333333333, \"#9c179e\"], [0.4444444444444444, \"#bd3786\"], [0.5555555555555556, \"#d8576b\"], [0.6666666666666666, \"#ed7953\"], [0.7777777777777778, \"#fb9f3a\"], [0.8888888888888888, \"#fdca26\"], [1.0, \"#f0f921\"]], \"type\": \"heatmap\"}], \"heatmapgl\": [{\"colorbar\": {\"outlinewidth\": 0, \"ticks\": \"\"}, \"colorscale\": [[0.0, \"#0d0887\"], [0.1111111111111111, \"#46039f\"], [0.2222222222222222, \"#7201a8\"], [0.3333333333333333, \"#9c179e\"], [0.4444444444444444, \"#bd3786\"], [0.5555555555555556, \"#d8576b\"], [0.6666666666666666, \"#ed7953\"], [0.7777777777777778, \"#fb9f3a\"], [0.8888888888888888, \"#fdca26\"], [1.0, \"#f0f921\"]], \"type\": \"heatmapgl\"}], \"histogram\": [{\"marker\": {\"colorbar\": {\"outlinewidth\": 0, \"ticks\": \"\"}}, \"type\": \"histogram\"}], \"histogram2d\": [{\"colorbar\": {\"outlinewidth\": 0, \"ticks\": \"\"}, \"colorscale\": [[0.0, \"#0d0887\"], [0.1111111111111111, \"#46039f\"], [0.2222222222222222, \"#7201a8\"], [0.3333333333333333, \"#9c179e\"], [0.4444444444444444, \"#bd3786\"], [0.5555555555555556, \"#d8576b\"], [0.6666666666666666, \"#ed7953\"], [0.7777777777777778, \"#fb9f3a\"], [0.8888888888888888, \"#fdca26\"], [1.0, \"#f0f921\"]], \"type\": \"histogram2d\"}], \"histogram2dcontour\": [{\"colorbar\": {\"outlinewidth\": 0, \"ticks\": \"\"}, \"colorscale\": [[0.0, \"#0d0887\"], [0.1111111111111111, \"#46039f\"], [0.2222222222222222, \"#7201a8\"], [0.3333333333333333, \"#9c179e\"], [0.4444444444444444, \"#bd3786\"], [0.5555555555555556, \"#d8576b\"], [0.6666666666666666, \"#ed7953\"], [0.7777777777777778, \"#fb9f3a\"], [0.8888888888888888, \"#fdca26\"], [1.0, \"#f0f921\"]], \"type\": \"histogram2dcontour\"}], \"mesh3d\": [{\"colorbar\": {\"outlinewidth\": 0, \"ticks\": \"\"}, \"type\": \"mesh3d\"}], \"parcoords\": [{\"line\": {\"colorbar\": {\"outlinewidth\": 0, \"ticks\": \"\"}}, \"type\": \"parcoords\"}], \"pie\": [{\"automargin\": true, \"type\": \"pie\"}], \"scatter\": [{\"marker\": {\"colorbar\": {\"outlinewidth\": 0, \"ticks\": \"\"}}, \"type\": \"scatter\"}], \"scatter3d\": [{\"line\": {\"colorbar\": {\"outlinewidth\": 0, \"ticks\": \"\"}}, \"marker\": {\"colorbar\": {\"outlinewidth\": 0, \"ticks\": \"\"}}, \"type\": \"scatter3d\"}], \"scattercarpet\": [{\"marker\": {\"colorbar\": {\"outlinewidth\": 0, \"ticks\": \"\"}}, \"type\": \"scattercarpet\"}], \"scattergeo\": [{\"marker\": {\"colorbar\": {\"outlinewidth\": 0, \"ticks\": \"\"}}, \"type\": \"scattergeo\"}], \"scattergl\": [{\"marker\": {\"colorbar\": {\"outlinewidth\": 0, \"ticks\": \"\"}}, \"type\": \"scattergl\"}], \"scattermapbox\": [{\"marker\": {\"colorbar\": {\"outlinewidth\": 0, \"ticks\": \"\"}}, \"type\": \"scattermapbox\"}], \"scatterpolar\": [{\"marker\": {\"colorbar\": {\"outlinewidth\": 0, \"ticks\": \"\"}}, \"type\": \"scatterpolar\"}], \"scatterpolargl\": [{\"marker\": {\"colorbar\": {\"outlinewidth\": 0, \"ticks\": \"\"}}, \"type\": \"scatterpolargl\"}], \"scatterternary\": [{\"marker\": {\"colorbar\": {\"outlinewidth\": 0, \"ticks\": \"\"}}, \"type\": \"scatterternary\"}], \"surface\": [{\"colorbar\": {\"outlinewidth\": 0, \"ticks\": \"\"}, \"colorscale\": [[0.0, \"#0d0887\"], [0.1111111111111111, \"#46039f\"], [0.2222222222222222, \"#7201a8\"], [0.3333333333333333, \"#9c179e\"], [0.4444444444444444, \"#bd3786\"], [0.5555555555555556, \"#d8576b\"], [0.6666666666666666, \"#ed7953\"], [0.7777777777777778, \"#fb9f3a\"], [0.8888888888888888, \"#fdca26\"], [1.0, \"#f0f921\"]], \"type\": \"surface\"}], \"table\": [{\"cells\": {\"fill\": {\"color\": \"#EBF0F8\"}, \"line\": {\"color\": \"white\"}}, \"header\": {\"fill\": {\"color\": \"#C8D4E3\"}, \"line\": {\"color\": \"white\"}}, \"type\": \"table\"}]}, \"layout\": {\"annotationdefaults\": {\"arrowcolor\": \"#2a3f5f\", \"arrowhead\": 0, \"arrowwidth\": 1}, \"coloraxis\": {\"colorbar\": {\"outlinewidth\": 0, \"ticks\": \"\"}}, \"colorscale\": {\"diverging\": [[0, \"#8e0152\"], [0.1, \"#c51b7d\"], [0.2, \"#de77ae\"], [0.3, \"#f1b6da\"], [0.4, \"#fde0ef\"], [0.5, \"#f7f7f7\"], [0.6, \"#e6f5d0\"], [0.7, \"#b8e186\"], [0.8, \"#7fbc41\"], [0.9, \"#4d9221\"], [1, \"#276419\"]], \"sequential\": [[0.0, \"#0d0887\"], [0.1111111111111111, \"#46039f\"], [0.2222222222222222, \"#7201a8\"], [0.3333333333333333, \"#9c179e\"], [0.4444444444444444, \"#bd3786\"], [0.5555555555555556, \"#d8576b\"], [0.6666666666666666, \"#ed7953\"], [0.7777777777777778, \"#fb9f3a\"], [0.8888888888888888, \"#fdca26\"], [1.0, \"#f0f921\"]], \"sequentialminus\": [[0.0, \"#0d0887\"], [0.1111111111111111, \"#46039f\"], [0.2222222222222222, \"#7201a8\"], [0.3333333333333333, \"#9c179e\"], [0.4444444444444444, \"#bd3786\"], [0.5555555555555556, \"#d8576b\"], [0.6666666666666666, \"#ed7953\"], [0.7777777777777778, \"#fb9f3a\"], [0.8888888888888888, \"#fdca26\"], [1.0, \"#f0f921\"]]}, \"colorway\": [\"#636efa\", \"#EF553B\", \"#00cc96\", \"#ab63fa\", \"#FFA15A\", \"#19d3f3\", \"#FF6692\", \"#B6E880\", \"#FF97FF\", \"#FECB52\"], \"font\": {\"color\": \"#2a3f5f\"}, \"geo\": {\"bgcolor\": \"white\", \"lakecolor\": \"white\", \"landcolor\": \"#E5ECF6\", \"showlakes\": true, \"showland\": true, \"subunitcolor\": \"white\"}, \"hoverlabel\": {\"align\": \"left\"}, \"hovermode\": \"closest\", \"mapbox\": {\"style\": \"light\"}, \"paper_bgcolor\": \"white\", \"plot_bgcolor\": \"#E5ECF6\", \"polar\": {\"angularaxis\": {\"gridcolor\": \"white\", \"linecolor\": \"white\", \"ticks\": \"\"}, \"bgcolor\": \"#E5ECF6\", \"radialaxis\": {\"gridcolor\": \"white\", \"linecolor\": \"white\", \"ticks\": \"\"}}, \"scene\": {\"xaxis\": {\"backgroundcolor\": \"#E5ECF6\", \"gridcolor\": \"white\", \"gridwidth\": 2, \"linecolor\": \"white\", \"showbackground\": true, \"ticks\": \"\", \"zerolinecolor\": \"white\"}, \"yaxis\": {\"backgroundcolor\": \"#E5ECF6\", \"gridcolor\": \"white\", \"gridwidth\": 2, \"linecolor\": \"white\", \"showbackground\": true, \"ticks\": \"\", \"zerolinecolor\": \"white\"}, \"zaxis\": {\"backgroundcolor\": \"#E5ECF6\", \"gridcolor\": \"white\", \"gridwidth\": 2, \"linecolor\": \"white\", \"showbackground\": true, \"ticks\": \"\", \"zerolinecolor\": \"white\"}}, \"shapedefaults\": {\"line\": {\"color\": \"#2a3f5f\"}}, \"ternary\": {\"aaxis\": {\"gridcolor\": \"white\", \"linecolor\": \"white\", \"ticks\": \"\"}, \"baxis\": {\"gridcolor\": \"white\", \"linecolor\": \"white\", \"ticks\": \"\"}, \"bgcolor\": \"#E5ECF6\", \"caxis\": {\"gridcolor\": \"white\", \"linecolor\": \"white\", \"ticks\": \"\"}}, \"title\": {\"x\": 0.05}, \"xaxis\": {\"automargin\": true, \"gridcolor\": \"white\", \"linecolor\": \"white\", \"ticks\": \"\", \"title\": {\"standoff\": 15}, \"zerolinecolor\": \"white\", \"zerolinewidth\": 2}, \"yaxis\": {\"automargin\": true, \"gridcolor\": \"white\", \"linecolor\": \"white\", \"ticks\": \"\", \"title\": {\"standoff\": 15}, \"zerolinecolor\": \"white\", \"zerolinewidth\": 2}}}, \"title\": {\"font\": {\"color\": \"#4D5663\"}}, \"xaxis\": {\"gridcolor\": \"#E1E5ED\", \"showgrid\": true, \"tickfont\": {\"color\": \"#4D5663\"}, \"title\": {\"font\": {\"color\": \"#4D5663\"}, \"text\": \"Date\"}, \"zerolinecolor\": \"#E1E5ED\"}, \"yaxis\": {\"gridcolor\": \"#E1E5ED\", \"showgrid\": true, \"tickfont\": {\"color\": \"#4D5663\"}, \"title\": {\"font\": {\"color\": \"#4D5663\"}, \"text\": \"Power Output (kW)\"}, \"zerolinecolor\": \"#E1E5ED\"}},                        {\"showLink\": true, \"linkText\": \"Export to plot.ly\", \"plotlyServerURL\": \"https://plot.ly\", \"responsive\": true}                    ).then(function(){\n",
       "                            \n",
       "var gd = document.getElementById('f623a01f-fb84-49e1-9348-da4db05bddb9');\n",
       "var x = new MutationObserver(function (mutations, observer) {{\n",
       "        var display = window.getComputedStyle(gd).display;\n",
       "        if (!display || display === 'none') {{\n",
       "            console.log([gd, 'removed!']);\n",
       "            Plotly.purge(gd);\n",
       "            observer.disconnect();\n",
       "        }}\n",
       "}});\n",
       "\n",
       "// Listen for the removal of the full notebook cells\n",
       "var notebookContainer = gd.closest('#notebook-container');\n",
       "if (notebookContainer) {{\n",
       "    x.observe(notebookContainer, {childList: true});\n",
       "}}\n",
       "\n",
       "// Listen for the clearing of the current output cell\n",
       "var outputEl = gd.closest('.output');\n",
       "if (outputEl) {{\n",
       "    x.observe(outputEl, {childList: true});\n",
       "}}\n",
       "\n",
       "                        })                };                });            </script>        </div>"
      ]
     },
     "metadata": {},
     "output_type": "display_data"
    }
   ],
   "source": [
    "#Plot the power_output_kw\n",
    "X['power_output_kw'].iplot(xTitle = 'Date', yTitle = 'Power Output (kW)')"
   ]
  },
  {
   "cell_type": "markdown",
   "metadata": {},
   "source": [
    "The power output trend is quite similar to the wind speed trend. They did have high positive value in the correlation matrix."
   ]
  },
  {
   "cell_type": "code",
   "execution_count": 16,
   "metadata": {},
   "outputs": [
    {
     "data": {
      "application/vnd.plotly.v1+json": {
       "config": {
        "linkText": "Export to plot.ly",
        "plotlyServerURL": "https://plot.ly",
        "showLink": true
       },
       "data": [
        {
         "line": {
          "color": "rgba(128, 0, 128, 1.0)",
          "dash": "solid",
          "shape": "linear",
          "width": 1.3
         },
         "mode": "lines",
         "name": "air_pressure_hpa",
         "text": "",
         "type": "scatter",
         "x": [
          "2020-10-01 12:00:00+03:00",
          "2020-10-01 13:00:00+03:00",
          "2020-10-01 14:00:00+03:00",
          "2020-10-01 15:00:00+03:00",
          "2020-10-01 16:00:00+03:00",
          "2020-10-01 17:00:00+03:00",
          "2020-10-01 18:00:00+03:00",
          "2020-10-01 19:00:00+03:00",
          "2020-10-01 20:00:00+03:00",
          "2020-10-01 21:00:00+03:00",
          "2020-10-01 22:00:00+03:00",
          "2020-10-01 23:00:00+03:00",
          "2020-10-02 00:00:00+03:00",
          "2020-10-02 01:00:00+03:00",
          "2020-10-02 02:00:00+03:00",
          "2020-10-02 03:00:00+03:00",
          "2020-10-02 04:00:00+03:00",
          "2020-10-02 05:00:00+03:00",
          "2020-10-02 06:00:00+03:00",
          "2020-10-02 07:00:00+03:00",
          "2020-10-02 08:00:00+03:00",
          "2020-10-02 09:00:00+03:00",
          "2020-10-02 10:00:00+03:00",
          "2020-10-02 11:00:00+03:00",
          "2020-10-02 12:00:00+03:00",
          "2020-10-02 13:00:00+03:00",
          "2020-10-02 14:00:00+03:00",
          "2020-10-02 15:00:00+03:00",
          "2020-10-02 16:00:00+03:00",
          "2020-10-02 17:00:00+03:00",
          "2020-10-02 18:00:00+03:00",
          "2020-10-02 19:00:00+03:00",
          "2020-10-02 20:00:00+03:00",
          "2020-10-02 21:00:00+03:00",
          "2020-10-02 22:00:00+03:00",
          "2020-10-03 00:00:00+03:00",
          "2020-10-03 01:00:00+03:00",
          "2020-10-03 02:00:00+03:00",
          "2020-10-03 03:00:00+03:00",
          "2020-10-03 04:00:00+03:00",
          "2020-10-03 05:00:00+03:00",
          "2020-10-03 06:00:00+03:00",
          "2020-10-03 07:00:00+03:00",
          "2020-10-03 08:00:00+03:00",
          "2020-10-03 09:00:00+03:00",
          "2020-10-03 10:00:00+03:00",
          "2020-10-03 11:00:00+03:00",
          "2020-10-03 12:00:00+03:00",
          "2020-10-03 13:00:00+03:00",
          "2020-10-03 14:00:00+03:00",
          "2020-10-03 15:00:00+03:00",
          "2020-10-03 16:00:00+03:00",
          "2020-10-03 17:00:00+03:00",
          "2020-10-03 18:00:00+03:00",
          "2020-10-03 19:00:00+03:00",
          "2020-10-03 20:00:00+03:00",
          "2020-10-03 21:00:00+03:00",
          "2020-10-03 22:00:00+03:00",
          "2020-10-03 23:00:00+03:00",
          "2020-10-04 00:00:00+03:00",
          "2020-10-04 01:00:00+03:00",
          "2020-10-04 02:00:00+03:00",
          "2020-10-04 03:00:00+03:00",
          "2020-10-04 04:00:00+03:00",
          "2020-10-04 05:00:00+03:00",
          "2020-10-04 06:00:00+03:00",
          "2020-10-05 06:00:00+03:00",
          "2020-10-05 07:00:00+03:00",
          "2020-10-05 08:00:00+03:00",
          "2020-10-05 09:00:00+03:00",
          "2020-10-05 10:00:00+03:00",
          "2020-10-05 11:00:00+03:00",
          "2020-10-05 12:00:00+03:00",
          "2020-10-05 13:00:00+03:00",
          "2020-10-05 14:00:00+03:00",
          "2020-10-05 15:00:00+03:00",
          "2020-10-05 16:00:00+03:00",
          "2020-10-05 17:00:00+03:00",
          "2020-10-05 18:00:00+03:00",
          "2020-10-05 19:00:00+03:00",
          "2020-10-05 20:00:00+03:00",
          "2020-10-05 21:00:00+03:00",
          "2020-10-05 22:00:00+03:00",
          "2020-10-05 23:00:00+03:00",
          "2020-10-06 00:00:00+03:00",
          "2020-10-06 00:00:00+03:00",
          "2020-10-06 01:00:00+03:00",
          "2020-10-06 01:00:00+03:00",
          "2020-10-06 02:00:00+03:00",
          "2020-10-06 02:00:00+03:00",
          "2020-10-06 03:00:00+03:00",
          "2020-10-06 03:00:00+03:00",
          "2020-10-06 04:00:00+03:00",
          "2020-10-06 04:00:00+03:00",
          "2020-10-06 05:00:00+03:00",
          "2020-10-06 06:00:00+03:00",
          "2020-10-06 06:00:00+03:00",
          "2020-10-06 07:00:00+03:00",
          "2020-10-06 07:00:00+03:00",
          "2020-10-06 08:00:00+03:00",
          "2020-10-06 08:00:00+03:00",
          "2020-10-06 09:00:00+03:00",
          "2020-10-06 09:00:00+03:00",
          "2020-10-06 10:00:00+03:00",
          "2020-10-06 10:00:00+03:00",
          "2020-10-06 11:00:00+03:00",
          "2020-10-06 11:00:00+03:00",
          "2020-10-06 12:00:00+03:00",
          "2020-10-06 12:00:00+03:00",
          "2020-10-06 13:00:00+03:00",
          "2020-10-06 13:00:00+03:00",
          "2020-10-06 14:00:00+03:00",
          "2020-10-06 14:00:00+03:00",
          "2020-10-06 15:00:00+03:00",
          "2020-10-06 15:00:00+03:00",
          "2020-10-06 16:00:00+03:00",
          "2020-10-06 16:00:00+03:00",
          "2020-10-06 17:00:00+03:00",
          "2020-10-06 17:00:00+03:00",
          "2020-10-06 18:00:00+03:00",
          "2020-10-06 19:00:00+03:00",
          "2020-10-06 19:00:00+03:00",
          "2020-10-06 20:00:00+03:00",
          "2020-10-06 20:00:00+03:00",
          "2020-10-06 21:00:00+03:00",
          "2020-10-06 21:00:00+03:00",
          "2020-10-06 22:00:00+03:00",
          "2020-10-06 22:00:00+03:00",
          "2020-10-06 23:00:00+03:00",
          "2020-10-06 23:00:00+03:00",
          "2020-10-07 00:00:00+03:00",
          "2020-10-07 00:00:00+03:00",
          "2020-10-07 01:00:00+03:00",
          "2020-10-07 01:00:00+03:00",
          "2020-10-07 02:00:00+03:00",
          "2020-10-07 02:00:00+03:00",
          "2020-10-07 03:00:00+03:00",
          "2020-10-07 03:00:00+03:00",
          "2020-10-07 04:00:00+03:00",
          "2020-10-07 04:00:00+03:00",
          "2020-10-07 05:00:00+03:00",
          "2020-10-07 05:00:00+03:00",
          "2020-10-07 06:00:00+03:00",
          "2020-10-07 06:00:00+03:00",
          "2020-10-07 07:00:00+03:00",
          "2020-10-07 07:00:00+03:00",
          "2020-10-07 08:00:00+03:00",
          "2020-10-07 08:00:00+03:00",
          "2020-10-07 09:00:00+03:00",
          "2020-10-07 09:00:00+03:00",
          "2020-10-07 10:00:00+03:00",
          "2020-10-07 10:00:00+03:00",
          "2020-10-07 11:00:00+03:00",
          "2020-10-07 11:00:00+03:00",
          "2020-10-07 12:00:00+03:00",
          "2020-10-07 12:00:00+03:00",
          "2020-10-07 13:00:00+03:00",
          "2020-10-07 13:00:00+03:00",
          "2020-10-07 14:00:00+03:00",
          "2020-10-07 14:00:00+03:00",
          "2020-10-07 15:00:00+03:00",
          "2020-10-07 15:00:00+03:00",
          "2020-10-07 16:00:00+03:00",
          "2020-10-07 16:00:00+03:00",
          "2020-10-07 17:00:00+03:00",
          "2020-10-07 17:00:00+03:00",
          "2020-10-07 18:00:00+03:00",
          "2020-10-07 18:00:00+03:00",
          "2020-10-07 19:00:00+03:00",
          "2020-10-07 19:00:00+03:00",
          "2020-10-07 20:00:00+03:00",
          "2020-10-07 20:00:00+03:00",
          "2020-10-07 21:00:00+03:00",
          "2020-10-07 21:00:00+03:00",
          "2020-10-07 22:00:00+03:00",
          "2020-10-07 22:00:00+03:00",
          "2020-10-07 23:00:00+03:00",
          "2020-10-07 23:00:00+03:00",
          "2020-10-08 00:00:00+03:00",
          "2020-10-08 00:00:00+03:00",
          "2020-10-08 01:00:00+03:00",
          "2020-10-08 02:00:00+03:00",
          "2020-10-08 03:00:00+03:00",
          "2020-10-08 04:00:00+03:00",
          "2020-10-08 05:00:00+03:00",
          "2020-10-08 06:00:00+03:00",
          "2020-10-08 07:00:00+03:00",
          "2020-10-08 08:00:00+03:00",
          "2020-10-08 09:00:00+03:00",
          "2020-10-08 10:00:00+03:00",
          "2020-10-08 11:00:00+03:00",
          "2020-10-08 12:00:00+03:00",
          "2020-10-08 13:00:00+03:00",
          "2020-10-08 14:00:00+03:00",
          "2020-10-08 15:00:00+03:00",
          "2020-10-08 16:00:00+03:00",
          "2020-10-08 17:00:00+03:00",
          "2020-10-08 18:00:00+03:00",
          "2020-10-11 15:00:00+03:00",
          "2020-10-11 16:00:00+03:00",
          "2020-10-11 17:00:00+03:00",
          "2020-10-11 18:00:00+03:00",
          "2020-10-11 19:00:00+03:00",
          "2020-10-11 20:00:00+03:00",
          "2020-10-11 21:00:00+03:00",
          "2020-10-11 22:00:00+03:00",
          "2020-10-11 23:00:00+03:00",
          "2020-10-12 00:00:00+03:00",
          "2020-10-12 01:00:00+03:00",
          "2020-10-12 02:00:00+03:00",
          "2020-10-12 03:00:00+03:00",
          "2020-10-12 04:00:00+03:00",
          "2020-10-12 05:00:00+03:00",
          "2020-10-12 06:00:00+03:00",
          "2020-10-12 07:00:00+03:00",
          "2020-10-12 08:00:00+03:00",
          "2020-10-12 09:00:00+03:00",
          "2020-10-12 10:00:00+03:00",
          "2020-10-12 11:00:00+03:00",
          "2020-10-12 12:00:00+03:00",
          "2020-10-12 13:00:00+03:00",
          "2020-10-12 14:00:00+03:00",
          "2020-10-12 15:00:00+03:00",
          "2020-10-12 16:00:00+03:00",
          "2020-10-12 17:00:00+03:00",
          "2020-10-12 18:00:00+03:00",
          "2020-10-12 19:00:00+03:00",
          "2020-10-12 20:00:00+03:00",
          "2020-10-12 21:00:00+03:00",
          "2020-10-12 22:00:00+03:00",
          "2020-10-12 23:00:00+03:00",
          "2020-10-13 00:00:00+03:00",
          "2020-10-13 01:00:00+03:00",
          "2020-10-13 02:00:00+03:00",
          "2020-10-13 03:00:00+03:00",
          "2020-10-13 04:00:00+03:00",
          "2020-10-13 05:00:00+03:00",
          "2020-10-13 06:00:00+03:00",
          "2020-10-13 07:00:00+03:00",
          "2020-10-13 08:00:00+03:00",
          "2020-10-13 09:00:00+03:00",
          "2020-10-13 10:00:00+03:00",
          "2020-10-13 11:00:00+03:00",
          "2020-10-13 12:00:00+03:00",
          "2020-10-13 13:00:00+03:00",
          "2020-10-13 14:00:00+03:00",
          "2020-10-13 16:00:00+03:00",
          "2020-10-13 17:00:00+03:00",
          "2020-10-13 18:00:00+03:00",
          "2020-10-13 19:00:00+03:00",
          "2020-10-13 20:00:00+03:00",
          "2020-10-13 21:00:00+03:00",
          "2020-10-13 22:00:00+03:00",
          "2020-10-13 23:00:00+03:00",
          "2020-10-14 00:00:00+03:00",
          "2020-10-14 01:00:00+03:00",
          "2020-10-14 02:00:00+03:00",
          "2020-10-14 03:00:00+03:00",
          "2020-10-14 04:00:00+03:00",
          "2020-10-14 05:00:00+03:00",
          "2020-10-14 06:00:00+03:00",
          "2020-10-14 07:00:00+03:00",
          "2020-10-14 08:00:00+03:00",
          "2020-10-14 09:00:00+03:00",
          "2020-10-19 15:00:00+03:00",
          "2020-10-19 16:00:00+03:00",
          "2020-10-19 17:00:00+03:00",
          "2020-10-19 18:00:00+03:00",
          "2020-10-19 19:00:00+03:00",
          "2020-10-19 20:00:00+03:00",
          "2020-10-19 21:00:00+03:00",
          "2020-10-19 22:00:00+03:00",
          "2020-10-19 23:00:00+03:00",
          "2020-10-20 00:00:00+03:00",
          "2020-10-20 01:00:00+03:00",
          "2020-10-20 02:00:00+03:00",
          "2020-10-20 03:00:00+03:00",
          "2020-10-20 04:00:00+03:00",
          "2020-10-20 05:00:00+03:00",
          "2020-10-20 06:00:00+03:00",
          "2020-10-20 07:00:00+03:00",
          "2020-10-20 08:00:00+03:00",
          "2020-10-20 09:00:00+03:00",
          "2020-10-20 10:00:00+03:00",
          "2020-10-20 11:00:00+03:00",
          "2020-10-20 12:00:00+03:00",
          "2020-10-20 13:00:00+03:00",
          "2020-10-20 14:00:00+03:00",
          "2020-10-20 15:00:00+03:00",
          "2020-10-20 16:00:00+03:00",
          "2020-10-20 17:00:00+03:00",
          "2020-10-20 18:00:00+03:00",
          "2020-10-20 19:00:00+03:00",
          "2020-10-20 20:00:00+03:00",
          "2020-10-20 21:00:00+03:00",
          "2020-10-20 22:00:00+03:00",
          "2020-10-20 23:00:00+03:00",
          "2020-10-21 00:00:00+03:00",
          "2020-10-21 01:00:00+03:00",
          "2020-10-21 02:00:00+03:00",
          "2020-10-21 03:00:00+03:00",
          "2020-10-21 04:00:00+03:00",
          "2020-10-21 05:00:00+03:00",
          "2020-10-21 06:00:00+03:00",
          "2020-10-21 07:00:00+03:00",
          "2020-10-21 08:00:00+03:00",
          "2020-10-21 09:00:00+03:00",
          "2020-10-21 10:00:00+03:00",
          "2020-10-21 11:00:00+03:00",
          "2020-10-21 12:00:00+03:00",
          "2020-10-21 13:00:00+03:00",
          "2020-10-21 15:00:00+03:00",
          "2020-10-21 16:00:00+03:00",
          "2020-10-21 17:00:00+03:00",
          "2020-10-21 18:00:00+03:00",
          "2020-10-21 19:00:00+03:00",
          "2020-10-21 20:00:00+03:00",
          "2020-10-21 21:00:00+03:00",
          "2020-10-21 22:00:00+03:00",
          "2020-10-21 23:00:00+03:00",
          "2020-10-22 00:00:00+03:00",
          "2020-10-22 01:00:00+03:00",
          "2020-10-22 02:00:00+03:00",
          "2020-10-22 03:00:00+03:00",
          "2020-10-22 04:00:00+03:00",
          "2020-10-22 05:00:00+03:00",
          "2020-10-22 06:00:00+03:00",
          "2020-10-22 07:00:00+03:00",
          "2020-10-22 08:00:00+03:00",
          "2020-10-22 09:00:00+03:00"
         ],
         "y": [
          1001.84,
          1001.8,
          1001.46,
          1001.4,
          1001.2,
          1001.06,
          1001.15,
          1001.4,
          1001.7,
          1001.64,
          1001.71,
          1001.71,
          1001.75,
          1001.86,
          1001.89,
          1002.02,
          1002.07,
          1001.98,
          1001.86,
          1001.94,
          1002.15,
          1002.48,
          1002.8,
          1003.25,
          1003.58,
          1003.81,
          1003.74,
          1003.66,
          1003.62,
          1003.7,
          1003.66,
          1003.69,
          1003.79,
          1004.04,
          1004.45,
          1004.96,
          1004.97,
          1004.82,
          1004.46,
          1004.1,
          1003.9,
          1004.11,
          1004.25,
          1004.17,
          1004.02,
          1004.04,
          1004.28,
          1004.33,
          1004.49,
          1004.26,
          1003.69,
          1003.16,
          1003.02,
          1003.01,
          1002.88,
          1002.65,
          1002.57,
          1002.44,
          1002.57,
          1002.43,
          1002.21,
          1002.16,
          1001.86,
          1001.54,
          1001.21,
          1000.93,
          993.46,
          993.04,
          994.36,
          995.13,
          996,
          996.58,
          996.85,
          997.28,
          997.84,
          997.98,
          997.84,
          997.42,
          996.88,
          996.73,
          996.73,
          996.63,
          996,
          995.21,
          995,
          995.09,
          994.83,
          995.02,
          993.87,
          994.4,
          992.95,
          993.45,
          992.35,
          991.95,
          991.12,
          990.07,
          990.34,
          989.83,
          989.15,
          989.46,
          988.28,
          988.85,
          988.25,
          988.77,
          987.59,
          988.53,
          987.14,
          988.19,
          986.88,
          988.01,
          986.84,
          988.26,
          986.8,
          988.33,
          987.17,
          987.13,
          988.66,
          988.7,
          987.54,
          988.83,
          989.35,
          988.47,
          989.82,
          989.13,
          990.19,
          989.35,
          990.65,
          989.55,
          990.95,
          989.79,
          991.22,
          990.27,
          990.63,
          991.3,
          991.48,
          990.86,
          991.09,
          991.59,
          991.52,
          990.94,
          991.31,
          990.87,
          990.88,
          990.83,
          990.62,
          990.89,
          990.91,
          990.82,
          991.05,
          991.16,
          991.29,
          991.37,
          991.7,
          992.02,
          992.07,
          992.52,
          992.36,
          992.83,
          992.78,
          992.32,
          992.66,
          992.19,
          992.56,
          991.78,
          991.39,
          992.47,
          992.54,
          991.39,
          991.53,
          993,
          993.18,
          991.96,
          993.12,
          992.2,
          992.33,
          993.23,
          992.28,
          993.59,
          992.18,
          993.6,
          993.86,
          994.02,
          994.15,
          994.31,
          994.51,
          994.59,
          994.7,
          994.84,
          995.2,
          995.37,
          995.23,
          995.49,
          995.49,
          995.47,
          995.69,
          "",
          "",
          "",
          997.1,
          997.1,
          996.96,
          997.12,
          997.45,
          997.88,
          998.01,
          997.96,
          997.78,
          997.6,
          997.39,
          997.14,
          996.98,
          996.66,
          996.18,
          995.49,
          994.96,
          994.74,
          994.74,
          994.65,
          994.37,
          994.32,
          994.09,
          993.73,
          993.48,
          993.31,
          993.1,
          993.08,
          992.89,
          992.92,
          992.96,
          993.07,
          993.09,
          993.13,
          993.07,
          993.57,
          993.8,
          993.62,
          993.71,
          993.49,
          993.63,
          994.16,
          994.66,
          995.17,
          995.79,
          996.49,
          997.13,
          997.65,
          998.17,
          998.55,
          999.04,
          999.73,
          1000.37,
          1001.2,
          1001.97,
          1002.68,
          1003.07,
          1003.46,
          1003.87,
          1004.15,
          1004.41,
          1004.66,
          1004.88,
          1005.03,
          1005.31,
          1005.53,
          983.32,
          983.87,
          984.94,
          985.79,
          986.37,
          986.92,
          987.53,
          988.23,
          989.26,
          990.05,
          990.71,
          991.38,
          992.31,
          993.05,
          993.86,
          994.94,
          995.94,
          996.77,
          997.24,
          998.27,
          998.86,
          999.53,
          1000.09,
          1000.21,
          1000.48,
          1000.89,
          1000.8,
          1000.83,
          1000.87,
          1000.55,
          1000.37,
          1000.13,
          999.91,
          999.43,
          998.86,
          998.6,
          997.86,
          997.35,
          996.45,
          995.49,
          994.58,
          993.72,
          993.11,
          992.68,
          992.49,
          992.39,
          991.96,
          991.38,
          990.87,
          990.61,
          990.24,
          989.91,
          989.36,
          988.77,
          988.1,
          987.71,
          987.27,
          986.58,
          985.82,
          984.88,
          983.73,
          982.4,
          981.15,
          979.88,
          978.81,
          977.69
         ]
        }
       ],
       "layout": {
        "legend": {
         "bgcolor": "#F5F6F9",
         "font": {
          "color": "#4D5663"
         }
        },
        "paper_bgcolor": "#F5F6F9",
        "plot_bgcolor": "#F5F6F9",
        "template": {
         "data": {
          "bar": [
           {
            "error_x": {
             "color": "#2a3f5f"
            },
            "error_y": {
             "color": "#2a3f5f"
            },
            "marker": {
             "line": {
              "color": "#E5ECF6",
              "width": 0.5
             }
            },
            "type": "bar"
           }
          ],
          "barpolar": [
           {
            "marker": {
             "line": {
              "color": "#E5ECF6",
              "width": 0.5
             }
            },
            "type": "barpolar"
           }
          ],
          "carpet": [
           {
            "aaxis": {
             "endlinecolor": "#2a3f5f",
             "gridcolor": "white",
             "linecolor": "white",
             "minorgridcolor": "white",
             "startlinecolor": "#2a3f5f"
            },
            "baxis": {
             "endlinecolor": "#2a3f5f",
             "gridcolor": "white",
             "linecolor": "white",
             "minorgridcolor": "white",
             "startlinecolor": "#2a3f5f"
            },
            "type": "carpet"
           }
          ],
          "choropleth": [
           {
            "colorbar": {
             "outlinewidth": 0,
             "ticks": ""
            },
            "type": "choropleth"
           }
          ],
          "contour": [
           {
            "colorbar": {
             "outlinewidth": 0,
             "ticks": ""
            },
            "colorscale": [
             [
              0,
              "#0d0887"
             ],
             [
              0.1111111111111111,
              "#46039f"
             ],
             [
              0.2222222222222222,
              "#7201a8"
             ],
             [
              0.3333333333333333,
              "#9c179e"
             ],
             [
              0.4444444444444444,
              "#bd3786"
             ],
             [
              0.5555555555555556,
              "#d8576b"
             ],
             [
              0.6666666666666666,
              "#ed7953"
             ],
             [
              0.7777777777777778,
              "#fb9f3a"
             ],
             [
              0.8888888888888888,
              "#fdca26"
             ],
             [
              1,
              "#f0f921"
             ]
            ],
            "type": "contour"
           }
          ],
          "contourcarpet": [
           {
            "colorbar": {
             "outlinewidth": 0,
             "ticks": ""
            },
            "type": "contourcarpet"
           }
          ],
          "heatmap": [
           {
            "colorbar": {
             "outlinewidth": 0,
             "ticks": ""
            },
            "colorscale": [
             [
              0,
              "#0d0887"
             ],
             [
              0.1111111111111111,
              "#46039f"
             ],
             [
              0.2222222222222222,
              "#7201a8"
             ],
             [
              0.3333333333333333,
              "#9c179e"
             ],
             [
              0.4444444444444444,
              "#bd3786"
             ],
             [
              0.5555555555555556,
              "#d8576b"
             ],
             [
              0.6666666666666666,
              "#ed7953"
             ],
             [
              0.7777777777777778,
              "#fb9f3a"
             ],
             [
              0.8888888888888888,
              "#fdca26"
             ],
             [
              1,
              "#f0f921"
             ]
            ],
            "type": "heatmap"
           }
          ],
          "heatmapgl": [
           {
            "colorbar": {
             "outlinewidth": 0,
             "ticks": ""
            },
            "colorscale": [
             [
              0,
              "#0d0887"
             ],
             [
              0.1111111111111111,
              "#46039f"
             ],
             [
              0.2222222222222222,
              "#7201a8"
             ],
             [
              0.3333333333333333,
              "#9c179e"
             ],
             [
              0.4444444444444444,
              "#bd3786"
             ],
             [
              0.5555555555555556,
              "#d8576b"
             ],
             [
              0.6666666666666666,
              "#ed7953"
             ],
             [
              0.7777777777777778,
              "#fb9f3a"
             ],
             [
              0.8888888888888888,
              "#fdca26"
             ],
             [
              1,
              "#f0f921"
             ]
            ],
            "type": "heatmapgl"
           }
          ],
          "histogram": [
           {
            "marker": {
             "colorbar": {
              "outlinewidth": 0,
              "ticks": ""
             }
            },
            "type": "histogram"
           }
          ],
          "histogram2d": [
           {
            "colorbar": {
             "outlinewidth": 0,
             "ticks": ""
            },
            "colorscale": [
             [
              0,
              "#0d0887"
             ],
             [
              0.1111111111111111,
              "#46039f"
             ],
             [
              0.2222222222222222,
              "#7201a8"
             ],
             [
              0.3333333333333333,
              "#9c179e"
             ],
             [
              0.4444444444444444,
              "#bd3786"
             ],
             [
              0.5555555555555556,
              "#d8576b"
             ],
             [
              0.6666666666666666,
              "#ed7953"
             ],
             [
              0.7777777777777778,
              "#fb9f3a"
             ],
             [
              0.8888888888888888,
              "#fdca26"
             ],
             [
              1,
              "#f0f921"
             ]
            ],
            "type": "histogram2d"
           }
          ],
          "histogram2dcontour": [
           {
            "colorbar": {
             "outlinewidth": 0,
             "ticks": ""
            },
            "colorscale": [
             [
              0,
              "#0d0887"
             ],
             [
              0.1111111111111111,
              "#46039f"
             ],
             [
              0.2222222222222222,
              "#7201a8"
             ],
             [
              0.3333333333333333,
              "#9c179e"
             ],
             [
              0.4444444444444444,
              "#bd3786"
             ],
             [
              0.5555555555555556,
              "#d8576b"
             ],
             [
              0.6666666666666666,
              "#ed7953"
             ],
             [
              0.7777777777777778,
              "#fb9f3a"
             ],
             [
              0.8888888888888888,
              "#fdca26"
             ],
             [
              1,
              "#f0f921"
             ]
            ],
            "type": "histogram2dcontour"
           }
          ],
          "mesh3d": [
           {
            "colorbar": {
             "outlinewidth": 0,
             "ticks": ""
            },
            "type": "mesh3d"
           }
          ],
          "parcoords": [
           {
            "line": {
             "colorbar": {
              "outlinewidth": 0,
              "ticks": ""
             }
            },
            "type": "parcoords"
           }
          ],
          "pie": [
           {
            "automargin": true,
            "type": "pie"
           }
          ],
          "scatter": [
           {
            "marker": {
             "colorbar": {
              "outlinewidth": 0,
              "ticks": ""
             }
            },
            "type": "scatter"
           }
          ],
          "scatter3d": [
           {
            "line": {
             "colorbar": {
              "outlinewidth": 0,
              "ticks": ""
             }
            },
            "marker": {
             "colorbar": {
              "outlinewidth": 0,
              "ticks": ""
             }
            },
            "type": "scatter3d"
           }
          ],
          "scattercarpet": [
           {
            "marker": {
             "colorbar": {
              "outlinewidth": 0,
              "ticks": ""
             }
            },
            "type": "scattercarpet"
           }
          ],
          "scattergeo": [
           {
            "marker": {
             "colorbar": {
              "outlinewidth": 0,
              "ticks": ""
             }
            },
            "type": "scattergeo"
           }
          ],
          "scattergl": [
           {
            "marker": {
             "colorbar": {
              "outlinewidth": 0,
              "ticks": ""
             }
            },
            "type": "scattergl"
           }
          ],
          "scattermapbox": [
           {
            "marker": {
             "colorbar": {
              "outlinewidth": 0,
              "ticks": ""
             }
            },
            "type": "scattermapbox"
           }
          ],
          "scatterpolar": [
           {
            "marker": {
             "colorbar": {
              "outlinewidth": 0,
              "ticks": ""
             }
            },
            "type": "scatterpolar"
           }
          ],
          "scatterpolargl": [
           {
            "marker": {
             "colorbar": {
              "outlinewidth": 0,
              "ticks": ""
             }
            },
            "type": "scatterpolargl"
           }
          ],
          "scatterternary": [
           {
            "marker": {
             "colorbar": {
              "outlinewidth": 0,
              "ticks": ""
             }
            },
            "type": "scatterternary"
           }
          ],
          "surface": [
           {
            "colorbar": {
             "outlinewidth": 0,
             "ticks": ""
            },
            "colorscale": [
             [
              0,
              "#0d0887"
             ],
             [
              0.1111111111111111,
              "#46039f"
             ],
             [
              0.2222222222222222,
              "#7201a8"
             ],
             [
              0.3333333333333333,
              "#9c179e"
             ],
             [
              0.4444444444444444,
              "#bd3786"
             ],
             [
              0.5555555555555556,
              "#d8576b"
             ],
             [
              0.6666666666666666,
              "#ed7953"
             ],
             [
              0.7777777777777778,
              "#fb9f3a"
             ],
             [
              0.8888888888888888,
              "#fdca26"
             ],
             [
              1,
              "#f0f921"
             ]
            ],
            "type": "surface"
           }
          ],
          "table": [
           {
            "cells": {
             "fill": {
              "color": "#EBF0F8"
             },
             "line": {
              "color": "white"
             }
            },
            "header": {
             "fill": {
              "color": "#C8D4E3"
             },
             "line": {
              "color": "white"
             }
            },
            "type": "table"
           }
          ]
         },
         "layout": {
          "annotationdefaults": {
           "arrowcolor": "#2a3f5f",
           "arrowhead": 0,
           "arrowwidth": 1
          },
          "coloraxis": {
           "colorbar": {
            "outlinewidth": 0,
            "ticks": ""
           }
          },
          "colorscale": {
           "diverging": [
            [
             0,
             "#8e0152"
            ],
            [
             0.1,
             "#c51b7d"
            ],
            [
             0.2,
             "#de77ae"
            ],
            [
             0.3,
             "#f1b6da"
            ],
            [
             0.4,
             "#fde0ef"
            ],
            [
             0.5,
             "#f7f7f7"
            ],
            [
             0.6,
             "#e6f5d0"
            ],
            [
             0.7,
             "#b8e186"
            ],
            [
             0.8,
             "#7fbc41"
            ],
            [
             0.9,
             "#4d9221"
            ],
            [
             1,
             "#276419"
            ]
           ],
           "sequential": [
            [
             0,
             "#0d0887"
            ],
            [
             0.1111111111111111,
             "#46039f"
            ],
            [
             0.2222222222222222,
             "#7201a8"
            ],
            [
             0.3333333333333333,
             "#9c179e"
            ],
            [
             0.4444444444444444,
             "#bd3786"
            ],
            [
             0.5555555555555556,
             "#d8576b"
            ],
            [
             0.6666666666666666,
             "#ed7953"
            ],
            [
             0.7777777777777778,
             "#fb9f3a"
            ],
            [
             0.8888888888888888,
             "#fdca26"
            ],
            [
             1,
             "#f0f921"
            ]
           ],
           "sequentialminus": [
            [
             0,
             "#0d0887"
            ],
            [
             0.1111111111111111,
             "#46039f"
            ],
            [
             0.2222222222222222,
             "#7201a8"
            ],
            [
             0.3333333333333333,
             "#9c179e"
            ],
            [
             0.4444444444444444,
             "#bd3786"
            ],
            [
             0.5555555555555556,
             "#d8576b"
            ],
            [
             0.6666666666666666,
             "#ed7953"
            ],
            [
             0.7777777777777778,
             "#fb9f3a"
            ],
            [
             0.8888888888888888,
             "#fdca26"
            ],
            [
             1,
             "#f0f921"
            ]
           ]
          },
          "colorway": [
           "#636efa",
           "#EF553B",
           "#00cc96",
           "#ab63fa",
           "#FFA15A",
           "#19d3f3",
           "#FF6692",
           "#B6E880",
           "#FF97FF",
           "#FECB52"
          ],
          "font": {
           "color": "#2a3f5f"
          },
          "geo": {
           "bgcolor": "white",
           "lakecolor": "white",
           "landcolor": "#E5ECF6",
           "showlakes": true,
           "showland": true,
           "subunitcolor": "white"
          },
          "hoverlabel": {
           "align": "left"
          },
          "hovermode": "closest",
          "mapbox": {
           "style": "light"
          },
          "paper_bgcolor": "white",
          "plot_bgcolor": "#E5ECF6",
          "polar": {
           "angularaxis": {
            "gridcolor": "white",
            "linecolor": "white",
            "ticks": ""
           },
           "bgcolor": "#E5ECF6",
           "radialaxis": {
            "gridcolor": "white",
            "linecolor": "white",
            "ticks": ""
           }
          },
          "scene": {
           "xaxis": {
            "backgroundcolor": "#E5ECF6",
            "gridcolor": "white",
            "gridwidth": 2,
            "linecolor": "white",
            "showbackground": true,
            "ticks": "",
            "zerolinecolor": "white"
           },
           "yaxis": {
            "backgroundcolor": "#E5ECF6",
            "gridcolor": "white",
            "gridwidth": 2,
            "linecolor": "white",
            "showbackground": true,
            "ticks": "",
            "zerolinecolor": "white"
           },
           "zaxis": {
            "backgroundcolor": "#E5ECF6",
            "gridcolor": "white",
            "gridwidth": 2,
            "linecolor": "white",
            "showbackground": true,
            "ticks": "",
            "zerolinecolor": "white"
           }
          },
          "shapedefaults": {
           "line": {
            "color": "#2a3f5f"
           }
          },
          "ternary": {
           "aaxis": {
            "gridcolor": "white",
            "linecolor": "white",
            "ticks": ""
           },
           "baxis": {
            "gridcolor": "white",
            "linecolor": "white",
            "ticks": ""
           },
           "bgcolor": "#E5ECF6",
           "caxis": {
            "gridcolor": "white",
            "linecolor": "white",
            "ticks": ""
           }
          },
          "title": {
           "x": 0.05
          },
          "xaxis": {
           "automargin": true,
           "gridcolor": "white",
           "linecolor": "white",
           "ticks": "",
           "title": {
            "standoff": 15
           },
           "zerolinecolor": "white",
           "zerolinewidth": 2
          },
          "yaxis": {
           "automargin": true,
           "gridcolor": "white",
           "linecolor": "white",
           "ticks": "",
           "title": {
            "standoff": 15
           },
           "zerolinecolor": "white",
           "zerolinewidth": 2
          }
         }
        },
        "title": {
         "font": {
          "color": "#4D5663"
         }
        },
        "xaxis": {
         "gridcolor": "#E1E5ED",
         "showgrid": true,
         "tickfont": {
          "color": "#4D5663"
         },
         "title": {
          "font": {
           "color": "#4D5663"
          },
          "text": "Date"
         },
         "zerolinecolor": "#E1E5ED"
        },
        "yaxis": {
         "gridcolor": "#E1E5ED",
         "showgrid": true,
         "tickfont": {
          "color": "#4D5663"
         },
         "title": {
          "font": {
           "color": "#4D5663"
          },
          "text": "Air pressure (HPA)"
         },
         "zerolinecolor": "#E1E5ED"
        }
       }
      },
      "text/html": [
       "<div>                            <div id=\"907ff67c-1f78-4edd-af25-76b4ffabaa13\" class=\"plotly-graph-div\" style=\"height:525px; width:100%;\"></div>            <script type=\"text/javascript\">                require([\"plotly\"], function(Plotly) {                    window.PLOTLYENV=window.PLOTLYENV || {};\n",
       "                    window.PLOTLYENV.BASE_URL='https://plot.ly';                                    if (document.getElementById(\"907ff67c-1f78-4edd-af25-76b4ffabaa13\")) {                    Plotly.newPlot(                        \"907ff67c-1f78-4edd-af25-76b4ffabaa13\",                        [{\"line\": {\"color\": \"rgba(128, 0, 128, 1.0)\", \"dash\": \"solid\", \"shape\": \"linear\", \"width\": 1.3}, \"mode\": \"lines\", \"name\": \"air_pressure_hpa\", \"text\": \"\", \"type\": \"scatter\", \"x\": [\"2020-10-01 12:00:00+03:00\", \"2020-10-01 13:00:00+03:00\", \"2020-10-01 14:00:00+03:00\", \"2020-10-01 15:00:00+03:00\", \"2020-10-01 16:00:00+03:00\", \"2020-10-01 17:00:00+03:00\", \"2020-10-01 18:00:00+03:00\", \"2020-10-01 19:00:00+03:00\", \"2020-10-01 20:00:00+03:00\", \"2020-10-01 21:00:00+03:00\", \"2020-10-01 22:00:00+03:00\", \"2020-10-01 23:00:00+03:00\", \"2020-10-02 00:00:00+03:00\", \"2020-10-02 01:00:00+03:00\", \"2020-10-02 02:00:00+03:00\", \"2020-10-02 03:00:00+03:00\", \"2020-10-02 04:00:00+03:00\", \"2020-10-02 05:00:00+03:00\", \"2020-10-02 06:00:00+03:00\", \"2020-10-02 07:00:00+03:00\", \"2020-10-02 08:00:00+03:00\", \"2020-10-02 09:00:00+03:00\", \"2020-10-02 10:00:00+03:00\", \"2020-10-02 11:00:00+03:00\", \"2020-10-02 12:00:00+03:00\", \"2020-10-02 13:00:00+03:00\", \"2020-10-02 14:00:00+03:00\", \"2020-10-02 15:00:00+03:00\", \"2020-10-02 16:00:00+03:00\", \"2020-10-02 17:00:00+03:00\", \"2020-10-02 18:00:00+03:00\", \"2020-10-02 19:00:00+03:00\", \"2020-10-02 20:00:00+03:00\", \"2020-10-02 21:00:00+03:00\", \"2020-10-02 22:00:00+03:00\", \"2020-10-03 00:00:00+03:00\", \"2020-10-03 01:00:00+03:00\", \"2020-10-03 02:00:00+03:00\", \"2020-10-03 03:00:00+03:00\", \"2020-10-03 04:00:00+03:00\", \"2020-10-03 05:00:00+03:00\", \"2020-10-03 06:00:00+03:00\", \"2020-10-03 07:00:00+03:00\", \"2020-10-03 08:00:00+03:00\", \"2020-10-03 09:00:00+03:00\", \"2020-10-03 10:00:00+03:00\", \"2020-10-03 11:00:00+03:00\", \"2020-10-03 12:00:00+03:00\", \"2020-10-03 13:00:00+03:00\", \"2020-10-03 14:00:00+03:00\", \"2020-10-03 15:00:00+03:00\", \"2020-10-03 16:00:00+03:00\", \"2020-10-03 17:00:00+03:00\", \"2020-10-03 18:00:00+03:00\", \"2020-10-03 19:00:00+03:00\", \"2020-10-03 20:00:00+03:00\", \"2020-10-03 21:00:00+03:00\", \"2020-10-03 22:00:00+03:00\", \"2020-10-03 23:00:00+03:00\", \"2020-10-04 00:00:00+03:00\", \"2020-10-04 01:00:00+03:00\", \"2020-10-04 02:00:00+03:00\", \"2020-10-04 03:00:00+03:00\", \"2020-10-04 04:00:00+03:00\", \"2020-10-04 05:00:00+03:00\", \"2020-10-04 06:00:00+03:00\", \"2020-10-05 06:00:00+03:00\", \"2020-10-05 07:00:00+03:00\", \"2020-10-05 08:00:00+03:00\", \"2020-10-05 09:00:00+03:00\", \"2020-10-05 10:00:00+03:00\", \"2020-10-05 11:00:00+03:00\", \"2020-10-05 12:00:00+03:00\", \"2020-10-05 13:00:00+03:00\", \"2020-10-05 14:00:00+03:00\", \"2020-10-05 15:00:00+03:00\", \"2020-10-05 16:00:00+03:00\", \"2020-10-05 17:00:00+03:00\", \"2020-10-05 18:00:00+03:00\", \"2020-10-05 19:00:00+03:00\", \"2020-10-05 20:00:00+03:00\", \"2020-10-05 21:00:00+03:00\", \"2020-10-05 22:00:00+03:00\", \"2020-10-05 23:00:00+03:00\", \"2020-10-06 00:00:00+03:00\", \"2020-10-06 00:00:00+03:00\", \"2020-10-06 01:00:00+03:00\", \"2020-10-06 01:00:00+03:00\", \"2020-10-06 02:00:00+03:00\", \"2020-10-06 02:00:00+03:00\", \"2020-10-06 03:00:00+03:00\", \"2020-10-06 03:00:00+03:00\", \"2020-10-06 04:00:00+03:00\", \"2020-10-06 04:00:00+03:00\", \"2020-10-06 05:00:00+03:00\", \"2020-10-06 06:00:00+03:00\", \"2020-10-06 06:00:00+03:00\", \"2020-10-06 07:00:00+03:00\", \"2020-10-06 07:00:00+03:00\", \"2020-10-06 08:00:00+03:00\", \"2020-10-06 08:00:00+03:00\", \"2020-10-06 09:00:00+03:00\", \"2020-10-06 09:00:00+03:00\", \"2020-10-06 10:00:00+03:00\", \"2020-10-06 10:00:00+03:00\", \"2020-10-06 11:00:00+03:00\", \"2020-10-06 11:00:00+03:00\", \"2020-10-06 12:00:00+03:00\", \"2020-10-06 12:00:00+03:00\", \"2020-10-06 13:00:00+03:00\", \"2020-10-06 13:00:00+03:00\", \"2020-10-06 14:00:00+03:00\", \"2020-10-06 14:00:00+03:00\", \"2020-10-06 15:00:00+03:00\", \"2020-10-06 15:00:00+03:00\", \"2020-10-06 16:00:00+03:00\", \"2020-10-06 16:00:00+03:00\", \"2020-10-06 17:00:00+03:00\", \"2020-10-06 17:00:00+03:00\", \"2020-10-06 18:00:00+03:00\", \"2020-10-06 19:00:00+03:00\", \"2020-10-06 19:00:00+03:00\", \"2020-10-06 20:00:00+03:00\", \"2020-10-06 20:00:00+03:00\", \"2020-10-06 21:00:00+03:00\", \"2020-10-06 21:00:00+03:00\", \"2020-10-06 22:00:00+03:00\", \"2020-10-06 22:00:00+03:00\", \"2020-10-06 23:00:00+03:00\", \"2020-10-06 23:00:00+03:00\", \"2020-10-07 00:00:00+03:00\", \"2020-10-07 00:00:00+03:00\", \"2020-10-07 01:00:00+03:00\", \"2020-10-07 01:00:00+03:00\", \"2020-10-07 02:00:00+03:00\", \"2020-10-07 02:00:00+03:00\", \"2020-10-07 03:00:00+03:00\", \"2020-10-07 03:00:00+03:00\", \"2020-10-07 04:00:00+03:00\", \"2020-10-07 04:00:00+03:00\", \"2020-10-07 05:00:00+03:00\", \"2020-10-07 05:00:00+03:00\", \"2020-10-07 06:00:00+03:00\", \"2020-10-07 06:00:00+03:00\", \"2020-10-07 07:00:00+03:00\", \"2020-10-07 07:00:00+03:00\", \"2020-10-07 08:00:00+03:00\", \"2020-10-07 08:00:00+03:00\", \"2020-10-07 09:00:00+03:00\", \"2020-10-07 09:00:00+03:00\", \"2020-10-07 10:00:00+03:00\", \"2020-10-07 10:00:00+03:00\", \"2020-10-07 11:00:00+03:00\", \"2020-10-07 11:00:00+03:00\", \"2020-10-07 12:00:00+03:00\", \"2020-10-07 12:00:00+03:00\", \"2020-10-07 13:00:00+03:00\", \"2020-10-07 13:00:00+03:00\", \"2020-10-07 14:00:00+03:00\", \"2020-10-07 14:00:00+03:00\", \"2020-10-07 15:00:00+03:00\", \"2020-10-07 15:00:00+03:00\", \"2020-10-07 16:00:00+03:00\", \"2020-10-07 16:00:00+03:00\", \"2020-10-07 17:00:00+03:00\", \"2020-10-07 17:00:00+03:00\", \"2020-10-07 18:00:00+03:00\", \"2020-10-07 18:00:00+03:00\", \"2020-10-07 19:00:00+03:00\", \"2020-10-07 19:00:00+03:00\", \"2020-10-07 20:00:00+03:00\", \"2020-10-07 20:00:00+03:00\", \"2020-10-07 21:00:00+03:00\", \"2020-10-07 21:00:00+03:00\", \"2020-10-07 22:00:00+03:00\", \"2020-10-07 22:00:00+03:00\", \"2020-10-07 23:00:00+03:00\", \"2020-10-07 23:00:00+03:00\", \"2020-10-08 00:00:00+03:00\", \"2020-10-08 00:00:00+03:00\", \"2020-10-08 01:00:00+03:00\", \"2020-10-08 02:00:00+03:00\", \"2020-10-08 03:00:00+03:00\", \"2020-10-08 04:00:00+03:00\", \"2020-10-08 05:00:00+03:00\", \"2020-10-08 06:00:00+03:00\", \"2020-10-08 07:00:00+03:00\", \"2020-10-08 08:00:00+03:00\", \"2020-10-08 09:00:00+03:00\", \"2020-10-08 10:00:00+03:00\", \"2020-10-08 11:00:00+03:00\", \"2020-10-08 12:00:00+03:00\", \"2020-10-08 13:00:00+03:00\", \"2020-10-08 14:00:00+03:00\", \"2020-10-08 15:00:00+03:00\", \"2020-10-08 16:00:00+03:00\", \"2020-10-08 17:00:00+03:00\", \"2020-10-08 18:00:00+03:00\", \"2020-10-11 15:00:00+03:00\", \"2020-10-11 16:00:00+03:00\", \"2020-10-11 17:00:00+03:00\", \"2020-10-11 18:00:00+03:00\", \"2020-10-11 19:00:00+03:00\", \"2020-10-11 20:00:00+03:00\", \"2020-10-11 21:00:00+03:00\", \"2020-10-11 22:00:00+03:00\", \"2020-10-11 23:00:00+03:00\", \"2020-10-12 00:00:00+03:00\", \"2020-10-12 01:00:00+03:00\", \"2020-10-12 02:00:00+03:00\", \"2020-10-12 03:00:00+03:00\", \"2020-10-12 04:00:00+03:00\", \"2020-10-12 05:00:00+03:00\", \"2020-10-12 06:00:00+03:00\", \"2020-10-12 07:00:00+03:00\", \"2020-10-12 08:00:00+03:00\", \"2020-10-12 09:00:00+03:00\", \"2020-10-12 10:00:00+03:00\", \"2020-10-12 11:00:00+03:00\", \"2020-10-12 12:00:00+03:00\", \"2020-10-12 13:00:00+03:00\", \"2020-10-12 14:00:00+03:00\", \"2020-10-12 15:00:00+03:00\", \"2020-10-12 16:00:00+03:00\", \"2020-10-12 17:00:00+03:00\", \"2020-10-12 18:00:00+03:00\", \"2020-10-12 19:00:00+03:00\", \"2020-10-12 20:00:00+03:00\", \"2020-10-12 21:00:00+03:00\", \"2020-10-12 22:00:00+03:00\", \"2020-10-12 23:00:00+03:00\", \"2020-10-13 00:00:00+03:00\", \"2020-10-13 01:00:00+03:00\", \"2020-10-13 02:00:00+03:00\", \"2020-10-13 03:00:00+03:00\", \"2020-10-13 04:00:00+03:00\", \"2020-10-13 05:00:00+03:00\", \"2020-10-13 06:00:00+03:00\", \"2020-10-13 07:00:00+03:00\", \"2020-10-13 08:00:00+03:00\", \"2020-10-13 09:00:00+03:00\", \"2020-10-13 10:00:00+03:00\", \"2020-10-13 11:00:00+03:00\", \"2020-10-13 12:00:00+03:00\", \"2020-10-13 13:00:00+03:00\", \"2020-10-13 14:00:00+03:00\", \"2020-10-13 16:00:00+03:00\", \"2020-10-13 17:00:00+03:00\", \"2020-10-13 18:00:00+03:00\", \"2020-10-13 19:00:00+03:00\", \"2020-10-13 20:00:00+03:00\", \"2020-10-13 21:00:00+03:00\", \"2020-10-13 22:00:00+03:00\", \"2020-10-13 23:00:00+03:00\", \"2020-10-14 00:00:00+03:00\", \"2020-10-14 01:00:00+03:00\", \"2020-10-14 02:00:00+03:00\", \"2020-10-14 03:00:00+03:00\", \"2020-10-14 04:00:00+03:00\", \"2020-10-14 05:00:00+03:00\", \"2020-10-14 06:00:00+03:00\", \"2020-10-14 07:00:00+03:00\", \"2020-10-14 08:00:00+03:00\", \"2020-10-14 09:00:00+03:00\", \"2020-10-19 15:00:00+03:00\", \"2020-10-19 16:00:00+03:00\", \"2020-10-19 17:00:00+03:00\", \"2020-10-19 18:00:00+03:00\", \"2020-10-19 19:00:00+03:00\", \"2020-10-19 20:00:00+03:00\", \"2020-10-19 21:00:00+03:00\", \"2020-10-19 22:00:00+03:00\", \"2020-10-19 23:00:00+03:00\", \"2020-10-20 00:00:00+03:00\", \"2020-10-20 01:00:00+03:00\", \"2020-10-20 02:00:00+03:00\", \"2020-10-20 03:00:00+03:00\", \"2020-10-20 04:00:00+03:00\", \"2020-10-20 05:00:00+03:00\", \"2020-10-20 06:00:00+03:00\", \"2020-10-20 07:00:00+03:00\", \"2020-10-20 08:00:00+03:00\", \"2020-10-20 09:00:00+03:00\", \"2020-10-20 10:00:00+03:00\", \"2020-10-20 11:00:00+03:00\", \"2020-10-20 12:00:00+03:00\", \"2020-10-20 13:00:00+03:00\", \"2020-10-20 14:00:00+03:00\", \"2020-10-20 15:00:00+03:00\", \"2020-10-20 16:00:00+03:00\", \"2020-10-20 17:00:00+03:00\", \"2020-10-20 18:00:00+03:00\", \"2020-10-20 19:00:00+03:00\", \"2020-10-20 20:00:00+03:00\", \"2020-10-20 21:00:00+03:00\", \"2020-10-20 22:00:00+03:00\", \"2020-10-20 23:00:00+03:00\", \"2020-10-21 00:00:00+03:00\", \"2020-10-21 01:00:00+03:00\", \"2020-10-21 02:00:00+03:00\", \"2020-10-21 03:00:00+03:00\", \"2020-10-21 04:00:00+03:00\", \"2020-10-21 05:00:00+03:00\", \"2020-10-21 06:00:00+03:00\", \"2020-10-21 07:00:00+03:00\", \"2020-10-21 08:00:00+03:00\", \"2020-10-21 09:00:00+03:00\", \"2020-10-21 10:00:00+03:00\", \"2020-10-21 11:00:00+03:00\", \"2020-10-21 12:00:00+03:00\", \"2020-10-21 13:00:00+03:00\", \"2020-10-21 15:00:00+03:00\", \"2020-10-21 16:00:00+03:00\", \"2020-10-21 17:00:00+03:00\", \"2020-10-21 18:00:00+03:00\", \"2020-10-21 19:00:00+03:00\", \"2020-10-21 20:00:00+03:00\", \"2020-10-21 21:00:00+03:00\", \"2020-10-21 22:00:00+03:00\", \"2020-10-21 23:00:00+03:00\", \"2020-10-22 00:00:00+03:00\", \"2020-10-22 01:00:00+03:00\", \"2020-10-22 02:00:00+03:00\", \"2020-10-22 03:00:00+03:00\", \"2020-10-22 04:00:00+03:00\", \"2020-10-22 05:00:00+03:00\", \"2020-10-22 06:00:00+03:00\", \"2020-10-22 07:00:00+03:00\", \"2020-10-22 08:00:00+03:00\", \"2020-10-22 09:00:00+03:00\"], \"y\": [1001.84, 1001.8, 1001.46, 1001.4, 1001.2, 1001.06, 1001.15, 1001.4, 1001.7, 1001.64, 1001.71, 1001.71, 1001.75, 1001.86, 1001.89, 1002.02, 1002.07, 1001.98, 1001.86, 1001.94, 1002.15, 1002.48, 1002.8, 1003.25, 1003.58, 1003.81, 1003.74, 1003.66, 1003.62, 1003.7, 1003.66, 1003.69, 1003.79, 1004.04, 1004.45, 1004.96, 1004.97, 1004.82, 1004.46, 1004.1, 1003.9, 1004.11, 1004.25, 1004.17, 1004.02, 1004.04, 1004.28, 1004.33, 1004.49, 1004.26, 1003.69, 1003.16, 1003.02, 1003.01, 1002.88, 1002.65, 1002.57, 1002.44, 1002.57, 1002.43, 1002.21, 1002.16, 1001.86, 1001.54, 1001.21, 1000.93, 993.46, 993.04, 994.36, 995.13, 996.0, 996.58, 996.85, 997.28, 997.84, 997.98, 997.84, 997.42, 996.88, 996.73, 996.73, 996.63, 996.0, 995.21, 995.0, 995.09, 994.83, 995.02, 993.87, 994.4, 992.95, 993.45, 992.35, 991.95, 991.12, 990.07, 990.34, 989.83, 989.15, 989.46, 988.28, 988.85, 988.25, 988.77, 987.59, 988.53, 987.14, 988.19, 986.88, 988.01, 986.84, 988.26, 986.8, 988.33, 987.17, 987.13, 988.66, 988.7, 987.54, 988.83, 989.35, 988.47, 989.82, 989.13, 990.19, 989.35, 990.65, 989.55, 990.95, 989.79, 991.22, 990.27, 990.63, 991.3, 991.48, 990.86, 991.09, 991.59, 991.52, 990.94, 991.31, 990.87, 990.88, 990.83, 990.62, 990.89, 990.91, 990.82, 991.05, 991.16, 991.29, 991.37, 991.7, 992.02, 992.07, 992.52, 992.36, 992.83, 992.78, 992.32, 992.66, 992.19, 992.56, 991.78, 991.39, 992.47, 992.54, 991.39, 991.53, 993.0, 993.18, 991.96, 993.12, 992.2, 992.33, 993.23, 992.28, 993.59, 992.18, 993.6, 993.86, 994.02, 994.15, 994.31, 994.51, 994.59, 994.7, 994.84, 995.2, 995.37, 995.23, 995.49, 995.49, 995.47, 995.69, \"\", \"\", \"\", 997.1, 997.1, 996.96, 997.12, 997.45, 997.88, 998.01, 997.96, 997.78, 997.6, 997.39, 997.14, 996.98, 996.66, 996.18, 995.49, 994.96, 994.74, 994.74, 994.65, 994.37, 994.32, 994.09, 993.73, 993.48, 993.31, 993.1, 993.08, 992.89, 992.92, 992.96, 993.07, 993.09, 993.13, 993.07, 993.57, 993.8, 993.62, 993.71, 993.49, 993.63, 994.16, 994.66, 995.17, 995.79, 996.49, 997.13, 997.65, 998.17, 998.55, 999.04, 999.73, 1000.37, 1001.2, 1001.97, 1002.68, 1003.07, 1003.46, 1003.87, 1004.15, 1004.41, 1004.66, 1004.88, 1005.03, 1005.31, 1005.53, 983.32, 983.87, 984.94, 985.79, 986.37, 986.92, 987.53, 988.23, 989.26, 990.05, 990.71, 991.38, 992.31, 993.05, 993.86, 994.94, 995.94, 996.77, 997.24, 998.27, 998.86, 999.53, 1000.09, 1000.21, 1000.48, 1000.89, 1000.8, 1000.83, 1000.87, 1000.55, 1000.37, 1000.13, 999.91, 999.43, 998.86, 998.6, 997.86, 997.35, 996.45, 995.49, 994.58, 993.72, 993.11, 992.68, 992.49, 992.39, 991.96, 991.38, 990.87, 990.61, 990.24, 989.91, 989.36, 988.77, 988.1, 987.71, 987.27, 986.58, 985.82, 984.88, 983.73, 982.4, 981.15, 979.88, 978.81, 977.69]}],                        {\"legend\": {\"bgcolor\": \"#F5F6F9\", \"font\": {\"color\": \"#4D5663\"}}, \"paper_bgcolor\": \"#F5F6F9\", \"plot_bgcolor\": \"#F5F6F9\", \"template\": {\"data\": {\"bar\": [{\"error_x\": {\"color\": \"#2a3f5f\"}, \"error_y\": {\"color\": \"#2a3f5f\"}, \"marker\": {\"line\": {\"color\": \"#E5ECF6\", \"width\": 0.5}}, \"type\": \"bar\"}], \"barpolar\": [{\"marker\": {\"line\": {\"color\": \"#E5ECF6\", \"width\": 0.5}}, \"type\": \"barpolar\"}], \"carpet\": [{\"aaxis\": {\"endlinecolor\": \"#2a3f5f\", \"gridcolor\": \"white\", \"linecolor\": \"white\", \"minorgridcolor\": \"white\", \"startlinecolor\": \"#2a3f5f\"}, \"baxis\": {\"endlinecolor\": \"#2a3f5f\", \"gridcolor\": \"white\", \"linecolor\": \"white\", \"minorgridcolor\": \"white\", \"startlinecolor\": \"#2a3f5f\"}, \"type\": \"carpet\"}], \"choropleth\": [{\"colorbar\": {\"outlinewidth\": 0, \"ticks\": \"\"}, \"type\": \"choropleth\"}], \"contour\": [{\"colorbar\": {\"outlinewidth\": 0, \"ticks\": \"\"}, \"colorscale\": [[0.0, \"#0d0887\"], [0.1111111111111111, \"#46039f\"], [0.2222222222222222, \"#7201a8\"], [0.3333333333333333, \"#9c179e\"], [0.4444444444444444, \"#bd3786\"], [0.5555555555555556, \"#d8576b\"], [0.6666666666666666, \"#ed7953\"], [0.7777777777777778, \"#fb9f3a\"], [0.8888888888888888, \"#fdca26\"], [1.0, \"#f0f921\"]], \"type\": \"contour\"}], \"contourcarpet\": [{\"colorbar\": {\"outlinewidth\": 0, \"ticks\": \"\"}, \"type\": \"contourcarpet\"}], \"heatmap\": [{\"colorbar\": {\"outlinewidth\": 0, \"ticks\": \"\"}, \"colorscale\": [[0.0, \"#0d0887\"], [0.1111111111111111, \"#46039f\"], [0.2222222222222222, \"#7201a8\"], [0.3333333333333333, \"#9c179e\"], [0.4444444444444444, \"#bd3786\"], [0.5555555555555556, \"#d8576b\"], [0.6666666666666666, \"#ed7953\"], [0.7777777777777778, \"#fb9f3a\"], [0.8888888888888888, \"#fdca26\"], [1.0, \"#f0f921\"]], \"type\": \"heatmap\"}], \"heatmapgl\": [{\"colorbar\": {\"outlinewidth\": 0, \"ticks\": \"\"}, \"colorscale\": [[0.0, \"#0d0887\"], [0.1111111111111111, \"#46039f\"], [0.2222222222222222, \"#7201a8\"], [0.3333333333333333, \"#9c179e\"], [0.4444444444444444, \"#bd3786\"], [0.5555555555555556, \"#d8576b\"], [0.6666666666666666, \"#ed7953\"], [0.7777777777777778, \"#fb9f3a\"], [0.8888888888888888, \"#fdca26\"], [1.0, \"#f0f921\"]], \"type\": \"heatmapgl\"}], \"histogram\": [{\"marker\": {\"colorbar\": {\"outlinewidth\": 0, \"ticks\": \"\"}}, \"type\": \"histogram\"}], \"histogram2d\": [{\"colorbar\": {\"outlinewidth\": 0, \"ticks\": \"\"}, \"colorscale\": [[0.0, \"#0d0887\"], [0.1111111111111111, \"#46039f\"], [0.2222222222222222, \"#7201a8\"], [0.3333333333333333, \"#9c179e\"], [0.4444444444444444, \"#bd3786\"], [0.5555555555555556, \"#d8576b\"], [0.6666666666666666, \"#ed7953\"], [0.7777777777777778, \"#fb9f3a\"], [0.8888888888888888, \"#fdca26\"], [1.0, \"#f0f921\"]], \"type\": \"histogram2d\"}], \"histogram2dcontour\": [{\"colorbar\": {\"outlinewidth\": 0, \"ticks\": \"\"}, \"colorscale\": [[0.0, \"#0d0887\"], [0.1111111111111111, \"#46039f\"], [0.2222222222222222, \"#7201a8\"], [0.3333333333333333, \"#9c179e\"], [0.4444444444444444, \"#bd3786\"], [0.5555555555555556, \"#d8576b\"], [0.6666666666666666, \"#ed7953\"], [0.7777777777777778, \"#fb9f3a\"], [0.8888888888888888, \"#fdca26\"], [1.0, \"#f0f921\"]], \"type\": \"histogram2dcontour\"}], \"mesh3d\": [{\"colorbar\": {\"outlinewidth\": 0, \"ticks\": \"\"}, \"type\": \"mesh3d\"}], \"parcoords\": [{\"line\": {\"colorbar\": {\"outlinewidth\": 0, \"ticks\": \"\"}}, \"type\": \"parcoords\"}], \"pie\": [{\"automargin\": true, \"type\": \"pie\"}], \"scatter\": [{\"marker\": {\"colorbar\": {\"outlinewidth\": 0, \"ticks\": \"\"}}, \"type\": \"scatter\"}], \"scatter3d\": [{\"line\": {\"colorbar\": {\"outlinewidth\": 0, \"ticks\": \"\"}}, \"marker\": {\"colorbar\": {\"outlinewidth\": 0, \"ticks\": \"\"}}, \"type\": \"scatter3d\"}], \"scattercarpet\": [{\"marker\": {\"colorbar\": {\"outlinewidth\": 0, \"ticks\": \"\"}}, \"type\": \"scattercarpet\"}], \"scattergeo\": [{\"marker\": {\"colorbar\": {\"outlinewidth\": 0, \"ticks\": \"\"}}, \"type\": \"scattergeo\"}], \"scattergl\": [{\"marker\": {\"colorbar\": {\"outlinewidth\": 0, \"ticks\": \"\"}}, \"type\": \"scattergl\"}], \"scattermapbox\": [{\"marker\": {\"colorbar\": {\"outlinewidth\": 0, \"ticks\": \"\"}}, \"type\": \"scattermapbox\"}], \"scatterpolar\": [{\"marker\": {\"colorbar\": {\"outlinewidth\": 0, \"ticks\": \"\"}}, \"type\": \"scatterpolar\"}], \"scatterpolargl\": [{\"marker\": {\"colorbar\": {\"outlinewidth\": 0, \"ticks\": \"\"}}, \"type\": \"scatterpolargl\"}], \"scatterternary\": [{\"marker\": {\"colorbar\": {\"outlinewidth\": 0, \"ticks\": \"\"}}, \"type\": \"scatterternary\"}], \"surface\": [{\"colorbar\": {\"outlinewidth\": 0, \"ticks\": \"\"}, \"colorscale\": [[0.0, \"#0d0887\"], [0.1111111111111111, \"#46039f\"], [0.2222222222222222, \"#7201a8\"], [0.3333333333333333, \"#9c179e\"], [0.4444444444444444, \"#bd3786\"], [0.5555555555555556, \"#d8576b\"], [0.6666666666666666, \"#ed7953\"], [0.7777777777777778, \"#fb9f3a\"], [0.8888888888888888, \"#fdca26\"], [1.0, \"#f0f921\"]], \"type\": \"surface\"}], \"table\": [{\"cells\": {\"fill\": {\"color\": \"#EBF0F8\"}, \"line\": {\"color\": \"white\"}}, \"header\": {\"fill\": {\"color\": \"#C8D4E3\"}, \"line\": {\"color\": \"white\"}}, \"type\": \"table\"}]}, \"layout\": {\"annotationdefaults\": {\"arrowcolor\": \"#2a3f5f\", \"arrowhead\": 0, \"arrowwidth\": 1}, \"coloraxis\": {\"colorbar\": {\"outlinewidth\": 0, \"ticks\": \"\"}}, \"colorscale\": {\"diverging\": [[0, \"#8e0152\"], [0.1, \"#c51b7d\"], [0.2, \"#de77ae\"], [0.3, \"#f1b6da\"], [0.4, \"#fde0ef\"], [0.5, \"#f7f7f7\"], [0.6, \"#e6f5d0\"], [0.7, \"#b8e186\"], [0.8, \"#7fbc41\"], [0.9, \"#4d9221\"], [1, \"#276419\"]], \"sequential\": [[0.0, \"#0d0887\"], [0.1111111111111111, \"#46039f\"], [0.2222222222222222, \"#7201a8\"], [0.3333333333333333, \"#9c179e\"], [0.4444444444444444, \"#bd3786\"], [0.5555555555555556, \"#d8576b\"], [0.6666666666666666, \"#ed7953\"], [0.7777777777777778, \"#fb9f3a\"], [0.8888888888888888, \"#fdca26\"], [1.0, \"#f0f921\"]], \"sequentialminus\": [[0.0, \"#0d0887\"], [0.1111111111111111, \"#46039f\"], [0.2222222222222222, \"#7201a8\"], [0.3333333333333333, \"#9c179e\"], [0.4444444444444444, \"#bd3786\"], [0.5555555555555556, \"#d8576b\"], [0.6666666666666666, \"#ed7953\"], [0.7777777777777778, \"#fb9f3a\"], [0.8888888888888888, \"#fdca26\"], [1.0, \"#f0f921\"]]}, \"colorway\": [\"#636efa\", \"#EF553B\", \"#00cc96\", \"#ab63fa\", \"#FFA15A\", \"#19d3f3\", \"#FF6692\", \"#B6E880\", \"#FF97FF\", \"#FECB52\"], \"font\": {\"color\": \"#2a3f5f\"}, \"geo\": {\"bgcolor\": \"white\", \"lakecolor\": \"white\", \"landcolor\": \"#E5ECF6\", \"showlakes\": true, \"showland\": true, \"subunitcolor\": \"white\"}, \"hoverlabel\": {\"align\": \"left\"}, \"hovermode\": \"closest\", \"mapbox\": {\"style\": \"light\"}, \"paper_bgcolor\": \"white\", \"plot_bgcolor\": \"#E5ECF6\", \"polar\": {\"angularaxis\": {\"gridcolor\": \"white\", \"linecolor\": \"white\", \"ticks\": \"\"}, \"bgcolor\": \"#E5ECF6\", \"radialaxis\": {\"gridcolor\": \"white\", \"linecolor\": \"white\", \"ticks\": \"\"}}, \"scene\": {\"xaxis\": {\"backgroundcolor\": \"#E5ECF6\", \"gridcolor\": \"white\", \"gridwidth\": 2, \"linecolor\": \"white\", \"showbackground\": true, \"ticks\": \"\", \"zerolinecolor\": \"white\"}, \"yaxis\": {\"backgroundcolor\": \"#E5ECF6\", \"gridcolor\": \"white\", \"gridwidth\": 2, \"linecolor\": \"white\", \"showbackground\": true, \"ticks\": \"\", \"zerolinecolor\": \"white\"}, \"zaxis\": {\"backgroundcolor\": \"#E5ECF6\", \"gridcolor\": \"white\", \"gridwidth\": 2, \"linecolor\": \"white\", \"showbackground\": true, \"ticks\": \"\", \"zerolinecolor\": \"white\"}}, \"shapedefaults\": {\"line\": {\"color\": \"#2a3f5f\"}}, \"ternary\": {\"aaxis\": {\"gridcolor\": \"white\", \"linecolor\": \"white\", \"ticks\": \"\"}, \"baxis\": {\"gridcolor\": \"white\", \"linecolor\": \"white\", \"ticks\": \"\"}, \"bgcolor\": \"#E5ECF6\", \"caxis\": {\"gridcolor\": \"white\", \"linecolor\": \"white\", \"ticks\": \"\"}}, \"title\": {\"x\": 0.05}, \"xaxis\": {\"automargin\": true, \"gridcolor\": \"white\", \"linecolor\": \"white\", \"ticks\": \"\", \"title\": {\"standoff\": 15}, \"zerolinecolor\": \"white\", \"zerolinewidth\": 2}, \"yaxis\": {\"automargin\": true, \"gridcolor\": \"white\", \"linecolor\": \"white\", \"ticks\": \"\", \"title\": {\"standoff\": 15}, \"zerolinecolor\": \"white\", \"zerolinewidth\": 2}}}, \"title\": {\"font\": {\"color\": \"#4D5663\"}}, \"xaxis\": {\"gridcolor\": \"#E1E5ED\", \"showgrid\": true, \"tickfont\": {\"color\": \"#4D5663\"}, \"title\": {\"font\": {\"color\": \"#4D5663\"}, \"text\": \"Date\"}, \"zerolinecolor\": \"#E1E5ED\"}, \"yaxis\": {\"gridcolor\": \"#E1E5ED\", \"showgrid\": true, \"tickfont\": {\"color\": \"#4D5663\"}, \"title\": {\"font\": {\"color\": \"#4D5663\"}, \"text\": \"Air pressure (HPA)\"}, \"zerolinecolor\": \"#E1E5ED\"}},                        {\"showLink\": true, \"linkText\": \"Export to plot.ly\", \"plotlyServerURL\": \"https://plot.ly\", \"responsive\": true}                    ).then(function(){\n",
       "                            \n",
       "var gd = document.getElementById('907ff67c-1f78-4edd-af25-76b4ffabaa13');\n",
       "var x = new MutationObserver(function (mutations, observer) {{\n",
       "        var display = window.getComputedStyle(gd).display;\n",
       "        if (!display || display === 'none') {{\n",
       "            console.log([gd, 'removed!']);\n",
       "            Plotly.purge(gd);\n",
       "            observer.disconnect();\n",
       "        }}\n",
       "}});\n",
       "\n",
       "// Listen for the removal of the full notebook cells\n",
       "var notebookContainer = gd.closest('#notebook-container');\n",
       "if (notebookContainer) {{\n",
       "    x.observe(notebookContainer, {childList: true});\n",
       "}}\n",
       "\n",
       "// Listen for the clearing of the current output cell\n",
       "var outputEl = gd.closest('.output');\n",
       "if (outputEl) {{\n",
       "    x.observe(outputEl, {childList: true});\n",
       "}}\n",
       "\n",
       "                        })                };                });            </script>        </div>"
      ]
     },
     "metadata": {},
     "output_type": "display_data"
    }
   ],
   "source": [
    "#Plot the air_pressure_hpa\n",
    "X['air_pressure_hpa'].iplot(xTitle = 'Date', yTitle = 'Air pressure (HPA)', color = 'purple')"
   ]
  },
  {
   "cell_type": "markdown",
   "metadata": {},
   "source": [
    "The air pressure line is up and down normally, except for the period from 6 October at 6 AM to 8 October at 1 AM. At that time, the air pressure went up and down rapidly."
   ]
  },
  {
   "cell_type": "code",
   "execution_count": 17,
   "metadata": {},
   "outputs": [
    {
     "data": {
      "application/vnd.plotly.v1+json": {
       "config": {
        "linkText": "Export to plot.ly",
        "plotlyServerURL": "https://plot.ly",
        "showLink": true
       },
       "data": [
        {
         "line": {
          "color": "rgba(0, 128, 0, 1.0)",
          "dash": "solid",
          "shape": "linear",
          "width": 1.3
         },
         "mode": "lines",
         "name": "wind_direction_deg",
         "text": "",
         "type": "scatter",
         "x": [
          "2020-10-01 12:00:00+03:00",
          "2020-10-01 13:00:00+03:00",
          "2020-10-01 14:00:00+03:00",
          "2020-10-01 15:00:00+03:00",
          "2020-10-01 16:00:00+03:00",
          "2020-10-01 17:00:00+03:00",
          "2020-10-01 18:00:00+03:00",
          "2020-10-01 19:00:00+03:00",
          "2020-10-01 20:00:00+03:00",
          "2020-10-01 21:00:00+03:00",
          "2020-10-01 22:00:00+03:00",
          "2020-10-01 23:00:00+03:00",
          "2020-10-02 00:00:00+03:00",
          "2020-10-02 01:00:00+03:00",
          "2020-10-02 02:00:00+03:00",
          "2020-10-02 03:00:00+03:00",
          "2020-10-02 04:00:00+03:00",
          "2020-10-02 05:00:00+03:00",
          "2020-10-02 06:00:00+03:00",
          "2020-10-02 07:00:00+03:00",
          "2020-10-02 08:00:00+03:00",
          "2020-10-02 09:00:00+03:00",
          "2020-10-02 10:00:00+03:00",
          "2020-10-02 11:00:00+03:00",
          "2020-10-02 12:00:00+03:00",
          "2020-10-02 13:00:00+03:00",
          "2020-10-02 14:00:00+03:00",
          "2020-10-02 15:00:00+03:00",
          "2020-10-02 16:00:00+03:00",
          "2020-10-02 17:00:00+03:00",
          "2020-10-02 18:00:00+03:00",
          "2020-10-02 19:00:00+03:00",
          "2020-10-02 20:00:00+03:00",
          "2020-10-02 21:00:00+03:00",
          "2020-10-02 22:00:00+03:00",
          "2020-10-03 00:00:00+03:00",
          "2020-10-03 01:00:00+03:00",
          "2020-10-03 02:00:00+03:00",
          "2020-10-03 03:00:00+03:00",
          "2020-10-03 04:00:00+03:00",
          "2020-10-03 05:00:00+03:00",
          "2020-10-03 06:00:00+03:00",
          "2020-10-03 07:00:00+03:00",
          "2020-10-03 08:00:00+03:00",
          "2020-10-03 09:00:00+03:00",
          "2020-10-03 10:00:00+03:00",
          "2020-10-03 11:00:00+03:00",
          "2020-10-03 12:00:00+03:00",
          "2020-10-03 13:00:00+03:00",
          "2020-10-03 14:00:00+03:00",
          "2020-10-03 15:00:00+03:00",
          "2020-10-03 16:00:00+03:00",
          "2020-10-03 17:00:00+03:00",
          "2020-10-03 18:00:00+03:00",
          "2020-10-03 19:00:00+03:00",
          "2020-10-03 20:00:00+03:00",
          "2020-10-03 21:00:00+03:00",
          "2020-10-03 22:00:00+03:00",
          "2020-10-03 23:00:00+03:00",
          "2020-10-04 00:00:00+03:00",
          "2020-10-04 01:00:00+03:00",
          "2020-10-04 02:00:00+03:00",
          "2020-10-04 03:00:00+03:00",
          "2020-10-04 04:00:00+03:00",
          "2020-10-04 05:00:00+03:00",
          "2020-10-04 06:00:00+03:00",
          "2020-10-05 06:00:00+03:00",
          "2020-10-05 07:00:00+03:00",
          "2020-10-05 08:00:00+03:00",
          "2020-10-05 09:00:00+03:00",
          "2020-10-05 10:00:00+03:00",
          "2020-10-05 11:00:00+03:00",
          "2020-10-05 12:00:00+03:00",
          "2020-10-05 13:00:00+03:00",
          "2020-10-05 14:00:00+03:00",
          "2020-10-05 15:00:00+03:00",
          "2020-10-05 16:00:00+03:00",
          "2020-10-05 17:00:00+03:00",
          "2020-10-05 18:00:00+03:00",
          "2020-10-05 19:00:00+03:00",
          "2020-10-05 20:00:00+03:00",
          "2020-10-05 21:00:00+03:00",
          "2020-10-05 22:00:00+03:00",
          "2020-10-05 23:00:00+03:00",
          "2020-10-06 00:00:00+03:00",
          "2020-10-06 00:00:00+03:00",
          "2020-10-06 01:00:00+03:00",
          "2020-10-06 01:00:00+03:00",
          "2020-10-06 02:00:00+03:00",
          "2020-10-06 02:00:00+03:00",
          "2020-10-06 03:00:00+03:00",
          "2020-10-06 03:00:00+03:00",
          "2020-10-06 04:00:00+03:00",
          "2020-10-06 04:00:00+03:00",
          "2020-10-06 05:00:00+03:00",
          "2020-10-06 06:00:00+03:00",
          "2020-10-06 06:00:00+03:00",
          "2020-10-06 07:00:00+03:00",
          "2020-10-06 07:00:00+03:00",
          "2020-10-06 08:00:00+03:00",
          "2020-10-06 08:00:00+03:00",
          "2020-10-06 09:00:00+03:00",
          "2020-10-06 09:00:00+03:00",
          "2020-10-06 10:00:00+03:00",
          "2020-10-06 10:00:00+03:00",
          "2020-10-06 11:00:00+03:00",
          "2020-10-06 11:00:00+03:00",
          "2020-10-06 12:00:00+03:00",
          "2020-10-06 12:00:00+03:00",
          "2020-10-06 13:00:00+03:00",
          "2020-10-06 13:00:00+03:00",
          "2020-10-06 14:00:00+03:00",
          "2020-10-06 14:00:00+03:00",
          "2020-10-06 15:00:00+03:00",
          "2020-10-06 15:00:00+03:00",
          "2020-10-06 16:00:00+03:00",
          "2020-10-06 16:00:00+03:00",
          "2020-10-06 17:00:00+03:00",
          "2020-10-06 17:00:00+03:00",
          "2020-10-06 18:00:00+03:00",
          "2020-10-06 19:00:00+03:00",
          "2020-10-06 19:00:00+03:00",
          "2020-10-06 20:00:00+03:00",
          "2020-10-06 20:00:00+03:00",
          "2020-10-06 21:00:00+03:00",
          "2020-10-06 21:00:00+03:00",
          "2020-10-06 22:00:00+03:00",
          "2020-10-06 22:00:00+03:00",
          "2020-10-06 23:00:00+03:00",
          "2020-10-06 23:00:00+03:00",
          "2020-10-07 00:00:00+03:00",
          "2020-10-07 00:00:00+03:00",
          "2020-10-07 01:00:00+03:00",
          "2020-10-07 01:00:00+03:00",
          "2020-10-07 02:00:00+03:00",
          "2020-10-07 02:00:00+03:00",
          "2020-10-07 03:00:00+03:00",
          "2020-10-07 03:00:00+03:00",
          "2020-10-07 04:00:00+03:00",
          "2020-10-07 04:00:00+03:00",
          "2020-10-07 05:00:00+03:00",
          "2020-10-07 05:00:00+03:00",
          "2020-10-07 06:00:00+03:00",
          "2020-10-07 06:00:00+03:00",
          "2020-10-07 07:00:00+03:00",
          "2020-10-07 07:00:00+03:00",
          "2020-10-07 08:00:00+03:00",
          "2020-10-07 08:00:00+03:00",
          "2020-10-07 09:00:00+03:00",
          "2020-10-07 09:00:00+03:00",
          "2020-10-07 10:00:00+03:00",
          "2020-10-07 10:00:00+03:00",
          "2020-10-07 11:00:00+03:00",
          "2020-10-07 11:00:00+03:00",
          "2020-10-07 12:00:00+03:00",
          "2020-10-07 12:00:00+03:00",
          "2020-10-07 13:00:00+03:00",
          "2020-10-07 13:00:00+03:00",
          "2020-10-07 14:00:00+03:00",
          "2020-10-07 14:00:00+03:00",
          "2020-10-07 15:00:00+03:00",
          "2020-10-07 15:00:00+03:00",
          "2020-10-07 16:00:00+03:00",
          "2020-10-07 16:00:00+03:00",
          "2020-10-07 17:00:00+03:00",
          "2020-10-07 17:00:00+03:00",
          "2020-10-07 18:00:00+03:00",
          "2020-10-07 18:00:00+03:00",
          "2020-10-07 19:00:00+03:00",
          "2020-10-07 19:00:00+03:00",
          "2020-10-07 20:00:00+03:00",
          "2020-10-07 20:00:00+03:00",
          "2020-10-07 21:00:00+03:00",
          "2020-10-07 21:00:00+03:00",
          "2020-10-07 22:00:00+03:00",
          "2020-10-07 22:00:00+03:00",
          "2020-10-07 23:00:00+03:00",
          "2020-10-07 23:00:00+03:00",
          "2020-10-08 00:00:00+03:00",
          "2020-10-08 00:00:00+03:00",
          "2020-10-08 01:00:00+03:00",
          "2020-10-08 02:00:00+03:00",
          "2020-10-08 03:00:00+03:00",
          "2020-10-08 04:00:00+03:00",
          "2020-10-08 05:00:00+03:00",
          "2020-10-08 06:00:00+03:00",
          "2020-10-08 07:00:00+03:00",
          "2020-10-08 08:00:00+03:00",
          "2020-10-08 09:00:00+03:00",
          "2020-10-08 10:00:00+03:00",
          "2020-10-08 11:00:00+03:00",
          "2020-10-08 12:00:00+03:00",
          "2020-10-08 13:00:00+03:00",
          "2020-10-08 14:00:00+03:00",
          "2020-10-08 15:00:00+03:00",
          "2020-10-08 16:00:00+03:00",
          "2020-10-08 17:00:00+03:00",
          "2020-10-08 18:00:00+03:00",
          "2020-10-11 15:00:00+03:00",
          "2020-10-11 16:00:00+03:00",
          "2020-10-11 17:00:00+03:00",
          "2020-10-11 18:00:00+03:00",
          "2020-10-11 19:00:00+03:00",
          "2020-10-11 20:00:00+03:00",
          "2020-10-11 21:00:00+03:00",
          "2020-10-11 22:00:00+03:00",
          "2020-10-11 23:00:00+03:00",
          "2020-10-12 00:00:00+03:00",
          "2020-10-12 01:00:00+03:00",
          "2020-10-12 02:00:00+03:00",
          "2020-10-12 03:00:00+03:00",
          "2020-10-12 04:00:00+03:00",
          "2020-10-12 05:00:00+03:00",
          "2020-10-12 06:00:00+03:00",
          "2020-10-12 07:00:00+03:00",
          "2020-10-12 08:00:00+03:00",
          "2020-10-12 09:00:00+03:00",
          "2020-10-12 10:00:00+03:00",
          "2020-10-12 11:00:00+03:00",
          "2020-10-12 12:00:00+03:00",
          "2020-10-12 13:00:00+03:00",
          "2020-10-12 14:00:00+03:00",
          "2020-10-12 15:00:00+03:00",
          "2020-10-12 16:00:00+03:00",
          "2020-10-12 17:00:00+03:00",
          "2020-10-12 18:00:00+03:00",
          "2020-10-12 19:00:00+03:00",
          "2020-10-12 20:00:00+03:00",
          "2020-10-12 21:00:00+03:00",
          "2020-10-12 22:00:00+03:00",
          "2020-10-12 23:00:00+03:00",
          "2020-10-13 00:00:00+03:00",
          "2020-10-13 01:00:00+03:00",
          "2020-10-13 02:00:00+03:00",
          "2020-10-13 03:00:00+03:00",
          "2020-10-13 04:00:00+03:00",
          "2020-10-13 05:00:00+03:00",
          "2020-10-13 06:00:00+03:00",
          "2020-10-13 07:00:00+03:00",
          "2020-10-13 08:00:00+03:00",
          "2020-10-13 09:00:00+03:00",
          "2020-10-13 10:00:00+03:00",
          "2020-10-13 11:00:00+03:00",
          "2020-10-13 12:00:00+03:00",
          "2020-10-13 13:00:00+03:00",
          "2020-10-13 14:00:00+03:00",
          "2020-10-13 16:00:00+03:00",
          "2020-10-13 17:00:00+03:00",
          "2020-10-13 18:00:00+03:00",
          "2020-10-13 19:00:00+03:00",
          "2020-10-13 20:00:00+03:00",
          "2020-10-13 21:00:00+03:00",
          "2020-10-13 22:00:00+03:00",
          "2020-10-13 23:00:00+03:00",
          "2020-10-14 00:00:00+03:00",
          "2020-10-14 01:00:00+03:00",
          "2020-10-14 02:00:00+03:00",
          "2020-10-14 03:00:00+03:00",
          "2020-10-14 04:00:00+03:00",
          "2020-10-14 05:00:00+03:00",
          "2020-10-14 06:00:00+03:00",
          "2020-10-14 07:00:00+03:00",
          "2020-10-14 08:00:00+03:00",
          "2020-10-14 09:00:00+03:00",
          "2020-10-19 15:00:00+03:00",
          "2020-10-19 16:00:00+03:00",
          "2020-10-19 17:00:00+03:00",
          "2020-10-19 18:00:00+03:00",
          "2020-10-19 19:00:00+03:00",
          "2020-10-19 20:00:00+03:00",
          "2020-10-19 21:00:00+03:00",
          "2020-10-19 22:00:00+03:00",
          "2020-10-19 23:00:00+03:00",
          "2020-10-20 00:00:00+03:00",
          "2020-10-20 01:00:00+03:00",
          "2020-10-20 02:00:00+03:00",
          "2020-10-20 03:00:00+03:00",
          "2020-10-20 04:00:00+03:00",
          "2020-10-20 05:00:00+03:00",
          "2020-10-20 06:00:00+03:00",
          "2020-10-20 07:00:00+03:00",
          "2020-10-20 08:00:00+03:00",
          "2020-10-20 09:00:00+03:00",
          "2020-10-20 10:00:00+03:00",
          "2020-10-20 11:00:00+03:00",
          "2020-10-20 12:00:00+03:00",
          "2020-10-20 13:00:00+03:00",
          "2020-10-20 14:00:00+03:00",
          "2020-10-20 15:00:00+03:00",
          "2020-10-20 16:00:00+03:00",
          "2020-10-20 17:00:00+03:00",
          "2020-10-20 18:00:00+03:00",
          "2020-10-20 19:00:00+03:00",
          "2020-10-20 20:00:00+03:00",
          "2020-10-20 21:00:00+03:00",
          "2020-10-20 22:00:00+03:00",
          "2020-10-20 23:00:00+03:00",
          "2020-10-21 00:00:00+03:00",
          "2020-10-21 01:00:00+03:00",
          "2020-10-21 02:00:00+03:00",
          "2020-10-21 03:00:00+03:00",
          "2020-10-21 04:00:00+03:00",
          "2020-10-21 05:00:00+03:00",
          "2020-10-21 06:00:00+03:00",
          "2020-10-21 07:00:00+03:00",
          "2020-10-21 08:00:00+03:00",
          "2020-10-21 09:00:00+03:00",
          "2020-10-21 10:00:00+03:00",
          "2020-10-21 11:00:00+03:00",
          "2020-10-21 12:00:00+03:00",
          "2020-10-21 13:00:00+03:00",
          "2020-10-21 15:00:00+03:00",
          "2020-10-21 16:00:00+03:00",
          "2020-10-21 17:00:00+03:00",
          "2020-10-21 18:00:00+03:00",
          "2020-10-21 19:00:00+03:00",
          "2020-10-21 20:00:00+03:00",
          "2020-10-21 21:00:00+03:00",
          "2020-10-21 22:00:00+03:00",
          "2020-10-21 23:00:00+03:00",
          "2020-10-22 00:00:00+03:00",
          "2020-10-22 01:00:00+03:00",
          "2020-10-22 02:00:00+03:00",
          "2020-10-22 03:00:00+03:00",
          "2020-10-22 04:00:00+03:00",
          "2020-10-22 05:00:00+03:00",
          "2020-10-22 06:00:00+03:00",
          "2020-10-22 07:00:00+03:00",
          "2020-10-22 08:00:00+03:00",
          "2020-10-22 09:00:00+03:00"
         ],
         "y": [
          71,
          76,
          78,
          79,
          80,
          79,
          80,
          81,
          84,
          89,
          101,
          115,
          123,
          117,
          105,
          100,
          92,
          91,
          89,
          89,
          88,
          90,
          95,
          97,
          91,
          91,
          92,
          90,
          90,
          90,
          91,
          94,
          100,
          105,
          115,
          116,
          105,
          103,
          103,
          100,
          95,
          95,
          93,
          93,
          92,
          101,
          104,
          106,
          105,
          97,
          95,
          97,
          100,
          104,
          106,
          112,
          119,
          120,
          119,
          118,
          112,
          114,
          117,
          114,
          111,
          113,
          183,
          185,
          201,
          218,
          219,
          220,
          225,
          221,
          219,
          228,
          217,
          144,
          111,
          106,
          121,
          137,
          147,
          147,
          147,
          152,
          150,
          153,
          146,
          146,
          142,
          132,
          128,
          134,
          128,
          129,
          124,
          123,
          120,
          119,
          117,
          127,
          122,
          137,
          129,
          152,
          143,
          156,
          150,
          160,
          155,
          166,
          153,
          156,
          153,
          163,
          166,
          181,
          178,
          182,
          212,
          190,
          207,
          195,
          196,
          187,
          193,
          190,
          192,
          192,
          189,
          187,
          186,
          186,
          176,
          175,
          178,
          168,
          163,
          174,
          164,
          168,
          165,
          167,
          159,
          171,
          170,
          166,
          173,
          171,
          163,
          164,
          159,
          168,
          157,
          170,
          155,
          168,
          171,
          154,
          168,
          154,
          166,
          145,
          135,
          164,
          159,
          136,
          148,
          160,
          154,
          159,
          161,
          158,
          164,
          178,
          173,
          190,
          168,
          198,
          211,
          219,
          211,
          202,
          185,
          180,
          177,
          177,
          186,
          180,
          167,
          177,
          195,
          189,
          178,
          "",
          "",
          "",
          250,
          242,
          230,
          238,
          253,
          265,
          275,
          286,
          299,
          313,
          325,
          25,
          105,
          109,
          117,
          130,
          166,
          171,
          190,
          189,
          205,
          213,
          221,
          217,
          210,
          213,
          216,
          205,
          211,
          211,
          212,
          210,
          240,
          216,
          206,
          262,
          228,
          253,
          217,
          220,
          224,
          274,
          260,
          271,
          277,
          266,
          266,
          254,
          257,
          264,
          347,
          1,
          9,
          18,
          31,
          35,
          36,
          39,
          40,
          42,
          44,
          40,
          41,
          44,
          46,
          48,
          327,
          325,
          316,
          313,
          329,
          312,
          313,
          316,
          327,
          323,
          334,
          334,
          335,
          336,
          341,
          337,
          328,
          329,
          338,
          332,
          338,
          330,
          312,
          307,
          299,
          303,
          303,
          309,
          310,
          316,
          351,
          45,
          82,
          121,
          177,
          175,
          147,
          154,
          144,
          142,
          156,
          151,
          146,
          149,
          153,
          154,
          152,
          154,
          150,
          151,
          152,
          154,
          154,
          156,
          162,
          168,
          175,
          182,
          186,
          185,
          177,
          171,
          167,
          163,
          165,
          174
         ]
        }
       ],
       "layout": {
        "legend": {
         "bgcolor": "#F5F6F9",
         "font": {
          "color": "#4D5663"
         }
        },
        "paper_bgcolor": "#F5F6F9",
        "plot_bgcolor": "#F5F6F9",
        "template": {
         "data": {
          "bar": [
           {
            "error_x": {
             "color": "#2a3f5f"
            },
            "error_y": {
             "color": "#2a3f5f"
            },
            "marker": {
             "line": {
              "color": "#E5ECF6",
              "width": 0.5
             }
            },
            "type": "bar"
           }
          ],
          "barpolar": [
           {
            "marker": {
             "line": {
              "color": "#E5ECF6",
              "width": 0.5
             }
            },
            "type": "barpolar"
           }
          ],
          "carpet": [
           {
            "aaxis": {
             "endlinecolor": "#2a3f5f",
             "gridcolor": "white",
             "linecolor": "white",
             "minorgridcolor": "white",
             "startlinecolor": "#2a3f5f"
            },
            "baxis": {
             "endlinecolor": "#2a3f5f",
             "gridcolor": "white",
             "linecolor": "white",
             "minorgridcolor": "white",
             "startlinecolor": "#2a3f5f"
            },
            "type": "carpet"
           }
          ],
          "choropleth": [
           {
            "colorbar": {
             "outlinewidth": 0,
             "ticks": ""
            },
            "type": "choropleth"
           }
          ],
          "contour": [
           {
            "colorbar": {
             "outlinewidth": 0,
             "ticks": ""
            },
            "colorscale": [
             [
              0,
              "#0d0887"
             ],
             [
              0.1111111111111111,
              "#46039f"
             ],
             [
              0.2222222222222222,
              "#7201a8"
             ],
             [
              0.3333333333333333,
              "#9c179e"
             ],
             [
              0.4444444444444444,
              "#bd3786"
             ],
             [
              0.5555555555555556,
              "#d8576b"
             ],
             [
              0.6666666666666666,
              "#ed7953"
             ],
             [
              0.7777777777777778,
              "#fb9f3a"
             ],
             [
              0.8888888888888888,
              "#fdca26"
             ],
             [
              1,
              "#f0f921"
             ]
            ],
            "type": "contour"
           }
          ],
          "contourcarpet": [
           {
            "colorbar": {
             "outlinewidth": 0,
             "ticks": ""
            },
            "type": "contourcarpet"
           }
          ],
          "heatmap": [
           {
            "colorbar": {
             "outlinewidth": 0,
             "ticks": ""
            },
            "colorscale": [
             [
              0,
              "#0d0887"
             ],
             [
              0.1111111111111111,
              "#46039f"
             ],
             [
              0.2222222222222222,
              "#7201a8"
             ],
             [
              0.3333333333333333,
              "#9c179e"
             ],
             [
              0.4444444444444444,
              "#bd3786"
             ],
             [
              0.5555555555555556,
              "#d8576b"
             ],
             [
              0.6666666666666666,
              "#ed7953"
             ],
             [
              0.7777777777777778,
              "#fb9f3a"
             ],
             [
              0.8888888888888888,
              "#fdca26"
             ],
             [
              1,
              "#f0f921"
             ]
            ],
            "type": "heatmap"
           }
          ],
          "heatmapgl": [
           {
            "colorbar": {
             "outlinewidth": 0,
             "ticks": ""
            },
            "colorscale": [
             [
              0,
              "#0d0887"
             ],
             [
              0.1111111111111111,
              "#46039f"
             ],
             [
              0.2222222222222222,
              "#7201a8"
             ],
             [
              0.3333333333333333,
              "#9c179e"
             ],
             [
              0.4444444444444444,
              "#bd3786"
             ],
             [
              0.5555555555555556,
              "#d8576b"
             ],
             [
              0.6666666666666666,
              "#ed7953"
             ],
             [
              0.7777777777777778,
              "#fb9f3a"
             ],
             [
              0.8888888888888888,
              "#fdca26"
             ],
             [
              1,
              "#f0f921"
             ]
            ],
            "type": "heatmapgl"
           }
          ],
          "histogram": [
           {
            "marker": {
             "colorbar": {
              "outlinewidth": 0,
              "ticks": ""
             }
            },
            "type": "histogram"
           }
          ],
          "histogram2d": [
           {
            "colorbar": {
             "outlinewidth": 0,
             "ticks": ""
            },
            "colorscale": [
             [
              0,
              "#0d0887"
             ],
             [
              0.1111111111111111,
              "#46039f"
             ],
             [
              0.2222222222222222,
              "#7201a8"
             ],
             [
              0.3333333333333333,
              "#9c179e"
             ],
             [
              0.4444444444444444,
              "#bd3786"
             ],
             [
              0.5555555555555556,
              "#d8576b"
             ],
             [
              0.6666666666666666,
              "#ed7953"
             ],
             [
              0.7777777777777778,
              "#fb9f3a"
             ],
             [
              0.8888888888888888,
              "#fdca26"
             ],
             [
              1,
              "#f0f921"
             ]
            ],
            "type": "histogram2d"
           }
          ],
          "histogram2dcontour": [
           {
            "colorbar": {
             "outlinewidth": 0,
             "ticks": ""
            },
            "colorscale": [
             [
              0,
              "#0d0887"
             ],
             [
              0.1111111111111111,
              "#46039f"
             ],
             [
              0.2222222222222222,
              "#7201a8"
             ],
             [
              0.3333333333333333,
              "#9c179e"
             ],
             [
              0.4444444444444444,
              "#bd3786"
             ],
             [
              0.5555555555555556,
              "#d8576b"
             ],
             [
              0.6666666666666666,
              "#ed7953"
             ],
             [
              0.7777777777777778,
              "#fb9f3a"
             ],
             [
              0.8888888888888888,
              "#fdca26"
             ],
             [
              1,
              "#f0f921"
             ]
            ],
            "type": "histogram2dcontour"
           }
          ],
          "mesh3d": [
           {
            "colorbar": {
             "outlinewidth": 0,
             "ticks": ""
            },
            "type": "mesh3d"
           }
          ],
          "parcoords": [
           {
            "line": {
             "colorbar": {
              "outlinewidth": 0,
              "ticks": ""
             }
            },
            "type": "parcoords"
           }
          ],
          "pie": [
           {
            "automargin": true,
            "type": "pie"
           }
          ],
          "scatter": [
           {
            "marker": {
             "colorbar": {
              "outlinewidth": 0,
              "ticks": ""
             }
            },
            "type": "scatter"
           }
          ],
          "scatter3d": [
           {
            "line": {
             "colorbar": {
              "outlinewidth": 0,
              "ticks": ""
             }
            },
            "marker": {
             "colorbar": {
              "outlinewidth": 0,
              "ticks": ""
             }
            },
            "type": "scatter3d"
           }
          ],
          "scattercarpet": [
           {
            "marker": {
             "colorbar": {
              "outlinewidth": 0,
              "ticks": ""
             }
            },
            "type": "scattercarpet"
           }
          ],
          "scattergeo": [
           {
            "marker": {
             "colorbar": {
              "outlinewidth": 0,
              "ticks": ""
             }
            },
            "type": "scattergeo"
           }
          ],
          "scattergl": [
           {
            "marker": {
             "colorbar": {
              "outlinewidth": 0,
              "ticks": ""
             }
            },
            "type": "scattergl"
           }
          ],
          "scattermapbox": [
           {
            "marker": {
             "colorbar": {
              "outlinewidth": 0,
              "ticks": ""
             }
            },
            "type": "scattermapbox"
           }
          ],
          "scatterpolar": [
           {
            "marker": {
             "colorbar": {
              "outlinewidth": 0,
              "ticks": ""
             }
            },
            "type": "scatterpolar"
           }
          ],
          "scatterpolargl": [
           {
            "marker": {
             "colorbar": {
              "outlinewidth": 0,
              "ticks": ""
             }
            },
            "type": "scatterpolargl"
           }
          ],
          "scatterternary": [
           {
            "marker": {
             "colorbar": {
              "outlinewidth": 0,
              "ticks": ""
             }
            },
            "type": "scatterternary"
           }
          ],
          "surface": [
           {
            "colorbar": {
             "outlinewidth": 0,
             "ticks": ""
            },
            "colorscale": [
             [
              0,
              "#0d0887"
             ],
             [
              0.1111111111111111,
              "#46039f"
             ],
             [
              0.2222222222222222,
              "#7201a8"
             ],
             [
              0.3333333333333333,
              "#9c179e"
             ],
             [
              0.4444444444444444,
              "#bd3786"
             ],
             [
              0.5555555555555556,
              "#d8576b"
             ],
             [
              0.6666666666666666,
              "#ed7953"
             ],
             [
              0.7777777777777778,
              "#fb9f3a"
             ],
             [
              0.8888888888888888,
              "#fdca26"
             ],
             [
              1,
              "#f0f921"
             ]
            ],
            "type": "surface"
           }
          ],
          "table": [
           {
            "cells": {
             "fill": {
              "color": "#EBF0F8"
             },
             "line": {
              "color": "white"
             }
            },
            "header": {
             "fill": {
              "color": "#C8D4E3"
             },
             "line": {
              "color": "white"
             }
            },
            "type": "table"
           }
          ]
         },
         "layout": {
          "annotationdefaults": {
           "arrowcolor": "#2a3f5f",
           "arrowhead": 0,
           "arrowwidth": 1
          },
          "coloraxis": {
           "colorbar": {
            "outlinewidth": 0,
            "ticks": ""
           }
          },
          "colorscale": {
           "diverging": [
            [
             0,
             "#8e0152"
            ],
            [
             0.1,
             "#c51b7d"
            ],
            [
             0.2,
             "#de77ae"
            ],
            [
             0.3,
             "#f1b6da"
            ],
            [
             0.4,
             "#fde0ef"
            ],
            [
             0.5,
             "#f7f7f7"
            ],
            [
             0.6,
             "#e6f5d0"
            ],
            [
             0.7,
             "#b8e186"
            ],
            [
             0.8,
             "#7fbc41"
            ],
            [
             0.9,
             "#4d9221"
            ],
            [
             1,
             "#276419"
            ]
           ],
           "sequential": [
            [
             0,
             "#0d0887"
            ],
            [
             0.1111111111111111,
             "#46039f"
            ],
            [
             0.2222222222222222,
             "#7201a8"
            ],
            [
             0.3333333333333333,
             "#9c179e"
            ],
            [
             0.4444444444444444,
             "#bd3786"
            ],
            [
             0.5555555555555556,
             "#d8576b"
            ],
            [
             0.6666666666666666,
             "#ed7953"
            ],
            [
             0.7777777777777778,
             "#fb9f3a"
            ],
            [
             0.8888888888888888,
             "#fdca26"
            ],
            [
             1,
             "#f0f921"
            ]
           ],
           "sequentialminus": [
            [
             0,
             "#0d0887"
            ],
            [
             0.1111111111111111,
             "#46039f"
            ],
            [
             0.2222222222222222,
             "#7201a8"
            ],
            [
             0.3333333333333333,
             "#9c179e"
            ],
            [
             0.4444444444444444,
             "#bd3786"
            ],
            [
             0.5555555555555556,
             "#d8576b"
            ],
            [
             0.6666666666666666,
             "#ed7953"
            ],
            [
             0.7777777777777778,
             "#fb9f3a"
            ],
            [
             0.8888888888888888,
             "#fdca26"
            ],
            [
             1,
             "#f0f921"
            ]
           ]
          },
          "colorway": [
           "#636efa",
           "#EF553B",
           "#00cc96",
           "#ab63fa",
           "#FFA15A",
           "#19d3f3",
           "#FF6692",
           "#B6E880",
           "#FF97FF",
           "#FECB52"
          ],
          "font": {
           "color": "#2a3f5f"
          },
          "geo": {
           "bgcolor": "white",
           "lakecolor": "white",
           "landcolor": "#E5ECF6",
           "showlakes": true,
           "showland": true,
           "subunitcolor": "white"
          },
          "hoverlabel": {
           "align": "left"
          },
          "hovermode": "closest",
          "mapbox": {
           "style": "light"
          },
          "paper_bgcolor": "white",
          "plot_bgcolor": "#E5ECF6",
          "polar": {
           "angularaxis": {
            "gridcolor": "white",
            "linecolor": "white",
            "ticks": ""
           },
           "bgcolor": "#E5ECF6",
           "radialaxis": {
            "gridcolor": "white",
            "linecolor": "white",
            "ticks": ""
           }
          },
          "scene": {
           "xaxis": {
            "backgroundcolor": "#E5ECF6",
            "gridcolor": "white",
            "gridwidth": 2,
            "linecolor": "white",
            "showbackground": true,
            "ticks": "",
            "zerolinecolor": "white"
           },
           "yaxis": {
            "backgroundcolor": "#E5ECF6",
            "gridcolor": "white",
            "gridwidth": 2,
            "linecolor": "white",
            "showbackground": true,
            "ticks": "",
            "zerolinecolor": "white"
           },
           "zaxis": {
            "backgroundcolor": "#E5ECF6",
            "gridcolor": "white",
            "gridwidth": 2,
            "linecolor": "white",
            "showbackground": true,
            "ticks": "",
            "zerolinecolor": "white"
           }
          },
          "shapedefaults": {
           "line": {
            "color": "#2a3f5f"
           }
          },
          "ternary": {
           "aaxis": {
            "gridcolor": "white",
            "linecolor": "white",
            "ticks": ""
           },
           "baxis": {
            "gridcolor": "white",
            "linecolor": "white",
            "ticks": ""
           },
           "bgcolor": "#E5ECF6",
           "caxis": {
            "gridcolor": "white",
            "linecolor": "white",
            "ticks": ""
           }
          },
          "title": {
           "x": 0.05
          },
          "xaxis": {
           "automargin": true,
           "gridcolor": "white",
           "linecolor": "white",
           "ticks": "",
           "title": {
            "standoff": 15
           },
           "zerolinecolor": "white",
           "zerolinewidth": 2
          },
          "yaxis": {
           "automargin": true,
           "gridcolor": "white",
           "linecolor": "white",
           "ticks": "",
           "title": {
            "standoff": 15
           },
           "zerolinecolor": "white",
           "zerolinewidth": 2
          }
         }
        },
        "title": {
         "font": {
          "color": "#4D5663"
         }
        },
        "xaxis": {
         "gridcolor": "#E1E5ED",
         "showgrid": true,
         "tickfont": {
          "color": "#4D5663"
         },
         "title": {
          "font": {
           "color": "#4D5663"
          },
          "text": "Date"
         },
         "zerolinecolor": "#E1E5ED"
        },
        "yaxis": {
         "gridcolor": "#E1E5ED",
         "showgrid": true,
         "tickfont": {
          "color": "#4D5663"
         },
         "title": {
          "font": {
           "color": "#4D5663"
          },
          "text": "Wind Direction (degree)"
         },
         "zerolinecolor": "#E1E5ED"
        }
       }
      },
      "text/html": [
       "<div>                            <div id=\"9297021b-c8c6-447d-a378-66fbce55842b\" class=\"plotly-graph-div\" style=\"height:525px; width:100%;\"></div>            <script type=\"text/javascript\">                require([\"plotly\"], function(Plotly) {                    window.PLOTLYENV=window.PLOTLYENV || {};\n",
       "                    window.PLOTLYENV.BASE_URL='https://plot.ly';                                    if (document.getElementById(\"9297021b-c8c6-447d-a378-66fbce55842b\")) {                    Plotly.newPlot(                        \"9297021b-c8c6-447d-a378-66fbce55842b\",                        [{\"line\": {\"color\": \"rgba(0, 128, 0, 1.0)\", \"dash\": \"solid\", \"shape\": \"linear\", \"width\": 1.3}, \"mode\": \"lines\", \"name\": \"wind_direction_deg\", \"text\": \"\", \"type\": \"scatter\", \"x\": [\"2020-10-01 12:00:00+03:00\", \"2020-10-01 13:00:00+03:00\", \"2020-10-01 14:00:00+03:00\", \"2020-10-01 15:00:00+03:00\", \"2020-10-01 16:00:00+03:00\", \"2020-10-01 17:00:00+03:00\", \"2020-10-01 18:00:00+03:00\", \"2020-10-01 19:00:00+03:00\", \"2020-10-01 20:00:00+03:00\", \"2020-10-01 21:00:00+03:00\", \"2020-10-01 22:00:00+03:00\", \"2020-10-01 23:00:00+03:00\", \"2020-10-02 00:00:00+03:00\", \"2020-10-02 01:00:00+03:00\", \"2020-10-02 02:00:00+03:00\", \"2020-10-02 03:00:00+03:00\", \"2020-10-02 04:00:00+03:00\", \"2020-10-02 05:00:00+03:00\", \"2020-10-02 06:00:00+03:00\", \"2020-10-02 07:00:00+03:00\", \"2020-10-02 08:00:00+03:00\", \"2020-10-02 09:00:00+03:00\", \"2020-10-02 10:00:00+03:00\", \"2020-10-02 11:00:00+03:00\", \"2020-10-02 12:00:00+03:00\", \"2020-10-02 13:00:00+03:00\", \"2020-10-02 14:00:00+03:00\", \"2020-10-02 15:00:00+03:00\", \"2020-10-02 16:00:00+03:00\", \"2020-10-02 17:00:00+03:00\", \"2020-10-02 18:00:00+03:00\", \"2020-10-02 19:00:00+03:00\", \"2020-10-02 20:00:00+03:00\", \"2020-10-02 21:00:00+03:00\", \"2020-10-02 22:00:00+03:00\", \"2020-10-03 00:00:00+03:00\", \"2020-10-03 01:00:00+03:00\", \"2020-10-03 02:00:00+03:00\", \"2020-10-03 03:00:00+03:00\", \"2020-10-03 04:00:00+03:00\", \"2020-10-03 05:00:00+03:00\", \"2020-10-03 06:00:00+03:00\", \"2020-10-03 07:00:00+03:00\", \"2020-10-03 08:00:00+03:00\", \"2020-10-03 09:00:00+03:00\", \"2020-10-03 10:00:00+03:00\", \"2020-10-03 11:00:00+03:00\", \"2020-10-03 12:00:00+03:00\", \"2020-10-03 13:00:00+03:00\", \"2020-10-03 14:00:00+03:00\", \"2020-10-03 15:00:00+03:00\", \"2020-10-03 16:00:00+03:00\", \"2020-10-03 17:00:00+03:00\", \"2020-10-03 18:00:00+03:00\", \"2020-10-03 19:00:00+03:00\", \"2020-10-03 20:00:00+03:00\", \"2020-10-03 21:00:00+03:00\", \"2020-10-03 22:00:00+03:00\", \"2020-10-03 23:00:00+03:00\", \"2020-10-04 00:00:00+03:00\", \"2020-10-04 01:00:00+03:00\", \"2020-10-04 02:00:00+03:00\", \"2020-10-04 03:00:00+03:00\", \"2020-10-04 04:00:00+03:00\", \"2020-10-04 05:00:00+03:00\", \"2020-10-04 06:00:00+03:00\", \"2020-10-05 06:00:00+03:00\", \"2020-10-05 07:00:00+03:00\", \"2020-10-05 08:00:00+03:00\", \"2020-10-05 09:00:00+03:00\", \"2020-10-05 10:00:00+03:00\", \"2020-10-05 11:00:00+03:00\", \"2020-10-05 12:00:00+03:00\", \"2020-10-05 13:00:00+03:00\", \"2020-10-05 14:00:00+03:00\", \"2020-10-05 15:00:00+03:00\", \"2020-10-05 16:00:00+03:00\", \"2020-10-05 17:00:00+03:00\", \"2020-10-05 18:00:00+03:00\", \"2020-10-05 19:00:00+03:00\", \"2020-10-05 20:00:00+03:00\", \"2020-10-05 21:00:00+03:00\", \"2020-10-05 22:00:00+03:00\", \"2020-10-05 23:00:00+03:00\", \"2020-10-06 00:00:00+03:00\", \"2020-10-06 00:00:00+03:00\", \"2020-10-06 01:00:00+03:00\", \"2020-10-06 01:00:00+03:00\", \"2020-10-06 02:00:00+03:00\", \"2020-10-06 02:00:00+03:00\", \"2020-10-06 03:00:00+03:00\", \"2020-10-06 03:00:00+03:00\", \"2020-10-06 04:00:00+03:00\", \"2020-10-06 04:00:00+03:00\", \"2020-10-06 05:00:00+03:00\", \"2020-10-06 06:00:00+03:00\", \"2020-10-06 06:00:00+03:00\", \"2020-10-06 07:00:00+03:00\", \"2020-10-06 07:00:00+03:00\", \"2020-10-06 08:00:00+03:00\", \"2020-10-06 08:00:00+03:00\", \"2020-10-06 09:00:00+03:00\", \"2020-10-06 09:00:00+03:00\", \"2020-10-06 10:00:00+03:00\", \"2020-10-06 10:00:00+03:00\", \"2020-10-06 11:00:00+03:00\", \"2020-10-06 11:00:00+03:00\", \"2020-10-06 12:00:00+03:00\", \"2020-10-06 12:00:00+03:00\", \"2020-10-06 13:00:00+03:00\", \"2020-10-06 13:00:00+03:00\", \"2020-10-06 14:00:00+03:00\", \"2020-10-06 14:00:00+03:00\", \"2020-10-06 15:00:00+03:00\", \"2020-10-06 15:00:00+03:00\", \"2020-10-06 16:00:00+03:00\", \"2020-10-06 16:00:00+03:00\", \"2020-10-06 17:00:00+03:00\", \"2020-10-06 17:00:00+03:00\", \"2020-10-06 18:00:00+03:00\", \"2020-10-06 19:00:00+03:00\", \"2020-10-06 19:00:00+03:00\", \"2020-10-06 20:00:00+03:00\", \"2020-10-06 20:00:00+03:00\", \"2020-10-06 21:00:00+03:00\", \"2020-10-06 21:00:00+03:00\", \"2020-10-06 22:00:00+03:00\", \"2020-10-06 22:00:00+03:00\", \"2020-10-06 23:00:00+03:00\", \"2020-10-06 23:00:00+03:00\", \"2020-10-07 00:00:00+03:00\", \"2020-10-07 00:00:00+03:00\", \"2020-10-07 01:00:00+03:00\", \"2020-10-07 01:00:00+03:00\", \"2020-10-07 02:00:00+03:00\", \"2020-10-07 02:00:00+03:00\", \"2020-10-07 03:00:00+03:00\", \"2020-10-07 03:00:00+03:00\", \"2020-10-07 04:00:00+03:00\", \"2020-10-07 04:00:00+03:00\", \"2020-10-07 05:00:00+03:00\", \"2020-10-07 05:00:00+03:00\", \"2020-10-07 06:00:00+03:00\", \"2020-10-07 06:00:00+03:00\", \"2020-10-07 07:00:00+03:00\", \"2020-10-07 07:00:00+03:00\", \"2020-10-07 08:00:00+03:00\", \"2020-10-07 08:00:00+03:00\", \"2020-10-07 09:00:00+03:00\", \"2020-10-07 09:00:00+03:00\", \"2020-10-07 10:00:00+03:00\", \"2020-10-07 10:00:00+03:00\", \"2020-10-07 11:00:00+03:00\", \"2020-10-07 11:00:00+03:00\", \"2020-10-07 12:00:00+03:00\", \"2020-10-07 12:00:00+03:00\", \"2020-10-07 13:00:00+03:00\", \"2020-10-07 13:00:00+03:00\", \"2020-10-07 14:00:00+03:00\", \"2020-10-07 14:00:00+03:00\", \"2020-10-07 15:00:00+03:00\", \"2020-10-07 15:00:00+03:00\", \"2020-10-07 16:00:00+03:00\", \"2020-10-07 16:00:00+03:00\", \"2020-10-07 17:00:00+03:00\", \"2020-10-07 17:00:00+03:00\", \"2020-10-07 18:00:00+03:00\", \"2020-10-07 18:00:00+03:00\", \"2020-10-07 19:00:00+03:00\", \"2020-10-07 19:00:00+03:00\", \"2020-10-07 20:00:00+03:00\", \"2020-10-07 20:00:00+03:00\", \"2020-10-07 21:00:00+03:00\", \"2020-10-07 21:00:00+03:00\", \"2020-10-07 22:00:00+03:00\", \"2020-10-07 22:00:00+03:00\", \"2020-10-07 23:00:00+03:00\", \"2020-10-07 23:00:00+03:00\", \"2020-10-08 00:00:00+03:00\", \"2020-10-08 00:00:00+03:00\", \"2020-10-08 01:00:00+03:00\", \"2020-10-08 02:00:00+03:00\", \"2020-10-08 03:00:00+03:00\", \"2020-10-08 04:00:00+03:00\", \"2020-10-08 05:00:00+03:00\", \"2020-10-08 06:00:00+03:00\", \"2020-10-08 07:00:00+03:00\", \"2020-10-08 08:00:00+03:00\", \"2020-10-08 09:00:00+03:00\", \"2020-10-08 10:00:00+03:00\", \"2020-10-08 11:00:00+03:00\", \"2020-10-08 12:00:00+03:00\", \"2020-10-08 13:00:00+03:00\", \"2020-10-08 14:00:00+03:00\", \"2020-10-08 15:00:00+03:00\", \"2020-10-08 16:00:00+03:00\", \"2020-10-08 17:00:00+03:00\", \"2020-10-08 18:00:00+03:00\", \"2020-10-11 15:00:00+03:00\", \"2020-10-11 16:00:00+03:00\", \"2020-10-11 17:00:00+03:00\", \"2020-10-11 18:00:00+03:00\", \"2020-10-11 19:00:00+03:00\", \"2020-10-11 20:00:00+03:00\", \"2020-10-11 21:00:00+03:00\", \"2020-10-11 22:00:00+03:00\", \"2020-10-11 23:00:00+03:00\", \"2020-10-12 00:00:00+03:00\", \"2020-10-12 01:00:00+03:00\", \"2020-10-12 02:00:00+03:00\", \"2020-10-12 03:00:00+03:00\", \"2020-10-12 04:00:00+03:00\", \"2020-10-12 05:00:00+03:00\", \"2020-10-12 06:00:00+03:00\", \"2020-10-12 07:00:00+03:00\", \"2020-10-12 08:00:00+03:00\", \"2020-10-12 09:00:00+03:00\", \"2020-10-12 10:00:00+03:00\", \"2020-10-12 11:00:00+03:00\", \"2020-10-12 12:00:00+03:00\", \"2020-10-12 13:00:00+03:00\", \"2020-10-12 14:00:00+03:00\", \"2020-10-12 15:00:00+03:00\", \"2020-10-12 16:00:00+03:00\", \"2020-10-12 17:00:00+03:00\", \"2020-10-12 18:00:00+03:00\", \"2020-10-12 19:00:00+03:00\", \"2020-10-12 20:00:00+03:00\", \"2020-10-12 21:00:00+03:00\", \"2020-10-12 22:00:00+03:00\", \"2020-10-12 23:00:00+03:00\", \"2020-10-13 00:00:00+03:00\", \"2020-10-13 01:00:00+03:00\", \"2020-10-13 02:00:00+03:00\", \"2020-10-13 03:00:00+03:00\", \"2020-10-13 04:00:00+03:00\", \"2020-10-13 05:00:00+03:00\", \"2020-10-13 06:00:00+03:00\", \"2020-10-13 07:00:00+03:00\", \"2020-10-13 08:00:00+03:00\", \"2020-10-13 09:00:00+03:00\", \"2020-10-13 10:00:00+03:00\", \"2020-10-13 11:00:00+03:00\", \"2020-10-13 12:00:00+03:00\", \"2020-10-13 13:00:00+03:00\", \"2020-10-13 14:00:00+03:00\", \"2020-10-13 16:00:00+03:00\", \"2020-10-13 17:00:00+03:00\", \"2020-10-13 18:00:00+03:00\", \"2020-10-13 19:00:00+03:00\", \"2020-10-13 20:00:00+03:00\", \"2020-10-13 21:00:00+03:00\", \"2020-10-13 22:00:00+03:00\", \"2020-10-13 23:00:00+03:00\", \"2020-10-14 00:00:00+03:00\", \"2020-10-14 01:00:00+03:00\", \"2020-10-14 02:00:00+03:00\", \"2020-10-14 03:00:00+03:00\", \"2020-10-14 04:00:00+03:00\", \"2020-10-14 05:00:00+03:00\", \"2020-10-14 06:00:00+03:00\", \"2020-10-14 07:00:00+03:00\", \"2020-10-14 08:00:00+03:00\", \"2020-10-14 09:00:00+03:00\", \"2020-10-19 15:00:00+03:00\", \"2020-10-19 16:00:00+03:00\", \"2020-10-19 17:00:00+03:00\", \"2020-10-19 18:00:00+03:00\", \"2020-10-19 19:00:00+03:00\", \"2020-10-19 20:00:00+03:00\", \"2020-10-19 21:00:00+03:00\", \"2020-10-19 22:00:00+03:00\", \"2020-10-19 23:00:00+03:00\", \"2020-10-20 00:00:00+03:00\", \"2020-10-20 01:00:00+03:00\", \"2020-10-20 02:00:00+03:00\", \"2020-10-20 03:00:00+03:00\", \"2020-10-20 04:00:00+03:00\", \"2020-10-20 05:00:00+03:00\", \"2020-10-20 06:00:00+03:00\", \"2020-10-20 07:00:00+03:00\", \"2020-10-20 08:00:00+03:00\", \"2020-10-20 09:00:00+03:00\", \"2020-10-20 10:00:00+03:00\", \"2020-10-20 11:00:00+03:00\", \"2020-10-20 12:00:00+03:00\", \"2020-10-20 13:00:00+03:00\", \"2020-10-20 14:00:00+03:00\", \"2020-10-20 15:00:00+03:00\", \"2020-10-20 16:00:00+03:00\", \"2020-10-20 17:00:00+03:00\", \"2020-10-20 18:00:00+03:00\", \"2020-10-20 19:00:00+03:00\", \"2020-10-20 20:00:00+03:00\", \"2020-10-20 21:00:00+03:00\", \"2020-10-20 22:00:00+03:00\", \"2020-10-20 23:00:00+03:00\", \"2020-10-21 00:00:00+03:00\", \"2020-10-21 01:00:00+03:00\", \"2020-10-21 02:00:00+03:00\", \"2020-10-21 03:00:00+03:00\", \"2020-10-21 04:00:00+03:00\", \"2020-10-21 05:00:00+03:00\", \"2020-10-21 06:00:00+03:00\", \"2020-10-21 07:00:00+03:00\", \"2020-10-21 08:00:00+03:00\", \"2020-10-21 09:00:00+03:00\", \"2020-10-21 10:00:00+03:00\", \"2020-10-21 11:00:00+03:00\", \"2020-10-21 12:00:00+03:00\", \"2020-10-21 13:00:00+03:00\", \"2020-10-21 15:00:00+03:00\", \"2020-10-21 16:00:00+03:00\", \"2020-10-21 17:00:00+03:00\", \"2020-10-21 18:00:00+03:00\", \"2020-10-21 19:00:00+03:00\", \"2020-10-21 20:00:00+03:00\", \"2020-10-21 21:00:00+03:00\", \"2020-10-21 22:00:00+03:00\", \"2020-10-21 23:00:00+03:00\", \"2020-10-22 00:00:00+03:00\", \"2020-10-22 01:00:00+03:00\", \"2020-10-22 02:00:00+03:00\", \"2020-10-22 03:00:00+03:00\", \"2020-10-22 04:00:00+03:00\", \"2020-10-22 05:00:00+03:00\", \"2020-10-22 06:00:00+03:00\", \"2020-10-22 07:00:00+03:00\", \"2020-10-22 08:00:00+03:00\", \"2020-10-22 09:00:00+03:00\"], \"y\": [71.0, 76.0, 78.0, 79.0, 80.0, 79.0, 80.0, 81.0, 84.0, 89.0, 101.0, 115.0, 123.0, 117.0, 105.0, 100.0, 92.0, 91.0, 89.0, 89.0, 88.0, 90.0, 95.0, 97.0, 91.0, 91.0, 92.0, 90.0, 90.0, 90.0, 91.0, 94.0, 100.0, 105.0, 115.0, 116.0, 105.0, 103.0, 103.0, 100.0, 95.0, 95.0, 93.0, 93.0, 92.0, 101.0, 104.0, 106.0, 105.0, 97.0, 95.0, 97.0, 100.0, 104.0, 106.0, 112.0, 119.0, 120.0, 119.0, 118.0, 112.0, 114.0, 117.0, 114.0, 111.0, 113.0, 183.0, 185.0, 201.0, 218.0, 219.0, 220.0, 225.0, 221.0, 219.0, 228.0, 217.0, 144.0, 111.0, 106.0, 121.0, 137.0, 147.0, 147.0, 147.0, 152.0, 150.0, 153.0, 146.0, 146.0, 142.0, 132.0, 128.0, 134.0, 128.0, 129.0, 124.0, 123.0, 120.0, 119.0, 117.0, 127.0, 122.0, 137.0, 129.0, 152.0, 143.0, 156.0, 150.0, 160.0, 155.0, 166.0, 153.0, 156.0, 153.0, 163.0, 166.0, 181.0, 178.0, 182.0, 212.0, 190.0, 207.0, 195.0, 196.0, 187.0, 193.0, 190.0, 192.0, 192.0, 189.0, 187.0, 186.0, 186.0, 176.0, 175.0, 178.0, 168.0, 163.0, 174.0, 164.0, 168.0, 165.0, 167.0, 159.0, 171.0, 170.0, 166.0, 173.0, 171.0, 163.0, 164.0, 159.0, 168.0, 157.0, 170.0, 155.0, 168.0, 171.0, 154.0, 168.0, 154.0, 166.0, 145.0, 135.0, 164.0, 159.0, 136.0, 148.0, 160.0, 154.0, 159.0, 161.0, 158.0, 164.0, 178.0, 173.0, 190.0, 168.0, 198.0, 211.0, 219.0, 211.0, 202.0, 185.0, 180.0, 177.0, 177.0, 186.0, 180.0, 167.0, 177.0, 195.0, 189.0, 178.0, \"\", \"\", \"\", 250.0, 242.0, 230.0, 238.0, 253.0, 265.0, 275.0, 286.0, 299.0, 313.0, 325.0, 25.0, 105.0, 109.0, 117.0, 130.0, 166.0, 171.0, 190.0, 189.0, 205.0, 213.0, 221.0, 217.0, 210.0, 213.0, 216.0, 205.0, 211.0, 211.0, 212.0, 210.0, 240.0, 216.0, 206.0, 262.0, 228.0, 253.0, 217.0, 220.0, 224.0, 274.0, 260.0, 271.0, 277.0, 266.0, 266.0, 254.0, 257.0, 264.0, 347.0, 1.0, 9.0, 18.0, 31.0, 35.0, 36.0, 39.0, 40.0, 42.0, 44.0, 40.0, 41.0, 44.0, 46.0, 48.0, 327.0, 325.0, 316.0, 313.0, 329.0, 312.0, 313.0, 316.0, 327.0, 323.0, 334.0, 334.0, 335.0, 336.0, 341.0, 337.0, 328.0, 329.0, 338.0, 332.0, 338.0, 330.0, 312.0, 307.0, 299.0, 303.0, 303.0, 309.0, 310.0, 316.0, 351.0, 45.0, 82.0, 121.0, 177.0, 175.0, 147.0, 154.0, 144.0, 142.0, 156.0, 151.0, 146.0, 149.0, 153.0, 154.0, 152.0, 154.0, 150.0, 151.0, 152.0, 154.0, 154.0, 156.0, 162.0, 168.0, 175.0, 182.0, 186.0, 185.0, 177.0, 171.0, 167.0, 163.0, 165.0, 174.0]}],                        {\"legend\": {\"bgcolor\": \"#F5F6F9\", \"font\": {\"color\": \"#4D5663\"}}, \"paper_bgcolor\": \"#F5F6F9\", \"plot_bgcolor\": \"#F5F6F9\", \"template\": {\"data\": {\"bar\": [{\"error_x\": {\"color\": \"#2a3f5f\"}, \"error_y\": {\"color\": \"#2a3f5f\"}, \"marker\": {\"line\": {\"color\": \"#E5ECF6\", \"width\": 0.5}}, \"type\": \"bar\"}], \"barpolar\": [{\"marker\": {\"line\": {\"color\": \"#E5ECF6\", \"width\": 0.5}}, \"type\": \"barpolar\"}], \"carpet\": [{\"aaxis\": {\"endlinecolor\": \"#2a3f5f\", \"gridcolor\": \"white\", \"linecolor\": \"white\", \"minorgridcolor\": \"white\", \"startlinecolor\": \"#2a3f5f\"}, \"baxis\": {\"endlinecolor\": \"#2a3f5f\", \"gridcolor\": \"white\", \"linecolor\": \"white\", \"minorgridcolor\": \"white\", \"startlinecolor\": \"#2a3f5f\"}, \"type\": \"carpet\"}], \"choropleth\": [{\"colorbar\": {\"outlinewidth\": 0, \"ticks\": \"\"}, \"type\": \"choropleth\"}], \"contour\": [{\"colorbar\": {\"outlinewidth\": 0, \"ticks\": \"\"}, \"colorscale\": [[0.0, \"#0d0887\"], [0.1111111111111111, \"#46039f\"], [0.2222222222222222, \"#7201a8\"], [0.3333333333333333, \"#9c179e\"], [0.4444444444444444, \"#bd3786\"], [0.5555555555555556, \"#d8576b\"], [0.6666666666666666, \"#ed7953\"], [0.7777777777777778, \"#fb9f3a\"], [0.8888888888888888, \"#fdca26\"], [1.0, \"#f0f921\"]], \"type\": \"contour\"}], \"contourcarpet\": [{\"colorbar\": {\"outlinewidth\": 0, \"ticks\": \"\"}, \"type\": \"contourcarpet\"}], \"heatmap\": [{\"colorbar\": {\"outlinewidth\": 0, \"ticks\": \"\"}, \"colorscale\": [[0.0, \"#0d0887\"], [0.1111111111111111, \"#46039f\"], [0.2222222222222222, \"#7201a8\"], [0.3333333333333333, \"#9c179e\"], [0.4444444444444444, \"#bd3786\"], [0.5555555555555556, \"#d8576b\"], [0.6666666666666666, \"#ed7953\"], [0.7777777777777778, \"#fb9f3a\"], [0.8888888888888888, \"#fdca26\"], [1.0, \"#f0f921\"]], \"type\": \"heatmap\"}], \"heatmapgl\": [{\"colorbar\": {\"outlinewidth\": 0, \"ticks\": \"\"}, \"colorscale\": [[0.0, \"#0d0887\"], [0.1111111111111111, \"#46039f\"], [0.2222222222222222, \"#7201a8\"], [0.3333333333333333, \"#9c179e\"], [0.4444444444444444, \"#bd3786\"], [0.5555555555555556, \"#d8576b\"], [0.6666666666666666, \"#ed7953\"], [0.7777777777777778, \"#fb9f3a\"], [0.8888888888888888, \"#fdca26\"], [1.0, \"#f0f921\"]], \"type\": \"heatmapgl\"}], \"histogram\": [{\"marker\": {\"colorbar\": {\"outlinewidth\": 0, \"ticks\": \"\"}}, \"type\": \"histogram\"}], \"histogram2d\": [{\"colorbar\": {\"outlinewidth\": 0, \"ticks\": \"\"}, \"colorscale\": [[0.0, \"#0d0887\"], [0.1111111111111111, \"#46039f\"], [0.2222222222222222, \"#7201a8\"], [0.3333333333333333, \"#9c179e\"], [0.4444444444444444, \"#bd3786\"], [0.5555555555555556, \"#d8576b\"], [0.6666666666666666, \"#ed7953\"], [0.7777777777777778, \"#fb9f3a\"], [0.8888888888888888, \"#fdca26\"], [1.0, \"#f0f921\"]], \"type\": \"histogram2d\"}], \"histogram2dcontour\": [{\"colorbar\": {\"outlinewidth\": 0, \"ticks\": \"\"}, \"colorscale\": [[0.0, \"#0d0887\"], [0.1111111111111111, \"#46039f\"], [0.2222222222222222, \"#7201a8\"], [0.3333333333333333, \"#9c179e\"], [0.4444444444444444, \"#bd3786\"], [0.5555555555555556, \"#d8576b\"], [0.6666666666666666, \"#ed7953\"], [0.7777777777777778, \"#fb9f3a\"], [0.8888888888888888, \"#fdca26\"], [1.0, \"#f0f921\"]], \"type\": \"histogram2dcontour\"}], \"mesh3d\": [{\"colorbar\": {\"outlinewidth\": 0, \"ticks\": \"\"}, \"type\": \"mesh3d\"}], \"parcoords\": [{\"line\": {\"colorbar\": {\"outlinewidth\": 0, \"ticks\": \"\"}}, \"type\": \"parcoords\"}], \"pie\": [{\"automargin\": true, \"type\": \"pie\"}], \"scatter\": [{\"marker\": {\"colorbar\": {\"outlinewidth\": 0, \"ticks\": \"\"}}, \"type\": \"scatter\"}], \"scatter3d\": [{\"line\": {\"colorbar\": {\"outlinewidth\": 0, \"ticks\": \"\"}}, \"marker\": {\"colorbar\": {\"outlinewidth\": 0, \"ticks\": \"\"}}, \"type\": \"scatter3d\"}], \"scattercarpet\": [{\"marker\": {\"colorbar\": {\"outlinewidth\": 0, \"ticks\": \"\"}}, \"type\": \"scattercarpet\"}], \"scattergeo\": [{\"marker\": {\"colorbar\": {\"outlinewidth\": 0, \"ticks\": \"\"}}, \"type\": \"scattergeo\"}], \"scattergl\": [{\"marker\": {\"colorbar\": {\"outlinewidth\": 0, \"ticks\": \"\"}}, \"type\": \"scattergl\"}], \"scattermapbox\": [{\"marker\": {\"colorbar\": {\"outlinewidth\": 0, \"ticks\": \"\"}}, \"type\": \"scattermapbox\"}], \"scatterpolar\": [{\"marker\": {\"colorbar\": {\"outlinewidth\": 0, \"ticks\": \"\"}}, \"type\": \"scatterpolar\"}], \"scatterpolargl\": [{\"marker\": {\"colorbar\": {\"outlinewidth\": 0, \"ticks\": \"\"}}, \"type\": \"scatterpolargl\"}], \"scatterternary\": [{\"marker\": {\"colorbar\": {\"outlinewidth\": 0, \"ticks\": \"\"}}, \"type\": \"scatterternary\"}], \"surface\": [{\"colorbar\": {\"outlinewidth\": 0, \"ticks\": \"\"}, \"colorscale\": [[0.0, \"#0d0887\"], [0.1111111111111111, \"#46039f\"], [0.2222222222222222, \"#7201a8\"], [0.3333333333333333, \"#9c179e\"], [0.4444444444444444, \"#bd3786\"], [0.5555555555555556, \"#d8576b\"], [0.6666666666666666, \"#ed7953\"], [0.7777777777777778, \"#fb9f3a\"], [0.8888888888888888, \"#fdca26\"], [1.0, \"#f0f921\"]], \"type\": \"surface\"}], \"table\": [{\"cells\": {\"fill\": {\"color\": \"#EBF0F8\"}, \"line\": {\"color\": \"white\"}}, \"header\": {\"fill\": {\"color\": \"#C8D4E3\"}, \"line\": {\"color\": \"white\"}}, \"type\": \"table\"}]}, \"layout\": {\"annotationdefaults\": {\"arrowcolor\": \"#2a3f5f\", \"arrowhead\": 0, \"arrowwidth\": 1}, \"coloraxis\": {\"colorbar\": {\"outlinewidth\": 0, \"ticks\": \"\"}}, \"colorscale\": {\"diverging\": [[0, \"#8e0152\"], [0.1, \"#c51b7d\"], [0.2, \"#de77ae\"], [0.3, \"#f1b6da\"], [0.4, \"#fde0ef\"], [0.5, \"#f7f7f7\"], [0.6, \"#e6f5d0\"], [0.7, \"#b8e186\"], [0.8, \"#7fbc41\"], [0.9, \"#4d9221\"], [1, \"#276419\"]], \"sequential\": [[0.0, \"#0d0887\"], [0.1111111111111111, \"#46039f\"], [0.2222222222222222, \"#7201a8\"], [0.3333333333333333, \"#9c179e\"], [0.4444444444444444, \"#bd3786\"], [0.5555555555555556, \"#d8576b\"], [0.6666666666666666, \"#ed7953\"], [0.7777777777777778, \"#fb9f3a\"], [0.8888888888888888, \"#fdca26\"], [1.0, \"#f0f921\"]], \"sequentialminus\": [[0.0, \"#0d0887\"], [0.1111111111111111, \"#46039f\"], [0.2222222222222222, \"#7201a8\"], [0.3333333333333333, \"#9c179e\"], [0.4444444444444444, \"#bd3786\"], [0.5555555555555556, \"#d8576b\"], [0.6666666666666666, \"#ed7953\"], [0.7777777777777778, \"#fb9f3a\"], [0.8888888888888888, \"#fdca26\"], [1.0, \"#f0f921\"]]}, \"colorway\": [\"#636efa\", \"#EF553B\", \"#00cc96\", \"#ab63fa\", \"#FFA15A\", \"#19d3f3\", \"#FF6692\", \"#B6E880\", \"#FF97FF\", \"#FECB52\"], \"font\": {\"color\": \"#2a3f5f\"}, \"geo\": {\"bgcolor\": \"white\", \"lakecolor\": \"white\", \"landcolor\": \"#E5ECF6\", \"showlakes\": true, \"showland\": true, \"subunitcolor\": \"white\"}, \"hoverlabel\": {\"align\": \"left\"}, \"hovermode\": \"closest\", \"mapbox\": {\"style\": \"light\"}, \"paper_bgcolor\": \"white\", \"plot_bgcolor\": \"#E5ECF6\", \"polar\": {\"angularaxis\": {\"gridcolor\": \"white\", \"linecolor\": \"white\", \"ticks\": \"\"}, \"bgcolor\": \"#E5ECF6\", \"radialaxis\": {\"gridcolor\": \"white\", \"linecolor\": \"white\", \"ticks\": \"\"}}, \"scene\": {\"xaxis\": {\"backgroundcolor\": \"#E5ECF6\", \"gridcolor\": \"white\", \"gridwidth\": 2, \"linecolor\": \"white\", \"showbackground\": true, \"ticks\": \"\", \"zerolinecolor\": \"white\"}, \"yaxis\": {\"backgroundcolor\": \"#E5ECF6\", \"gridcolor\": \"white\", \"gridwidth\": 2, \"linecolor\": \"white\", \"showbackground\": true, \"ticks\": \"\", \"zerolinecolor\": \"white\"}, \"zaxis\": {\"backgroundcolor\": \"#E5ECF6\", \"gridcolor\": \"white\", \"gridwidth\": 2, \"linecolor\": \"white\", \"showbackground\": true, \"ticks\": \"\", \"zerolinecolor\": \"white\"}}, \"shapedefaults\": {\"line\": {\"color\": \"#2a3f5f\"}}, \"ternary\": {\"aaxis\": {\"gridcolor\": \"white\", \"linecolor\": \"white\", \"ticks\": \"\"}, \"baxis\": {\"gridcolor\": \"white\", \"linecolor\": \"white\", \"ticks\": \"\"}, \"bgcolor\": \"#E5ECF6\", \"caxis\": {\"gridcolor\": \"white\", \"linecolor\": \"white\", \"ticks\": \"\"}}, \"title\": {\"x\": 0.05}, \"xaxis\": {\"automargin\": true, \"gridcolor\": \"white\", \"linecolor\": \"white\", \"ticks\": \"\", \"title\": {\"standoff\": 15}, \"zerolinecolor\": \"white\", \"zerolinewidth\": 2}, \"yaxis\": {\"automargin\": true, \"gridcolor\": \"white\", \"linecolor\": \"white\", \"ticks\": \"\", \"title\": {\"standoff\": 15}, \"zerolinecolor\": \"white\", \"zerolinewidth\": 2}}}, \"title\": {\"font\": {\"color\": \"#4D5663\"}}, \"xaxis\": {\"gridcolor\": \"#E1E5ED\", \"showgrid\": true, \"tickfont\": {\"color\": \"#4D5663\"}, \"title\": {\"font\": {\"color\": \"#4D5663\"}, \"text\": \"Date\"}, \"zerolinecolor\": \"#E1E5ED\"}, \"yaxis\": {\"gridcolor\": \"#E1E5ED\", \"showgrid\": true, \"tickfont\": {\"color\": \"#4D5663\"}, \"title\": {\"font\": {\"color\": \"#4D5663\"}, \"text\": \"Wind Direction (degree)\"}, \"zerolinecolor\": \"#E1E5ED\"}},                        {\"showLink\": true, \"linkText\": \"Export to plot.ly\", \"plotlyServerURL\": \"https://plot.ly\", \"responsive\": true}                    ).then(function(){\n",
       "                            \n",
       "var gd = document.getElementById('9297021b-c8c6-447d-a378-66fbce55842b');\n",
       "var x = new MutationObserver(function (mutations, observer) {{\n",
       "        var display = window.getComputedStyle(gd).display;\n",
       "        if (!display || display === 'none') {{\n",
       "            console.log([gd, 'removed!']);\n",
       "            Plotly.purge(gd);\n",
       "            observer.disconnect();\n",
       "        }}\n",
       "}});\n",
       "\n",
       "// Listen for the removal of the full notebook cells\n",
       "var notebookContainer = gd.closest('#notebook-container');\n",
       "if (notebookContainer) {{\n",
       "    x.observe(notebookContainer, {childList: true});\n",
       "}}\n",
       "\n",
       "// Listen for the clearing of the current output cell\n",
       "var outputEl = gd.closest('.output');\n",
       "if (outputEl) {{\n",
       "    x.observe(outputEl, {childList: true});\n",
       "}}\n",
       "\n",
       "                        })                };                });            </script>        </div>"
      ]
     },
     "metadata": {},
     "output_type": "display_data"
    }
   ],
   "source": [
    "#Plot the wind_direction_deg\n",
    "X['wind_direction_deg'].iplot(xTitle='Date', yTitle='Wind Direction (degree)', color = 'green')"
   ]
  }
 ],
 "metadata": {
  "kernelspec": {
   "display_name": "Python 3",
   "language": "python",
   "name": "python3"
  },
  "language_info": {
   "codemirror_mode": {
    "name": "ipython",
    "version": 3
   },
   "file_extension": ".py",
   "mimetype": "text/x-python",
   "name": "python",
   "nbconvert_exporter": "python",
   "pygments_lexer": "ipython3",
   "version": "3.7.3"
  }
 },
 "nbformat": 4,
 "nbformat_minor": 2
}
